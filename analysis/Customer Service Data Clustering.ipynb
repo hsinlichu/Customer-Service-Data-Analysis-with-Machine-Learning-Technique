{
 "cells": [
  {
   "cell_type": "markdown",
   "metadata": {},
   "source": [
    "# Customer Service Data Clustering"
   ]
  },
  {
   "cell_type": "markdown",
   "metadata": {},
   "source": [
    "## TF-IDF Clustering"
   ]
  },
  {
   "cell_type": "code",
   "execution_count": 1,
   "metadata": {},
   "outputs": [],
   "source": [
    "import pandas as pd\n",
    "from sklearn import preprocessing\n",
    "import numpy as np\n",
    "import os\n",
    "import re\n",
    "\n",
    "import matplotlib.pyplot as plt\n",
    "import matplotlib.cm as cm\n",
    "\n",
    "from sklearn.cluster import MiniBatchKMeans\n",
    "from sklearn.feature_extraction.text import TfidfVectorizer\n",
    "from sklearn.decomposition import PCA\n",
    "from MulticoreTSNE import MulticoreTSNE as TSNE\n",
    "\n",
    "import pickle\n",
    "\n",
    "from tqdm import tqdm\n",
    "\n",
    "from sklearn.cluster import DBSCAN"
   ]
  },
  {
   "cell_type": "markdown",
   "metadata": {},
   "source": [
    "### Configuration"
   ]
  },
  {
   "cell_type": "code",
   "execution_count": 6,
   "metadata": {},
   "outputs": [],
   "source": [
    "path = os.path.join(\"..\",\"data\",\"./newdata_clean.xlsx\")\n",
    "n_clusters = 12\n",
    "batch_size = 10000\n",
    "max_k = 40\n",
    "max_features = 256  # only consider the top max_features ordered by term frequency across the corpus.\n",
    "loadpath = \"processed_data_not_rmsw\""
   ]
  },
  {
   "cell_type": "markdown",
   "metadata": {},
   "source": [
    "### Read Data"
   ]
  },
  {
   "cell_type": "code",
   "execution_count": 3,
   "metadata": {},
   "outputs": [
    {
     "name": "stdout",
     "output_type": "stream",
     "text": [
      "number of classes: 64\n"
     ]
    }
   ],
   "source": [
    "df = pd.read_excel(path)\n",
    "\n",
    "df = df.dropna() # drop nan entry\n",
    "# df[pd.isnull(df).any(axis=1)]\n",
    "\n",
    "le = preprocessing.LabelEncoder()\n",
    "le.fit(df['catName'].unique())\n",
    "num_classes = len(le.classes_)\n",
    "class_list = list(le.classes_)\n",
    "\n",
    "#print(class_list)\n",
    "\n",
    "print(\"number of classes:\",num_classes)\n",
    "df.loc[:,'catName'] = le.transform(df.loc[:,'catName'])\n",
    "data = df.question"
   ]
  },
  {
   "cell_type": "markdown",
   "metadata": {},
   "source": [
    "### Preprocess Data"
   ]
  },
  {
   "cell_type": "code",
   "execution_count": 7,
   "metadata": {},
   "outputs": [
    {
     "name": "stdout",
     "output_type": "stream",
     "text": [
      "Stopwords length: 186\n"
     ]
    },
    {
     "name": "stderr",
     "output_type": "stream",
     "text": [
      "[nltk_data] Downloading package punkt to\n",
      "[nltk_data]     /home/student/05/b05505004/nltk_data...\n",
      "[nltk_data]   Package punkt is already up-to-date!\n",
      "[nltk_data] Downloading package stopwords to\n",
      "[nltk_data]     /home/student/05/b05505004/nltk_data...\n",
      "[nltk_data]   Package stopwords is already up-to-date!\n",
      "  1%|          | 79/13309 [00:07<12:28, 17.67it/s]  "
     ]
    },
    {
     "name": "stdout",
     "output_type": "stream",
     "text": [
      "DXDiag.txt attached.<br><br>Attach File : <a href=\"http://csupload.cyberlink.com/upload-file/support/cs/2018-04-27/CS001884138/DxDiag.txt\" target=_blank>DxDiag.txt</a> attach file\n"
     ]
    },
    {
     "name": "stderr",
     "output_type": "stream",
     "text": [
      "  1%|          | 82/13309 [00:07<12:18, 17.92it/s]"
     ]
    },
    {
     "name": "stdout",
     "output_type": "stream",
     "text": [
      "파워디렉터12 \n"
     ]
    },
    {
     "name": "stderr",
     "output_type": "stream",
     "text": [
      "\r",
      "  0%|          | 60/13309 [00:07<15:53, 13.90it/s]"
     ]
    },
    {
     "name": "stdout",
     "output_type": "stream",
     "text": [
      "파워디렉터12 \n"
     ]
    },
    {
     "name": "stderr",
     "output_type": "stream",
     "text": [
      "  1%|          | 164/13309 [00:11<09:44, 22.47it/s]"
     ]
    },
    {
     "name": "stdout",
     "output_type": "stream",
     "text": [
      "I lost my program. i lose my\n"
     ]
    },
    {
     "name": "stderr",
     "output_type": "stream",
     "text": [
      "  1%|          | 110/13309 [00:12<11:51, 18.56it/s]"
     ]
    },
    {
     "name": "stdout",
     "output_type": "stream",
     "text": [
      "﻿<html><div dir=\"auto\"> Canyoupleasehelptosupportmygofundme❤</div>   </html><br/>﻿ canyoupleasehelptosupportmygofundme\n"
     ]
    },
    {
     "name": "stderr",
     "output_type": "stream",
     "text": [
      "  2%|▏         | 207/13309 [00:17<09:42, 22.50it/s]"
     ]
    },
    {
     "name": "stdout",
     "output_type": "stream",
     "text": [
      "a<br><br>Attach File : <a href=\"http://csupload.cyberlink.com/upload-file/support/cs/2019-05-24/CS002024051/DxDiag.txt\" target=_blank>DxDiag.txt</a> a attach file\n"
     ]
    },
    {
     "name": "stderr",
     "output_type": "stream",
     "text": [
      "  2%|▏         | 220/13309 [00:17<14:07, 15.44it/s]"
     ]
    },
    {
     "name": "stdout",
     "output_type": "stream",
     "text": [
      "Pls pls\n"
     ]
    },
    {
     "name": "stderr",
     "output_type": "stream",
     "text": [
      "  2%|▏         | 310/13309 [00:19<13:04, 16.57it/s]"
     ]
    },
    {
     "name": "stdout",
     "output_type": "stream",
     "text": [
      "its good. <br><br>Attach File : <a href='http://csupload.cyberlink.com/upload-file/support/cs/2018-12-01/CS001960752/CL_PHOTODIRECTOR_DATA.zip' target=_blank>CL_PHOTODIRECTOR_DATA.zip</a> it attach file\n"
     ]
    },
    {
     "name": "stderr",
     "output_type": "stream",
     "text": [
      "  2%|▏         | 308/13309 [00:19<14:22, 15.07it/s]"
     ]
    },
    {
     "name": "stdout",
     "output_type": "stream",
     "text": [
      "https://drive.google.com/drive/u/0/my-drive    Link to files link to file\n"
     ]
    },
    {
     "name": "stderr",
     "output_type": "stream",
     "text": [
      "  2%|▏         | 247/13315 [00:23<12:05, 18.02it/s]s]"
     ]
    },
    {
     "name": "stdout",
     "output_type": "stream",
     "text": [
      "Please call me: (509) 230-3050 please call me\n"
     ]
    },
    {
     "name": "stderr",
     "output_type": "stream",
     "text": [
      "  3%|▎         | 354/13309 [00:24<12:55, 16.71it/s]  "
     ]
    },
    {
     "name": "stdout",
     "output_type": "stream",
     "text": [
      "﻿<html> <head>   </head> <body> <div> <span style=\"color: rgb(87, 87, 87); font-size: 85%;\"> made varsion&nbsp;</span> </div> </body> </html> <br/>﻿ make varsion nbsp\n"
     ]
    },
    {
     "name": "stderr",
     "output_type": "stream",
     "text": [
      "  3%|▎         | 440/13309 [00:26<15:13, 14.09it/s]"
     ]
    },
    {
     "name": "stdout",
     "output_type": "stream",
     "text": [
      "﻿<html><div dir=\"auto\"> Call request</div>   </html><br/>﻿ call request\n"
     ]
    },
    {
     "name": "stderr",
     "output_type": "stream",
     "text": [
      "  3%|▎         | 441/13309 [00:27<13:00, 16.50it/s]"
     ]
    },
    {
     "name": "stdout",
     "output_type": "stream",
     "text": [
      "https://1drv.ms/f/s!AqR13PaK9mPNhCXqoeLAjpB-xWKv \n"
     ]
    },
    {
     "name": "stderr",
     "output_type": "stream",
     "text": [
      "  3%|▎         | 425/13309 [00:29<11:16, 19.03it/s]"
     ]
    },
    {
     "name": "stdout",
     "output_type": "stream",
     "text": [
      "patch install  problems patch install problem\n"
     ]
    },
    {
     "name": "stderr",
     "output_type": "stream",
     "text": [
      "  4%|▍         | 508/13309 [00:30<05:49, 36.63it/s]"
     ]
    },
    {
     "name": "stdout",
     "output_type": "stream",
     "text": [
      "Unable to download PDR16. unable to download\n"
     ]
    },
    {
     "name": "stderr",
     "output_type": "stream",
     "text": [
      "  3%|▎         | 441/13309 [00:30<09:35, 22.37it/s]"
     ]
    },
    {
     "name": "stdout",
     "output_type": "stream",
     "text": [
      "Unable to download PDR16. unable to download\n"
     ]
    },
    {
     "name": "stderr",
     "output_type": "stream",
     "text": [
      "  4%|▍         | 525/13309 [00:30<09:25, 22.62it/s]"
     ]
    },
    {
     "name": "stdout",
     "output_type": "stream",
     "text": [
      "test12345678@c.us<br><br>Attach File : <a href='http://csupload.cyberlink.com/upload-file/support/cs/2019-06-05/CS002027373/DeviceInfo.txt' target=_blank>DeviceInfo.txt</a> attach file\n",
      "test12345678@c.us<br><br>Attach File : <a href='http://csupload.cyberlink.com/upload-file/support/cs/2019-06-05/CS002027375/DeviceInfo.txt' target=_blank>DeviceInfo.txt</a> attach file\n"
     ]
    },
    {
     "name": "stderr",
     "output_type": "stream",
     "text": [
      "  4%|▎         | 482/13309 [00:32<09:32, 22.41it/s]  "
     ]
    },
    {
     "name": "stdout",
     "output_type": "stream",
     "text": [
      "email me at kkmetz@hotmail.com email me at\n"
     ]
    },
    {
     "name": "stderr",
     "output_type": "stream",
     "text": [
      "  5%|▍         | 611/13309 [00:38<08:54, 23.78it/s]  "
     ]
    },
    {
     "name": "stdout",
     "output_type": "stream",
     "text": [
      "Back up disc status.  back up disc\n"
     ]
    },
    {
     "name": "stderr",
     "output_type": "stream",
     "text": [
      "  3%|▎         | 462/13309 [00:39<18:35, 11.51it/s]"
     ]
    },
    {
     "name": "stdout",
     "output_type": "stream",
     "text": [
      "mbvbsd. d <br><br>Attach File : <a href='http://csupload.cyberlink.com/upload-file/support/cs/2018-02-23/CS001861100/DeviceInfo.txt' target=_blank>DeviceInfo.txt</a> d attach file\n"
     ]
    },
    {
     "name": "stderr",
     "output_type": "stream",
     "text": [
      "\r",
      "  4%|▍         | 546/13309 [00:39<14:03, 15.14it/s]"
     ]
    },
    {
     "name": "stdout",
     "output_type": "stream",
     "text": [
      "mbvbsd. d <br><br>Attach File : <a href='http://csupload.cyberlink.com/upload-file/support/cs/2018-02-23/CS001861101/DeviceInfo.txt' target=_blank>DeviceInfo.txt</a> d attach file\n"
     ]
    },
    {
     "name": "stderr",
     "output_type": "stream",
     "text": [
      "  5%|▌         | 698/13309 [00:39<17:54, 11.74it/s]"
     ]
    },
    {
     "name": "stdout",
     "output_type": "stream",
     "text": [
      "mbvbsd. d <br><br>Attach File : <a href='http://csupload.cyberlink.com/upload-file/support/cs/2018-02-23/CS001861102/DeviceInfo.txt' target=_blank>DeviceInfo.txt</a> d attach file\n"
     ]
    },
    {
     "name": "stderr",
     "output_type": "stream",
     "text": [
      "  4%|▍         | 550/13309 [00:39<11:29, 18.51it/s]"
     ]
    },
    {
     "name": "stdout",
     "output_type": "stream",
     "text": [
      "mbvbsd. d <br><br>Attach File : <a href='http://csupload.cyberlink.com/upload-file/support/cs/2018-02-23/CS001861103/DeviceInfo.txt' target=_blank>DeviceInfo.txt</a> d attach file\n"
     ]
    },
    {
     "name": "stderr",
     "output_type": "stream",
     "text": [
      "  5%|▍         | 632/13309 [00:39<10:07, 20.88it/s]"
     ]
    },
    {
     "name": "stdout",
     "output_type": "stream",
     "text": [
      "test12345678@c.us<br><br>Attach File : <a href='http://csupload.cyberlink.com/upload-file/support/cs/2018-12-20/CS001968275/DeviceInfo.txt' target=_blank>DeviceInfo.txt</a> attach file\n"
     ]
    },
    {
     "name": "stderr",
     "output_type": "stream",
     "text": [
      "  5%|▌         | 700/13309 [00:39<17:46, 11.83it/s]"
     ]
    },
    {
     "name": "stdout",
     "output_type": "stream",
     "text": [
      "test12345678@c.us<br><br>Attach File : <a href='http://csupload.cyberlink.com/upload-file/support/cs/2019-01-06/CS001977004/DeviceInfo.txt' target=_blank>DeviceInfo.txt</a> attach file\n"
     ]
    },
    {
     "name": "stderr",
     "output_type": "stream",
     "text": [
      "\r",
      "  5%|▌         | 693/13309 [00:40<15:47, 13.31it/s]"
     ]
    },
    {
     "name": "stdout",
     "output_type": "stream",
     "text": [
      "test12345678@c.us<br><br>Attach File : <a href='http://csupload.cyberlink.com/upload-file/support/cs/2019-02-05/CS001987316/DeviceInfo.txt' target=_blank>DeviceInfo.txt</a> attach file\n"
     ]
    },
    {
     "name": "stderr",
     "output_type": "stream",
     "text": [
      "  4%|▍         | 556/13309 [00:40<09:43, 21.86it/s]"
     ]
    },
    {
     "name": "stdout",
     "output_type": "stream",
     "text": [
      "test12345678@c.us<br><br>Attach File : <a href='http://csupload.cyberlink.com/upload-file/support/cs/2019-04-05/CS002009482/DeviceInfo.txt' target=_blank>DeviceInfo.txt</a> attach file\n"
     ]
    },
    {
     "name": "stderr",
     "output_type": "stream",
     "text": [
      "  4%|▍         | 593/13309 [00:40<15:31, 13.65it/s]"
     ]
    },
    {
     "name": "stdout",
     "output_type": "stream",
     "text": [
      "test12345678@c.us<br><br>Attach File : <a href='http://csupload.cyberlink.com/upload-file/support/cs/2019-04-09/CS002010662/DeviceInfo.txt' target=_blank>DeviceInfo.txt</a> attach file\n"
     ]
    },
    {
     "name": "stderr",
     "output_type": "stream",
     "text": [
      "\r",
      "  5%|▌         | 695/13309 [00:40<15:33, 13.52it/s]"
     ]
    },
    {
     "name": "stdout",
     "output_type": "stream",
     "text": [
      "test12345678@c.us<br><br>Attach File : <a href='http://csupload.cyberlink.com/upload-file/support/cs/2019-06-05/CS002027361/DeviceInfo.txt' target=_blank>DeviceInfo.txt</a> attach file\n"
     ]
    },
    {
     "name": "stderr",
     "output_type": "stream",
     "text": [
      "\r",
      "  5%|▍         | 662/13309 [00:40<08:19, 25.32it/s]"
     ]
    },
    {
     "name": "stdout",
     "output_type": "stream",
     "text": [
      "test12345678@c.us<br><br>Attach File : <a href='http://csupload.cyberlink.com/upload-file/support/cs/2019-06-05/CS002027362/DeviceInfo.txt' target=_blank>DeviceInfo.txt</a> attach file\n"
     ]
    },
    {
     "name": "stderr",
     "output_type": "stream",
     "text": [
      "  5%|▌         | 707/13309 [00:40<15:47, 13.30it/s]"
     ]
    },
    {
     "name": "stdout",
     "output_type": "stream",
     "text": [
      "irfan<br><br>Attach File : <a href='http://csupload.cyberlink.com/upload-file/support/cs/2019-06-11/CS002028882/CL_PHOTODIRECTOR_DATA.zip' target=_blank>CL_PHOTODIRECTOR_DATA.zip</a> irfan attach file\n"
     ]
    },
    {
     "name": "stderr",
     "output_type": "stream",
     "text": [
      "  5%|▍         | 625/13309 [00:44<15:22, 13.75it/s]"
     ]
    },
    {
     "name": "stdout",
     "output_type": "stream",
     "text": [
      "GREAT great\n"
     ]
    },
    {
     "name": "stderr",
     "output_type": "stream",
     "text": [
      "  5%|▍         | 663/13309 [00:44<12:34, 16.76it/s]"
     ]
    },
    {
     "name": "stdout",
     "output_type": "stream",
     "text": [
      "Please help  ???? please help\n"
     ]
    },
    {
     "name": "stderr",
     "output_type": "stream",
     "text": [
      "  6%|▌         | 780/13309 [00:46<11:57, 17.45it/s]"
     ]
    },
    {
     "name": "stdout",
     "output_type": "stream",
     "text": [
      "code = 0102 code\n"
     ]
    },
    {
     "name": "stderr",
     "output_type": "stream",
     "text": [
      "  5%|▌         | 701/13309 [00:46<12:52, 16.33it/s]"
     ]
    },
    {
     "name": "stdout",
     "output_type": "stream",
     "text": [
      "﻿<!DOCTYPE HTML PUBLIC \"-//W3C//DTD HTML 3.2//EN\">   <HTML>   <HEAD>   <META NAME=\"Generator\" CONTENT=\"MS Exchange Server version 08.00.0681.000\">   <TITLE> </TITLE>   </HEAD>   <BODY>   <!-- Converted from text/plain format -->     <P> <FONT SIZE=2> Sly<BR>   </FONT>   </P>     </BODY>   </HTML> <br/>﻿ sly\n"
     ]
    },
    {
     "name": "stderr",
     "output_type": "stream",
     "text": [
      "  6%|▌         | 767/13309 [00:47<14:26, 14.47it/s]"
     ]
    },
    {
     "name": "stdout",
     "output_type": "stream",
     "text": [
      "Please call at 617-887-1830 please call at\n"
     ]
    },
    {
     "name": "stderr",
     "output_type": "stream",
     "text": [
      "  6%|▌         | 743/13309 [00:47<20:15, 10.34it/s]"
     ]
    },
    {
     "name": "stdout",
     "output_type": "stream",
     "text": [
      "keeps stalling at 90% keep stall at\n"
     ]
    },
    {
     "name": "stderr",
     "output_type": "stream",
     "text": [
      "  6%|▌         | 766/13309 [00:51<15:44, 13.28it/s]"
     ]
    },
    {
     "name": "stdout",
     "output_type": "stream",
     "text": [
      "Ticket CS001892383    https://drive.google.com/file/d/1ghpBDFBdTpOpaNKzbYe8MYTwUwr0Wu4x/view?usp=sharing    https://drive.google.com/file/d/1wJwpFt8LJv3w8mEcksxf_SpEUQbdjTvo/view?usp=sharing ticket c\n"
     ]
    },
    {
     "name": "stderr",
     "output_type": "stream",
     "text": [
      "  6%|▌         | 813/13309 [00:54<15:43, 13.24it/s]"
     ]
    },
    {
     "name": "stdout",
     "output_type": "stream",
     "text": [
      "pdr10.exe has stopped working have stop work\n"
     ]
    },
    {
     "name": "stderr",
     "output_type": "stream",
     "text": [
      "  7%|▋         | 941/13309 [00:55<11:25, 18.05it/s]"
     ]
    },
    {
     "name": "stdout",
     "output_type": "stream",
     "text": [
      "mbvbsd. d <br><br>Attach File : <a href='http://csupload.cyberlink.com/upload-file/support/cs/2018-02-23/CS001861099/DeviceInfo.txt' target=_blank>DeviceInfo.txt</a> d attach file\n"
     ]
    },
    {
     "name": "stderr",
     "output_type": "stream",
     "text": [
      "  7%|▋         | 888/13309 [00:56<27:51,  7.43it/s]"
     ]
    },
    {
     "name": "stdout",
     "output_type": "stream",
     "text": [
      "      video video\n"
     ]
    },
    {
     "name": "stderr",
     "output_type": "stream",
     "text": [
      "  6%|▌         | 810/13315 [00:58<12:23, 16.81it/s]"
     ]
    },
    {
     "name": "stdout",
     "output_type": "stream",
     "text": [
      ". \n"
     ]
    },
    {
     "name": "stderr",
     "output_type": "stream",
     "text": [
      "  7%|▋         | 988/13309 [00:58<11:23, 18.03it/s]"
     ]
    },
    {
     "name": "stdout",
     "output_type": "stream",
     "text": [
      "?? \n"
     ]
    },
    {
     "name": "stderr",
     "output_type": "stream",
     "text": [
      "  7%|▋         | 920/13309 [01:01<13:42, 15.07it/s]]"
     ]
    },
    {
     "name": "stdout",
     "output_type": "stream",
     "text": [
      "﻿<html><div dir=\"auto\"> You speak hungary?</div>   </html><br/>﻿ you speak hungary\n"
     ]
    },
    {
     "name": "stderr",
     "output_type": "stream",
     "text": [
      "\r",
      "  8%|▊         | 1008/13309 [01:01<12:13, 16.78it/s]"
     ]
    },
    {
     "name": "stdout",
     "output_type": "stream",
     "text": [
      "i have error 80040265 i have error\n"
     ]
    },
    {
     "name": "stderr",
     "output_type": "stream",
     "text": [
      "  7%|▋         | 941/13309 [01:02<08:14, 25.00it/s]]"
     ]
    },
    {
     "name": "stdout",
     "output_type": "stream",
     "text": [
      "My PowerDirector 16 keeps lagging. my powerdirector keep\n",
      "사진연습 \n"
     ]
    },
    {
     "name": "stderr",
     "output_type": "stream",
     "text": [
      "\r",
      "  8%|▊         | 1066/13309 [01:02<11:32, 17.67it/s]"
     ]
    },
    {
     "name": "stdout",
     "output_type": "stream",
     "text": [
      "일산 \n"
     ]
    },
    {
     "name": "stderr",
     "output_type": "stream",
     "text": [
      "  7%|▋         | 920/13309 [01:02<11:10, 18.46it/s]"
     ]
    },
    {
     "name": "stdout",
     "output_type": "stream",
     "text": [
      "작업창으로 \n"
     ]
    },
    {
     "name": "stderr",
     "output_type": "stream",
     "text": [
      "  8%|▊         | 1030/13309 [01:02<13:16, 15.42it/s]"
     ]
    },
    {
     "name": "stdout",
     "output_type": "stream",
     "text": [
      "Subject says it all. subject say it\n"
     ]
    },
    {
     "name": "stderr",
     "output_type": "stream",
     "text": [
      "  7%|▋         | 932/13309 [01:02<09:10, 22.50it/s]]"
     ]
    },
    {
     "name": "stdout",
     "output_type": "stream",
     "text": [
      "감사합니다. \n"
     ]
    },
    {
     "name": "stderr",
     "output_type": "stream",
     "text": [
      "\r",
      "  7%|▋         | 983/13309 [01:02<11:47, 17.42it/s]"
     ]
    },
    {
     "name": "stdout",
     "output_type": "stream",
     "text": [
      "고맙습니다 \n"
     ]
    },
    {
     "name": "stderr",
     "output_type": "stream",
     "text": [
      "  7%|▋         | 877/13315 [01:03<21:20,  9.71it/s]]"
     ]
    },
    {
     "name": "stdout",
     "output_type": "stream",
     "text": [
      "thank no comments  thank no comment\n"
     ]
    },
    {
     "name": "stderr",
     "output_type": "stream",
     "text": [
      "\r",
      "  7%|▋         | 972/13309 [01:03<10:19, 19.92it/s]"
     ]
    },
    {
     "name": "stdout",
     "output_type": "stream",
     "text": [
      "thank you comments thank you comment\n"
     ]
    },
    {
     "name": "stderr",
     "output_type": "stream",
     "text": [
      "  6%|▌         | 789/13309 [01:03<19:00, 10.97it/s]]"
     ]
    },
    {
     "name": "stdout",
     "output_type": "stream",
     "text": [
      "﻿<html><p dir=\"ltr\"> nice app</p>   </html><br/>﻿ nice app\n"
     ]
    },
    {
     "name": "stderr",
     "output_type": "stream",
     "text": [
      "  7%|▋         | 951/13309 [01:03<11:31, 17.87it/s]]"
     ]
    },
    {
     "name": "stdout",
     "output_type": "stream",
     "text": [
      "I lost my program. i lose my\n"
     ]
    },
    {
     "name": "stderr",
     "output_type": "stream",
     "text": [
      "  6%|▌         | 799/13309 [01:04<14:24, 14.46it/s]]"
     ]
    },
    {
     "name": "stdout",
     "output_type": "stream",
     "text": [
      "videos caseros video caseros\n"
     ]
    },
    {
     "name": "stderr",
     "output_type": "stream",
     "text": [
      "  7%|▋         | 893/13315 [01:04<14:17, 14.48it/s]]"
     ]
    },
    {
     "name": "stdout",
     "output_type": "stream",
     "text": [
      "need to redownload product. need to redownload\n"
     ]
    },
    {
     "name": "stderr",
     "output_type": "stream",
     "text": [
      "  8%|▊         | 1015/13309 [01:04<12:34, 16.29it/s]"
     ]
    },
    {
     "name": "stdout",
     "output_type": "stream",
     "text": [
      "sagorbhor530@gmail.com \n"
     ]
    },
    {
     "name": "stderr",
     "output_type": "stream",
     "text": [
      "  8%|▊         | 1107/13309 [01:04<14:37, 13.90it/s]"
     ]
    },
    {
     "name": "stdout",
     "output_type": "stream",
     "text": [
      "sak sak\n"
     ]
    },
    {
     "name": "stderr",
     "output_type": "stream",
     "text": [
      "  6%|▌         | 808/13309 [01:04<11:18, 18.43it/s]"
     ]
    },
    {
     "name": "stdout",
     "output_type": "stream",
     "text": [
      "please help please help\n"
     ]
    },
    {
     "name": "stderr",
     "output_type": "stream",
     "text": [
      "  7%|▋         | 963/13309 [01:04<12:35, 16.34it/s]]"
     ]
    },
    {
     "name": "stdout",
     "output_type": "stream",
     "text": [
      "Plz accept plz accept\n"
     ]
    },
    {
     "name": "stderr",
     "output_type": "stream",
     "text": [
      "  6%|▌         | 811/13309 [01:04<12:58, 16.05it/s]]"
     ]
    },
    {
     "name": "stdout",
     "output_type": "stream",
     "text": [
      "plz hlp plz hlp\n",
      "por favor  por favor\n"
     ]
    },
    {
     "name": "stderr",
     "output_type": "stream",
     "text": [
      "\r",
      "  8%|▊         | 1004/13309 [01:04<08:32, 24.03it/s]"
     ]
    },
    {
     "name": "stdout",
     "output_type": "stream",
     "text": [
      "por la licencia por la licencia\n"
     ]
    },
    {
     "name": "stderr",
     "output_type": "stream",
     "text": [
      "  6%|▌         | 813/13309 [01:04<14:56, 13.94it/s]]"
     ]
    },
    {
     "name": "stdout",
     "output_type": "stream",
     "text": [
      "Numero de serie numero de serie\n"
     ]
    },
    {
     "name": "stderr",
     "output_type": "stream",
     "text": [
      "  8%|▊         | 1034/13309 [01:05<06:25, 31.84it/s]"
     ]
    },
    {
     "name": "stdout",
     "output_type": "stream",
     "text": [
      "NUMERO DE SERIES  numero de series\n"
     ]
    },
    {
     "name": "stderr",
     "output_type": "stream",
     "text": [
      "\r",
      "  7%|▋         | 908/13315 [01:04<10:40, 19.37it/s]"
     ]
    },
    {
     "name": "stdout",
     "output_type": "stream",
     "text": [
      "NUMERO DE SERIES  numero de series\n"
     ]
    },
    {
     "name": "stderr",
     "output_type": "stream",
     "text": [
      "\r",
      "  8%|▊         | 1007/13309 [01:05<10:51, 18.87it/s]"
     ]
    },
    {
     "name": "stdout",
     "output_type": "stream",
     "text": [
      "nutnost nutnost\n"
     ]
    },
    {
     "name": "stderr",
     "output_type": "stream",
     "text": [
      "  6%|▌         | 815/13309 [01:05<15:10, 13.73it/s]]"
     ]
    },
    {
     "name": "stdout",
     "output_type": "stream",
     "text": [
      "one one\n"
     ]
    },
    {
     "name": "stderr",
     "output_type": "stream",
     "text": [
      "  8%|▊         | 1038/13309 [01:05<07:28, 27.37it/s]"
     ]
    },
    {
     "name": "stdout",
     "output_type": "stream",
     "text": [
      "PCF0318 pcf\n"
     ]
    },
    {
     "name": "stderr",
     "output_type": "stream",
     "text": [
      "\r",
      "  8%|▊         | 1063/13309 [01:05<16:21, 12.48it/s]"
     ]
    },
    {
     "name": "stdout",
     "output_type": "stream",
     "text": [
      "PCF0318 pcf\n"
     ]
    },
    {
     "name": "stderr",
     "output_type": "stream",
     "text": [
      "\r",
      "  8%|▊         | 1124/13309 [01:05<09:49, 20.68it/s]"
     ]
    },
    {
     "name": "stdout",
     "output_type": "stream",
     "text": [
      "PCF0318 pcf\n"
     ]
    },
    {
     "name": "stderr",
     "output_type": "stream",
     "text": [
      "\r",
      "  8%|▊         | 1010/13309 [01:05<12:52, 15.92it/s]"
     ]
    },
    {
     "name": "stdout",
     "output_type": "stream",
     "text": [
      "PCF0318 pcf\n"
     ]
    },
    {
     "name": "stderr",
     "output_type": "stream",
     "text": [
      "  8%|▊         | 1129/13309 [01:05<08:13, 24.69it/s]"
     ]
    },
    {
     "name": "stdout",
     "output_type": "stream",
     "text": [
      "PCF0318 pcf\n",
      "PCF0318 pcf\n"
     ]
    },
    {
     "name": "stderr",
     "output_type": "stream",
     "text": [
      "\r",
      "  8%|▊         | 1065/13309 [01:05<17:23, 11.73it/s]"
     ]
    },
    {
     "name": "stdout",
     "output_type": "stream",
     "text": [
      "pcf0318 pcf\n"
     ]
    },
    {
     "name": "stderr",
     "output_type": "stream",
     "text": [
      "  8%|▊         | 1046/13309 [01:05<06:55, 29.50it/s]"
     ]
    },
    {
     "name": "stdout",
     "output_type": "stream",
     "text": [
      "pgm. locked lock\n"
     ]
    },
    {
     "name": "stderr",
     "output_type": "stream",
     "text": [
      "  7%|▋         | 988/13309 [01:06<12:56, 15.88it/s]]"
     ]
    },
    {
     "name": "stdout",
     "output_type": "stream",
     "text": [
      "hi<br><br>Attach File : <a href='http://csupload.cyberlink.com/upload-file/support/cs/2018-01-22/CS001848038/DeviceInfo.txt' target=_blank>DeviceInfo.txt</a> hi attach file\n",
      "hi<br><br>Attach File : <a href='http://csupload.cyberlink.com/upload-file/support/cs/2018-01-22/CS001848039/DeviceInfo.txt' target=_blank>DeviceInfo.txt</a> hi attach file\n"
     ]
    },
    {
     "name": "stderr",
     "output_type": "stream",
     "text": [
      "  7%|▋         | 943/13315 [01:06<10:46, 19.12it/s]]"
     ]
    },
    {
     "name": "stdout",
     "output_type": "stream",
     "text": [
      "Good <br><br>Attach File : <a href='http://csupload.cyberlink.com/upload-file/support/cs/2018-02-11/CS001856255/DeviceInfo.txt' target=_blank>DeviceInfo.txt</a> good attach file\n"
     ]
    },
    {
     "name": "stderr",
     "output_type": "stream",
     "text": [
      "\r",
      "  8%|▊         | 1071/13309 [01:06<09:59, 20.41it/s]"
     ]
    },
    {
     "name": "stdout",
     "output_type": "stream",
     "text": [
      "Good <br><br>Attach File : <a href='http://csupload.cyberlink.com/upload-file/support/cs/2018-02-11/CS001856256/DeviceInfo.txt' target=_blank>DeviceInfo.txt</a> good attach file\n"
     ]
    },
    {
     "name": "stderr",
     "output_type": "stream",
     "text": [
      "  7%|▋         | 949/13315 [01:06<10:10, 20.25it/s]]"
     ]
    },
    {
     "name": "stdout",
     "output_type": "stream",
     "text": [
      "Wewanttoahoneservicetoourhomeacsge wewanttoahoneservicetoourhomeacsge\n"
     ]
    },
    {
     "name": "stderr",
     "output_type": "stream",
     "text": [
      "  6%|▋         | 850/13309 [01:07<19:02, 10.90it/s]]"
     ]
    },
    {
     "name": "stdout",
     "output_type": "stream",
     "text": [
      "https://www.dropbox.com/s/4bqo79aixk8n5bg/G-Unedited-Meg%20and%20Scotty%20to%20Timmy%207th%20bday-Timmy%20T-ball%20VHS%205%20pt%203-1989.mpg?dl=0 \n"
     ]
    },
    {
     "name": "stderr",
     "output_type": "stream",
     "text": [
      "  9%|▉         | 1167/13309 [01:08<17:30, 11.55it/s]"
     ]
    },
    {
     "name": "stdout",
     "output_type": "stream",
     "text": [
      "test12345678@c.us<br><br>Attach File : <a href='http://csupload.cyberlink.com/upload-file/support/cs/2018-12-14/CS001965548/DeviceInfo.txt' target=_blank>DeviceInfo.txt</a> attach file\n"
     ]
    },
    {
     "name": "stderr",
     "output_type": "stream",
     "text": [
      "  8%|▊         | 1055/13309 [01:08<12:11, 16.75it/s]"
     ]
    },
    {
     "name": "stdout",
     "output_type": "stream",
     "text": [
      "Received  Damaged backup disc. receive damage backup\n"
     ]
    },
    {
     "name": "stderr",
     "output_type": "stream",
     "text": [
      "  8%|▊         | 1039/13309 [01:09<11:47, 17.34it/s]"
     ]
    },
    {
     "name": "stdout",
     "output_type": "stream",
     "text": [
      "VIDEO EDITING video edit\n"
     ]
    },
    {
     "name": "stderr",
     "output_type": "stream",
     "text": [
      "  7%|▋         | 987/13315 [01:09<14:32, 14.13it/s]]"
     ]
    },
    {
     "name": "stdout",
     "output_type": "stream",
     "text": [
      "re-install Qt5Gui.dii re install\n"
     ]
    },
    {
     "name": "stderr",
     "output_type": "stream",
     "text": [
      "  8%|▊         | 1005/13315 [01:10<08:09, 25.15it/s]"
     ]
    },
    {
     "name": "stdout",
     "output_type": "stream",
     "text": [
      "cancellation <br><br>Attach File : <a href='http://csupload.cyberlink.com/upload-file/support/cs/2018-07-05/CS001910746/DeviceInfo.txt' target=_blank>DeviceInfo.txt</a> cancellation attach file\n"
     ]
    },
    {
     "name": "stderr",
     "output_type": "stream",
     "text": [
      "  7%|▋         | 887/13309 [01:10<11:25, 18.12it/s]]"
     ]
    },
    {
     "name": "stdout",
     "output_type": "stream",
     "text": [
      "did<br><br>Attach File : <a href='http://csupload.cyberlink.com/upload-file/support/cs/2019-05-04/CS002018338/CL_PHOTODIRECTOR_DATA.zip' target=_blank>CL_PHOTODIRECTOR_DATA.zip</a> do attach file\n"
     ]
    },
    {
     "name": "stderr",
     "output_type": "stream",
     "text": [
      "  8%|▊         | 1125/13309 [01:10<06:30, 31.19it/s]"
     ]
    },
    {
     "name": "stdout",
     "output_type": "stream",
     "text": [
      "PDR10.EXE has stopped working have stop work\n"
     ]
    },
    {
     "name": "stderr",
     "output_type": "stream",
     "text": [
      "  9%|▉         | 1188/13309 [01:11<09:44, 20.75it/s]"
     ]
    },
    {
     "name": "stdout",
     "output_type": "stream",
     "text": [
      "can't install can t install\n"
     ]
    },
    {
     "name": "stderr",
     "output_type": "stream",
     "text": [
      "  9%|▊         | 1151/13309 [01:11<18:41, 10.84it/s]"
     ]
    },
    {
     "name": "stdout",
     "output_type": "stream",
     "text": [
      "describe<br><br>Attach File : <a href='http://csupload.cyberlink.com/upload-file/support/cs/2019-01-10/CS001978650/CL_PHOTODIRECTOR_DATA.zip' target=_blank>CL_PHOTODIRECTOR_DATA.zip</a> describe attach file\n"
     ]
    },
    {
     "name": "stderr",
     "output_type": "stream",
     "text": [
      "\r",
      "  7%|▋         | 906/13309 [01:11<15:49, 13.06it/s]"
     ]
    },
    {
     "name": "stdout",
     "output_type": "stream",
     "text": [
      "dgj,<br><br>Attach File : <a href='http://csupload.cyberlink.com/upload-file/support/cs/2018-11-23/CS001957565/CL_PHOTODIRECTOR_DATA.zip' target=_blank>CL_PHOTODIRECTOR_DATA.zip</a> dgj attach file\n"
     ]
    },
    {
     "name": "stderr",
     "output_type": "stream",
     "text": [
      "  9%|▉         | 1196/13309 [01:11<12:24, 16.28it/s]"
     ]
    },
    {
     "name": "stdout",
     "output_type": "stream",
     "text": [
      "thanks<br><br>Attach File : <a href='http://csupload.cyberlink.com/upload-file/support/cs/2018-01-07/CS001841812/CL_PHOTODIRECTOR_DATA.zip' target=_blank>CL_PHOTODIRECTOR_DATA.zip</a> thanks attach file\n"
     ]
    },
    {
     "name": "stderr",
     "output_type": "stream",
     "text": [
      "  7%|▋         | 910/13309 [01:11<18:45, 11.01it/s]]"
     ]
    },
    {
     "name": "stdout",
     "output_type": "stream",
     "text": [
      "thanks<br><br>Attach File : <a href='http://csupload.cyberlink.com/upload-file/support/cs/2018-10-26/CS001948048/CL_PHOTODIRECTOR_DATA.zip' target=_blank>CL_PHOTODIRECTOR_DATA.zip</a> thanks attach file\n",
      "thanks<br><br>Attach File : <a href='http://csupload.cyberlink.com/upload-file/support/cs/2019-02-04/CS001987061/CL_PHOTODIRECTOR_DATA.zip' target=_blank>CL_PHOTODIRECTOR_DATA.zip</a> thanks attach file\n",
      "No work WaveEditor no work waveeditor\n"
     ]
    },
    {
     "name": "stderr",
     "output_type": "stream",
     "text": [
      "  9%|▊         | 1160/13309 [01:12<15:03, 13.44it/s]"
     ]
    },
    {
     "name": "stdout",
     "output_type": "stream",
     "text": [
      "None none\n"
     ]
    },
    {
     "name": "stderr",
     "output_type": "stream",
     "text": [
      "  9%|▊         | 1160/13309 [01:12<10:00, 20.24it/s]"
     ]
    },
    {
     "name": "stdout",
     "output_type": "stream",
     "text": [
      "not working not work\n"
     ]
    },
    {
     "name": "stderr",
     "output_type": "stream",
     "text": [
      "\r",
      "  8%|▊         | 1098/13309 [01:12<13:45, 14.79it/s]"
     ]
    },
    {
     "name": "stdout",
     "output_type": "stream",
     "text": [
      "Nothing nothing\n"
     ]
    },
    {
     "name": "stderr",
     "output_type": "stream",
     "text": [
      "  9%|▉         | 1173/13309 [01:12<09:49, 20.59it/s]"
     ]
    },
    {
     "name": "stdout",
     "output_type": "stream",
     "text": [
      "nothing nothing\n"
     ]
    },
    {
     "name": "stderr",
     "output_type": "stream",
     "text": [
      "  9%|▉         | 1254/13309 [01:12<14:10, 14.18it/s]"
     ]
    },
    {
     "name": "stdout",
     "output_type": "stream",
     "text": [
      "Now now\n"
     ]
    },
    {
     "name": "stderr",
     "output_type": "stream",
     "text": [
      "  9%|▉         | 1228/13309 [01:12<09:07, 22.07it/s]"
     ]
    },
    {
     "name": "stdout",
     "output_type": "stream",
     "text": [
      "Ok ok\n",
      "ok ok\n"
     ]
    },
    {
     "name": "stderr",
     "output_type": "stream",
     "text": [
      "\r",
      "  9%|▉         | 1172/13309 [01:12<08:13, 24.60it/s]"
     ]
    },
    {
     "name": "stdout",
     "output_type": "stream",
     "text": [
      "ok ok\n"
     ]
    },
    {
     "name": "stderr",
     "output_type": "stream",
     "text": [
      "  8%|▊         | 1102/13309 [01:12<13:54, 14.62it/s]"
     ]
    },
    {
     "name": "stdout",
     "output_type": "stream",
     "text": [
      "ok ok\n",
      "tgg<br><br>Attach File : <a href='http://csupload.cyberlink.com/upload-file/support/cs/2018-12-19/CS001967970/CL_PHOTODIRECTOR_DATA.zip' target=_blank>CL_PHOTODIRECTOR_DATA.zip</a> tgg attach file\n"
     ]
    },
    {
     "name": "stderr",
     "output_type": "stream",
     "text": [
      "  9%|▉         | 1231/13309 [01:13<10:27, 19.25it/s]"
     ]
    },
    {
     "name": "stdout",
     "output_type": "stream",
     "text": [
      "OK! ok\n"
     ]
    },
    {
     "name": "stderr",
     "output_type": "stream",
     "text": [
      "  9%|▉         | 1260/13309 [01:13<18:09, 11.06it/s]"
     ]
    },
    {
     "name": "stdout",
     "output_type": "stream",
     "text": [
      "Thanks <br><br>Attach File : <a href='http://csupload.cyberlink.com/upload-file/support/cs/2018-10-10/CS001942647/CL_PHOTODIRECTOR_DATA.zip' target=_blank>CL_PHOTODIRECTOR_DATA.zip</a> thanks attach file\n"
     ]
    },
    {
     "name": "stderr",
     "output_type": "stream",
     "text": [
      "  9%|▉         | 1220/13309 [01:13<11:39, 17.29it/s]"
     ]
    },
    {
     "name": "stdout",
     "output_type": "stream",
     "text": [
      "PowerProducer 6 Download powerproducer download\n"
     ]
    },
    {
     "name": "stderr",
     "output_type": "stream",
     "text": [
      " 10%|▉         | 1270/13309 [01:13<12:30, 16.05it/s]"
     ]
    },
    {
     "name": "stdout",
     "output_type": "stream",
     "text": [
      "Inposible to instail inposible to instail\n"
     ]
    },
    {
     "name": "stderr",
     "output_type": "stream",
     "text": [
      "  8%|▊         | 1069/13315 [01:13<15:54, 12.83it/s]"
     ]
    },
    {
     "name": "stdout",
     "output_type": "stream",
     "text": [
      "﻿<html><p dir=\"ltr\"> good apk</p>   </html><br/>﻿ good apk\n"
     ]
    },
    {
     "name": "stderr",
     "output_type": "stream",
     "text": [
      "  9%|▉         | 1206/13309 [01:13<07:41, 26.25it/s]"
     ]
    },
    {
     "name": "stdout",
     "output_type": "stream",
     "text": [
      "I want it i want it\n"
     ]
    },
    {
     "name": "stderr",
     "output_type": "stream",
     "text": [
      "  8%|▊         | 1083/13315 [01:14<21:14,  9.60it/s]"
     ]
    },
    {
     "name": "stdout",
     "output_type": "stream",
     "text": [
      "﻿<html><p dir=\"ltr\"> Get vidios</p>   </html><br/>﻿ get vidios\n"
     ]
    },
    {
     "name": "stderr",
     "output_type": "stream",
     "text": [
      "  7%|▋         | 950/13309 [01:15<14:35, 14.12it/s]]"
     ]
    },
    {
     "name": "stdout",
     "output_type": "stream",
     "text": [
      "cool<br><br>Attach File : <a href='http://csupload.cyberlink.com/upload-file/support/cs/2019-04-13/CS002011927/CL_PHOTODIRECTOR_DATA.zip' target=_blank>CL_PHOTODIRECTOR_DATA.zip</a> cool attach file\n"
     ]
    },
    {
     "name": "stderr",
     "output_type": "stream",
     "text": [
      " 10%|▉         | 1288/13309 [01:15<06:47, 29.48it/s]"
     ]
    },
    {
     "name": "stdout",
     "output_type": "stream",
     "text": [
      "sureshyodha<br><br>Attach File : <a href='http://csupload.cyberlink.com/upload-file/support/cs/2018-10-27/CS001948481/CL_PHOTODIRECTOR_DATA.zip' target=_blank>CL_PHOTODIRECTOR_DATA.zip</a> sureshyodha attach file\n"
     ]
    },
    {
     "name": "stderr",
     "output_type": "stream",
     "text": [
      "  9%|▊         | 1143/13309 [01:15<15:19, 13.23it/s]"
     ]
    },
    {
     "name": "stdout",
     "output_type": "stream",
     "text": [
      "tagd<br><br>Attach File : <a href='http://csupload.cyberlink.com/upload-file/support/cs/2018-11-12/CS001953715/CL_PHOTODIRECTOR_DATA.zip' target=_blank>CL_PHOTODIRECTOR_DATA.zip</a> tagd attach file\n"
     ]
    },
    {
     "name": "stderr",
     "output_type": "stream",
     "text": [
      "  9%|▉         | 1215/13309 [01:15<18:03, 11.16it/s]"
     ]
    },
    {
     "name": "stdout",
     "output_type": "stream",
     "text": [
      "tanks<br><br>Attach File : <a href='http://csupload.cyberlink.com/upload-file/support/cs/2018-10-10/CS001942671/CL_PHOTODIRECTOR_DATA.zip' target=_blank>CL_PHOTODIRECTOR_DATA.zip</a> tank attach file\n"
     ]
    },
    {
     "name": "stderr",
     "output_type": "stream",
     "text": [
      "  8%|▊         | 1089/13315 [01:15<17:47, 11.45it/s]"
     ]
    },
    {
     "name": "stdout",
     "output_type": "stream",
     "text": [
      "tejaswini <br><br>Attach File : <a href='http://csupload.cyberlink.com/upload-file/support/cs/2018-12-09/CS001963800/CL_PHOTODIRECTOR_DATA.zip' target=_blank>CL_PHOTODIRECTOR_DATA.zip</a> tejaswini attach file\n"
     ]
    },
    {
     "name": "stderr",
     "output_type": "stream",
     "text": [
      "  9%|▉         | 1253/13309 [01:16<11:30, 17.45it/s]"
     ]
    },
    {
     "name": "stdout",
     "output_type": "stream",
     "text": [
      "collage<br><br>Attach File : <a href='http://csupload.cyberlink.com/upload-file/support/cs/2019-03-11/CS001999615/CL_PHOTODIRECTOR_DATA.zip' target=_blank>CL_PHOTODIRECTOR_DATA.zip</a> collage attach file\n"
     ]
    },
    {
     "name": "stderr",
     "output_type": "stream",
     "text": [
      " 10%|█         | 1349/13309 [01:17<08:27, 23.57it/s]"
     ]
    },
    {
     "name": "stdout",
     "output_type": "stream",
     "text": [
      "hai<br><br>Attach File : <a href='http://csupload.cyberlink.com/upload-file/support/cs/2019-02-15/CS001990685/DeviceInfo.txt' target=_blank>DeviceInfo.txt</a> hai attach file\n"
     ]
    },
    {
     "name": "stderr",
     "output_type": "stream",
     "text": [
      "  7%|▋         | 974/13309 [01:17<18:04, 11.37it/s]]"
     ]
    },
    {
     "name": "stdout",
     "output_type": "stream",
     "text": [
      "﻿<html><div dir=\"auto\"> No support app<div dir=\"auto\"> <br> </div> </div>   </html><br/>﻿ no support app\n"
     ]
    },
    {
     "name": "stderr",
     "output_type": "stream",
     "text": [
      " 10%|█         | 1370/13309 [01:18<09:02, 22.03it/s]"
     ]
    },
    {
     "name": "stdout",
     "output_type": "stream",
     "text": [
      "﻿<html><div dir=\"auto\"> Nice</div>   </html><br/>﻿ nice\n"
     ]
    },
    {
     "name": "stderr",
     "output_type": "stream",
     "text": [
      " 10%|▉         | 1294/13309 [01:18<10:27, 19.14it/s]"
     ]
    },
    {
     "name": "stdout",
     "output_type": "stream",
     "text": [
      "DOWLOAD ESPRESSO 7.5 dowload espresso\n"
     ]
    },
    {
     "name": "stderr",
     "output_type": "stream",
     "text": [
      " 10%|▉         | 1270/13309 [01:18<09:46, 20.53it/s]"
     ]
    },
    {
     "name": "stdout",
     "output_type": "stream",
     "text": [
      "I canit active    i canit active\n"
     ]
    },
    {
     "name": "stderr",
     "output_type": "stream",
     "text": [
      "  9%|▉         | 1204/13309 [01:18<11:38, 17.34it/s]"
     ]
    },
    {
     "name": "stdout",
     "output_type": "stream",
     "text": [
      "Awesome <br><br>Attach File : <a href='http://csupload.cyberlink.com/upload-file/support/cs/2018-12-13/CS001965480/CL_PHOTODIRECTOR_DATA.zip' target=_blank>CL_PHOTODIRECTOR_DATA.zip</a> awesome attach file\n"
     ]
    },
    {
     "name": "stderr",
     "output_type": "stream",
     "text": [
      "  9%|▊         | 1143/13315 [01:19<16:28, 12.31it/s]"
     ]
    },
    {
     "name": "stdout",
     "output_type": "stream",
     "text": [
      "﻿<html><div dir=\"auto\"> SsSsqaa</div>   </html><br/>﻿ ssssqaa\n"
     ]
    },
    {
     "name": "stderr",
     "output_type": "stream",
     "text": [
      " 10%|▉         | 1288/13309 [01:19<10:31, 19.04it/s]"
     ]
    },
    {
     "name": "stdout",
     "output_type": "stream",
     "text": [
      "﻿<html><div dir=\"auto\"> Subscribe</div>   </html><br/>﻿ subscribe\n"
     ]
    },
    {
     "name": "stderr",
     "output_type": "stream",
     "text": [
      " 11%|█         | 1398/13309 [01:19<09:20, 21.26it/s]"
     ]
    },
    {
     "name": "stdout",
     "output_type": "stream",
     "text": [
      "﻿<html><div dir=\"auto\"> Suport</div>   </html><br/>﻿ suport\n"
     ]
    },
    {
     "name": "stderr",
     "output_type": "stream",
     "text": [
      " 10%|▉         | 1328/13309 [01:19<09:29, 21.05it/s]"
     ]
    },
    {
     "name": "stdout",
     "output_type": "stream",
     "text": [
      "please <br><br>Attach File : <a href='http://csupload.cyberlink.com/upload-file/support/cs/2018-06-08/CS001901626/DeviceInfo.txt' target=_blank>DeviceInfo.txt</a> please attach file\n"
     ]
    },
    {
     "name": "stderr",
     "output_type": "stream",
     "text": [
      " 11%|█         | 1443/13309 [01:22<13:53, 14.23it/s]"
     ]
    },
    {
     "name": "stdout",
     "output_type": "stream",
     "text": [
      "My reference no. 122048661 my reference\n"
     ]
    },
    {
     "name": "stderr",
     "output_type": "stream",
     "text": [
      " 10%|█         | 1377/13309 [01:22<11:51, 16.77it/s]"
     ]
    },
    {
     "name": "stdout",
     "output_type": "stream",
     "text": [
      "Need patch 2820 need patch\n"
     ]
    },
    {
     "name": "stderr",
     "output_type": "stream",
     "text": [
      " 10%|█         | 1379/13309 [01:23<08:16, 24.03it/s]"
     ]
    },
    {
     "name": "stdout",
     "output_type": "stream",
     "text": [
      "파워디렉트 \n"
     ]
    },
    {
     "name": "stderr",
     "output_type": "stream",
     "text": [
      " 11%|█         | 1425/13309 [01:26<16:17, 12.16it/s]"
     ]
    },
    {
     "name": "stdout",
     "output_type": "stream",
     "text": [
      "got <br><br>Attach File : <a href='http://csupload.cyberlink.com/upload-file/support/cs/2018-05-26/CS001894369/DeviceInfo.txt' target=_blank>DeviceInfo.txt</a> get attach file\n"
     ]
    },
    {
     "name": "stderr",
     "output_type": "stream",
     "text": [
      " 11%|█         | 1421/13309 [01:26<15:00, 13.20it/s]"
     ]
    },
    {
     "name": "stdout",
     "output_type": "stream",
     "text": [
      "dError #1719 derror\n"
     ]
    },
    {
     "name": "stderr",
     "output_type": "stream",
     "text": [
      " 11%|█         | 1452/13309 [01:27<15:25, 12.82it/s]"
     ]
    },
    {
     "name": "stdout",
     "output_type": "stream",
     "text": [
      "yes<br><br>Attach File : <a href='http://csupload.cyberlink.com/upload-file/support/cs/2018-05-10/CS001888515/DeviceInfo.txt' target=_blank>DeviceInfo.txt</a> yes attach file\n"
     ]
    },
    {
     "name": "stderr",
     "output_type": "stream",
     "text": [
      "  8%|▊         | 1116/13309 [01:27<16:09, 12.58it/s]"
     ]
    },
    {
     "name": "stdout",
     "output_type": "stream",
     "text": [
      "YouTube <br><br>Attach File : <a href='http://csupload.cyberlink.com/upload-file/support/cs/2018-09-16/CS001934630/DeviceInfo.txt' target=_blank>DeviceInfo.txt</a> youtube attach file\n"
     ]
    },
    {
     "name": "stderr",
     "output_type": "stream",
     "text": [
      " 11%|█         | 1454/13309 [01:27<15:30, 12.74it/s]"
     ]
    },
    {
     "name": "stdout",
     "output_type": "stream",
     "text": [
      "YouTube <br><br>Attach File : <a href='http://csupload.cyberlink.com/upload-file/support/cs/2019-05-05/CS002018488/DeviceInfo.txt' target=_blank>DeviceInfo.txt</a> youtube attach file\n"
     ]
    },
    {
     "name": "stderr",
     "output_type": "stream",
     "text": [
      " 11%|█         | 1480/13309 [01:28<09:02, 21.79it/s]"
     ]
    },
    {
     "name": "stdout",
     "output_type": "stream",
     "text": [
      "Hdgehfhb<br><br>Attach File : <a href='http://csupload.cyberlink.com/upload-file/support/cs/2019-04-28/CS002016315/feedback_data.zip' target=_blank>feedback_data.zip</a> hdgehfhb attach file\n"
     ]
    },
    {
     "name": "stderr",
     "output_type": "stream",
     "text": [
      " 11%|█         | 1483/13309 [01:29<08:44, 22.56it/s]"
     ]
    },
    {
     "name": "stdout",
     "output_type": "stream",
     "text": [
      "Hi<br><br>Attach File : <a href='http://csupload.cyberlink.com/upload-file/support/cs/2018-04-30/CS001884965/feedback_data.zip' target=_blank>feedback_data.zip</a> hi attach file\n"
     ]
    },
    {
     "name": "stderr",
     "output_type": "stream",
     "text": [
      " 12%|█▏        | 1534/13309 [01:30<09:39, 20.33it/s]"
     ]
    },
    {
     "name": "stdout",
     "output_type": "stream",
     "text": [
      "youcam7 stop working youcam stop work\n"
     ]
    },
    {
     "name": "stderr",
     "output_type": "stream",
     "text": [
      " 11%|█         | 1478/13309 [01:31<13:34, 14.53it/s]"
     ]
    },
    {
     "name": "stdout",
     "output_type": "stream",
     "text": [
      "﻿<html><div dir=\"auto\"> Good</div>   </html><br/>﻿ good\n"
     ]
    },
    {
     "name": "stderr",
     "output_type": "stream",
     "text": [
      " 11%|█         | 1480/13309 [01:31<12:43, 15.49it/s]"
     ]
    },
    {
     "name": "stdout",
     "output_type": "stream",
     "text": [
      "﻿<html><div dir=\"auto\"> Good<div dir=\"auto\"> <br> <br> <div data-smartmail=\"gmail_signature\" dir=\"auto\"> Tulika</div> </div> </div>   </html><br/>﻿ good tulika\n"
     ]
    },
    {
     "name": "stderr",
     "output_type": "stream",
     "text": [
      "\r",
      " 12%|█▏        | 1601/13309 [01:31<10:53, 17.92it/s]"
     ]
    },
    {
     "name": "stdout",
     "output_type": "stream",
     "text": [
      "﻿<html><div dir=\"auto\"> H</div>   </html><br/>﻿ h\n"
     ]
    },
    {
     "name": "stderr",
     "output_type": "stream",
     "text": [
      " 12%|█▏        | 1603/13309 [01:31<10:49, 18.03it/s]"
     ]
    },
    {
     "name": "stdout",
     "output_type": "stream",
     "text": [
      "Lost program lose program\n"
     ]
    },
    {
     "name": "stderr",
     "output_type": "stream",
     "text": [
      " 11%|█▏        | 1525/13309 [01:31<18:34, 10.57it/s]"
     ]
    },
    {
     "name": "stdout",
     "output_type": "stream",
     "text": [
      "MJOMK mjomk\n"
     ]
    },
    {
     "name": "stderr",
     "output_type": "stream",
     "text": [
      "  9%|▉         | 1183/13309 [01:31<12:06, 16.70it/s]"
     ]
    },
    {
     "name": "stdout",
     "output_type": "stream",
     "text": [
      "nice nice\n"
     ]
    },
    {
     "name": "stderr",
     "output_type": "stream",
     "text": [
      " 12%|█▏        | 1561/13309 [01:32<12:39, 15.47it/s]"
     ]
    },
    {
     "name": "stdout",
     "output_type": "stream",
     "text": [
      "No tengo preguntas no tengo preguntas\n"
     ]
    },
    {
     "name": "stderr",
     "output_type": "stream",
     "text": [
      " 10%|▉         | 1327/13315 [01:34<18:02, 11.07it/s]"
     ]
    },
    {
     "name": "stdout",
     "output_type": "stream",
     "text": [
      "sdjjd<br><br>Attach File : <a href='http://csupload.cyberlink.com/upload-file/support/cs/2019-04-24/CS002015406/CL_LOGCAT_DATA.zip' target=_blank>CL_LOGCAT_DATA.zip</a> sdjjd attach file\n"
     ]
    },
    {
     "name": "stderr",
     "output_type": "stream",
     "text": [
      " 12%|█▏        | 1655/13309 [01:34<12:34, 15.44it/s]"
     ]
    },
    {
     "name": "stdout",
     "output_type": "stream",
     "text": [
      "https://drive.google.com/open?id=1yHJuOHcK3-T0P36wuEQBhUzaHWvaSxer \n"
     ]
    },
    {
     "name": "stderr",
     "output_type": "stream",
     "text": [
      " 13%|█▎        | 1675/13309 [01:35<07:58, 24.30it/s]"
     ]
    },
    {
     "name": "stdout",
     "output_type": "stream",
     "text": [
      "plz help plz help\n"
     ]
    },
    {
     "name": "stderr",
     "output_type": "stream",
     "text": [
      " 11%|█         | 1478/13309 [01:35<13:51, 14.22it/s]"
     ]
    },
    {
     "name": "stdout",
     "output_type": "stream",
     "text": [
      "Download and reinstall download and reinstall\n"
     ]
    },
    {
     "name": "stderr",
     "output_type": "stream",
     "text": [
      " 12%|█▏        | 1600/13309 [01:36<11:20, 17.21it/s]"
     ]
    },
    {
     "name": "stdout",
     "output_type": "stream",
     "text": [
      "good<br><br>Attach File : <a href='http://csupload.cyberlink.com/upload-file/support/cs/2018-11-13/CS001954342/CL_PHOTODIRECTOR_DATA.zip' target=_blank>CL_PHOTODIRECTOR_DATA.zip</a> good attach file\n"
     ]
    },
    {
     "name": "stderr",
     "output_type": "stream",
     "text": [
      " 13%|█▎        | 1762/13309 [01:40<13:42, 14.04it/s]"
     ]
    },
    {
     "name": "stdout",
     "output_type": "stream",
     "text": [
      "thnk you thnk you\n"
     ]
    },
    {
     "name": "stderr",
     "output_type": "stream",
     "text": [
      " 13%|█▎        | 1666/13309 [01:40<13:45, 14.11it/s]"
     ]
    },
    {
     "name": "stdout",
     "output_type": "stream",
     "text": [
      "awesome <br><br>Attach File : <a href='http://csupload.cyberlink.com/upload-file/support/cs/2019-03-01/CS001996403/DeviceInfo.txt' target=_blank>DeviceInfo.txt</a> awesome attach file\n"
     ]
    },
    {
     "name": "stderr",
     "output_type": "stream",
     "text": [
      " 12%|█▏        | 1567/13309 [01:41<13:59, 13.99it/s]"
     ]
    },
    {
     "name": "stdout",
     "output_type": "stream",
     "text": [
      "tutorial tutorial\n"
     ]
    },
    {
     "name": "stderr",
     "output_type": "stream",
     "text": [
      " 13%|█▎        | 1690/13309 [01:41<08:07, 23.82it/s]"
     ]
    },
    {
     "name": "stdout",
     "output_type": "stream",
     "text": [
      "unable to install unable to install\n"
     ]
    },
    {
     "name": "stderr",
     "output_type": "stream",
     "text": [
      " 10%|▉         | 1318/13309 [01:41<12:37, 15.82it/s]"
     ]
    },
    {
     "name": "stdout",
     "output_type": "stream",
     "text": [
      "upgrde of program upgrde of program\n"
     ]
    },
    {
     "name": "stderr",
     "output_type": "stream",
     "text": [
      " 10%|▉         | 1325/13309 [01:42<22:11,  9.00it/s]"
     ]
    },
    {
     "name": "stdout",
     "output_type": "stream",
     "text": [
      "n n\n"
     ]
    },
    {
     "name": "stderr",
     "output_type": "stream",
     "text": [
      " 13%|█▎        | 1791/13309 [01:43<13:40, 14.03it/s]"
     ]
    },
    {
     "name": "stdout",
     "output_type": "stream",
     "text": [
      "nice product nice product\n"
     ]
    },
    {
     "name": "stderr",
     "output_type": "stream",
     "text": [
      " 10%|▉         | 1329/13309 [01:42<18:22, 10.87it/s]"
     ]
    },
    {
     "name": "stdout",
     "output_type": "stream",
     "text": [
      "nil nil\n",
      "ninguna  ninguna\n"
     ]
    },
    {
     "name": "stderr",
     "output_type": "stream",
     "text": [
      " 13%|█▎        | 1762/13309 [01:43<12:20, 15.60it/s]"
     ]
    },
    {
     "name": "stdout",
     "output_type": "stream",
     "text": [
      "njhgj njhgj\n"
     ]
    },
    {
     "name": "stderr",
     "output_type": "stream",
     "text": [
      "\r",
      " 13%|█▎        | 1790/13309 [01:43<26:45,  7.17it/s]"
     ]
    },
    {
     "name": "stdout",
     "output_type": "stream",
     "text": [
      "no no\n"
     ]
    },
    {
     "name": "stderr",
     "output_type": "stream",
     "text": [
      " 14%|█▍        | 1842/13309 [01:46<08:07, 23.53it/s]"
     ]
    },
    {
     "name": "stdout",
     "output_type": "stream",
     "text": [
      "Can I change to.monthly? can i change\n"
     ]
    },
    {
     "name": "stderr",
     "output_type": "stream",
     "text": [
      " 14%|█▍        | 1853/13309 [01:47<13:30, 14.13it/s]"
     ]
    },
    {
     "name": "stdout",
     "output_type": "stream",
     "text": [
      "How to code how to code\n"
     ]
    },
    {
     "name": "stderr",
     "output_type": "stream",
     "text": [
      "\r",
      " 14%|█▎        | 1822/13309 [01:47<06:04, 31.48it/s]"
     ]
    },
    {
     "name": "stdout",
     "output_type": "stream",
     "text": [
      "how to get how to get\n"
     ]
    },
    {
     "name": "stderr",
     "output_type": "stream",
     "text": [
      " 14%|█▍        | 1830/13309 [01:48<06:01, 31.79it/s]"
     ]
    },
    {
     "name": "stdout",
     "output_type": "stream",
     "text": [
      "http://mh3.cyberlinkmember.com/a/click.asp?url=http://www.xssposed.org \n"
     ]
    },
    {
     "name": "stderr",
     "output_type": "stream",
     "text": [
      " 13%|█▎        | 1766/13309 [01:48<14:40, 13.11it/s]"
     ]
    },
    {
     "name": "stdout",
     "output_type": "stream",
     "text": [
      "https://directorzone.cyberlink.com/stat/404/enu/404.jsp \n"
     ]
    },
    {
     "name": "stderr",
     "output_type": "stream",
     "text": [
      " 11%|█         | 1450/13309 [01:49<09:59, 19.79it/s]"
     ]
    },
    {
     "name": "stdout",
     "output_type": "stream",
     "text": [
      "    <br><br>Attach File : <a href='http://csupload.cyberlink.com/upload-file/support/cs/2018-12-17/CS001966799/CL_PHOTODIRECTOR_DATA.zip' target=_blank>CL_PHOTODIRECTOR_DATA.zip</a> attach file\n"
     ]
    },
    {
     "name": "stderr",
     "output_type": "stream",
     "text": [
      " 14%|█▍        | 1898/13309 [01:49<09:19, 20.41it/s]"
     ]
    },
    {
     "name": "stdout",
     "output_type": "stream",
     "text": [
      "    <br><br>Attach File : <a href='http://csupload.cyberlink.com/upload-file/support/cs/2019-06-05/CS002027250/CL_PHOTODIRECTOR_DATA.zip' target=_blank>CL_PHOTODIRECTOR_DATA.zip</a> attach file\n"
     ]
    },
    {
     "name": "stderr",
     "output_type": "stream",
     "text": [
      "\r",
      " 13%|█▎        | 1796/13309 [01:50<11:07, 17.25it/s]"
     ]
    },
    {
     "name": "stdout",
     "output_type": "stream",
     "text": [
      "    👑 Batta    <br><br>Attach File : <a href='http://csupload.cyberlink.com/upload-file/support/cs/2018-07-13/CS001913203/CL_PHOTODIRECTOR_DATA.zip' target=_blank>CL_PHOTODIRECTOR_DATA.zip</a> batta attach file\n"
     ]
    },
    {
     "name": "stderr",
     "output_type": "stream",
     "text": [
      " 11%|█▏        | 1527/13315 [01:49<11:51, 16.58it/s]"
     ]
    },
    {
     "name": "stdout",
     "output_type": "stream",
     "text": [
      "  <br><br>Attach File : <a href='http://csupload.cyberlink.com/upload-file/support/cs/2018-11-22/CS001957179/CL_PHOTODIRECTOR_DATA.zip' target=_blank>CL_PHOTODIRECTOR_DATA.zip</a> attach file\n"
     ]
    },
    {
     "name": "stderr",
     "output_type": "stream",
     "text": [
      " 14%|█▍        | 1882/13309 [01:50<15:41, 12.14it/s]"
     ]
    },
    {
     "name": "stdout",
     "output_type": "stream",
     "text": [
      "ок<br><br>Attach File : <a href='http://csupload.cyberlink.com/upload-file/support/cs/2019-06-26/CS002033034/CL_PHOTODIRECTOR_DATA.zip' target=_blank>CL_PHOTODIRECTOR_DATA.zip</a> attach file\n"
     ]
    },
    {
     "name": "stderr",
     "output_type": "stream",
     "text": [
      " 14%|█▍        | 1894/13309 [01:51<13:49, 13.76it/s]"
     ]
    },
    {
     "name": "stdout",
     "output_type": "stream",
     "text": [
      "I lost my program. i lose my\n"
     ]
    },
    {
     "name": "stderr",
     "output_type": "stream",
     "text": [
      " 13%|█▎        | 1718/13309 [01:51<13:06, 14.74it/s]"
     ]
    },
    {
     "name": "stdout",
     "output_type": "stream",
     "text": [
      "I lost my program. i lose my\n"
     ]
    },
    {
     "name": "stderr",
     "output_type": "stream",
     "text": [
      " 13%|█▎        | 1739/13309 [01:52<11:44, 16.42it/s]"
     ]
    },
    {
     "name": "stdout",
     "output_type": "stream",
     "text": [
      "Great app. Thanks. <br><br>Attach File : <a href='http://csupload.cyberlink.com/upload-file/support/cs/2019-07-03/CS002034830/CL_PHOTODIRECTOR_DATA.zip' target=_blank>CL_PHOTODIRECTOR_DATA.zip</a> great attach file\n"
     ]
    },
    {
     "name": "stderr",
     "output_type": "stream",
     "text": [
      " 14%|█▍        | 1920/13309 [01:52<14:10, 13.39it/s]"
     ]
    },
    {
     "name": "stdout",
     "output_type": "stream",
     "text": [
      "free download free download\n",
      "great app.<br><br>Attach File : <a href='http://csupload.cyberlink.com/upload-file/support/cs/2018-04-14/CS001879668/CL_PHOTODIRECTOR_DATA.zip' target=_blank>CL_PHOTODIRECTOR_DATA.zip</a> great attach file\n"
     ]
    },
    {
     "name": "stderr",
     "output_type": "stream",
     "text": [
      " 15%|█▍        | 1995/13309 [01:53<08:55, 21.15it/s]"
     ]
    },
    {
     "name": "stdout",
     "output_type": "stream",
     "text": [
      "Stuck a 91%  stick a\n"
     ]
    },
    {
     "name": "stderr",
     "output_type": "stream",
     "text": [
      " 15%|█▍        | 1977/13309 [01:55<07:24, 25.52it/s]"
     ]
    },
    {
     "name": "stdout",
     "output_type": "stream",
     "text": [
      "Hi<br><br>Attach File : <a href='http://csupload.cyberlink.com/upload-file/support/cs/2018-03-27/CS001873062/feedback_data.zip' target=_blank>feedback_data.zip</a> hi attach file\n"
     ]
    },
    {
     "name": "stderr",
     "output_type": "stream",
     "text": [
      " 14%|█▍        | 1902/13309 [01:56<12:52, 14.77it/s]"
     ]
    },
    {
     "name": "stdout",
     "output_type": "stream",
     "text": [
      "como estas como estas\n"
     ]
    },
    {
     "name": "stderr",
     "output_type": "stream",
     "text": [
      " 15%|█▍        | 1975/13309 [01:56<08:02, 23.48it/s]"
     ]
    },
    {
     "name": "stdout",
     "output_type": "stream",
     "text": [
      "😍😍😍👌👌👌👌<br><br>Attach File : <a href='http://csupload.cyberlink.com/upload-file/support/cs/2019-02-01/CS001986176/CL_LOGCAT_DATA.zip' target=_blank>CL_LOGCAT_DATA.zip</a> attach file\n"
     ]
    },
    {
     "name": "stderr",
     "output_type": "stream",
     "text": [
      "\r",
      " 12%|█▏        | 1558/13309 [01:56<08:07, 24.12it/s]"
     ]
    },
    {
     "name": "stdout",
     "output_type": "stream",
     "text": [
      "nice nice\n",
      "good<br><br>Attach File : <a href='http://csupload.cyberlink.com/upload-file/support/cs/2019-06-11/CS002028791/CL_PHOTODIRECTOR_DATA.zip' target=_blank>CL_PHOTODIRECTOR_DATA.zip</a> good attach file\n"
     ]
    },
    {
     "name": "stderr",
     "output_type": "stream",
     "text": [
      " 14%|█▍        | 1904/13309 [01:56<12:34, 15.11it/s]"
     ]
    },
    {
     "name": "stdout",
     "output_type": "stream",
     "text": [
      "good<br><br>Attach File : <a href='http://csupload.cyberlink.com/upload-file/support/cs/2019-06-12/CS002029123/CL_PHOTODIRECTOR_DATA.zip' target=_blank>CL_PHOTODIRECTOR_DATA.zip</a> good attach file\n"
     ]
    },
    {
     "name": "stderr",
     "output_type": "stream",
     "text": [
      " 15%|█▍        | 1978/13309 [01:56<07:44, 24.40it/s]"
     ]
    },
    {
     "name": "stdout",
     "output_type": "stream",
     "text": [
      "good<br><br>Attach File : <a href='http://csupload.cyberlink.com/upload-file/support/cs/2019-06-14/CS002029778/CL_PHOTODIRECTOR_DATA.zip' target=_blank>CL_PHOTODIRECTOR_DATA.zip</a> good attach file\n",
      "good<br><br>Attach File : <a href='http://csupload.cyberlink.com/upload-file/support/cs/2019-06-26/CS002032924/CL_PHOTODIRECTOR_DATA.zip' target=_blank>CL_PHOTODIRECTOR_DATA.zip</a> good attach file\n",
      "good<br><br>Attach File : <a href='http://csupload.cyberlink.com/upload-file/support/cs/2019-06-30/CS002033843/CL_PHOTODIRECTOR_DATA.zip' target=_blank>CL_PHOTODIRECTOR_DATA.zip</a> good attach file\n"
     ]
    },
    {
     "name": "stderr",
     "output_type": "stream",
     "text": [
      " 14%|█▍        | 1907/13309 [01:56<10:47, 17.61it/s]"
     ]
    },
    {
     "name": "stdout",
     "output_type": "stream",
     "text": [
      "good<br><br>Attach File : <a href='http://csupload.cyberlink.com/upload-file/support/cs/2019-06-30/CS002034056/CL_PHOTODIRECTOR_DATA.zip' target=_blank>CL_PHOTODIRECTOR_DATA.zip</a> good attach file\n"
     ]
    },
    {
     "name": "stderr",
     "output_type": "stream",
     "text": [
      " 12%|█▏        | 1603/13315 [01:56<19:50,  9.84it/s]"
     ]
    },
    {
     "name": "stdout",
     "output_type": "stream",
     "text": [
      "good<br><br>Attach File : <a href='http://csupload.cyberlink.com/upload-file/support/cs/2019-07-06/CS002035550/CL_PHOTODIRECTOR_DATA.zip' target=_blank>CL_PHOTODIRECTOR_DATA.zip</a> good attach file\n"
     ]
    },
    {
     "name": "stderr",
     "output_type": "stream",
     "text": [
      "\r",
      " 15%|█▌        | 2060/13309 [01:56<05:34, 33.66it/s]"
     ]
    },
    {
     "name": "stdout",
     "output_type": "stream",
     "text": [
      "gooda<br><br>Attach File : <a href='http://csupload.cyberlink.com/upload-file/support/cs/2019-04-29/CS002016635/CL_PHOTODIRECTOR_DATA.zip' target=_blank>CL_PHOTODIRECTOR_DATA.zip</a> gooda attach file\n"
     ]
    },
    {
     "name": "stderr",
     "output_type": "stream",
     "text": [
      "\r",
      " 14%|█▎        | 1804/13309 [01:56<07:36, 25.21it/s]"
     ]
    },
    {
     "name": "stdout",
     "output_type": "stream",
     "text": [
      "goods <br><br>Attach File : <a href='http://csupload.cyberlink.com/upload-file/support/cs/2018-03-27/CS001872898/CL_PHOTODIRECTOR_DATA.zip' target=_blank>CL_PHOTODIRECTOR_DATA.zip</a> good attach file\n"
     ]
    },
    {
     "name": "stderr",
     "output_type": "stream",
     "text": [
      " 12%|█▏        | 1605/13315 [01:56<17:07, 11.39it/s]"
     ]
    },
    {
     "name": "stdout",
     "output_type": "stream",
     "text": [
      "goof<br><br>Attach File : <a href='http://csupload.cyberlink.com/upload-file/support/cs/2019-06-04/CS002026796/CL_PHOTODIRECTOR_DATA.zip' target=_blank>CL_PHOTODIRECTOR_DATA.zip</a> goof attach file\n"
     ]
    },
    {
     "name": "stderr",
     "output_type": "stream",
     "text": [
      " 15%|█▍        | 1987/13309 [01:56<08:32, 22.11it/s]"
     ]
    },
    {
     "name": "stdout",
     "output_type": "stream",
     "text": [
      "goog<br><br>Attach File : <a href='http://csupload.cyberlink.com/upload-file/support/cs/2018-08-18/CS001924907/CL_PHOTODIRECTOR_DATA.zip' target=_blank>CL_PHOTODIRECTOR_DATA.zip</a> goog attach file\n"
     ]
    },
    {
     "name": "stderr",
     "output_type": "stream",
     "text": [
      "\r",
      " 16%|█▌        | 2064/13309 [01:56<05:52, 31.94it/s]"
     ]
    },
    {
     "name": "stdout",
     "output_type": "stream",
     "text": [
      "goog<br><br>Attach File : <a href='http://csupload.cyberlink.com/upload-file/support/cs/2019-01-20/CS001982191/CL_PHOTODIRECTOR_DATA.zip' target=_blank>CL_PHOTODIRECTOR_DATA.zip</a> goog attach file\n"
     ]
    },
    {
     "name": "stderr",
     "output_type": "stream",
     "text": [
      "\r",
      " 15%|█▍        | 1984/13309 [01:56<08:44, 21.59it/s]"
     ]
    },
    {
     "name": "stdout",
     "output_type": "stream",
     "text": [
      "gooh<br><br>Attach File : <a href='http://csupload.cyberlink.com/upload-file/support/cs/2018-05-29/CS001895195/CL_PHOTODIRECTOR_DATA.zip' target=_blank>CL_PHOTODIRECTOR_DATA.zip</a> gooh attach file\n"
     ]
    },
    {
     "name": "stderr",
     "output_type": "stream",
     "text": [
      " 12%|█▏        | 1567/13309 [01:56<09:03, 21.62it/s]"
     ]
    },
    {
     "name": "stdout",
     "output_type": "stream",
     "text": [
      "goood<br><br>Attach File : <a href='http://csupload.cyberlink.com/upload-file/support/cs/2019-05-01/CS002017348/CL_PHOTODIRECTOR_DATA.zip' target=_blank>CL_PHOTODIRECTOR_DATA.zip</a> goood attach file\n",
      "goood<br><br>Attach File : <a href='http://csupload.cyberlink.com/upload-file/support/cs/2019-06-08/CS002028047/CL_PHOTODIRECTOR_DATA.zip' target=_blank>CL_PHOTODIRECTOR_DATA.zip</a> goood attach file\n"
     ]
    },
    {
     "name": "stderr",
     "output_type": "stream",
     "text": [
      " 14%|█▎        | 1807/13309 [01:56<09:57, 19.23it/s]"
     ]
    },
    {
     "name": "stdout",
     "output_type": "stream",
     "text": [
      "Gr8<br><br>Attach File : <a href='http://csupload.cyberlink.com/upload-file/support/cs/2019-03-26/CS002006560/CL_PHOTODIRECTOR_DATA.zip' target=_blank>CL_PHOTODIRECTOR_DATA.zip</a> gr attach file\n"
     ]
    },
    {
     "name": "stderr",
     "output_type": "stream",
     "text": [
      "\r",
      " 12%|█▏        | 1609/13315 [01:56<14:32, 13.41it/s]"
     ]
    },
    {
     "name": "stdout",
     "output_type": "stream",
     "text": [
      "great <br><br>Attach File : <a href='http://csupload.cyberlink.com/upload-file/support/cs/2018-09-16/CS001934455/CL_PHOTODIRECTOR_DATA.zip' target=_blank>CL_PHOTODIRECTOR_DATA.zip</a> great attach file\n"
     ]
    },
    {
     "name": "stderr",
     "output_type": "stream",
     "text": [
      " 15%|█▍        | 1990/13309 [01:56<59:34,  3.17it/s]"
     ]
    },
    {
     "name": "stdout",
     "output_type": "stream",
     "text": [
      "Great <br><br>Attach File : <a href='http://csupload.cyberlink.com/upload-file/support/cs/2019-01-13/CS001979632/CL_PHOTODIRECTOR_DATA.zip' target=_blank>CL_PHOTODIRECTOR_DATA.zip</a> great attach file\n"
     ]
    },
    {
     "name": "stderr",
     "output_type": "stream",
     "text": [
      " 15%|█▍        | 1981/13309 [02:00<13:31, 13.96it/s]"
     ]
    },
    {
     "name": "stdout",
     "output_type": "stream",
     "text": [
      "good<br><br>Attach File : <a href='http://csupload.cyberlink.com/upload-file/support/cs/2018-06-23/CS001906825/CL_PHOTODIRECTOR_DATA.zip' target=_blank>CL_PHOTODIRECTOR_DATA.zip</a> good attach file\n",
      "good<br><br>Attach File : <a href='http://csupload.cyberlink.com/upload-file/support/cs/2018-08-01/CS001919444/CL_PHOTODIRECTOR_DATA.zip' target=_blank>CL_PHOTODIRECTOR_DATA.zip</a> good attach file\n"
     ]
    },
    {
     "name": "stderr",
     "output_type": "stream",
     "text": [
      " 16%|█▌        | 2150/13309 [02:00<08:10, 22.76it/s]"
     ]
    },
    {
     "name": "stdout",
     "output_type": "stream",
     "text": [
      "good<br><br>Attach File : <a href='http://csupload.cyberlink.com/upload-file/support/cs/2018-08-11/CS001922659/CL_PHOTODIRECTOR_DATA.zip' target=_blank>CL_PHOTODIRECTOR_DATA.zip</a> good attach file\n"
     ]
    },
    {
     "name": "stderr",
     "output_type": "stream",
     "text": [
      " 14%|█▍        | 1854/13309 [02:00<15:41, 12.17it/s]"
     ]
    },
    {
     "name": "stdout",
     "output_type": "stream",
     "text": [
      "good<br><br>Attach File : <a href='http://csupload.cyberlink.com/upload-file/support/cs/2018-08-13/CS001923158/CL_PHOTODIRECTOR_DATA.zip' target=_blank>CL_PHOTODIRECTOR_DATA.zip</a> good attach file\n"
     ]
    },
    {
     "name": "stderr",
     "output_type": "stream",
     "text": [
      "\r",
      " 12%|█▏        | 1652/13309 [02:00<09:45, 19.92it/s]"
     ]
    },
    {
     "name": "stdout",
     "output_type": "stream",
     "text": [
      "good<br><br>Attach File : <a href='http://csupload.cyberlink.com/upload-file/support/cs/2018-08-18/CS001924894/CL_PHOTODIRECTOR_DATA.zip' target=_blank>CL_PHOTODIRECTOR_DATA.zip</a> good attach file\n",
      "good<br><br>Attach File : <a href='http://csupload.cyberlink.com/upload-file/support/cs/2018-08-29/CS001928511/CL_PHOTODIRECTOR_DATA.zip' target=_blank>CL_PHOTODIRECTOR_DATA.zip</a> good attach file\n"
     ]
    },
    {
     "name": "stderr",
     "output_type": "stream",
     "text": [
      " 13%|█▎        | 1674/13315 [02:00<14:27, 13.42it/s]"
     ]
    },
    {
     "name": "stdout",
     "output_type": "stream",
     "text": [
      "good<br><br>Attach File : <a href='http://csupload.cyberlink.com/upload-file/support/cs/2018-09-04/CS001930535/CL_PHOTODIRECTOR_DATA.zip' target=_blank>CL_PHOTODIRECTOR_DATA.zip</a> good attach file\n"
     ]
    },
    {
     "name": "stderr",
     "output_type": "stream",
     "text": [
      " 14%|█▍        | 1856/13309 [02:01<13:59, 13.65it/s]"
     ]
    },
    {
     "name": "stdout",
     "output_type": "stream",
     "text": [
      "Good<br><br>Attach File : <a href='http://csupload.cyberlink.com/upload-file/support/cs/2018-09-23/CS001936800/CL_PHOTODIRECTOR_DATA.zip' target=_blank>CL_PHOTODIRECTOR_DATA.zip</a> good attach file\n",
      "Good<br><br>Attach File : <a href='http://csupload.cyberlink.com/upload-file/support/cs/2018-09-24/CS001937034/CL_PHOTODIRECTOR_DATA.zip' target=_blank>CL_PHOTODIRECTOR_DATA.zip</a> good attach file\n"
     ]
    },
    {
     "name": "stderr",
     "output_type": "stream",
     "text": [
      " 14%|█▍        | 1858/13309 [02:01<12:42, 15.02it/s]"
     ]
    },
    {
     "name": "stdout",
     "output_type": "stream",
     "text": [
      "Good<br><br>Attach File : <a href='http://csupload.cyberlink.com/upload-file/support/cs/2018-10-02/CS001939912/CL_PHOTODIRECTOR_DATA.zip' target=_blank>CL_PHOTODIRECTOR_DATA.zip</a> good attach file\n"
     ]
    },
    {
     "name": "stderr",
     "output_type": "stream",
     "text": [
      "\r",
      " 12%|█▏        | 1659/13309 [02:01<07:53, 24.59it/s]"
     ]
    },
    {
     "name": "stdout",
     "output_type": "stream",
     "text": [
      "good<br><br>Attach File : <a href='http://csupload.cyberlink.com/upload-file/support/cs/2018-10-10/CS001942539/CL_PHOTODIRECTOR_DATA.zip' target=_blank>CL_PHOTODIRECTOR_DATA.zip</a> good attach file\n"
     ]
    },
    {
     "name": "stderr",
     "output_type": "stream",
     "text": [
      " 16%|█▋        | 2170/13309 [02:01<07:26, 24.93it/s]"
     ]
    },
    {
     "name": "stdout",
     "output_type": "stream",
     "text": [
      "Gudgjnccjxdfhxh<br><br>Attach File : <a href='http://csupload.cyberlink.com/upload-file/support/cs/2018-11-12/CS001953670/feedback_data.zip' target=_blank>feedback_data.zip</a> gudgjnccjxdfhxh attach file\n"
     ]
    },
    {
     "name": "stderr",
     "output_type": "stream",
     "text": [
      " 15%|█▌        | 2061/13309 [02:02<24:47,  7.56it/s]"
     ]
    },
    {
     "name": "stdout",
     "output_type": "stream",
     "text": [
      "as title a title\n"
     ]
    },
    {
     "name": "stderr",
     "output_type": "stream",
     "text": [
      " 16%|█▌        | 2108/13309 [02:03<14:39, 12.74it/s]"
     ]
    },
    {
     "name": "stdout",
     "output_type": "stream",
     "text": [
      "Vhh<br><br>Attach File : <a href='http://csupload.cyberlink.com/upload-file/support/cs/2019-03-04/CS001997183/CL_PHOTODIRECTOR_DATA.zip' target=_blank>CL_PHOTODIRECTOR_DATA.zip</a> vhh attach file\n"
     ]
    },
    {
     "name": "stderr",
     "output_type": "stream",
     "text": [
      " 17%|█▋        | 2225/13309 [02:03<07:12, 25.64it/s]"
     ]
    },
    {
     "name": "stdout",
     "output_type": "stream",
     "text": [
      "vighneshmohite8030@gmail.com <br><br>Attach File : <a href='http://csupload.cyberlink.com/upload-file/support/cs/2019-04-21/CS002014247/CL_PHOTODIRECTOR_DATA.zip' target=_blank>CL_PHOTODIRECTOR_DATA.zip</a> attach file\n"
     ]
    },
    {
     "name": "stderr",
     "output_type": "stream",
     "text": [
      " 13%|█▎        | 1728/13315 [02:04<19:22,  9.97it/s]"
     ]
    },
    {
     "name": "stdout",
     "output_type": "stream",
     "text": [
      "Home home\n"
     ]
    },
    {
     "name": "stderr",
     "output_type": "stream",
     "text": [
      " 16%|█▋        | 2167/13309 [02:07<12:08, 15.29it/s]"
     ]
    },
    {
     "name": "stdout",
     "output_type": "stream",
     "text": [
      "gchgytgrr<br><br>Attach File : <a href='http://csupload.cyberlink.com/upload-file/support/cs/2019-03-16/CS002001280/CL_PHOTODIRECTOR_DATA.zip' target=_blank>CL_PHOTODIRECTOR_DATA.zip</a> gchgytgrr attach file\n"
     ]
    },
    {
     "name": "stderr",
     "output_type": "stream",
     "text": [
      " 15%|█▍        | 1960/13309 [02:07<17:04, 11.07it/s]"
     ]
    },
    {
     "name": "stdout",
     "output_type": "stream",
     "text": [
      "gdg<br><br>Attach File : <a href='http://csupload.cyberlink.com/upload-file/support/cs/2019-04-18/CS002013454/CL_PHOTODIRECTOR_DATA.zip' target=_blank>CL_PHOTODIRECTOR_DATA.zip</a> gdg attach file\n"
     ]
    },
    {
     "name": "stderr",
     "output_type": "stream",
     "text": [
      "\r",
      " 13%|█▎        | 1765/13315 [02:07<11:04, 17.37it/s]"
     ]
    },
    {
     "name": "stdout",
     "output_type": "stream",
     "text": [
      "gf<br><br>Attach File : <a href='http://csupload.cyberlink.com/upload-file/support/cs/2019-01-06/CS001977299/CL_PHOTODIRECTOR_DATA.zip' target=_blank>CL_PHOTODIRECTOR_DATA.zip</a> gf attach file\n"
     ]
    },
    {
     "name": "stderr",
     "output_type": "stream",
     "text": [
      " 16%|█▌        | 2134/13309 [02:07<13:56, 13.36it/s]"
     ]
    },
    {
     "name": "stdout",
     "output_type": "stream",
     "text": [
      "Cancel <br><br>Attach File : <a href='http://csupload.cyberlink.com/upload-file/support/cs/2018-09-11/CS001932797/feedback_data.zip' target=_blank>feedback_data.zip</a> cancel attach file\n"
     ]
    },
    {
     "name": "stderr",
     "output_type": "stream",
     "text": [
      " 16%|█▋        | 2166/13309 [02:09<10:22, 17.89it/s]"
     ]
    },
    {
     "name": "stdout",
     "output_type": "stream",
     "text": [
      "frf<br><br>Attach File : <a href='http://csupload.cyberlink.com/upload-file/support/cs/2019-01-25/CS001983824/CL_PHOTODIRECTOR_DATA.zip' target=_blank>CL_PHOTODIRECTOR_DATA.zip</a> frf attach file\n"
     ]
    },
    {
     "name": "stderr",
     "output_type": "stream",
     "text": [
      " 15%|█▍        | 1983/13309 [02:09<13:56, 13.54it/s]"
     ]
    },
    {
     "name": "stdout",
     "output_type": "stream",
     "text": [
      "g<br><br>Attach File : <a href='http://csupload.cyberlink.com/upload-file/support/cs/2018-10-30/CS001949259/CL_PHOTODIRECTOR_DATA.zip' target=_blank>CL_PHOTODIRECTOR_DATA.zip</a> g attach file\n"
     ]
    },
    {
     "name": "stderr",
     "output_type": "stream",
     "text": [
      " 16%|█▋        | 2183/13309 [02:10<10:59, 16.87it/s]"
     ]
    },
    {
     "name": "stdout",
     "output_type": "stream",
     "text": [
      "30 gig storage gig storage\n"
     ]
    },
    {
     "name": "stderr",
     "output_type": "stream",
     "text": [
      " 14%|█▍        | 1843/13309 [02:11<13:21, 14.31it/s]"
     ]
    },
    {
     "name": "stdout",
     "output_type": "stream",
     "text": [
      "Same as Subject. same a\n"
     ]
    },
    {
     "name": "stderr",
     "output_type": "stream",
     "text": [
      " 14%|█▍        | 1847/13309 [02:11<12:02, 15.86it/s]"
     ]
    },
    {
     "name": "stdout",
     "output_type": "stream",
     "text": [
      "amazing<br><br>Attach File : <a href='http://csupload.cyberlink.com/upload-file/support/cs/2019-05-14/CS002021079/CL_PHOTODIRECTOR_DATA.zip' target=_blank>CL_PHOTODIRECTOR_DATA.zip</a> amaze attach file\n"
     ]
    },
    {
     "name": "stderr",
     "output_type": "stream",
     "text": [
      " 17%|█▋        | 2246/13309 [02:12<11:25, 16.14it/s]"
     ]
    },
    {
     "name": "stdout",
     "output_type": "stream",
     "text": [
      "anteshyadav8924530@gmail.com<br><br>Attach File : <a href='http://csupload.cyberlink.com/upload-file/support/cs/2019-01-27/CS001984424/CL_PHOTODIRECTOR_DATA.zip' target=_blank>CL_PHOTODIRECTOR_DATA.zip</a> attach file\n"
     ]
    },
    {
     "name": "stderr",
     "output_type": "stream",
     "text": [
      " 17%|█▋        | 2263/13309 [02:12<12:59, 14.18it/s]"
     ]
    },
    {
     "name": "stdout",
     "output_type": "stream",
     "text": [
      "﻿<html><div dir=\"auto\"> Sema mache</div>   </html><br/>﻿ sema mache\n"
     ]
    },
    {
     "name": "stderr",
     "output_type": "stream",
     "text": [
      " 14%|█▍        | 1847/13315 [02:13<11:21, 16.82it/s]"
     ]
    },
    {
     "name": "stdout",
     "output_type": "stream",
     "text": [
      "Mr<br><br>Attach File : <a href='http://csupload.cyberlink.com/upload-file/support/cs/2018-07-06/CS001910897/DeviceInfo.txt' target=_blank>DeviceInfo.txt</a> mr attach file\n"
     ]
    },
    {
     "name": "stderr",
     "output_type": "stream",
     "text": [
      "\r",
      " 14%|█▍        | 1868/13309 [02:13<10:49, 17.61it/s]"
     ]
    },
    {
     "name": "stdout",
     "output_type": "stream",
     "text": [
      "Mr<br><br>Attach File : <a href='http://csupload.cyberlink.com/upload-file/support/cs/2018-07-06/CS001910899/DeviceInfo.txt' target=_blank>DeviceInfo.txt</a> mr attach file\n"
     ]
    },
    {
     "name": "stderr",
     "output_type": "stream",
     "text": [
      " 17%|█▋        | 2284/13309 [02:13<08:47, 20.90it/s]"
     ]
    },
    {
     "name": "stdout",
     "output_type": "stream",
     "text": [
      "https://m.facebook.com/parottasooriofficialpage/photos/a.174455186424019.1073741827.174453693090835/237198126816391/?type=3&source=48<br><br>Attach File : <a href='http://csupload.cyberlink.com/upload-file/support/cs/2018-03-26/CS001872781/CL_PHOTODIRECTOR_DATA.zip' target=_blank>CL_PHOTODIRECTOR_DATA.zip</a> attach file\n"
     ]
    },
    {
     "name": "stderr",
     "output_type": "stream",
     "text": [
      "\r",
      " 17%|█▋        | 2243/13309 [02:14<07:31, 24.52it/s]"
     ]
    },
    {
     "name": "stdout",
     "output_type": "stream",
     "text": [
      "https://www.facebook.com/SANAGNEWS/videos/589278421441273/?app=fbl<br><br>Attach File : <a href='http://csupload.cyberlink.com/upload-file/support/cs/2019-01-10/CS001978647/CL_PHOTODIRECTOR_DATA.zip' target=_blank>CL_PHOTODIRECTOR_DATA.zip</a> attach file\n"
     ]
    },
    {
     "name": "stderr",
     "output_type": "stream",
     "text": [
      "\r",
      " 17%|█▋        | 2282/13309 [02:13<08:57, 20.52it/s]"
     ]
    },
    {
     "name": "stdout",
     "output_type": "stream",
     "text": [
      "https://www.instagram.com/p/BtSH5KcDjzo/?utm_source=ig_share_sheet&igshid=1oqpojsnm8fu5<br><br>Attach File : <a href='http://csupload.cyberlink.com/upload-file/support/cs/2019-04-28/CS002016330/CL_PHOTODIRECTOR_DATA.zip' target=_blank>CL_PHOTODIRECTOR_DATA.zip</a> attach file\n"
     ]
    },
    {
     "name": "stderr",
     "output_type": "stream",
     "text": [
      " 14%|█▍        | 1884/13309 [02:13<11:39, 16.34it/s]"
     ]
    },
    {
     "name": "stdout",
     "output_type": "stream",
     "text": [
      "hyy<br><br>Attach File : <a href='http://csupload.cyberlink.com/upload-file/support/cs/2018-10-13/CS001943599/CL_PHOTODIRECTOR_DATA.zip' target=_blank>CL_PHOTODIRECTOR_DATA.zip</a> hyy attach file\n"
     ]
    },
    {
     "name": "stderr",
     "output_type": "stream",
     "text": [
      " 15%|█▌        | 2058/13309 [02:14<09:28, 19.80it/s]"
     ]
    },
    {
     "name": "stdout",
     "output_type": "stream",
     "text": [
      "Job  job\n"
     ]
    },
    {
     "name": "stderr",
     "output_type": "stream",
     "text": [
      " 17%|█▋        | 2290/13309 [02:14<08:32, 21.52it/s]"
     ]
    },
    {
     "name": "stdout",
     "output_type": "stream",
     "text": [
      "Johan Molander phone  +46-76-118 2151 johan molander phone\n"
     ]
    },
    {
     "name": "stderr",
     "output_type": "stream",
     "text": [
      " 17%|█▋        | 2285/13309 [02:14<10:22, 17.70it/s]"
     ]
    },
    {
     "name": "stdout",
     "output_type": "stream",
     "text": [
      "k k\n"
     ]
    },
    {
     "name": "stderr",
     "output_type": "stream",
     "text": [
      " 17%|█▋        | 2255/13309 [02:14<05:49, 31.59it/s]"
     ]
    },
    {
     "name": "stdout",
     "output_type": "stream",
     "text": [
      "Kedvelem a softver! kedvelem a softver\n",
      "klucz licencyjny klucz licencyjny\n"
     ]
    },
    {
     "name": "stderr",
     "output_type": "stream",
     "text": [
      "\r",
      " 19%|█▉        | 2509/13309 [02:14<05:13, 34.46it/s]"
     ]
    },
    {
     "name": "stdout",
     "output_type": "stream",
     "text": [
      "mantap mantap\n"
     ]
    },
    {
     "name": "stderr",
     "output_type": "stream",
     "text": [
      " 14%|█▍        | 1884/13315 [02:15<16:24, 11.61it/s]"
     ]
    },
    {
     "name": "stdout",
     "output_type": "stream",
     "text": [
      "﻿<html><p dir=\"ltr\"> CT scan-</p>   </html><br/>﻿ ct scan\n"
     ]
    },
    {
     "name": "stderr",
     "output_type": "stream",
     "text": [
      " 16%|█▌        | 2082/13309 [02:15<10:45, 17.39it/s]"
     ]
    },
    {
     "name": "stdout",
     "output_type": "stream",
     "text": [
      "Transfer License Owner transfer license owner\n"
     ]
    },
    {
     "name": "stderr",
     "output_type": "stream",
     "text": [
      " 14%|█▍        | 1928/13309 [02:16<09:08, 20.74it/s]"
     ]
    },
    {
     "name": "stdout",
     "output_type": "stream",
     "text": [
      "Subal<br><br>Attach File : <a href='http://csupload.cyberlink.com/upload-file/support/cs/2018-07-29/CS001918470/DeviceInfo.txt' target=_blank>DeviceInfo.txt</a> subal attach file\n"
     ]
    },
    {
     "name": "stderr",
     "output_type": "stream",
     "text": [
      " 19%|█▉        | 2553/13309 [02:16<07:38, 23.47it/s]"
     ]
    },
    {
     "name": "stdout",
     "output_type": "stream",
     "text": [
      "thanks <br><br>Attach File : <a href='http://csupload.cyberlink.com/upload-file/support/cs/2019-03-30/CS002008023/CL_LOGCAT_DATA.zip' target=_blank>CL_LOGCAT_DATA.zip</a> thanks attach file\n"
     ]
    },
    {
     "name": "stderr",
     "output_type": "stream",
     "text": [
      " 17%|█▋        | 2304/13309 [02:17<09:40, 18.97it/s]"
     ]
    },
    {
     "name": "stdout",
     "output_type": "stream",
     "text": [
      "﻿<html><div dir=\"auto\"> Good apps</div>   </html><br/>﻿ good apps\n"
     ]
    },
    {
     "name": "stderr",
     "output_type": "stream",
     "text": [
      " 18%|█▊        | 2336/13309 [02:17<11:37, 15.73it/s]"
     ]
    },
    {
     "name": "stdout",
     "output_type": "stream",
     "text": [
      "﻿<html><div dir=\"auto\"> Good</div>   </html><br/>﻿ good\n"
     ]
    },
    {
     "name": "stderr",
     "output_type": "stream",
     "text": [
      " 16%|█▌        | 2137/13309 [02:19<14:59, 12.43it/s]"
     ]
    },
    {
     "name": "stdout",
     "output_type": "stream",
     "text": [
      "powerdirector 15 download link powerdirector download link\n"
     ]
    },
    {
     "name": "stderr",
     "output_type": "stream",
     "text": [
      " 18%|█▊        | 2370/13309 [02:19<11:39, 15.63it/s]"
     ]
    },
    {
     "name": "stdout",
     "output_type": "stream",
     "text": [
      "activate issue activate issue\n"
     ]
    },
    {
     "name": "stderr",
     "output_type": "stream",
     "text": [
      " 15%|█▍        | 1985/13309 [02:20<13:13, 14.26it/s]"
     ]
    },
    {
     "name": "stdout",
     "output_type": "stream",
     "text": [
      "re download re download\n"
     ]
    },
    {
     "name": "stderr",
     "output_type": "stream",
     "text": [
      " 15%|█▌        | 2003/13309 [02:20<08:22, 22.51it/s]"
     ]
    },
    {
     "name": "stdout",
     "output_type": "stream",
     "text": [
      "Re-download PowerDirector 15. re download powerdirector\n"
     ]
    },
    {
     "name": "stderr",
     "output_type": "stream",
     "text": [
      " 15%|█▌        | 2041/13315 [02:22<09:13, 20.36it/s]"
     ]
    },
    {
     "name": "stdout",
     "output_type": "stream",
     "text": [
      "Reinstall the software. reinstall the\n"
     ]
    },
    {
     "name": "stderr",
     "output_type": "stream",
     "text": [
      " 15%|█▌        | 2045/13309 [02:22<07:54, 23.76it/s]"
     ]
    },
    {
     "name": "stdout",
     "output_type": "stream",
     "text": [
      "reinstalling powerdirector 15 reinstall powerdirector\n"
     ]
    },
    {
     "name": "stderr",
     "output_type": "stream",
     "text": [
      " 20%|██        | 2678/13309 [02:23<05:59, 29.55it/s]"
     ]
    },
    {
     "name": "stdout",
     "output_type": "stream",
     "text": [
      "Says download unavailable say download unavailable\n"
     ]
    },
    {
     "name": "stderr",
     "output_type": "stream",
     "text": [
      " 19%|█▉        | 2499/13309 [02:25<13:19, 13.52it/s]"
     ]
    },
    {
     "name": "stdout",
     "output_type": "stream",
     "text": [
      "Re-download cyberlinkdvd 18 re download cyberlinkdvd\n"
     ]
    },
    {
     "name": "stderr",
     "output_type": "stream",
     "text": [
      " 18%|█▊        | 2431/13309 [02:25<12:42, 14.26it/s]"
     ]
    },
    {
     "name": "stdout",
     "output_type": "stream",
     "text": [
      "djdj<br><br>Attach File : <a href='http://csupload.cyberlink.com/upload-file/support/cs/2018-01-08/CS001842017/DeviceInfo.txt' target=_blank>DeviceInfo.txt</a> djdj attach file\n"
     ]
    },
    {
     "name": "stderr",
     "output_type": "stream",
     "text": [
      " 18%|█▊        | 2414/13309 [02:26<08:54, 20.37it/s]"
     ]
    },
    {
     "name": "stdout",
     "output_type": "stream",
     "text": [
      "[CL testing] question cl test question\n"
     ]
    },
    {
     "name": "stderr",
     "output_type": "stream",
     "text": [
      " 18%|█▊        | 2456/13309 [02:26<08:38, 20.93it/s]"
     ]
    },
    {
     "name": "stdout",
     "output_type": "stream",
     "text": [
      "[CL Testing] test cl test test\n"
     ]
    },
    {
     "name": "stderr",
     "output_type": "stream",
     "text": [
      " 19%|█▉        | 2517/13309 [02:26<16:27, 10.93it/s]"
     ]
    },
    {
     "name": "stdout",
     "output_type": "stream",
     "text": [
      "[CL Testing] test cl test test\n"
     ]
    },
    {
     "name": "stderr",
     "output_type": "stream",
     "text": [
      "\r",
      " 18%|█▊        | 2417/13309 [02:26<08:37, 21.05it/s]"
     ]
    },
    {
     "name": "stdout",
     "output_type": "stream",
     "text": [
      "[CL Testing] test cl test test\n"
     ]
    },
    {
     "name": "stderr",
     "output_type": "stream",
     "text": [
      " 18%|█▊        | 2331/13309 [02:33<11:21, 16.11it/s]"
     ]
    },
    {
     "name": "stdout",
     "output_type": "stream",
     "text": [
      "need registration key need registration key\n"
     ]
    },
    {
     "name": "stderr",
     "output_type": "stream",
     "text": [
      " 20%|█▉        | 2615/13309 [02:33<14:56, 11.93it/s]"
     ]
    },
    {
     "name": "stdout",
     "output_type": "stream",
     "text": [
      "hello <br><br>Attach File : <a href='http://csupload.cyberlink.com/upload-file/support/cs/2019-06-09/CS002028110/CL_PHOTODIRECTOR_DATA.zip' target=_blank>CL_PHOTODIRECTOR_DATA.zip</a> hello attach file\n"
     ]
    },
    {
     "name": "stderr",
     "output_type": "stream",
     "text": [
      " 17%|█▋        | 2204/13315 [02:34<12:13, 15.14it/s]"
     ]
    },
    {
     "name": "stdout",
     "output_type": "stream",
     "text": [
      "instal aplikai instal aplikai\n"
     ]
    },
    {
     "name": "stderr",
     "output_type": "stream",
     "text": [
      " 20%|█▉        | 2628/13309 [02:35<11:04, 16.07it/s]"
     ]
    },
    {
     "name": "stdout",
     "output_type": "stream",
     "text": [
      "ys<br><br>Attach File : <a href='http://csupload.cyberlink.com/upload-file/support/cs/2018-09-15/CS001934392/CL_PHOTODIRECTOR_DATA.zip' target=_blank>CL_PHOTODIRECTOR_DATA.zip</a> y attach file\n"
     ]
    },
    {
     "name": "stderr",
     "output_type": "stream",
     "text": [
      " 20%|█▉        | 2649/13309 [02:35<09:43, 18.28it/s]"
     ]
    },
    {
     "name": "stdout",
     "output_type": "stream",
     "text": [
      "Hfkfjf<br><br>Attach File : <a href='http://csupload.cyberlink.com/upload-file/support/cs/2018-11-12/CS001953615/feedback_data.zip' target=_blank>feedback_data.zip</a> hfkfjf attach file\n"
     ]
    },
    {
     "name": "stderr",
     "output_type": "stream",
     "text": [
      " 17%|█▋        | 2229/13315 [02:35<08:54, 20.72it/s]"
     ]
    },
    {
     "name": "stdout",
     "output_type": "stream",
     "text": [
      "I want effect i want effect\n",
      "hh<br><br>Attach File : <a href='http://csupload.cyberlink.com/upload-file/support/cs/2019-04-20/CS002014124/CL_LOGCAT_DATA.zip' target=_blank>CL_LOGCAT_DATA.zip</a> hh attach file\n"
     ]
    },
    {
     "name": "stderr",
     "output_type": "stream",
     "text": [
      " 20%|█▉        | 2658/13309 [02:35<09:32, 18.61it/s]"
     ]
    },
    {
     "name": "stdout",
     "output_type": "stream",
     "text": [
      "I lost my program. i lose my\n"
     ]
    },
    {
     "name": "stderr",
     "output_type": "stream",
     "text": [
      " 17%|█▋        | 2273/13315 [02:38<14:40, 12.53it/s]"
     ]
    },
    {
     "name": "stdout",
     "output_type": "stream",
     "text": [
      "Test track test track\n"
     ]
    },
    {
     "name": "stderr",
     "output_type": "stream",
     "text": [
      " 22%|██▏       | 2953/13309 [02:39<06:35, 26.16it/s]"
     ]
    },
    {
     "name": "stdout",
     "output_type": "stream",
     "text": [
      "kdjdyyhcchc kdjdyyhcchc\n"
     ]
    },
    {
     "name": "stderr",
     "output_type": "stream",
     "text": [
      " 20%|██        | 2695/13309 [02:39<10:48, 16.36it/s]"
     ]
    },
    {
     "name": "stdout",
     "output_type": "stream",
     "text": [
      "kese chala ye kese chala ye\n"
     ]
    },
    {
     "name": "stderr",
     "output_type": "stream",
     "text": [
      " 20%|██        | 2726/13309 [02:39<07:47, 22.64it/s]"
     ]
    },
    {
     "name": "stdout",
     "output_type": "stream",
     "text": [
      "KEY NUMBER key number\n"
     ]
    },
    {
     "name": "stderr",
     "output_type": "stream",
     "text": [
      " 22%|██▏       | 2957/13309 [02:39<10:26, 16.53it/s]"
     ]
    },
    {
     "name": "stdout",
     "output_type": "stream",
     "text": [
      "leaning lean\n"
     ]
    },
    {
     "name": "stderr",
     "output_type": "stream",
     "text": [
      " 22%|██▏       | 2960/13309 [02:39<10:17, 16.76it/s]"
     ]
    },
    {
     "name": "stdout",
     "output_type": "stream",
     "text": [
      "link   link\n"
     ]
    },
    {
     "name": "stderr",
     "output_type": "stream",
     "text": [
      "\r",
      " 21%|██        | 2729/13309 [02:39<11:20, 15.56it/s]"
     ]
    },
    {
     "name": "stdout",
     "output_type": "stream",
     "text": [
      "ankit<br><br>Attach File : <a href='http://csupload.cyberlink.com/upload-file/support/cs/2019-07-06/CS002035620/DeviceInfo.txt' target=_blank>DeviceInfo.txt</a> ankit attach file\n"
     ]
    },
    {
     "name": "stderr",
     "output_type": "stream",
     "text": [
      " 21%|██        | 2739/13309 [02:40<09:01, 19.51it/s]"
     ]
    },
    {
     "name": "stdout",
     "output_type": "stream",
     "text": [
      "lost product key lose product key\n"
     ]
    },
    {
     "name": "stderr",
     "output_type": "stream",
     "text": [
      " 20%|█▉        | 2633/13309 [02:40<12:51, 13.84it/s]"
     ]
    },
    {
     "name": "stdout",
     "output_type": "stream",
     "text": [
      "make video make video\n"
     ]
    },
    {
     "name": "stderr",
     "output_type": "stream",
     "text": [
      " 18%|█▊        | 2434/13309 [02:40<12:56, 14.00it/s]"
     ]
    },
    {
     "name": "stdout",
     "output_type": "stream",
     "text": [
      "More Stuff more stuff\n"
     ]
    },
    {
     "name": "stderr",
     "output_type": "stream",
     "text": [
      " 20%|█▉        | 2646/13309 [02:41<12:41, 14.00it/s]"
     ]
    },
    {
     "name": "stdout",
     "output_type": "stream",
     "text": [
      "﻿<html><div dir=\"auto\"> Shilon potphode@123gmail.Com</div>   </html><br/>﻿ shilon\n"
     ]
    },
    {
     "name": "stderr",
     "output_type": "stream",
     "text": [
      " 17%|█▋        | 2314/13315 [02:41<15:37, 11.74it/s]"
     ]
    },
    {
     "name": "stdout",
     "output_type": "stream",
     "text": [
      "good<br><br>Attach File : <a href='http://csupload.cyberlink.com/upload-file/support/cs/2019-04-05/CS002009711/CL_PHOTODIRECTOR_DATA.zip' target=_blank>CL_PHOTODIRECTOR_DATA.zip</a> good attach file\n",
      "good<br><br>Attach File : <a href='http://csupload.cyberlink.com/upload-file/support/cs/2019-04-06/CS002009896/CL_PHOTODIRECTOR_DATA.zip' target=_blank>CL_PHOTODIRECTOR_DATA.zip</a> good attach file\n"
     ]
    },
    {
     "name": "stderr",
     "output_type": "stream",
     "text": [
      " 20%|█▉        | 2658/13309 [02:42<12:48, 13.87it/s]"
     ]
    },
    {
     "name": "stdout",
     "output_type": "stream",
     "text": [
      "good<br><br>Attach File : <a href='http://csupload.cyberlink.com/upload-file/support/cs/2019-04-23/CS002014842/CL_PHOTODIRECTOR_DATA.zip' target=_blank>CL_PHOTODIRECTOR_DATA.zip</a> good attach file\n",
      "good<br><br>Attach File : <a href='http://csupload.cyberlink.com/upload-file/support/cs/2019-04-28/CS002016336/CL_PHOTODIRECTOR_DATA.zip' target=_blank>CL_PHOTODIRECTOR_DATA.zip</a> good attach file\n"
     ]
    },
    {
     "name": "stderr",
     "output_type": "stream",
     "text": [
      "\r",
      " 18%|█▊        | 2450/13309 [02:42<15:17, 11.84it/s]"
     ]
    },
    {
     "name": "stdout",
     "output_type": "stream",
     "text": [
      "Good<br><br>Attach File : <a href='http://csupload.cyberlink.com/upload-file/support/cs/2019-04-30/CS002016977/CL_PHOTODIRECTOR_DATA.zip' target=_blank>CL_PHOTODIRECTOR_DATA.zip</a> good attach file\n"
     ]
    },
    {
     "name": "stderr",
     "output_type": "stream",
     "text": [
      " 18%|█▊        | 2351/13309 [02:42<08:40, 21.05it/s]"
     ]
    },
    {
     "name": "stdout",
     "output_type": "stream",
     "text": [
      "good<br><br>Attach File : <a href='http://csupload.cyberlink.com/upload-file/support/cs/2019-05-01/CS002017509/CL_PHOTODIRECTOR_DATA.zip' target=_blank>CL_PHOTODIRECTOR_DATA.zip</a> good attach file\n"
     ]
    },
    {
     "name": "stderr",
     "output_type": "stream",
     "text": [
      " 23%|██▎       | 3023/13309 [02:42<05:09, 33.24it/s]"
     ]
    },
    {
     "name": "stdout",
     "output_type": "stream",
     "text": [
      "good<br><br>Attach File : <a href='http://csupload.cyberlink.com/upload-file/support/cs/2019-05-03/CS002018078/CL_PHOTODIRECTOR_DATA.zip' target=_blank>CL_PHOTODIRECTOR_DATA.zip</a> good attach file\n"
     ]
    },
    {
     "name": "stderr",
     "output_type": "stream",
     "text": [
      "\r",
      " 21%|██        | 2773/13309 [02:42<08:41, 20.19it/s]"
     ]
    },
    {
     "name": "stdout",
     "output_type": "stream",
     "text": [
      "good<br><br>Attach File : <a href='http://csupload.cyberlink.com/upload-file/support/cs/2019-05-03/CS002018119/CL_PHOTODIRECTOR_DATA.zip' target=_blank>CL_PHOTODIRECTOR_DATA.zip</a> good attach file\n",
      "good<br><br>Attach File : <a href='http://csupload.cyberlink.com/upload-file/support/cs/2019-05-05/CS002018668/CL_PHOTODIRECTOR_DATA.zip' target=_blank>CL_PHOTODIRECTOR_DATA.zip</a> good attach file\n"
     ]
    },
    {
     "name": "stderr",
     "output_type": "stream",
     "text": [
      " 21%|██        | 2742/13309 [02:42<10:42, 16.45it/s]"
     ]
    },
    {
     "name": "stdout",
     "output_type": "stream",
     "text": [
      "good<br><br>Attach File : <a href='http://csupload.cyberlink.com/upload-file/support/cs/2019-05-10/CS002019961/CL_PHOTODIRECTOR_DATA.zip' target=_blank>CL_PHOTODIRECTOR_DATA.zip</a> good attach file\n"
     ]
    },
    {
     "name": "stderr",
     "output_type": "stream",
     "text": [
      " 18%|█▊        | 2354/13309 [02:42<10:04, 18.12it/s]"
     ]
    },
    {
     "name": "stdout",
     "output_type": "stream",
     "text": [
      "good<br><br>Attach File : <a href='http://csupload.cyberlink.com/upload-file/support/cs/2019-05-19/CS002022369/CL_PHOTODIRECTOR_DATA.zip' target=_blank>CL_PHOTODIRECTOR_DATA.zip</a> good attach file\n"
     ]
    },
    {
     "name": "stderr",
     "output_type": "stream",
     "text": [
      " 21%|██        | 2776/13309 [02:42<09:00, 19.48it/s]"
     ]
    },
    {
     "name": "stdout",
     "output_type": "stream",
     "text": [
      "good<br><br>Attach File : <a href='http://csupload.cyberlink.com/upload-file/support/cs/2019-05-19/CS002022430/CL_PHOTODIRECTOR_DATA.zip' target=_blank>CL_PHOTODIRECTOR_DATA.zip</a> good attach file\n"
     ]
    },
    {
     "name": "stderr",
     "output_type": "stream",
     "text": [
      " 21%|██        | 2745/13309 [02:42<09:41, 18.17it/s]"
     ]
    },
    {
     "name": "stdout",
     "output_type": "stream",
     "text": [
      "good<br><br>Attach File : <a href='http://csupload.cyberlink.com/upload-file/support/cs/2019-05-29/CS002025290/CL_PHOTODIRECTOR_DATA.zip' target=_blank>CL_PHOTODIRECTOR_DATA.zip</a> good attach file\n"
     ]
    },
    {
     "name": "stderr",
     "output_type": "stream",
     "text": [
      " 21%|██        | 2776/13309 [02:42<10:36, 16.54it/s]"
     ]
    },
    {
     "name": "stdout",
     "output_type": "stream",
     "text": [
      "good<br><br>Attach File : <a href='http://csupload.cyberlink.com/upload-file/support/cs/2019-06-04/CS002026954/CL_PHOTODIRECTOR_DATA.zip' target=_blank>CL_PHOTODIRECTOR_DATA.zip</a> good attach file\n"
     ]
    },
    {
     "name": "stderr",
     "output_type": "stream",
     "text": [
      " 21%|██        | 2778/13309 [02:42<09:01, 19.46it/s]"
     ]
    },
    {
     "name": "stdout",
     "output_type": "stream",
     "text": [
      "good<br><br>Attach File : <a href='http://csupload.cyberlink.com/upload-file/support/cs/2019-06-05/CS002027212/CL_PHOTODIRECTOR_DATA.zip' target=_blank>CL_PHOTODIRECTOR_DATA.zip</a> good attach file\n"
     ]
    },
    {
     "name": "stderr",
     "output_type": "stream",
     "text": [
      " 21%|██▏       | 2838/13309 [02:46<18:36,  9.38it/s]"
     ]
    },
    {
     "name": "stdout",
     "output_type": "stream",
     "text": [
      "good<br><br>Attach File : <a href='http://csupload.cyberlink.com/upload-file/support/cs/2018-01-19/CS001846726/CL_PHOTODIRECTOR_DATA.zip' target=_blank>CL_PHOTODIRECTOR_DATA.zip</a> good attach file\n"
     ]
    },
    {
     "name": "stderr",
     "output_type": "stream",
     "text": [
      "\r",
      " 18%|█▊        | 2428/13309 [02:47<13:14, 13.69it/s]"
     ]
    },
    {
     "name": "stdout",
     "output_type": "stream",
     "text": [
      "good<br><br>Attach File : <a href='http://csupload.cyberlink.com/upload-file/support/cs/2018-04-06/CS001876314/CL_PHOTODIRECTOR_DATA.zip' target=_blank>CL_PHOTODIRECTOR_DATA.zip</a> good attach file\n"
     ]
    },
    {
     "name": "stderr",
     "output_type": "stream",
     "text": [
      " 21%|██        | 2739/13309 [02:47<11:01, 15.98it/s]"
     ]
    },
    {
     "name": "stdout",
     "output_type": "stream",
     "text": [
      "good<br><br>Attach File : <a href='http://csupload.cyberlink.com/upload-file/support/cs/2018-05-19/CS001891628/CL_PHOTODIRECTOR_DATA.zip' target=_blank>CL_PHOTODIRECTOR_DATA.zip</a> good attach file\n"
     ]
    },
    {
     "name": "stderr",
     "output_type": "stream",
     "text": [
      " 19%|█▉        | 2527/13309 [02:47<19:39,  9.14it/s]"
     ]
    },
    {
     "name": "stdout",
     "output_type": "stream",
     "text": [
      "Fkrbitv<br><br>Attach File : <a href='http://csupload.cyberlink.com/upload-file/support/cs/2018-11-12/CS001953665/feedback_data.zip' target=_blank>feedback_data.zip</a> fkrbitv attach file\n"
     ]
    },
    {
     "name": "stderr",
     "output_type": "stream",
     "text": [
      " 21%|██▏       | 2847/13309 [02:47<08:48, 19.78it/s]"
     ]
    },
    {
     "name": "stdout",
     "output_type": "stream",
     "text": [
      "Follow-Up CS001931198. follow up\n"
     ]
    },
    {
     "name": "stderr",
     "output_type": "stream",
     "text": [
      " 21%|██▏       | 2841/13309 [02:47<11:38, 15.00it/s]"
     ]
    },
    {
     "name": "stdout",
     "output_type": "stream",
     "text": [
      "Fvgguv<br><br>Attach File : <a href='http://csupload.cyberlink.com/upload-file/support/cs/2018-11-11/CS001953526/feedback_data.zip' target=_blank>feedback_data.zip</a> fvgguv attach file\n"
     ]
    },
    {
     "name": "stderr",
     "output_type": "stream",
     "text": [
      " 24%|██▎       | 3137/13309 [02:47<06:29, 26.09it/s]"
     ]
    },
    {
     "name": "stdout",
     "output_type": "stream",
     "text": [
      "I need this i need this\n"
     ]
    },
    {
     "name": "stderr",
     "output_type": "stream",
     "text": [
      " 24%|██▎       | 3145/13309 [02:48<06:52, 24.67it/s]"
     ]
    },
    {
     "name": "stdout",
     "output_type": "stream",
     "text": [
      "﻿<html><div dir=\"auto\"> pls contact me 7004218225</div>   </html><br/>﻿ pls contact me\n"
     ]
    },
    {
     "name": "stderr",
     "output_type": "stream",
     "text": [
      " 19%|█▊        | 2474/13315 [02:51<12:34, 14.37it/s]"
     ]
    },
    {
     "name": "stdout",
     "output_type": "stream",
     "text": [
      "fhvc<br><br>Attach File : <a href='http://csupload.cyberlink.com/upload-file/support/cs/2019-02-17/CS001991206/CL_PHOTODIRECTOR_DATA.zip' target=_blank>CL_PHOTODIRECTOR_DATA.zip</a> fhvc attach file\n"
     ]
    },
    {
     "name": "stderr",
     "output_type": "stream",
     "text": [
      " 21%|██▏       | 2837/13309 [02:52<08:25, 20.73it/s]"
     ]
    },
    {
     "name": "stdout",
     "output_type": "stream",
     "text": [
      "best <br><br>Attach File : <a href='http://csupload.cyberlink.com/upload-file/support/cs/2018-11-01/CS001950065/CL_LOGCAT_DATA.zip' target=_blank>CL_LOGCAT_DATA.zip</a> best attach file\n"
     ]
    },
    {
     "name": "stderr",
     "output_type": "stream",
     "text": [
      " 22%|██▏       | 2865/13309 [02:54<07:30, 23.17it/s]"
     ]
    },
    {
     "name": "stdout",
     "output_type": "stream",
     "text": [
      "Unlock V.I.P <br><br>Attach File : <a href='http://csupload.cyberlink.com/upload-file/support/cs/2019-05-12/CS002020617/CL_LOGCAT_DATA.zip' target=_blank>CL_LOGCAT_DATA.zip</a> unlock attach file\n"
     ]
    },
    {
     "name": "stderr",
     "output_type": "stream",
     "text": [
      " 19%|█▉        | 2519/13315 [02:54<07:52, 22.87it/s]"
     ]
    },
    {
     "name": "stdout",
     "output_type": "stream",
     "text": [
      "v<br><br>Attach File : <a href='http://csupload.cyberlink.com/upload-file/support/cs/2019-01-16/CS001980983/CL_LOGCAT_DATA.zip' target=_blank>CL_LOGCAT_DATA.zip</a> v attach file\n"
     ]
    },
    {
     "name": "stderr",
     "output_type": "stream",
     "text": [
      "\r",
      " 19%|█▉        | 2550/13309 [02:54<12:55, 13.88it/s]"
     ]
    },
    {
     "name": "stdout",
     "output_type": "stream",
     "text": [
      "v<br><br>Attach File : <a href='http://csupload.cyberlink.com/upload-file/support/cs/2019-02-01/CS001986116/CL_LOGCAT_DATA.zip' target=_blank>CL_LOGCAT_DATA.zip</a> v attach file\n"
     ]
    },
    {
     "name": "stderr",
     "output_type": "stream",
     "text": [
      " 20%|██        | 2667/13309 [02:54<06:45, 26.27it/s]"
     ]
    },
    {
     "name": "stdout",
     "output_type": "stream",
     "text": [
      "althaf<br><br>Attach File : <a href='http://csupload.cyberlink.com/upload-file/support/cs/2018-07-19/CS001915363/CL_PHOTODIRECTOR_DATA.zip' target=_blank>CL_PHOTODIRECTOR_DATA.zip</a> althaf attach file\n"
     ]
    },
    {
     "name": "stderr",
     "output_type": "stream",
     "text": [
      " 25%|██▌       | 3354/13309 [02:55<05:36, 29.55it/s]"
     ]
    },
    {
     "name": "stdout",
     "output_type": "stream",
     "text": [
      "Help? help\n"
     ]
    },
    {
     "name": "stderr",
     "output_type": "stream",
     "text": [
      " 25%|██▌       | 3368/13309 [02:55<06:50, 24.21it/s]"
     ]
    },
    {
     "name": "stdout",
     "output_type": "stream",
     "text": [
      "jgdhk<br><br>Attach File : <a href='http://csupload.cyberlink.com/upload-file/support/cs/2019-01-13/CS001979846/DeviceInfo.txt' target=_blank>DeviceInfo.txt</a> jgdhk attach file\n"
     ]
    },
    {
     "name": "stderr",
     "output_type": "stream",
     "text": [
      " 19%|█▉        | 2552/13315 [02:55<09:55, 18.09it/s]"
     ]
    },
    {
     "name": "stdout",
     "output_type": "stream",
     "text": [
      "Technical Support technical support\n"
     ]
    },
    {
     "name": "stderr",
     "output_type": "stream",
     "text": [
      " 22%|██▏       | 2982/13309 [02:55<10:13, 16.82it/s]"
     ]
    },
    {
     "name": "stdout",
     "output_type": "stream",
     "text": [
      "Sanjay<br><br>Attach File : <a href='http://csupload.cyberlink.com/upload-file/support/cs/2018-06-13/CS001903375/DeviceInfo.txt' target=_blank>DeviceInfo.txt</a> sanjay attach file\n"
     ]
    },
    {
     "name": "stderr",
     "output_type": "stream",
     "text": [
      "\r",
      " 20%|██        | 2687/13309 [02:56<10:41, 16.57it/s]"
     ]
    },
    {
     "name": "stdout",
     "output_type": "stream",
     "text": [
      "Teck me teck me\n"
     ]
    },
    {
     "name": "stderr",
     "output_type": "stream",
     "text": [
      " 19%|█▉        | 2554/13315 [02:55<10:25, 17.21it/s]"
     ]
    },
    {
     "name": "stdout",
     "output_type": "stream",
     "text": [
      "templates template\n"
     ]
    },
    {
     "name": "stderr",
     "output_type": "stream",
     "text": [
      "\r",
      " 25%|██▌       | 3380/13309 [02:56<05:32, 29.85it/s]"
     ]
    },
    {
     "name": "stdout",
     "output_type": "stream",
     "text": [
      "test test\n"
     ]
    },
    {
     "name": "stderr",
     "output_type": "stream",
     "text": [
      " 23%|██▎       | 3045/13309 [02:56<07:49, 21.86it/s]"
     ]
    },
    {
     "name": "stdout",
     "output_type": "stream",
     "text": [
      "Testing test\n"
     ]
    },
    {
     "name": "stderr",
     "output_type": "stream",
     "text": [
      " 22%|██▏       | 2901/13309 [02:56<11:52, 14.60it/s]"
     ]
    },
    {
     "name": "stdout",
     "output_type": "stream",
     "text": [
      "thank u , thank u\n",
      "thank uyor watch thank uyor watch\n"
     ]
    },
    {
     "name": "stderr",
     "output_type": "stream",
     "text": [
      " 22%|██▏       | 2953/13309 [02:56<09:44, 17.72it/s]"
     ]
    },
    {
     "name": "stdout",
     "output_type": "stream",
     "text": [
      "Thank You.... thank\n"
     ]
    },
    {
     "name": "stderr",
     "output_type": "stream",
     "text": [
      " 20%|█▉        | 2607/13309 [02:57<11:11, 15.94it/s]"
     ]
    },
    {
     "name": "stdout",
     "output_type": "stream",
     "text": [
      "All figured out. Move on... :-) all figure move\n"
     ]
    },
    {
     "name": "stderr",
     "output_type": "stream",
     "text": [
      " 22%|██▏       | 2939/13309 [02:58<11:02, 15.66it/s]"
     ]
    },
    {
     "name": "stdout",
     "output_type": "stream",
     "text": [
      "﻿<html><div dir=\"auto\"> Plz</div>   </html><br/>﻿ plz\n"
     ]
    },
    {
     "name": "stderr",
     "output_type": "stream",
     "text": [
      " 23%|██▎       | 3018/13309 [02:58<14:34, 11.77it/s]"
     ]
    },
    {
     "name": "stdout",
     "output_type": "stream",
     "text": [
      "﻿<html><div dir=\"auto\"> Pspr3674</div>   </html><br/>﻿ pspr\n"
     ]
    },
    {
     "name": "stderr",
     "output_type": "stream",
     "text": [
      " 20%|██        | 2725/13309 [02:58<11:22, 15.52it/s]"
     ]
    },
    {
     "name": "stdout",
     "output_type": "stream",
     "text": [
      "softul  softul\n"
     ]
    },
    {
     "name": "stderr",
     "output_type": "stream",
     "text": [
      " 20%|█▉        | 2623/13309 [02:58<10:06, 17.61it/s]"
     ]
    },
    {
     "name": "stdout",
     "output_type": "stream",
     "text": [
      "song song\n"
     ]
    },
    {
     "name": "stderr",
     "output_type": "stream",
     "text": [
      " 22%|██▏       | 2951/13309 [02:59<15:42, 10.99it/s]"
     ]
    },
    {
     "name": "stdout",
     "output_type": "stream",
     "text": [
      "sss ss\n"
     ]
    },
    {
     "name": "stderr",
     "output_type": "stream",
     "text": [
      " 23%|██▎       | 3036/13309 [02:59<09:14, 18.51it/s]"
     ]
    },
    {
     "name": "stdout",
     "output_type": "stream",
     "text": [
      "lokesh.kevant.@gmail.com<br><br>Attach File : <a href='http://csupload.cyberlink.com/upload-file/support/cs/2019-04-09/CS002010656/DeviceInfo.txt' target=_blank>DeviceInfo.txt</a> attach file\n"
     ]
    },
    {
     "name": "stderr",
     "output_type": "stream",
     "text": [
      " 20%|█▉        | 2629/13309 [02:59<10:58, 16.23it/s]"
     ]
    },
    {
     "name": "stdout",
     "output_type": "stream",
     "text": [
      "stop stop\n"
     ]
    },
    {
     "name": "stderr",
     "output_type": "stream",
     "text": [
      " 23%|██▎       | 3003/13309 [02:59<08:45, 19.62it/s]"
     ]
    },
    {
     "name": "stdout",
     "output_type": "stream",
     "text": [
      "Stop Sending Mailware stop sending mailware\n"
     ]
    },
    {
     "name": "stderr",
     "output_type": "stream",
     "text": [
      " 22%|██▏       | 2956/13309 [02:59<12:47, 13.49it/s]"
     ]
    },
    {
     "name": "stdout",
     "output_type": "stream",
     "text": [
      "support support\n"
     ]
    },
    {
     "name": "stderr",
     "output_type": "stream",
     "text": [
      " 20%|█▉        | 2637/13309 [02:59<13:31, 13.15it/s]"
     ]
    },
    {
     "name": "stdout",
     "output_type": "stream",
     "text": [
      "laiza<br><br>Attach File : <a href='http://csupload.cyberlink.com/upload-file/support/cs/2018-11-17/CS001955418/DeviceInfo.txt' target=_blank>DeviceInfo.txt</a> laiza attach file\n"
     ]
    },
    {
     "name": "stderr",
     "output_type": "stream",
     "text": [
      " 26%|██▌       | 3460/13309 [03:00<05:48, 28.24it/s]"
     ]
    },
    {
     "name": "stdout",
     "output_type": "stream",
     "text": [
      "Ramgoshwami <br><br>Attach File : <a href='http://csupload.cyberlink.com/upload-file/support/cs/2018-09-11/CS001932864/DeviceInfo.txt' target=_blank>DeviceInfo.txt</a> ramgoshwami attach file\n"
     ]
    },
    {
     "name": "stderr",
     "output_type": "stream",
     "text": [
      " 20%|█▉        | 2660/13309 [03:01<08:27, 21.00it/s]"
     ]
    },
    {
     "name": "stdout",
     "output_type": "stream",
     "text": [
      "Help me plesh help me plesh\n"
     ]
    },
    {
     "name": "stderr",
     "output_type": "stream",
     "text": [
      " 23%|██▎       | 2996/13309 [03:01<07:54, 21.74it/s]"
     ]
    },
    {
     "name": "stdout",
     "output_type": "stream",
     "text": [
      "help wab help wab\n"
     ]
    },
    {
     "name": "stderr",
     "output_type": "stream",
     "text": [
      " 26%|██▋       | 3500/13309 [03:02<12:30, 13.06it/s]"
     ]
    },
    {
     "name": "stdout",
     "output_type": "stream",
     "text": [
      "﻿<html><div dir=\"auto\"> Nice program</div>   </html><br/>﻿ nice program\n"
     ]
    },
    {
     "name": "stderr",
     "output_type": "stream",
     "text": [
      " 21%|██        | 2800/13309 [03:02<15:46, 11.11it/s]"
     ]
    },
    {
     "name": "stdout",
     "output_type": "stream",
     "text": [
      "﻿<html><p dir=\"ltr\"> Cade number </p>   </html><br/>﻿ cade number\n"
     ]
    },
    {
     "name": "stderr",
     "output_type": "stream",
     "text": [
      " 20%|██        | 2686/13309 [03:02<12:11, 14.51it/s]"
     ]
    },
    {
     "name": "stdout",
     "output_type": "stream",
     "text": [
      "﻿<html><p dir=\"ltr\"> Chroma Key not working.</p>   </html><br/>﻿ chroma key not\n"
     ]
    },
    {
     "name": "stderr",
     "output_type": "stream",
     "text": [
      " 26%|██▋       | 3518/13309 [03:02<06:11, 26.33it/s]"
     ]
    },
    {
     "name": "stdout",
     "output_type": "stream",
     "text": [
      "Hello. And Bye. and\n"
     ]
    },
    {
     "name": "stderr",
     "output_type": "stream",
     "text": [
      " 27%|██▋       | 3587/13309 [03:07<13:41, 11.84it/s]"
     ]
    },
    {
     "name": "stdout",
     "output_type": "stream",
     "text": [
      " have version PowerDirector15. have version\n"
     ]
    },
    {
     "name": "stderr",
     "output_type": "stream",
     "text": [
      " 24%|██▎       | 3156/13309 [03:07<09:13, 18.36it/s]"
     ]
    },
    {
     "name": "stdout",
     "output_type": "stream",
     "text": [
      "help help\n"
     ]
    },
    {
     "name": "stderr",
     "output_type": "stream",
     "text": [
      " 27%|██▋       | 3618/13309 [03:08<09:33, 16.89it/s]"
     ]
    },
    {
     "name": "stdout",
     "output_type": "stream",
     "text": [
      "Internal error 80004005 internal error\n"
     ]
    },
    {
     "name": "stderr",
     "output_type": "stream",
     "text": [
      " 21%|██        | 2764/13315 [03:08<10:41, 16.46it/s]"
     ]
    },
    {
     "name": "stdout",
     "output_type": "stream",
     "text": [
      "r<br><br>Attach File : <a href='http://csupload.cyberlink.com/upload-file/support/cs/2018-12-27/CS001972808/DeviceInfo.txt' target=_blank>DeviceInfo.txt</a> r attach file\n"
     ]
    },
    {
     "name": "stderr",
     "output_type": "stream",
     "text": [
      " 21%|██        | 2770/13315 [03:09<08:44, 20.12it/s]"
     ]
    },
    {
     "name": "stdout",
     "output_type": "stream",
     "text": [
      "test test\n",
      "test12345678@c.us<br><br>Attach File : <a href='http://csupload.cyberlink.com/upload-file/support/cs/2018-05-30/CS001897122/DeviceInfo.txt' target=_blank>DeviceInfo.txt</a> attach file\n"
     ]
    },
    {
     "name": "stderr",
     "output_type": "stream",
     "text": [
      "\r",
      " 24%|██▎       | 3141/13309 [03:09<08:47, 19.27it/s]"
     ]
    },
    {
     "name": "stdout",
     "output_type": "stream",
     "text": [
      "test12345678@c.us<br><br>Attach File : <a href='http://csupload.cyberlink.com/upload-file/support/cs/2018-07-11/CS001912434/DeviceInfo.txt' target=_blank>DeviceInfo.txt</a> attach file\n"
     ]
    },
    {
     "name": "stderr",
     "output_type": "stream",
     "text": [
      " 24%|██▍       | 3195/13309 [03:09<09:09, 18.42it/s]"
     ]
    },
    {
     "name": "stdout",
     "output_type": "stream",
     "text": [
      "test12345678@c.us<br><br>Attach File : <a href='http://csupload.cyberlink.com/upload-file/support/cs/2018-10-11/CS001942849/DeviceInfo.txt' target=_blank>DeviceInfo.txt</a> attach file\n"
     ]
    },
    {
     "name": "stderr",
     "output_type": "stream",
     "text": [
      " 24%|██▎       | 3144/13309 [03:09<07:57, 21.27it/s]"
     ]
    },
    {
     "name": "stdout",
     "output_type": "stream",
     "text": [
      "test12345678@c.us<br><br>Attach File : <a href='http://csupload.cyberlink.com/upload-file/support/cs/2018-10-19/CS001945736/DeviceInfo.txt' target=_blank>DeviceInfo.txt</a> attach file\n",
      "test12345678@c.us<br><br>Attach File : <a href='http://csupload.cyberlink.com/upload-file/support/cs/2018-10-25/CS001947753/DeviceInfo.txt' target=_blank>DeviceInfo.txt</a> attach file\n"
     ]
    },
    {
     "name": "stderr",
     "output_type": "stream",
     "text": [
      " 21%|██        | 2776/13315 [03:09<07:57, 22.08it/s]"
     ]
    },
    {
     "name": "stdout",
     "output_type": "stream",
     "text": [
      "test12345678@c.us<br><br>Attach File : <a href='http://csupload.cyberlink.com/upload-file/support/cs/2018-12-14/CS001965714/DeviceInfo.txt' target=_blank>DeviceInfo.txt</a> attach file\n"
     ]
    },
    {
     "name": "stderr",
     "output_type": "stream",
     "text": [
      " 24%|██▎       | 3147/13309 [03:09<07:55, 21.37it/s]"
     ]
    },
    {
     "name": "stdout",
     "output_type": "stream",
     "text": [
      "test12345678@c.us<br><br>Attach File : <a href='http://csupload.cyberlink.com/upload-file/support/cs/2018-12-27/CS001973232/DeviceInfo.txt' target=_blank>DeviceInfo.txt</a> attach file\n",
      "test12345678@c.us<br><br>Attach File : <a href='http://csupload.cyberlink.com/upload-file/support/cs/2019-03-02/CS001996696/DeviceInfo.txt' target=_blank>DeviceInfo.txt</a> attach file\n"
     ]
    },
    {
     "name": "stderr",
     "output_type": "stream",
     "text": [
      " 24%|██▍       | 3201/13309 [03:09<08:01, 21.00it/s]"
     ]
    },
    {
     "name": "stdout",
     "output_type": "stream",
     "text": [
      "test12345678@c.us<br><br>Attach File : <a href='http://csupload.cyberlink.com/upload-file/support/cs/2019-03-13/CS002000439/DeviceInfo.txt' target=_blank>DeviceInfo.txt</a> attach file\n",
      "test12345678@c.us<br><br>Attach File : <a href='http://csupload.cyberlink.com/upload-file/support/cs/2019-06-18/CS002030700/DeviceInfo.txt' target=_blank>DeviceInfo.txt</a> attach file\n"
     ]
    },
    {
     "name": "stderr",
     "output_type": "stream",
     "text": [
      " 28%|██▊       | 3667/13309 [03:10<05:38, 28.46it/s]"
     ]
    },
    {
     "name": "stdout",
     "output_type": "stream",
     "text": [
      "error code 2 error code\n"
     ]
    },
    {
     "name": "stderr",
     "output_type": "stream",
     "text": [
      " 21%|██        | 2801/13315 [03:10<12:13, 14.33it/s]"
     ]
    },
    {
     "name": "stdout",
     "output_type": "stream",
     "text": [
      "I have nothing i have nothing\n"
     ]
    },
    {
     "name": "stderr",
     "output_type": "stream",
     "text": [
      " 21%|██        | 2813/13315 [03:11<13:41, 12.78it/s]"
     ]
    },
    {
     "name": "stdout",
     "output_type": "stream",
     "text": [
      "order #214566237 order\n"
     ]
    },
    {
     "name": "stderr",
     "output_type": "stream",
     "text": [
      " 21%|██        | 2822/13315 [03:12<15:32, 11.26it/s]"
     ]
    },
    {
     "name": "stdout",
     "output_type": "stream",
     "text": [
      "4243423934@gmail.com<br><br>Attach File : <a href='http://csupload.cyberlink.com/upload-file/support/cs/2018-05-18/CS001891552/feedback_data.zip' target=_blank>feedback_data.zip</a> attach file\n"
     ]
    },
    {
     "name": "stderr",
     "output_type": "stream",
     "text": [
      " 25%|██▍       | 3265/13309 [03:13<12:20, 13.56it/s]"
     ]
    },
    {
     "name": "stdout",
     "output_type": "stream",
     "text": [
      "grafic driver grafic driver\n"
     ]
    },
    {
     "name": "stderr",
     "output_type": "stream",
     "text": [
      " 28%|██▊       | 3720/13309 [03:14<18:05,  8.83it/s]"
     ]
    },
    {
     "name": "stdout",
     "output_type": "stream",
     "text": [
      "serial no problem serial no problem\n"
     ]
    },
    {
     "name": "stderr",
     "output_type": "stream",
     "text": [
      " 21%|██▏       | 2858/13315 [03:14<08:12, 21.22it/s]"
     ]
    },
    {
     "name": "stdout",
     "output_type": "stream",
     "text": [
      "serial number serial number\n"
     ]
    },
    {
     "name": "stderr",
     "output_type": "stream",
     "text": [
      " 24%|██▍       | 3258/13309 [03:14<06:44, 24.83it/s]"
     ]
    },
    {
     "name": "stdout",
     "output_type": "stream",
     "text": [
      "setup video compat setup video compat\n"
     ]
    },
    {
     "name": "stderr",
     "output_type": "stream",
     "text": [
      " 23%|██▎       | 2999/13309 [03:14<09:13, 18.64it/s]"
     ]
    },
    {
     "name": "stdout",
     "output_type": "stream",
     "text": [
      "Sexually explicit content. sexually explicit\n"
     ]
    },
    {
     "name": "stderr",
     "output_type": "stream",
     "text": [
      " 22%|██▏       | 2908/13309 [03:14<06:45, 25.66it/s]"
     ]
    },
    {
     "name": "stdout",
     "output_type": "stream",
     "text": [
      "Shekh sonu shekh sonu\n",
      "SHOW ME show me\n"
     ]
    },
    {
     "name": "stderr",
     "output_type": "stream",
     "text": [
      "\r",
      " 22%|██▏       | 2864/13315 [03:14<08:26, 20.64it/s]"
     ]
    },
    {
     "name": "stdout",
     "output_type": "stream",
     "text": [
      "Sin comentarios sin comentarios\n"
     ]
    },
    {
     "name": "stderr",
     "output_type": "stream",
     "text": [
      " 24%|██▍       | 3216/13309 [03:14<14:52, 11.30it/s]"
     ]
    },
    {
     "name": "stdout",
     "output_type": "stream",
     "text": [
      "JIJIOJ jijioj\n"
     ]
    },
    {
     "name": "stderr",
     "output_type": "stream",
     "text": [
      " 22%|██▏       | 2867/13315 [03:14<08:07, 21.44it/s]"
     ]
    },
    {
     "name": "stdout",
     "output_type": "stream",
     "text": [
      "jorge jorge\n"
     ]
    },
    {
     "name": "stderr",
     "output_type": "stream",
     "text": [
      " 28%|██▊       | 3723/13309 [03:15<27:14,  5.86it/s]"
     ]
    },
    {
     "name": "stdout",
     "output_type": "stream",
     "text": [
      "can I redownload can i redownload\n"
     ]
    },
    {
     "name": "stderr",
     "output_type": "stream",
     "text": [
      " 25%|██▍       | 3285/13309 [03:15<18:20,  9.11it/s]"
     ]
    },
    {
     "name": "stdout",
     "output_type": "stream",
     "text": [
      "r<br><br>Attach File : <a href='http://csupload.cyberlink.com/upload-file/support/cs/2018-12-27/CS001972807/DeviceInfo.txt' target=_blank>DeviceInfo.txt</a> r attach file\n"
     ]
    },
    {
     "name": "stderr",
     "output_type": "stream",
     "text": [
      " 26%|██▌       | 3402/13309 [03:21<18:56,  8.72it/s]"
     ]
    },
    {
     "name": "stdout",
     "output_type": "stream",
     "text": [
      "can not install can not install\n"
     ]
    },
    {
     "name": "stderr",
     "output_type": "stream",
     "text": [
      " 23%|██▎       | 3024/13309 [03:22<17:29,  9.80it/s]"
     ]
    },
    {
     "name": "stdout",
     "output_type": "stream",
     "text": [
      "﻿<html><div dir=\"auto\"> Call</div>   </html><br/>﻿ call\n"
     ]
    },
    {
     "name": "stderr",
     "output_type": "stream",
     "text": [
      " 26%|██▌       | 3405/13309 [03:23<10:53, 15.16it/s]"
     ]
    },
    {
     "name": "stdout",
     "output_type": "stream",
     "text": [
      "﻿<html><div dir=\"auto\"> Very Good<div dir=\"auto\"> *****</div> </div>   </html><br/>﻿ very good\n"
     ]
    },
    {
     "name": "stderr",
     "output_type": "stream",
     "text": [
      " 25%|██▌       | 3356/13309 [03:23<11:54, 13.92it/s]"
     ]
    },
    {
     "name": "stdout",
     "output_type": "stream",
     "text": [
      "초등 \n"
     ]
    },
    {
     "name": "stderr",
     "output_type": "stream",
     "text": [
      " 23%|██▎       | 3039/13309 [03:23<13:45, 12.44it/s]"
     ]
    },
    {
     "name": "stdout",
     "output_type": "stream",
     "text": [
      "﻿<html><div dir=\"auto\"> xxx <a href=\"http://videos.com\"> videos.com</a> <div dir=\"auto\"> <br> </div> </div>   </html><br/>﻿ xxx\n"
     ]
    },
    {
     "name": "stderr",
     "output_type": "stream",
     "text": [
      " 29%|██▉       | 3877/13309 [03:23<11:14, 13.99it/s]"
     ]
    },
    {
     "name": "stdout",
     "output_type": "stream",
     "text": [
      "Reinhard Kasterke----05.01.2018.  web.r.kasterke@web.de  in83236 Übersee   Reitstr.16 reinhard in bersee\n"
     ]
    },
    {
     "name": "stderr",
     "output_type": "stream",
     "text": [
      "\r",
      " 23%|██▎       | 3041/13309 [03:23<13:01, 13.14it/s]"
     ]
    },
    {
     "name": "stdout",
     "output_type": "stream",
     "text": [
      "http://passion4profession.net<br><br>Attach File : <a href='http://csupload.cyberlink.com/upload-file/support/cs/2018-03-19/CS001869803/DeviceInfo.txt' target=_blank>DeviceInfo.txt</a> attach file\n"
     ]
    },
    {
     "name": "stderr",
     "output_type": "stream",
     "text": [
      " 26%|██▌       | 3404/13309 [03:23<12:45, 12.94it/s]"
     ]
    },
    {
     "name": "stdout",
     "output_type": "stream",
     "text": [
      "http://passion4profession.net<br><br>Attach File : <a href='http://csupload.cyberlink.com/upload-file/support/cs/2018-03-19/CS001869805/DeviceInfo.txt' target=_blank>DeviceInfo.txt</a> attach file\n"
     ]
    },
    {
     "name": "stderr",
     "output_type": "stream",
     "text": [
      " 26%|██▌       | 3434/13309 [03:23<11:26, 14.38it/s]"
     ]
    },
    {
     "name": "stdout",
     "output_type": "stream",
     "text": [
      "Why?<br><br>Attach File : <a href=\"http://csupload.cyberlink.com/upload-file/support/cs/2018-11-02/CS001950312/CS001950312-1541173446249-0.jpg\" target=_blank>CS001950312-1541173446249-0.jpg</a> why attach file\n"
     ]
    },
    {
     "name": "stderr",
     "output_type": "stream",
     "text": [
      " 23%|██▎       | 3031/13315 [03:23<09:10, 18.68it/s]"
     ]
    },
    {
     "name": "stdout",
     "output_type": "stream",
     "text": [
      "robbing cunts rob cunt\n",
      "rrr rrr\n"
     ]
    },
    {
     "name": "stderr",
     "output_type": "stream",
     "text": [
      " 23%|██▎       | 3034/13315 [03:23<08:12, 20.88it/s]"
     ]
    },
    {
     "name": "stdout",
     "output_type": "stream",
     "text": [
      "san juan san juan\n"
     ]
    },
    {
     "name": "stderr",
     "output_type": "stream",
     "text": [
      "\r",
      " 25%|██▌       | 3365/13309 [03:24<13:17, 12.46it/s]"
     ]
    },
    {
     "name": "stdout",
     "output_type": "stream",
     "text": [
      "Wrong product code wrong product code\n"
     ]
    },
    {
     "name": "stderr",
     "output_type": "stream",
     "text": [
      " 23%|██▎       | 3125/13309 [03:24<13:20, 12.72it/s]"
     ]
    },
    {
     "name": "stdout",
     "output_type": "stream",
     "text": [
      "see above see above\n"
     ]
    },
    {
     "name": "stderr",
     "output_type": "stream",
     "text": [
      " 29%|██▉       | 3888/13309 [03:24<18:48,  8.35it/s]"
     ]
    },
    {
     "name": "stdout",
     "output_type": "stream",
     "text": [
      "Please help! please help\n"
     ]
    },
    {
     "name": "stderr",
     "output_type": "stream",
     "text": [
      " 26%|██▌       | 3473/13309 [03:26<07:44, 21.17it/s]"
     ]
    },
    {
     "name": "stdout",
     "output_type": "stream",
     "text": [
      "karim apps.com<br><br>Attach File : <a href='http://csupload.cyberlink.com/upload-file/support/cs/2019-05-14/CS002021187/DeviceInfo.txt' target=_blank>DeviceInfo.txt</a> karim attach file\n"
     ]
    },
    {
     "name": "stderr",
     "output_type": "stream",
     "text": [
      " 29%|██▉       | 3900/13309 [03:26<18:05,  8.67it/s]"
     ]
    },
    {
     "name": "stdout",
     "output_type": "stream",
     "text": [
      "karim apps.com<br><br>Attach File : <a href='http://csupload.cyberlink.com/upload-file/support/cs/2019-05-14/CS002021188/DeviceInfo.txt' target=_blank>DeviceInfo.txt</a> karim attach file\n"
     ]
    },
    {
     "name": "stderr",
     "output_type": "stream",
     "text": [
      " 26%|██▌       | 3478/13309 [03:26<07:58, 20.53it/s]"
     ]
    },
    {
     "name": "stdout",
     "output_type": "stream",
     "text": [
      "khan <br><br>Attach File : <a href='http://csupload.cyberlink.com/upload-file/support/cs/2018-03-12/CS001867367/DeviceInfo.txt' target=_blank>DeviceInfo.txt</a> khan attach file\n"
     ]
    },
    {
     "name": "stderr",
     "output_type": "stream",
     "text": [
      " 24%|██▍       | 3178/13309 [03:28<15:36, 10.82it/s]"
     ]
    },
    {
     "name": "stdout",
     "output_type": "stream",
     "text": [
      "﻿<html><div dir=\"auto\"> Plz support</div>   </html><br/>﻿ plz support\n"
     ]
    },
    {
     "name": "stderr",
     "output_type": "stream",
     "text": [
      " 24%|██▎       | 3132/13315 [03:28<07:47, 21.79it/s]"
     ]
    },
    {
     "name": "stdout",
     "output_type": "stream",
     "text": [
      "﻿<html><div dir=\"auto\"> So good app</div>   </html><br/>﻿ so good app\n"
     ]
    },
    {
     "name": "stderr",
     "output_type": "stream",
     "text": [
      " 24%|██▍       | 3185/13309 [03:29<11:59, 14.07it/s]"
     ]
    },
    {
     "name": "stdout",
     "output_type": "stream",
     "text": [
      "﻿<html><div dir=\"auto\"> Thanks again</div>   </html><br/>﻿ thanks again\n"
     ]
    },
    {
     "name": "stderr",
     "output_type": "stream",
     "text": [
      " 26%|██▋       | 3523/13309 [03:29<09:26, 17.28it/s]"
     ]
    },
    {
     "name": "stdout",
     "output_type": "stream",
     "text": [
      "본인 \n"
     ]
    },
    {
     "name": "stderr",
     "output_type": "stream",
     "text": [
      " 24%|██▍       | 3193/13309 [03:29<09:00, 18.71it/s]"
     ]
    },
    {
     "name": "stdout",
     "output_type": "stream",
     "text": [
      "비디오 찰영 \n"
     ]
    },
    {
     "name": "stderr",
     "output_type": "stream",
     "text": [
      "\r",
      " 23%|██▎       | 3111/13309 [03:29<10:05, 16.84it/s]"
     ]
    },
    {
     "name": "stdout",
     "output_type": "stream",
     "text": [
      "비번분실 \n"
     ]
    },
    {
     "name": "stderr",
     "output_type": "stream",
     "text": [
      " 24%|██▎       | 3148/13315 [03:29<08:21, 20.26it/s]"
     ]
    },
    {
     "name": "stdout",
     "output_type": "stream",
     "text": [
      "order number 212643512 order number\n"
     ]
    },
    {
     "name": "stderr",
     "output_type": "stream",
     "text": [
      " 26%|██▌       | 3457/13309 [03:30<18:34,  8.84it/s]"
     ]
    },
    {
     "name": "stdout",
     "output_type": "stream",
     "text": [
      "I Like you i like you\n"
     ]
    },
    {
     "name": "stderr",
     "output_type": "stream",
     "text": [
      " 27%|██▋       | 3596/13309 [03:32<07:22, 21.96it/s]"
     ]
    },
    {
     "name": "stdout",
     "output_type": "stream",
     "text": [
      "kamlesh du.bhil<br><br>Attach File : <a href='http://csupload.cyberlink.com/upload-file/support/cs/2019-03-13/CS002000133/DeviceInfo.txt' target=_blank>DeviceInfo.txt</a> kamlesh attach file\n"
     ]
    },
    {
     "name": "stderr",
     "output_type": "stream",
     "text": [
      " 27%|██▋       | 3608/13309 [03:32<06:56, 23.29it/s]"
     ]
    },
    {
     "name": "stdout",
     "output_type": "stream",
     "text": [
      "kamlesh du.bhil<br><br>Attach File : <a href='http://csupload.cyberlink.com/upload-file/support/cs/2019-03-13/CS002000134/DeviceInfo.txt' target=_blank>DeviceInfo.txt</a> kamlesh attach file\n"
     ]
    },
    {
     "name": "stderr",
     "output_type": "stream",
     "text": [
      "\r",
      " 26%|██▌       | 3461/13309 [03:32<44:49,  3.66it/s]"
     ]
    },
    {
     "name": "stdout",
     "output_type": "stream",
     "text": [
      "kapil<br><br>Attach File : <a href='http://csupload.cyberlink.com/upload-file/support/cs/2018-08-22/CS001926105/DeviceInfo.txt' target=_blank>DeviceInfo.txt</a> kapil attach file\n"
     ]
    },
    {
     "name": "stderr",
     "output_type": "stream",
     "text": [
      " 24%|██▍       | 3257/13309 [03:33<10:22, 16.14it/s]"
     ]
    },
    {
     "name": "stdout",
     "output_type": "stream",
     "text": [
      "(860) 930-9163 \n"
     ]
    },
    {
     "name": "stderr",
     "output_type": "stream",
     "text": [
      " 30%|███       | 4049/13309 [03:33<05:52, 26.27it/s]"
     ]
    },
    {
     "name": "stdout",
     "output_type": "stream",
     "text": [
      "nesecito ayuda ternica nesecito ayuda ternica\n"
     ]
    },
    {
     "name": "stderr",
     "output_type": "stream",
     "text": [
      " 24%|██▍       | 3260/13309 [03:33<11:06, 15.08it/s]"
     ]
    },
    {
     "name": "stdout",
     "output_type": "stream",
     "text": [
      "nice nice\n"
     ]
    },
    {
     "name": "stderr",
     "output_type": "stream",
     "text": [
      " 26%|██▌       | 3478/13309 [03:33<13:16, 12.34it/s]"
     ]
    },
    {
     "name": "stdout",
     "output_type": "stream",
     "text": [
      "hd<br><br>Attach File : <a href='http://csupload.cyberlink.com/upload-file/support/cs/2018-09-25/CS001937678/CL_PHOTODIRECTOR_DATA.zip' target=_blank>CL_PHOTODIRECTOR_DATA.zip</a> hd attach file\n",
      " [0212-001] Power2Go 9 power go\n"
     ]
    },
    {
     "name": "stderr",
     "output_type": "stream",
     "text": [
      " 27%|██▋       | 3550/13309 [03:35<08:24, 19.33it/s]"
     ]
    },
    {
     "name": "stdout",
     "output_type": "stream",
     "text": [
      "nothing is happening nothing be happen\n"
     ]
    },
    {
     "name": "stderr",
     "output_type": "stream",
     "text": [
      " 28%|██▊       | 3671/13309 [03:36<11:29, 13.99it/s]"
     ]
    },
    {
     "name": "stdout",
     "output_type": "stream",
     "text": [
      "Technical Help????????????????????? technical help\n"
     ]
    },
    {
     "name": "stderr",
     "output_type": "stream",
     "text": [
      " 25%|██▍       | 3324/13315 [03:37<08:14, 20.21it/s]"
     ]
    },
    {
     "name": "stdout",
     "output_type": "stream",
     "text": [
      "kamlesh <br><br>Attach File : <a href='http://csupload.cyberlink.com/upload-file/support/cs/2019-03-13/CS002000135/DeviceInfo.txt' target=_blank>DeviceInfo.txt</a> kamlesh attach file\n"
     ]
    },
    {
     "name": "stderr",
     "output_type": "stream",
     "text": [
      " 31%|███       | 4132/13309 [03:37<06:37, 23.06it/s]"
     ]
    },
    {
     "name": "stdout",
     "output_type": "stream",
     "text": [
      "Good<br><br>Attach File : <a href='http://csupload.cyberlink.com/upload-file/support/cs/2019-03-14/CS002000680/CL_PHOTODIRECTOR_DATA.zip' target=_blank>CL_PHOTODIRECTOR_DATA.zip</a> good attach file\n"
     ]
    },
    {
     "name": "stderr",
     "output_type": "stream",
     "text": [
      "\r",
      " 25%|██▍       | 3325/13309 [03:37<09:54, 16.79it/s]"
     ]
    },
    {
     "name": "stdout",
     "output_type": "stream",
     "text": [
      "good<br><br>Attach File : <a href='http://csupload.cyberlink.com/upload-file/support/cs/2019-03-26/CS002006853/CL_PHOTODIRECTOR_DATA.zip' target=_blank>CL_PHOTODIRECTOR_DATA.zip</a> good attach file\n"
     ]
    },
    {
     "name": "stderr",
     "output_type": "stream",
     "text": [
      " 28%|██▊       | 3683/13309 [03:37<07:33, 21.24it/s]"
     ]
    },
    {
     "name": "stdout",
     "output_type": "stream",
     "text": [
      "good<br><br>Attach File : <a href='http://csupload.cyberlink.com/upload-file/support/cs/2019-03-30/CS002007867/CL_PHOTODIRECTOR_DATA.zip' target=_blank>CL_PHOTODIRECTOR_DATA.zip</a> good attach file\n"
     ]
    },
    {
     "name": "stderr",
     "output_type": "stream",
     "text": [
      " 28%|██▊       | 3744/13309 [03:40<09:23, 16.98it/s]"
     ]
    },
    {
     "name": "stdout",
     "output_type": "stream",
     "text": [
      "thank you thank you\n"
     ]
    },
    {
     "name": "stderr",
     "output_type": "stream",
     "text": [
      " 27%|██▋       | 3592/13309 [03:40<13:24, 12.07it/s]"
     ]
    },
    {
     "name": "stdout",
     "output_type": "stream",
     "text": [
      "happy any where happy any where\n"
     ]
    },
    {
     "name": "stderr",
     "output_type": "stream",
     "text": [
      " 32%|███▏      | 4217/13309 [03:40<06:40, 22.68it/s]"
     ]
    },
    {
     "name": "stdout",
     "output_type": "stream",
     "text": [
      "﻿<html><div dir=\"auto\"> Please see my review.</div>   </html><br/>﻿ please see my\n"
     ]
    },
    {
     "name": "stderr",
     "output_type": "stream",
     "text": [
      " 32%|███▏      | 4226/13309 [03:41<07:16, 20.80it/s]  "
     ]
    },
    {
     "name": "stdout",
     "output_type": "stream",
     "text": [
      "hei hei\n"
     ]
    },
    {
     "name": "stderr",
     "output_type": "stream",
     "text": [
      " 26%|██▌       | 3410/13315 [03:41<11:37, 14.20it/s]"
     ]
    },
    {
     "name": "stdout",
     "output_type": "stream",
     "text": [
      "09278610411<br><br>Attach File : <a href='http://csupload.cyberlink.com/upload-file/support/cs/2019-05-05/CS002018487/DeviceInfo.txt' target=_blank>DeviceInfo.txt</a> attach file\n",
      "failed 1628 fail\n"
     ]
    },
    {
     "name": "stderr",
     "output_type": "stream",
     "text": [
      " 25%|██▍       | 3285/13309 [03:41<11:47, 14.16it/s]"
     ]
    },
    {
     "name": "stdout",
     "output_type": "stream",
     "text": [
      "See attachment.<br><br>Attach File : <a href=\"http://csupload.cyberlink.com/upload-file/support/cs/2018-04-23/CS001882695/CS001882695-1524514033956-0.zip\" target=_blank>CS001882695-1524514033956-0.zip</a> see attach file\n"
     ]
    },
    {
     "name": "stderr",
     "output_type": "stream",
     "text": [
      " 27%|██▋       | 3604/13309 [03:41<15:07, 10.70it/s]"
     ]
    },
    {
     "name": "stdout",
     "output_type": "stream",
     "text": [
      "﻿<html><div dir=\"auto\"> I c</div>   </html><br/>﻿ i c\n"
     ]
    },
    {
     "name": "stderr",
     "output_type": "stream",
     "text": [
      " 28%|██▊       | 3766/13309 [03:42<16:06,  9.87it/s]"
     ]
    },
    {
     "name": "stdout",
     "output_type": "stream",
     "text": [
      "just gdettin updatrs  0 just gdettin updatrs\n"
     ]
    },
    {
     "name": "stderr",
     "output_type": "stream",
     "text": [
      " 26%|██▌       | 3439/13315 [03:43<11:24, 14.44it/s]"
     ]
    },
    {
     "name": "stdout",
     "output_type": "stream",
     "text": [
      "설치가  않됨       \n"
     ]
    },
    {
     "name": "stderr",
     "output_type": "stream",
     "text": [
      " 27%|██▋       | 3610/13309 [03:43<09:15, 17.45it/s]"
     ]
    },
    {
     "name": "stdout",
     "output_type": "stream",
     "text": [
      "uploading screenshot upload screenshot\n"
     ]
    },
    {
     "name": "stderr",
     "output_type": "stream",
     "text": [
      " 27%|██▋       | 3618/13309 [03:44<11:22, 14.20it/s]"
     ]
    },
    {
     "name": "stdout",
     "output_type": "stream",
     "text": [
      "﻿<html><p dir=\"ltr\"> Please add BGM</p>   </html><br/>﻿ please add bgm\n"
     ]
    },
    {
     "name": "stderr",
     "output_type": "stream",
     "text": [
      " 28%|██▊       | 3785/13309 [03:43<10:26, 15.21it/s]"
     ]
    },
    {
     "name": "stdout",
     "output_type": "stream",
     "text": [
      "down load down load\n"
     ]
    },
    {
     "name": "stderr",
     "output_type": "stream",
     "text": [
      "\r",
      " 25%|██▍       | 3310/13309 [03:43<13:24, 12.43it/s]"
     ]
    },
    {
     "name": "stdout",
     "output_type": "stream",
     "text": [
      "﻿<html><p dir=\"ltr\"> Please bro </p>   </html><br/>﻿ please bro\n"
     ]
    },
    {
     "name": "stderr",
     "output_type": "stream",
     "text": [
      " 26%|██▌       | 3458/13315 [03:43<08:33, 19.20it/s]"
     ]
    },
    {
     "name": "stdout",
     "output_type": "stream",
     "text": [
      "﻿<html><p dir=\"ltr\"> Please help</p>   </html><br/>﻿ please help\n"
     ]
    },
    {
     "name": "stderr",
     "output_type": "stream",
     "text": [
      " 26%|██▌       | 3433/13309 [03:44<12:44, 12.92it/s]"
     ]
    },
    {
     "name": "stdout",
     "output_type": "stream",
     "text": [
      "Video player audio echo. video player audio\n"
     ]
    },
    {
     "name": "stderr",
     "output_type": "stream",
     "text": [
      " 27%|██▋       | 3627/13309 [03:44<17:50,  9.04it/s]"
     ]
    },
    {
     "name": "stdout",
     "output_type": "stream",
     "text": [
      "﻿<html><p dir=\"ltr\"> Power dracter</p>   </html><br/>﻿ power dracter\n"
     ]
    },
    {
     "name": "stderr",
     "output_type": "stream",
     "text": [
      " 26%|██▌       | 3473/13309 [03:46<08:55, 18.37it/s]"
     ]
    },
    {
     "name": "stdout",
     "output_type": "stream",
     "text": [
      "it stops playing it stop play\n"
     ]
    },
    {
     "name": "stderr",
     "output_type": "stream",
     "text": [
      " 26%|██▌       | 3479/13309 [03:47<08:36, 19.02it/s]"
     ]
    },
    {
     "name": "stdout",
     "output_type": "stream",
     "text": [
      "File attached.<br><br>Attach File : <a href=\"http://csupload.cyberlink.com/upload-file/support/cs/2018-05-25/CS001893714/CS001893714-1527241165697-0.zip\" target=_blank>CS001893714-1527241165697-0.zip</a> file attach file\n"
     ]
    },
    {
     "name": "stderr",
     "output_type": "stream",
     "text": [
      " 26%|██▌       | 3486/13309 [03:47<14:21, 11.40it/s]"
     ]
    },
    {
     "name": "stdout",
     "output_type": "stream",
     "text": [
      "fejehddjddid<br><br>Attach File : <a href='http://csupload.cyberlink.com/upload-file/support/cs/2019-05-03/CS002017854/CL_PHOTODIRECTOR_DATA.zip' target=_blank>CL_PHOTODIRECTOR_DATA.zip</a> fejehddjddid attach file\n"
     ]
    },
    {
     "name": "stderr",
     "output_type": "stream",
     "text": [
      " 28%|██▊       | 3700/13309 [03:48<07:53, 20.31it/s]"
     ]
    },
    {
     "name": "stdout",
     "output_type": "stream",
     "text": [
      "Bxjgkvv<br><br>Attach File : <a href='http://csupload.cyberlink.com/upload-file/support/cs/2018-11-12/CS001953607/feedback_data.zip' target=_blank>feedback_data.zip</a> bxjgkvv attach file\n"
     ]
    },
    {
     "name": "stderr",
     "output_type": "stream",
     "text": [
      " 33%|███▎      | 4429/13309 [03:50<05:40, 26.11it/s]"
     ]
    },
    {
     "name": "stdout",
     "output_type": "stream",
     "text": [
      "isabedncjnjk isabedncjnjk\n"
     ]
    },
    {
     "name": "stderr",
     "output_type": "stream",
     "text": [
      " 28%|██▊       | 3701/13309 [03:50<15:05, 10.61it/s]"
     ]
    },
    {
     "name": "stdout",
     "output_type": "stream",
     "text": [
      "pasend<br><br>Attach File : <a href='http://csupload.cyberlink.com/upload-file/support/cs/2018-10-09/CS001942411/DeviceInfo.txt' target=_blank>DeviceInfo.txt</a> pasend attach file\n",
      "I lost my program. i lose my\n"
     ]
    },
    {
     "name": "stderr",
     "output_type": "stream",
     "text": [
      " 26%|██▌       | 3397/13309 [03:51<13:52, 11.91it/s]"
     ]
    },
    {
     "name": "stdout",
     "output_type": "stream",
     "text": [
      "by Boris by boris\n"
     ]
    },
    {
     "name": "stderr",
     "output_type": "stream",
     "text": [
      " 28%|██▊       | 3752/13309 [03:51<09:26, 16.86it/s]"
     ]
    },
    {
     "name": "stdout",
     "output_type": "stream",
     "text": [
      "﻿<html><p dir=\"ltr\"> Best edting app</p>   </html><br/>﻿ best edting app\n"
     ]
    },
    {
     "name": "stderr",
     "output_type": "stream",
     "text": [
      " 27%|██▋       | 3537/13309 [03:51<19:33,  8.33it/s]"
     ]
    },
    {
     "name": "stdout",
     "output_type": "stream",
     "text": [
      "﻿<html><p dir=\"ltr\"> Beta testing please</p>   </html><br/>﻿ beta test please\n"
     ]
    },
    {
     "name": "stderr",
     "output_type": "stream",
     "text": [
      " 26%|██▌       | 3432/13309 [03:53<12:22, 13.30it/s]"
     ]
    },
    {
     "name": "stdout",
     "output_type": "stream",
     "text": [
      "Please change email address. please change email\n"
     ]
    },
    {
     "name": "stderr",
     "output_type": "stream",
     "text": [
      " 28%|██▊       | 3683/13315 [03:54<06:22, 25.17it/s]"
     ]
    },
    {
     "name": "stdout",
     "output_type": "stream",
     "text": [
      "Please resend the link. please resend the\n"
     ]
    },
    {
     "name": "stderr",
     "output_type": "stream",
     "text": [
      " 28%|██▊       | 3787/13309 [03:55<35:35,  4.46it/s]"
     ]
    },
    {
     "name": "stdout",
     "output_type": "stream",
     "text": [
      "fgfggtt fgfggtt\n"
     ]
    },
    {
     "name": "stderr",
     "output_type": "stream",
     "text": [
      " 26%|██▌       | 3447/13309 [03:54<11:31, 14.26it/s]"
     ]
    },
    {
     "name": "stdout",
     "output_type": "stream",
     "text": [
      "filmfreeway.com link busted. link\n"
     ]
    },
    {
     "name": "stderr",
     "output_type": "stream",
     "text": [
      "\r",
      " 28%|██▊       | 3686/13315 [03:54<07:06, 22.59it/s]"
     ]
    },
    {
     "name": "stdout",
     "output_type": "stream",
     "text": [
      "fine fine\n"
     ]
    },
    {
     "name": "stderr",
     "output_type": "stream",
     "text": [
      " 34%|███▍      | 4522/13309 [03:55<08:52, 16.51it/s]"
     ]
    },
    {
     "name": "stdout",
     "output_type": "stream",
     "text": [
      "please unregister me please unregister me\n"
     ]
    },
    {
     "name": "stderr",
     "output_type": "stream",
     "text": [
      " 34%|███▍      | 4527/13309 [03:55<09:34, 15.29it/s]"
     ]
    },
    {
     "name": "stdout",
     "output_type": "stream",
     "text": [
      "Please cancel please cancel\n"
     ]
    },
    {
     "name": "stderr",
     "output_type": "stream",
     "text": [
      " 28%|██▊       | 3708/13315 [03:55<06:33, 24.44it/s]"
     ]
    },
    {
     "name": "stdout",
     "output_type": "stream",
     "text": [
      "Free free\n"
     ]
    },
    {
     "name": "stderr",
     "output_type": "stream",
     "text": [
      " 29%|██▊       | 3814/13309 [03:56<10:42, 14.79it/s]"
     ]
    },
    {
     "name": "stdout",
     "output_type": "stream",
     "text": [
      "CyberLink_PowerDVD17_Ultra_DVD160606-01.exe   https://shop.cyberlink.com/c/download/CyberLink_PowerDVD17_Ultra_DVD160606-01.exe?t=tS3Qqa5r4UFwbJzxRgXJZxze&k=313113692    Not working link. not work\n"
     ]
    },
    {
     "name": "stderr",
     "output_type": "stream",
     "text": [
      " 29%|██▉       | 3889/13309 [04:01<09:37, 16.32it/s]"
     ]
    },
    {
     "name": "stdout",
     "output_type": "stream",
     "text": [
      "noruning passwordrequre email noruning passwordrequre email\n"
     ]
    },
    {
     "name": "stderr",
     "output_type": "stream",
     "text": [
      " 29%|██▊       | 3812/13309 [04:01<14:15, 11.10it/s]"
     ]
    },
    {
     "name": "stdout",
     "output_type": "stream",
     "text": [
      "open my account open my account\n"
     ]
    },
    {
     "name": "stderr",
     "output_type": "stream",
     "text": [
      " 29%|██▉       | 3837/13315 [04:02<07:38, 20.68it/s]"
     ]
    },
    {
     "name": "stdout",
     "output_type": "stream",
     "text": [
      ":)  <br><br>Attach File : <a href='http://csupload.cyberlink.com/upload-file/support/cs/2018-03-06/CS001865241/CL_LOGCAT_DATA.zip' target=_blank>CL_LOGCAT_DATA.zip</a> attach file\n"
     ]
    },
    {
     "name": "stderr",
     "output_type": "stream",
     "text": [
      " 29%|██▉       | 3858/13315 [04:03<08:46, 17.98it/s]"
     ]
    },
    {
     "name": "stdout",
     "output_type": "stream",
     "text": [
      "Hi, Sir hi sir\n"
     ]
    },
    {
     "name": "stderr",
     "output_type": "stream",
     "text": [
      " 29%|██▉       | 3866/13315 [04:03<10:28, 15.03it/s]"
     ]
    },
    {
     "name": "stdout",
     "output_type": "stream",
     "text": [
      "down load reinstall down load reinstall\n"
     ]
    },
    {
     "name": "stderr",
     "output_type": "stream",
     "text": [
      " 27%|██▋       | 3561/13309 [04:05<17:05,  9.50it/s]"
     ]
    },
    {
     "name": "stdout",
     "output_type": "stream",
     "text": [
      "need download like need download like\n"
     ]
    },
    {
     "name": "stderr",
     "output_type": "stream",
     "text": [
      "\r",
      " 30%|██▉       | 3962/13309 [04:05<10:06, 15.42it/s]"
     ]
    },
    {
     "name": "stdout",
     "output_type": "stream",
     "text": [
      "unsubscribe me please unsubscribe me please\n"
     ]
    },
    {
     "name": "stderr",
     "output_type": "stream",
     "text": [
      " 29%|██▉       | 3873/13309 [04:05<08:46, 17.93it/s]"
     ]
    },
    {
     "name": "stdout",
     "output_type": "stream",
     "text": [
      "update update\n"
     ]
    },
    {
     "name": "stderr",
     "output_type": "stream",
     "text": [
      " 27%|██▋       | 3563/13309 [04:05<17:14,  9.42it/s]"
     ]
    },
    {
     "name": "stdout",
     "output_type": "stream",
     "text": [
      "Good<br><br>Attach File : <a href='http://csupload.cyberlink.com/upload-file/support/cs/2019-02-26/CS001995496/CL_PHOTODIRECTOR_DATA.zip' target=_blank>CL_PHOTODIRECTOR_DATA.zip</a> good attach file\n"
     ]
    },
    {
     "name": "stderr",
     "output_type": "stream",
     "text": [
      "\r",
      " 28%|██▊       | 3754/13309 [04:05<11:01, 14.43it/s]"
     ]
    },
    {
     "name": "stdout",
     "output_type": "stream",
     "text": [
      "good<br><br>Attach File : <a href='http://csupload.cyberlink.com/upload-file/support/cs/2019-03-01/CS001996202/CL_PHOTODIRECTOR_DATA.zip' target=_blank>CL_PHOTODIRECTOR_DATA.zip</a> good attach file\n"
     ]
    },
    {
     "name": "stderr",
     "output_type": "stream",
     "text": [
      "\r",
      " 29%|██▉       | 3875/13309 [04:05<10:43, 14.66it/s]"
     ]
    },
    {
     "name": "stdout",
     "output_type": "stream",
     "text": [
      "good<br><br>Attach File : <a href='http://csupload.cyberlink.com/upload-file/support/cs/2019-03-03/CS001997024/CL_PHOTODIRECTOR_DATA.zip' target=_blank>CL_PHOTODIRECTOR_DATA.zip</a> good attach file\n"
     ]
    },
    {
     "name": "stderr",
     "output_type": "stream",
     "text": [
      " 32%|███▏      | 4210/13309 [04:05<06:45, 22.45it/s]"
     ]
    },
    {
     "name": "stdout",
     "output_type": "stream",
     "text": [
      "good<br><br>Attach File : <a href='http://csupload.cyberlink.com/upload-file/support/cs/2019-03-04/CS001997194/CL_PHOTODIRECTOR_DATA.zip' target=_blank>CL_PHOTODIRECTOR_DATA.zip</a> good attach file\n"
     ]
    },
    {
     "name": "stderr",
     "output_type": "stream",
     "text": [
      " 36%|███▌      | 4746/13309 [04:06<05:57, 23.95it/s]"
     ]
    },
    {
     "name": "stdout",
     "output_type": "stream",
     "text": [
      "hg hg\n"
     ]
    },
    {
     "name": "stderr",
     "output_type": "stream",
     "text": [
      " 28%|██▊       | 3778/13309 [04:07<15:54,  9.99it/s]"
     ]
    },
    {
     "name": "stdout",
     "output_type": "stream",
     "text": [
      "Says doewnload expired say doewnload expire\n"
     ]
    },
    {
     "name": "stderr",
     "output_type": "stream",
     "text": [
      " 29%|██▉       | 3917/13315 [04:07<08:54, 17.58it/s]"
     ]
    },
    {
     "name": "stdout",
     "output_type": "stream",
     "text": [
      "hai hai\n"
     ]
    },
    {
     "name": "stderr",
     "output_type": "stream",
     "text": [
      " 28%|██▊       | 3785/13309 [04:08<16:24,  9.67it/s]"
     ]
    },
    {
     "name": "stdout",
     "output_type": "stream",
     "text": [
      "Esta bueno esto esta bueno esto\n"
     ]
    },
    {
     "name": "stderr",
     "output_type": "stream",
     "text": [
      " 36%|███▌      | 4793/13309 [04:08<06:00, 23.61it/s]"
     ]
    },
    {
     "name": "stdout",
     "output_type": "stream",
     "text": [
      "efects pleass efects plea\n"
     ]
    },
    {
     "name": "stderr",
     "output_type": "stream",
     "text": [
      " 30%|███       | 4029/13309 [04:09<09:46, 15.82it/s]"
     ]
    },
    {
     "name": "stdout",
     "output_type": "stream",
     "text": [
      "is the best.... be the\n"
     ]
    },
    {
     "name": "stderr",
     "output_type": "stream",
     "text": [
      " 32%|███▏      | 4297/13309 [04:09<08:26, 17.79it/s]"
     ]
    },
    {
     "name": "stdout",
     "output_type": "stream",
     "text": [
      "﻿<html><div dir=\"auto\"> Please remove watermark</div>   </html><br/>﻿ please remove watermark\n"
     ]
    },
    {
     "name": "stderr",
     "output_type": "stream",
     "text": [
      " 32%|███▏      | 4305/13309 [04:10<07:54, 19.00it/s]"
     ]
    },
    {
     "name": "stdout",
     "output_type": "stream",
     "text": [
      "09278610411<br><br>Attach File : <a href='http://csupload.cyberlink.com/upload-file/support/cs/2019-05-05/CS002018486/DeviceInfo.txt' target=_blank>DeviceInfo.txt</a> attach file\n"
     ]
    },
    {
     "name": "stderr",
     "output_type": "stream",
     "text": [
      " 29%|██▊       | 3821/13309 [04:10<08:59, 17.59it/s]"
     ]
    },
    {
     "name": "stdout",
     "output_type": "stream",
     "text": [
      "towhid<br><br>Attach File : <a href='http://csupload.cyberlink.com/upload-file/support/cs/2018-03-29/CS001873520/CL_PHOTODIRECTOR_DATA.zip' target=_blank>CL_PHOTODIRECTOR_DATA.zip</a> towhid attach file\n"
     ]
    },
    {
     "name": "stderr",
     "output_type": "stream",
     "text": [
      " 30%|██▉       | 3956/13309 [04:10<12:34, 12.39it/s]"
     ]
    },
    {
     "name": "stdout",
     "output_type": "stream",
     "text": [
      "tq<br><br>Attach File : <a href='http://csupload.cyberlink.com/upload-file/support/cs/2018-09-28/CS001938721/CL_PHOTODIRECTOR_DATA.zip' target=_blank>CL_PHOTODIRECTOR_DATA.zip</a> tq attach file\n"
     ]
    },
    {
     "name": "stderr",
     "output_type": "stream",
     "text": [
      " 36%|███▋      | 4846/13309 [04:10<05:35, 25.20it/s]"
     ]
    },
    {
     "name": "stdout",
     "output_type": "stream",
     "text": [
      "tq<br><br>Attach File : <a href='http://csupload.cyberlink.com/upload-file/support/cs/2019-06-29/CS002033627/CL_PHOTODIRECTOR_DATA.zip' target=_blank>CL_PHOTODIRECTOR_DATA.zip</a> tq attach file\n"
     ]
    },
    {
     "name": "stderr",
     "output_type": "stream",
     "text": [
      " 30%|██▉       | 3969/13315 [04:10<09:57, 15.64it/s]"
     ]
    },
    {
     "name": "stdout",
     "output_type": "stream",
     "text": [
      "unbloock<br><br>Attach File : <a href='http://csupload.cyberlink.com/upload-file/support/cs/2019-06-20/CS002031237/CL_PHOTODIRECTOR_DATA.zip' target=_blank>CL_PHOTODIRECTOR_DATA.zip</a> unbloock attach file\n"
     ]
    },
    {
     "name": "stderr",
     "output_type": "stream",
     "text": [
      " 37%|███▋      | 4867/13309 [04:10<04:47, 29.38it/s]"
     ]
    },
    {
     "name": "stdout",
     "output_type": "stream",
     "text": [
      "good <br><br>Attach File : <a href='http://csupload.cyberlink.com/upload-file/support/cs/2019-04-10/CS002010969/CL_PHOTODIRECTOR_DATA.zip' target=_blank>CL_PHOTODIRECTOR_DATA.zip</a> good attach file\n"
     ]
    },
    {
     "name": "stderr",
     "output_type": "stream",
     "text": [
      " 32%|███▏      | 4296/13309 [04:10<08:58, 16.73it/s]"
     ]
    },
    {
     "name": "stdout",
     "output_type": "stream",
     "text": [
      "Good <br><br>Attach File : <a href='http://csupload.cyberlink.com/upload-file/support/cs/2019-05-20/CS002022843/CL_PHOTODIRECTOR_DATA.zip' target=_blank>CL_PHOTODIRECTOR_DATA.zip</a> good attach file\n"
     ]
    },
    {
     "name": "stderr",
     "output_type": "stream",
     "text": [
      " 31%|███       | 4067/13309 [04:11<10:55, 14.10it/s]"
     ]
    },
    {
     "name": "stdout",
     "output_type": "stream",
     "text": [
      "good <br><br>Attach File : <a href='http://csupload.cyberlink.com/upload-file/support/cs/2019-06-18/CS002030646/CL_PHOTODIRECTOR_DATA.zip' target=_blank>CL_PHOTODIRECTOR_DATA.zip</a> good attach file\n"
     ]
    },
    {
     "name": "stderr",
     "output_type": "stream",
     "text": [
      " 29%|██▉       | 3836/13309 [04:11<11:14, 14.04it/s]"
     ]
    },
    {
     "name": "stdout",
     "output_type": "stream",
     "text": [
      "download had erroes download have erroes\n"
     ]
    },
    {
     "name": "stderr",
     "output_type": "stream",
     "text": [
      " 33%|███▎      | 4335/13309 [04:11<05:56, 25.21it/s]"
     ]
    },
    {
     "name": "stdout",
     "output_type": "stream",
     "text": [
      "downlod downlod\n"
     ]
    },
    {
     "name": "stderr",
     "output_type": "stream",
     "text": [
      " 31%|███       | 4073/13309 [04:11<14:15, 10.80it/s]"
     ]
    },
    {
     "name": "stdout",
     "output_type": "stream",
     "text": [
      "DZ Directorzone dz directorzone\n"
     ]
    },
    {
     "name": "stderr",
     "output_type": "stream",
     "text": [
      "\r",
      " 32%|███▏      | 4315/13309 [04:11<05:56, 25.22it/s]"
     ]
    },
    {
     "name": "stdout",
     "output_type": "stream",
     "text": [
      "e e\n"
     ]
    },
    {
     "name": "stderr",
     "output_type": "stream",
     "text": [
      " 29%|██▉       | 3845/13309 [04:12<17:38,  8.94it/s]"
     ]
    },
    {
     "name": "stdout",
     "output_type": "stream",
     "text": [
      "expression<br><br>Attach File : <a href='http://csupload.cyberlink.com/upload-file/support/cs/2019-06-11/CS002028867/CL_PHOTODIRECTOR_DATA.zip' target=_blank>CL_PHOTODIRECTOR_DATA.zip</a> expression attach file\n"
     ]
    },
    {
     "name": "stderr",
     "output_type": "stream",
     "text": [
      " 31%|███       | 4083/13309 [04:12<11:13, 13.70it/s]"
     ]
    },
    {
     "name": "stdout",
     "output_type": "stream",
     "text": [
      "Fantastico! <br><br>Attach File : <a href='http://csupload.cyberlink.com/upload-file/support/cs/2019-05-24/CS002023954/CL_PHOTODIRECTOR_DATA.zip' target=_blank>CL_PHOTODIRECTOR_DATA.zip</a> fantastico attach file\n"
     ]
    },
    {
     "name": "stderr",
     "output_type": "stream",
     "text": [
      " 31%|███       | 4085/13309 [04:12<10:19, 14.88it/s]"
     ]
    },
    {
     "name": "stdout",
     "output_type": "stream",
     "text": [
      "feel feel\n"
     ]
    },
    {
     "name": "stderr",
     "output_type": "stream",
     "text": [
      " 27%|██▋       | 3651/13309 [04:12<14:04, 11.43it/s]"
     ]
    },
    {
     "name": "stdout",
     "output_type": "stream",
     "text": [
      "Editing edit\n"
     ]
    },
    {
     "name": "stderr",
     "output_type": "stream",
     "text": [
      "\r",
      " 37%|███▋      | 4911/13309 [04:12<04:48, 29.06it/s]"
     ]
    },
    {
     "name": "stdout",
     "output_type": "stream",
     "text": [
      "editing video edit video\n"
     ]
    },
    {
     "name": "stderr",
     "output_type": "stream",
     "text": [
      " 30%|██▉       | 3988/13309 [04:12<13:38, 11.39it/s]"
     ]
    },
    {
     "name": "stdout",
     "output_type": "stream",
     "text": [
      "editor editor\n"
     ]
    },
    {
     "name": "stderr",
     "output_type": "stream",
     "text": [
      " 31%|███       | 4096/13309 [04:12<07:22, 20.82it/s]"
     ]
    },
    {
     "name": "stdout",
     "output_type": "stream",
     "text": [
      "Efect efect\n"
     ]
    },
    {
     "name": "stderr",
     "output_type": "stream",
     "text": [
      " 33%|███▎      | 4354/13309 [04:12<09:28, 15.75it/s]"
     ]
    },
    {
     "name": "stdout",
     "output_type": "stream",
     "text": [
      "Effect download effect download\n"
     ]
    },
    {
     "name": "stderr",
     "output_type": "stream",
     "text": [
      " 30%|███       | 4005/13315 [04:12<11:25, 13.59it/s]"
     ]
    },
    {
     "name": "stdout",
     "output_type": "stream",
     "text": [
      "english english\n"
     ]
    },
    {
     "name": "stderr",
     "output_type": "stream",
     "text": [
      " 30%|██▉       | 3992/13309 [04:12<11:58, 12.96it/s]"
     ]
    },
    {
     "name": "stdout",
     "output_type": "stream",
     "text": [
      "Esta bueno esto esta bueno esto\n"
     ]
    },
    {
     "name": "stderr",
     "output_type": "stream",
     "text": [
      " 30%|███       | 4007/13315 [04:12<10:35, 14.65it/s]"
     ]
    },
    {
     "name": "stdout",
     "output_type": "stream",
     "text": [
      "Esta bueno esto esta bueno esto\n",
      "Esta bueno esto esta bueno esto\n"
     ]
    },
    {
     "name": "stderr",
     "output_type": "stream",
     "text": [
      " 33%|███▎      | 4360/13309 [04:13<10:32, 14.16it/s]"
     ]
    },
    {
     "name": "stdout",
     "output_type": "stream",
     "text": [
      "Evoparser conflict message???? evoparser conflict message\n"
     ]
    },
    {
     "name": "stderr",
     "output_type": "stream",
     "text": [
      " 30%|███       | 3996/13309 [04:13<12:07, 12.80it/s]"
     ]
    },
    {
     "name": "stdout",
     "output_type": "stream",
     "text": [
      "editing edit\n"
     ]
    },
    {
     "name": "stderr",
     "output_type": "stream",
     "text": [
      " 33%|███▎      | 4342/13309 [04:13<06:28, 23.10it/s]"
     ]
    },
    {
     "name": "stdout",
     "output_type": "stream",
     "text": [
      "downloade downloade\n"
     ]
    },
    {
     "name": "stderr",
     "output_type": "stream",
     "text": [
      " 37%|███▋      | 4933/13309 [04:13<05:07, 27.27it/s]"
     ]
    },
    {
     "name": "stdout",
     "output_type": "stream",
     "text": [
      "dxsds dxsds\n"
     ]
    },
    {
     "name": "stderr",
     "output_type": "stream",
     "text": [
      " 30%|███       | 4024/13315 [04:13<08:44, 17.73it/s]"
     ]
    },
    {
     "name": "stdout",
     "output_type": "stream",
     "text": [
      "RAWALSOOMRO KARACHI PAKISTAN rawalsoomro karachi pakistan\n"
     ]
    },
    {
     "name": "stderr",
     "output_type": "stream",
     "text": [
      " 37%|███▋      | 4954/13309 [04:14<05:09, 26.99it/s]"
     ]
    },
    {
     "name": "stdout",
     "output_type": "stream",
     "text": [
      "﻿<html><div dir=\"auto\"> Over it</div>   </html><br/>﻿ over it\n"
     ]
    },
    {
     "name": "stderr",
     "output_type": "stream",
     "text": [
      " 31%|███       | 4127/13309 [04:14<07:49, 19.56it/s]"
     ]
    },
    {
     "name": "stdout",
     "output_type": "stream",
     "text": [
      "﻿<html><p dir=\"ltr\"> 9024625986</p>   </html><br/>﻿ \n"
     ]
    },
    {
     "name": "stderr",
     "output_type": "stream",
     "text": [
      " 33%|███▎      | 4373/13309 [04:14<06:37, 22.48it/s]"
     ]
    },
    {
     "name": "stdout",
     "output_type": "stream",
     "text": [
      "﻿<html><p dir=\"ltr\"> Akash kumar</p>   </html><br/>﻿ akash kumar\n"
     ]
    },
    {
     "name": "stderr",
     "output_type": "stream",
     "text": [
      " 37%|███▋      | 4983/13309 [04:15<05:49, 23.80it/s]"
     ]
    },
    {
     "name": "stdout",
     "output_type": "stream",
     "text": [
      "Test<br><br>Attach File : <a href='http://csupload.cyberlink.com/upload-file/support/cs/2018-07-16/CS001914289/feedback_data.zip' target=_blank>feedback_data.zip</a> test attach file\n"
     ]
    },
    {
     "name": "stderr",
     "output_type": "stream",
     "text": [
      " 30%|███       | 4038/13309 [04:15<10:29, 14.73it/s]"
     ]
    },
    {
     "name": "stdout",
     "output_type": "stream",
     "text": [
      "director director\n"
     ]
    },
    {
     "name": "stderr",
     "output_type": "stream",
     "text": [
      " 31%|███       | 4063/13309 [04:17<16:19,  9.44it/s]"
     ]
    },
    {
     "name": "stdout",
     "output_type": "stream",
     "text": [
      "http://doxycycline-cheapbuy.site/ - doxycycline-cheapbuy.site.ankor <a href=\"http://onlinebuycytotec.site/\">onlinebuycytotec.site.ankor</a> http://tadalafilcialis-cheapestprice.site/ \n"
     ]
    },
    {
     "name": "stderr",
     "output_type": "stream",
     "text": [
      " 33%|███▎      | 4447/13309 [04:18<14:45, 10.00it/s]"
     ]
    },
    {
     "name": "stdout",
     "output_type": "stream",
     "text": [
      "imran imran\n"
     ]
    },
    {
     "name": "stderr",
     "output_type": "stream",
     "text": [
      " 30%|██▉       | 3968/13309 [04:19<09:56, 15.67it/s]"
     ]
    },
    {
     "name": "stdout",
     "output_type": "stream",
     "text": [
      "Hgf<br><br>Attach File : <a href='http://csupload.cyberlink.com/upload-file/support/cs/2019-03-28/CS002007274/CL_PHOTODIRECTOR_DATA.zip' target=_blank>CL_PHOTODIRECTOR_DATA.zip</a> hgf attach file\n"
     ]
    },
    {
     "name": "stderr",
     "output_type": "stream",
     "text": [
      " 31%|███       | 4081/13309 [04:19<12:22, 12.42it/s]"
     ]
    },
    {
     "name": "stdout",
     "output_type": "stream",
     "text": [
      "hggg<br><br>Attach File : <a href='http://csupload.cyberlink.com/upload-file/support/cs/2018-11-04/CS001950803/CL_PHOTODIRECTOR_DATA.zip' target=_blank>CL_PHOTODIRECTOR_DATA.zip</a> hggg attach file\n"
     ]
    },
    {
     "name": "stderr",
     "output_type": "stream",
     "text": [
      " 34%|███▎      | 4465/13309 [04:19<09:12, 16.01it/s]"
     ]
    },
    {
     "name": "stdout",
     "output_type": "stream",
     "text": [
      "hhj<br><br>Attach File : <a href='http://csupload.cyberlink.com/upload-file/support/cs/2019-05-13/CS002020808/CL_PHOTODIRECTOR_DATA.zip' target=_blank>CL_PHOTODIRECTOR_DATA.zip</a> hhj attach file\n"
     ]
    },
    {
     "name": "stderr",
     "output_type": "stream",
     "text": [
      " 31%|███       | 4131/13315 [04:20<08:56, 17.12it/s]"
     ]
    },
    {
     "name": "stdout",
     "output_type": "stream",
     "text": [
      "Can't install product. can t install\n"
     ]
    },
    {
     "name": "stderr",
     "output_type": "stream",
     "text": [
      " 34%|███▎      | 4480/13309 [04:20<09:12, 15.99it/s]"
     ]
    },
    {
     "name": "stdout",
     "output_type": "stream",
     "text": [
      "direct zone direct zone\n"
     ]
    },
    {
     "name": "stderr",
     "output_type": "stream",
     "text": [
      "\r",
      " 28%|██▊       | 3757/13309 [04:20<11:50, 13.45it/s]"
     ]
    },
    {
     "name": "stdout",
     "output_type": "stream",
     "text": [
      "DirectorZone가입 directorzone\n"
     ]
    },
    {
     "name": "stderr",
     "output_type": "stream",
     "text": [
      " 31%|███       | 4101/13309 [04:20<12:59, 11.82it/s]"
     ]
    },
    {
     "name": "stdout",
     "output_type": "stream",
     "text": [
      "Download link download link\n"
     ]
    },
    {
     "name": "stderr",
     "output_type": "stream",
     "text": [
      " 34%|███▍      | 4505/13309 [04:21<07:18, 20.09it/s]"
     ]
    },
    {
     "name": "stdout",
     "output_type": "stream",
     "text": [
      "dfghbhgf dfghbhgf\n"
     ]
    },
    {
     "name": "stderr",
     "output_type": "stream",
     "text": [
      "\r",
      " 38%|███▊      | 5096/13309 [04:21<06:33, 20.89it/s]"
     ]
    },
    {
     "name": "stdout",
     "output_type": "stream",
     "text": [
      "dfgnlgdjg dfgnlgdjg\n"
     ]
    },
    {
     "name": "stderr",
     "output_type": "stream",
     "text": [
      " 32%|███▏      | 4240/13309 [04:21<08:12, 18.41it/s]"
     ]
    },
    {
     "name": "stdout",
     "output_type": "stream",
     "text": [
      "dgffdg dgffdg\n"
     ]
    },
    {
     "name": "stderr",
     "output_type": "stream",
     "text": [
      " 28%|██▊       | 3777/13309 [04:22<12:25, 12.79it/s]"
     ]
    },
    {
     "name": "stdout",
     "output_type": "stream",
     "text": [
      " feedback <br><br>Attach File : <a href='http://csupload.cyberlink.com/upload-file/support/cs/2018-03-29/CS001873804/CL_LOGCAT_DATA.zip' target=_blank>CL_LOGCAT_DATA.zip</a> feedback attach file\n"
     ]
    },
    {
     "name": "stderr",
     "output_type": "stream",
     "text": [
      "\r",
      " 31%|███       | 4114/13309 [04:22<13:43, 11.17it/s]"
     ]
    },
    {
     "name": "stdout",
     "output_type": "stream",
     "text": [
      " Hmdndjf<br><br>Attach File : <a href='http://csupload.cyberlink.com/upload-file/support/cs/2018-11-12/CS001953596/feedback_data.zip' target=_blank>feedback_data.zip</a> hmdndjf attach file\n"
     ]
    },
    {
     "name": "stderr",
     "output_type": "stream",
     "text": [
      " 39%|███▊      | 5132/13309 [04:22<05:58, 22.84it/s]"
     ]
    },
    {
     "name": "stdout",
     "output_type": "stream",
     "text": [
      "hai<br><br>Attach File : <a href='http://csupload.cyberlink.com/upload-file/support/cs/2018-12-09/CS001963920/CL_PHOTODIRECTOR_DATA.zip' target=_blank>CL_PHOTODIRECTOR_DATA.zip</a> hai attach file\n"
     ]
    },
    {
     "name": "stderr",
     "output_type": "stream",
     "text": [
      " 31%|███▏      | 4181/13315 [04:23<09:03, 16.79it/s]"
     ]
    },
    {
     "name": "stdout",
     "output_type": "stream",
     "text": [
      "I'm sorry. i m\n"
     ]
    },
    {
     "name": "stderr",
     "output_type": "stream",
     "text": [
      " 31%|███       | 4128/13309 [04:23<11:37, 13.16it/s]"
     ]
    },
    {
     "name": "stdout",
     "output_type": "stream",
     "text": [
      "ESTA eadit esta eadit\n"
     ]
    },
    {
     "name": "stderr",
     "output_type": "stream",
     "text": [
      " 39%|███▉      | 5164/13309 [04:23<05:16, 25.74it/s]"
     ]
    },
    {
     "name": "stdout",
     "output_type": "stream",
     "text": [
      "good<br><br>Attach File : <a href='http://csupload.cyberlink.com/upload-file/support/cs/2019-02-23/CS001994015/CL_PHOTODIRECTOR_DATA.zip' target=_blank>CL_PHOTODIRECTOR_DATA.zip</a> good attach file\n"
     ]
    },
    {
     "name": "stderr",
     "output_type": "stream",
     "text": [
      " 34%|███▍      | 4554/13309 [04:23<05:58, 24.43it/s]"
     ]
    },
    {
     "name": "stdout",
     "output_type": "stream",
     "text": [
      "Help<br><br>Attach File : <a href=\"http://csupload.cyberlink.com/upload-file/support/cs/2019-02-18/CS001991757/CS001991757-1550517055761-0.jpg\" target=_blank>CS001991757-1550517055761-0.jpg</a> help attach file\n"
     ]
    },
    {
     "name": "stderr",
     "output_type": "stream",
     "text": [
      " 32%|███▏      | 4276/13309 [04:25<13:16, 11.33it/s]"
     ]
    },
    {
     "name": "stdout",
     "output_type": "stream",
     "text": [
      "cancel subscription cancel subscription\n"
     ]
    },
    {
     "name": "stderr",
     "output_type": "stream",
     "text": [
      "\r",
      " 29%|██▊       | 3821/13309 [04:25<14:45, 10.71it/s]"
     ]
    },
    {
     "name": "stdout",
     "output_type": "stream",
     "text": [
      "교육 \n",
      "cancel my membership cancel my membership\n"
     ]
    },
    {
     "name": "stderr",
     "output_type": "stream",
     "text": [
      " 32%|███▏      | 4311/13309 [04:27<09:55, 15.10it/s]"
     ]
    },
    {
     "name": "stdout",
     "output_type": "stream",
     "text": [
      "Feedback <br><br>Attach File : <a href='http://csupload.cyberlink.com/upload-file/support/cs/2018-04-20/CS001881663/feedback_data.zip' target=_blank>feedback_data.zip</a> feedback attach file\n"
     ]
    },
    {
     "name": "stderr",
     "output_type": "stream",
     "text": [
      " 35%|███▍      | 4619/13309 [04:27<09:20, 15.51it/s]"
     ]
    },
    {
     "name": "stdout",
     "output_type": "stream",
     "text": [
      "good <br><br>Attach File : <a href='http://csupload.cyberlink.com/upload-file/support/cs/2019-03-23/CS002004520/CL_PHOTODIRECTOR_DATA.zip' target=_blank>CL_PHOTODIRECTOR_DATA.zip</a> good attach file\n"
     ]
    },
    {
     "name": "stderr",
     "output_type": "stream",
     "text": [
      " 35%|███▍      | 4600/13309 [04:27<17:36,  8.25it/s]"
     ]
    },
    {
     "name": "stdout",
     "output_type": "stream",
     "text": [
      "thnx<br><br>Attach File : <a href='http://csupload.cyberlink.com/upload-file/support/cs/2019-03-28/CS002007220/CL_PHOTODIRECTOR_DATA.zip' target=_blank>CL_PHOTODIRECTOR_DATA.zip</a> thnx attach file\n"
     ]
    },
    {
     "name": "stderr",
     "output_type": "stream",
     "text": [
      " 31%|███       | 4111/13309 [04:27<10:21, 14.79it/s]"
     ]
    },
    {
     "name": "stdout",
     "output_type": "stream",
     "text": [
      "excellent<br><br>Attach File : <a href='http://csupload.cyberlink.com/upload-file/support/cs/2019-05-04/CS002018304/CL_PHOTODIRECTOR_DATA.zip' target=_blank>CL_PHOTODIRECTOR_DATA.zip</a> excellent attach file\n"
     ]
    },
    {
     "name": "stderr",
     "output_type": "stream",
     "text": [
      " 33%|███▎      | 4329/13309 [04:28<07:52, 19.01it/s]"
     ]
    },
    {
     "name": "stdout",
     "output_type": "stream",
     "text": [
      "excilent<br><br>Attach File : <a href='http://csupload.cyberlink.com/upload-file/support/cs/2019-05-26/CS002024594/CL_PHOTODIRECTOR_DATA.zip' target=_blank>CL_PHOTODIRECTOR_DATA.zip</a> excilent attach file\n"
     ]
    },
    {
     "name": "stderr",
     "output_type": "stream",
     "text": [
      " 32%|███▏      | 4201/13309 [04:28<12:33, 12.09it/s]"
     ]
    },
    {
     "name": "stdout",
     "output_type": "stream",
     "text": [
      "Excellent<br><br>Attach File : <a href='http://csupload.cyberlink.com/upload-file/support/cs/2019-04-29/CS002016693/CL_PHOTODIRECTOR_DATA.zip' target=_blank>CL_PHOTODIRECTOR_DATA.zip</a> excellent attach file\n"
     ]
    },
    {
     "name": "stderr",
     "output_type": "stream",
     "text": [
      " 35%|███▍      | 4645/13309 [04:28<07:46, 18.57it/s]"
     ]
    },
    {
     "name": "stdout",
     "output_type": "stream",
     "text": [
      "I lost my program. i lose my\n"
     ]
    },
    {
     "name": "stderr",
     "output_type": "stream",
     "text": [
      " 32%|███▏      | 4203/13309 [04:28<14:33, 10.43it/s]"
     ]
    },
    {
     "name": "stdout",
     "output_type": "stream",
     "text": [
      "heeeee<br><br>Attach File : <a href='http://csupload.cyberlink.com/upload-file/support/cs/2018-04-03/CS001875347/DeviceInfo.txt' target=_blank>DeviceInfo.txt</a> heeeee attach file\n"
     ]
    },
    {
     "name": "stderr",
     "output_type": "stream",
     "text": [
      " 31%|███       | 4133/13309 [04:28<07:06, 21.52it/s]"
     ]
    },
    {
     "name": "stdout",
     "output_type": "stream",
     "text": [
      "Please cancel my subscription.  jamesguiffre@gmail.com please cancel my\n"
     ]
    },
    {
     "name": "stderr",
     "output_type": "stream",
     "text": [
      " 40%|███▉      | 5308/13309 [04:30<09:01, 14.78it/s]"
     ]
    },
    {
     "name": "stdout",
     "output_type": "stream",
     "text": [
      "PLease  cancel my membership. please cancel my\n"
     ]
    },
    {
     "name": "stderr",
     "output_type": "stream",
     "text": [
      "\r",
      " 31%|███       | 4157/13309 [04:30<09:10, 16.62it/s]"
     ]
    },
    {
     "name": "stdout",
     "output_type": "stream",
     "text": [
      "great <br><br>Attach File : <a href='http://csupload.cyberlink.com/upload-file/support/cs/2018-11-12/CS001953965/CL_LOGCAT_DATA.zip' target=_blank>CL_LOGCAT_DATA.zip</a> great attach file\n"
     ]
    },
    {
     "name": "stderr",
     "output_type": "stream",
     "text": [
      " 35%|███▍      | 4656/13309 [04:30<07:59, 18.05it/s]"
     ]
    },
    {
     "name": "stdout",
     "output_type": "stream",
     "text": [
      "hawartaaa<br><br>Attach File : <a href='http://csupload.cyberlink.com/upload-file/support/cs/2018-12-16/CS001966097/CL_LOGCAT_DATA.zip' target=_blank>CL_LOGCAT_DATA.zip</a> hawartaaa attach file\n"
     ]
    },
    {
     "name": "stderr",
     "output_type": "stream",
     "text": [
      " 29%|██▉       | 3888/13309 [04:30<13:04, 12.01it/s]"
     ]
    },
    {
     "name": "stdout",
     "output_type": "stream",
     "text": [
      "Unable to launch  unable to launch\n"
     ]
    },
    {
     "name": "stderr",
     "output_type": "stream",
     "text": [
      " 33%|███▎      | 4343/13315 [04:30<05:38, 26.53it/s]"
     ]
    },
    {
     "name": "stdout",
     "output_type": "stream",
     "text": [
      "ERROR 102 error\n"
     ]
    },
    {
     "name": "stderr",
     "output_type": "stream",
     "text": [
      " 32%|███▏      | 4225/13309 [04:31<16:02,  9.44it/s]"
     ]
    },
    {
     "name": "stdout",
     "output_type": "stream",
     "text": [
      "plz...... avoid adds...its disgusting.....<br><br>Attach File : <a href='http://csupload.cyberlink.com/upload-file/support/cs/2019-03-14/CS002000487/CL_LOGCAT_DATA.zip' target=_blank>CL_LOGCAT_DATA.zip</a> avoid attach file\n"
     ]
    },
    {
     "name": "stderr",
     "output_type": "stream",
     "text": [
      " 35%|███▌      | 4696/13309 [04:33<09:28, 15.15it/s]"
     ]
    },
    {
     "name": "stdout",
     "output_type": "stream",
     "text": [
      "scherm resolutie scherm resolutie\n"
     ]
    },
    {
     "name": "stderr",
     "output_type": "stream",
     "text": [
      " 30%|██▉       | 3943/13309 [04:35<13:26, 11.61it/s]"
     ]
    },
    {
     "name": "stdout",
     "output_type": "stream",
     "text": [
      "open my account open my account\n"
     ]
    },
    {
     "name": "stderr",
     "output_type": "stream",
     "text": [
      " 33%|███▎      | 4429/13315 [04:36<10:51, 13.64it/s]"
     ]
    },
    {
     "name": "stdout",
     "output_type": "stream",
     "text": [
      "nice .  <br><br>Attach File : <a href='http://csupload.cyberlink.com/upload-file/support/cs/2019-04-04/CS002009414/CL_LOGCAT_DATA.zip' target=_blank>CL_LOGCAT_DATA.zip</a> nice attach file\n"
     ]
    },
    {
     "name": "stderr",
     "output_type": "stream",
     "text": [
      "\r",
      " 34%|███▍      | 4493/13309 [04:36<12:53, 11.40it/s]"
     ]
    },
    {
     "name": "stdout",
     "output_type": "stream",
     "text": [
      "nice <br><br>Attach File : <a href='http://csupload.cyberlink.com/upload-file/support/cs/2018-11-12/CS001953950/CL_LOGCAT_DATA.zip' target=_blank>CL_LOGCAT_DATA.zip</a> nice attach file\n"
     ]
    },
    {
     "name": "stderr",
     "output_type": "stream",
     "text": [
      " 41%|████      | 5404/13309 [04:36<07:34, 17.38it/s]"
     ]
    },
    {
     "name": "stdout",
     "output_type": "stream",
     "text": [
      "nice<br><br>Attach File : <a href='http://csupload.cyberlink.com/upload-file/support/cs/2018-11-25/CS001958132/CL_LOGCAT_DATA.zip' target=_blank>CL_LOGCAT_DATA.zip</a> nice attach file\n",
      "nice<br><br>Attach File : <a href='http://csupload.cyberlink.com/upload-file/support/cs/2019-03-09/CS001998878/CL_LOGCAT_DATA.zip' target=_blank>CL_LOGCAT_DATA.zip</a> nice attach file\n"
     ]
    },
    {
     "name": "stderr",
     "output_type": "stream",
     "text": [
      " 36%|███▌      | 4767/13309 [04:37<11:33, 12.32it/s]"
     ]
    },
    {
     "name": "stdout",
     "output_type": "stream",
     "text": [
      "CS001955464<br><br>Attach File : <a href=\"http://csupload.cyberlink.com/upload-file/support/cs/2018-11-20/CS001956542/CS001956542-1542726338043-0.jpg\" target=_blank>CS001956542-1542726338043-0.jpg</a> c attach file\n"
     ]
    },
    {
     "name": "stderr",
     "output_type": "stream",
     "text": [
      " 32%|███▏      | 4315/13309 [04:38<20:32,  7.29it/s]"
     ]
    },
    {
     "name": "stdout",
     "output_type": "stream",
     "text": [
      "﻿<html><div dir=\"auto\"> Nice app</div>   </html><br/>﻿ nice app\n"
     ]
    },
    {
     "name": "stderr",
     "output_type": "stream",
     "text": [
      " 36%|███▌      | 4773/13309 [04:38<10:06, 14.07it/s]"
     ]
    },
    {
     "name": "stdout",
     "output_type": "stream",
     "text": [
      "POWERDVD 13.0 无法升级<br><br>Attach File : <a href=\"http://csupload.cyberlink.com/upload-file/support/cs/2018-01-01/CS001839163/CS001839163-1514863781318-0.zip\" target=_blank>CS001839163-1514863781318-0.zip</a> powerdvd attach file\n"
     ]
    },
    {
     "name": "stderr",
     "output_type": "stream",
     "text": [
      " 33%|███▎      | 4347/13309 [04:41<13:28, 11.09it/s]"
     ]
    },
    {
     "name": "stdout",
     "output_type": "stream",
     "text": [
      "Question question\n"
     ]
    },
    {
     "name": "stderr",
     "output_type": "stream",
     "text": [
      " 34%|███▍      | 4575/13309 [04:41<08:03, 18.07it/s]"
     ]
    },
    {
     "name": "stdout",
     "output_type": "stream",
     "text": [
      "refund request refund request\n"
     ]
    },
    {
     "name": "stderr",
     "output_type": "stream",
     "text": [
      " 34%|███▍      | 4532/13315 [04:41<07:53, 18.54it/s]"
     ]
    },
    {
     "name": "stdout",
     "output_type": "stream",
     "text": [
      "comment comment\n"
     ]
    },
    {
     "name": "stderr",
     "output_type": "stream",
     "text": [
      " 37%|███▋      | 4874/13309 [04:42<07:53, 17.81it/s]"
     ]
    },
    {
     "name": "stdout",
     "output_type": "stream",
     "text": [
      "Contact CyberLink Webmaster contact cyberlink webmaster\n"
     ]
    },
    {
     "name": "stderr",
     "output_type": "stream",
     "text": [
      " 34%|███▍      | 4591/13309 [04:42<09:08, 15.91it/s]"
     ]
    },
    {
     "name": "stdout",
     "output_type": "stream",
     "text": [
      "corret password corret password\n"
     ]
    },
    {
     "name": "stderr",
     "output_type": "stream",
     "text": [
      " 34%|███▍      | 4542/13315 [04:42<07:11, 20.35it/s]"
     ]
    },
    {
     "name": "stdout",
     "output_type": "stream",
     "text": [
      "CCCCCCCCCCCCCCCCCCCCCCCCCCCCCCC ccccccccccccccccccccccccccccccc\n"
     ]
    },
    {
     "name": "stderr",
     "output_type": "stream",
     "text": [
      " 36%|███▋      | 4840/13309 [04:42<06:33, 21.52it/s]"
     ]
    },
    {
     "name": "stdout",
     "output_type": "stream",
     "text": [
      "cant open cant open\n"
     ]
    },
    {
     "name": "stderr",
     "output_type": "stream",
     "text": [
      " 33%|███▎      | 4361/13309 [04:42<15:05,  9.88it/s]"
     ]
    },
    {
     "name": "stdout",
     "output_type": "stream",
     "text": [
      "como lo consigo? como lo consigo\n"
     ]
    },
    {
     "name": "stderr",
     "output_type": "stream",
     "text": [
      " 35%|███▍      | 4597/13309 [04:42<09:36, 15.10it/s]"
     ]
    },
    {
     "name": "stdout",
     "output_type": "stream",
     "text": [
      "شكرا \n",
      "가입 \n"
     ]
    },
    {
     "name": "stderr",
     "output_type": "stream",
     "text": [
      " 37%|███▋      | 4916/13309 [04:46<08:13, 17.01it/s]"
     ]
    },
    {
     "name": "stdout",
     "output_type": "stream",
     "text": [
      "akka akka\n"
     ]
    },
    {
     "name": "stderr",
     "output_type": "stream",
     "text": [
      " 37%|███▋      | 4933/13309 [04:47<11:43, 11.91it/s]"
     ]
    },
    {
     "name": "stdout",
     "output_type": "stream",
     "text": [
      "Unable to install  unable to install\n"
     ]
    },
    {
     "name": "stderr",
     "output_type": "stream",
     "text": [
      " 37%|███▋      | 4935/13309 [04:47<11:21, 12.28it/s]"
     ]
    },
    {
     "name": "stdout",
     "output_type": "stream",
     "text": [
      "ШЩПГПШЩГЩШГП \n"
     ]
    },
    {
     "name": "stderr",
     "output_type": "stream",
     "text": [
      " 35%|███▍      | 4645/13315 [04:49<10:30, 13.75it/s]"
     ]
    },
    {
     "name": "stdout",
     "output_type": "stream",
     "text": [
      "11.02.2002 \n"
     ]
    },
    {
     "name": "stderr",
     "output_type": "stream",
     "text": [
      " 33%|███▎      | 4427/13309 [04:49<08:12, 18.02it/s]"
     ]
    },
    {
     "name": "stdout",
     "output_type": "stream",
     "text": [
      "Download  download\n"
     ]
    },
    {
     "name": "stderr",
     "output_type": "stream",
     "text": [
      " 31%|███       | 4127/13309 [04:50<13:12, 11.59it/s]"
     ]
    },
    {
     "name": "stdout",
     "output_type": "stream",
     "text": [
      "download links lost download link lose\n"
     ]
    },
    {
     "name": "stderr",
     "output_type": "stream",
     "text": [
      " 38%|███▊      | 5087/13309 [04:53<06:40, 20.52it/s]"
     ]
    },
    {
     "name": "stdout",
     "output_type": "stream",
     "text": [
      "CyberLink Download Links cyberlink download link\n"
     ]
    },
    {
     "name": "stderr",
     "output_type": "stream",
     "text": [
      " 38%|███▊      | 5107/13309 [04:55<10:00, 13.66it/s]"
     ]
    },
    {
     "name": "stdout",
     "output_type": "stream",
     "text": [
      "Incredibly Aggrevating incredibly aggrevating\n"
     ]
    },
    {
     "name": "stderr",
     "output_type": "stream",
     "text": [
      " 38%|███▊      | 5123/13309 [04:56<10:15, 13.31it/s]"
     ]
    },
    {
     "name": "stdout",
     "output_type": "stream",
     "text": [
      "﻿<html><p dir=\"ltr\"> New upgdite </p>   </html><br/>﻿ new upgdite\n"
     ]
    },
    {
     "name": "stderr",
     "output_type": "stream",
     "text": [
      " 43%|████▎     | 5670/13309 [04:56<07:01, 18.14it/s]"
     ]
    },
    {
     "name": "stdout",
     "output_type": "stream",
     "text": [
      "﻿<!DOCTYPE HTML PUBLIC \"-//W3C//DTD HTML 3.2//EN\">   <HTML>   <HEAD>   <META NAME=\"Generator\" CONTENT=\"MS Exchange Server version 08.00.0681.000\">   <TITLE> </TITLE>   </HEAD>   <BODY>   <!-- Converted from text/plain format -->   <BR>   <BR>     </BODY>   </HTML> <br/>﻿<a target='_blank' href=\"http://csupload.cyberlink.com/upload-file/support/ic/20190418/WM1555563139144_IMG_3399.JPG\">IMG_3399.JPG</a><br/><a target='_blank' href=\"http://csupload.cyberlink.com/upload-file/support/ic/20190418/WM1555563139144_ATT00001.txt\">ATT00001.txt</a><br/> \n"
     ]
    },
    {
     "name": "stderr",
     "output_type": "stream",
     "text": [
      " 32%|███▏      | 4220/13309 [04:57<10:47, 14.04it/s]"
     ]
    },
    {
     "name": "stdout",
     "output_type": "stream",
     "text": [
      "youcam 7 deluxe reinstallation youcam deluxe reinstallation\n"
     ]
    },
    {
     "name": "stderr",
     "output_type": "stream",
     "text": [
      " 39%|███▊      | 5128/13309 [04:58<07:45, 17.58it/s]"
     ]
    },
    {
     "name": "stdout",
     "output_type": "stream",
     "text": [
      "buenas video buenas video\n",
      "cannot register can not register\n"
     ]
    },
    {
     "name": "stderr",
     "output_type": "stream",
     "text": [
      " 36%|███▌      | 4793/13315 [04:58<09:41, 14.66it/s]"
     ]
    },
    {
     "name": "stdout",
     "output_type": "stream",
     "text": [
      "cam chating cam chat\n"
     ]
    },
    {
     "name": "stderr",
     "output_type": "stream",
     "text": [
      " 37%|███▋      | 4894/13309 [04:58<11:55, 11.77it/s]"
     ]
    },
    {
     "name": "stdout",
     "output_type": "stream",
     "text": [
      "Cancel membership now cancel membership now\n"
     ]
    },
    {
     "name": "stderr",
     "output_type": "stream",
     "text": [
      " 34%|███▍      | 4533/13309 [04:59<17:35,  8.31it/s]"
     ]
    },
    {
     "name": "stdout",
     "output_type": "stream",
     "text": [
      "100% Excellent <br><br>Attach File : <a href='http://csupload.cyberlink.com/upload-file/support/cs/2019-02-16/CS001990929/CL_PHOTODIRECTOR_DATA.zip' target=_blank>CL_PHOTODIRECTOR_DATA.zip</a> excellent attach file\n"
     ]
    },
    {
     "name": "stderr",
     "output_type": "stream",
     "text": [
      " 32%|███▏      | 4253/13309 [05:00<12:06, 12.46it/s]"
     ]
    },
    {
     "name": "stdout",
     "output_type": "stream",
     "text": [
      "5 Star<br><br>Attach File : <a href='http://csupload.cyberlink.com/upload-file/support/cs/2018-10-22/CS001946541/CL_PHOTODIRECTOR_DATA.zip' target=_blank>CL_PHOTODIRECTOR_DATA.zip</a> star attach file\n"
     ]
    },
    {
     "name": "stderr",
     "output_type": "stream",
     "text": [
      " 34%|███▍      | 4541/13309 [05:00<14:22, 10.17it/s]"
     ]
    },
    {
     "name": "stdout",
     "output_type": "stream",
     "text": [
      "5 STAR<br><br>Attach File : <a href='http://csupload.cyberlink.com/upload-file/support/cs/2018-11-16/CS001955201/CL_PHOTODIRECTOR_DATA.zip' target=_blank>CL_PHOTODIRECTOR_DATA.zip</a> star attach file\n"
     ]
    },
    {
     "name": "stderr",
     "output_type": "stream",
     "text": [
      " 32%|███▏      | 4255/13309 [05:00<12:33, 12.02it/s]"
     ]
    },
    {
     "name": "stdout",
     "output_type": "stream",
     "text": [
      "6.0<br><br>Attach File : <a href='http://csupload.cyberlink.com/upload-file/support/cs/2019-01-10/CS001978652/CL_PHOTODIRECTOR_DATA.zip' target=_blank>CL_PHOTODIRECTOR_DATA.zip</a> attach file\n"
     ]
    },
    {
     "name": "stderr",
     "output_type": "stream",
     "text": [
      " 34%|███▍      | 4574/13309 [05:00<08:14, 17.68it/s]"
     ]
    },
    {
     "name": "stdout",
     "output_type": "stream",
     "text": [
      "aaa<br><br>Attach File : <a href='http://csupload.cyberlink.com/upload-file/support/cs/2019-06-24/CS002032277/CL_PHOTODIRECTOR_DATA.zip' target=_blank>CL_PHOTODIRECTOR_DATA.zip</a> aaa attach file\n"
     ]
    },
    {
     "name": "stderr",
     "output_type": "stream",
     "text": [
      " 36%|███▋      | 4851/13315 [05:01<10:45, 13.12it/s]"
     ]
    },
    {
     "name": "stdout",
     "output_type": "stream",
     "text": [
      "open<br><br>Attach File : <a href='http://csupload.cyberlink.com/upload-file/support/cs/2019-01-11/CS001978976/DeviceInfo.txt' target=_blank>DeviceInfo.txt</a> open attach file\n"
     ]
    },
    {
     "name": "stderr",
     "output_type": "stream",
     "text": [
      " 35%|███▍      | 4603/13309 [05:02<08:54, 16.28it/s]"
     ]
    },
    {
     "name": "stdout",
     "output_type": "stream",
     "text": [
      "hiii<br><br>Attach File : <a href='http://csupload.cyberlink.com/upload-file/support/cs/2018-11-20/CS001956743/CL_PHOTODIRECTOR_DATA.zip' target=_blank>CL_PHOTODIRECTOR_DATA.zip</a> hiii attach file\n"
     ]
    },
    {
     "name": "stderr",
     "output_type": "stream",
     "text": [
      " 36%|███▋      | 4857/13315 [05:02<10:26, 13.50it/s]"
     ]
    },
    {
     "name": "stdout",
     "output_type": "stream",
     "text": [
      "hmmm<br><br>Attach File : <a href='http://csupload.cyberlink.com/upload-file/support/cs/2019-07-13/CS002038228/CL_PHOTODIRECTOR_DATA.zip' target=_blank>CL_PHOTODIRECTOR_DATA.zip</a> hmmm attach file\n"
     ]
    },
    {
     "name": "stderr",
     "output_type": "stream",
     "text": [
      " 39%|███▉      | 5192/13309 [05:02<08:00, 16.89it/s]"
     ]
    },
    {
     "name": "stdout",
     "output_type": "stream",
     "text": [
      "hob<br><br>Attach File : <a href='http://csupload.cyberlink.com/upload-file/support/cs/2019-01-18/CS001981385/CL_PHOTODIRECTOR_DATA.zip' target=_blank>CL_PHOTODIRECTOR_DATA.zip</a> hob attach file\n"
     ]
    },
    {
     "name": "stderr",
     "output_type": "stream",
     "text": [
      " 34%|███▍      | 4580/13309 [05:03<10:25, 13.95it/s]"
     ]
    },
    {
     "name": "stdout",
     "output_type": "stream",
     "text": [
      "Akbar akbar\n"
     ]
    },
    {
     "name": "stderr",
     "output_type": "stream",
     "text": [
      " 38%|███▊      | 4992/13309 [05:04<07:49, 17.71it/s]"
     ]
    },
    {
     "name": "stdout",
     "output_type": "stream",
     "text": [
      "PCF0318 pcf\n"
     ]
    },
    {
     "name": "stderr",
     "output_type": "stream",
     "text": [
      " 40%|███▉      | 5277/13309 [05:05<07:37, 17.55it/s]"
     ]
    },
    {
     "name": "stdout",
     "output_type": "stream",
     "text": [
      "PCF0318 pcf\n"
     ]
    },
    {
     "name": "stderr",
     "output_type": "stream",
     "text": [
      " 38%|███▊      | 5011/13309 [05:06<09:35, 14.42it/s]"
     ]
    },
    {
     "name": "stdout",
     "output_type": "stream",
     "text": [
      "https://www.dropbox.com/sh/6a3m1eysy6at3v8/AAD57EEasjpX8TZTYWVUsf3Ra?dl=0 \n"
     ]
    },
    {
     "name": "stderr",
     "output_type": "stream",
     "text": [
      " 37%|███▋      | 4939/13315 [05:07<10:19, 13.51it/s]"
     ]
    },
    {
     "name": "stdout",
     "output_type": "stream",
     "text": [
      "activasyon problem activasyon problem\n"
     ]
    },
    {
     "name": "stderr",
     "output_type": "stream",
     "text": [
      " 38%|███▊      | 5041/13309 [05:08<09:07, 15.10it/s]"
     ]
    },
    {
     "name": "stdout",
     "output_type": "stream",
     "text": [
      "download digital copy download digital copy\n"
     ]
    },
    {
     "name": "stderr",
     "output_type": "stream",
     "text": [
      " 37%|███▋      | 4949/13315 [05:08<09:05, 15.33it/s]"
     ]
    },
    {
     "name": "stdout",
     "output_type": "stream",
     "text": [
      "Reinstalled<br><br>Attach File : <a href=\"http://csupload.cyberlink.com/upload-file/support/cs/2018-06-01/CS001898710/DxDiag.txt\" target=_blank>DxDiag.txt</a> reinstall attach file\n"
     ]
    },
    {
     "name": "stderr",
     "output_type": "stream",
     "text": [
      " 35%|███▌      | 4705/13309 [05:08<09:22, 15.29it/s]"
     ]
    },
    {
     "name": "stdout",
     "output_type": "stream",
     "text": [
      "good <br><br>Attach File : <a href='http://csupload.cyberlink.com/upload-file/support/cs/2019-03-09/CS001998855/CL_PHOTODIRECTOR_DATA.zip' target=_blank>CL_PHOTODIRECTOR_DATA.zip</a> good attach file\n"
     ]
    },
    {
     "name": "stderr",
     "output_type": "stream",
     "text": [
      " 40%|████      | 5334/13309 [05:09<13:38,  9.74it/s]"
     ]
    },
    {
     "name": "stdout",
     "output_type": "stream",
     "text": [
      "excellent...<br><br>Attach File : <a href='http://csupload.cyberlink.com/upload-file/support/cs/2019-03-13/CS002000286/CL_PHOTODIRECTOR_DATA.zip' target=_blank>CL_PHOTODIRECTOR_DATA.zip</a> attach file\n"
     ]
    },
    {
     "name": "stderr",
     "output_type": "stream",
     "text": [
      " 40%|███▉      | 5290/13309 [05:09<17:54,  7.46it/s]"
     ]
    },
    {
     "name": "stdout",
     "output_type": "stream",
     "text": [
      "excellent<br><br>Attach File : <a href='http://csupload.cyberlink.com/upload-file/support/cs/2018-10-22/CS001946650/CL_PHOTODIRECTOR_DATA.zip' target=_blank>CL_PHOTODIRECTOR_DATA.zip</a> excellent attach file\n"
     ]
    },
    {
     "name": "stderr",
     "output_type": "stream",
     "text": [
      "\r",
      " 35%|███▌      | 4723/13309 [05:09<07:02, 20.30it/s]"
     ]
    },
    {
     "name": "stdout",
     "output_type": "stream",
     "text": [
      "excellent<br><br>Attach File : <a href='http://csupload.cyberlink.com/upload-file/support/cs/2018-10-31/CS001949682/CL_PHOTODIRECTOR_DATA.zip' target=_blank>CL_PHOTODIRECTOR_DATA.zip</a> excellent attach file\n"
     ]
    },
    {
     "name": "stderr",
     "output_type": "stream",
     "text": [
      " 35%|███▌      | 4661/13309 [05:09<09:28, 15.22it/s]"
     ]
    },
    {
     "name": "stdout",
     "output_type": "stream",
     "text": [
      "Excellent<br><br>Attach File : <a href='http://csupload.cyberlink.com/upload-file/support/cs/2018-12-13/CS001965304/CL_PHOTODIRECTOR_DATA.zip' target=_blank>CL_PHOTODIRECTOR_DATA.zip</a> excellent attach file\n"
     ]
    },
    {
     "name": "stderr",
     "output_type": "stream",
     "text": [
      " 33%|███▎      | 4375/13309 [05:09<12:16, 12.13it/s]"
     ]
    },
    {
     "name": "stdout",
     "output_type": "stream",
     "text": [
      "Excellent<br><br>Attach File : <a href='http://csupload.cyberlink.com/upload-file/support/cs/2018-12-21/CS001969001/CL_PHOTODIRECTOR_DATA.zip' target=_blank>CL_PHOTODIRECTOR_DATA.zip</a> excellent attach file\n"
     ]
    },
    {
     "name": "stderr",
     "output_type": "stream",
     "text": [
      " 40%|████      | 5336/13309 [05:10<14:42,  9.03it/s]"
     ]
    },
    {
     "name": "stdout",
     "output_type": "stream",
     "text": [
      "excellent<br><br>Attach File : <a href='http://csupload.cyberlink.com/upload-file/support/cs/2019-01-16/CS001980785/CL_PHOTODIRECTOR_DATA.zip' target=_blank>CL_PHOTODIRECTOR_DATA.zip</a> excellent attach file\n"
     ]
    },
    {
     "name": "stderr",
     "output_type": "stream",
     "text": [
      " 36%|███▌      | 4729/13309 [05:10<06:58, 20.49it/s]"
     ]
    },
    {
     "name": "stdout",
     "output_type": "stream",
     "text": [
      "excellent<br><br>Attach File : <a href='http://csupload.cyberlink.com/upload-file/support/cs/2019-01-25/CS001984006/CL_PHOTODIRECTOR_DATA.zip' target=_blank>CL_PHOTODIRECTOR_DATA.zip</a> excellent attach file\n"
     ]
    },
    {
     "name": "stderr",
     "output_type": "stream",
     "text": [
      " 33%|███▎      | 4381/13309 [05:10<12:46, 11.64it/s]"
     ]
    },
    {
     "name": "stdout",
     "output_type": "stream",
     "text": [
      "Account number ricoweri account number ricoweri\n"
     ]
    },
    {
     "name": "stderr",
     "output_type": "stream",
     "text": [
      " 38%|███▊      | 5086/13309 [05:11<13:27, 10.19it/s]"
     ]
    },
    {
     "name": "stdout",
     "output_type": "stream",
     "text": [
      "amazing <br><br>Attach File : <a href='http://csupload.cyberlink.com/upload-file/support/cs/2019-07-05/CS002035324/CL_LOGCAT_DATA.zip' target=_blank>CL_LOGCAT_DATA.zip</a> amaze attach file\n"
     ]
    },
    {
     "name": "stderr",
     "output_type": "stream",
     "text": [
      " 40%|███▉      | 5315/13309 [05:11<12:17, 10.84it/s]"
     ]
    },
    {
     "name": "stdout",
     "output_type": "stream",
     "text": [
      "good <br><br>Attach File : <a href='http://csupload.cyberlink.com/upload-file/support/cs/2019-01-14/CS001980157/CL_LOGCAT_DATA.zip' target=_blank>CL_LOGCAT_DATA.zip</a> good attach file\n"
     ]
    },
    {
     "name": "stderr",
     "output_type": "stream",
     "text": [
      "\r",
      " 33%|███▎      | 4396/13309 [05:11<12:44, 11.65it/s]"
     ]
    },
    {
     "name": "stdout",
     "output_type": "stream",
     "text": [
      "9801044326anish is gmail anish be gmail\n"
     ]
    },
    {
     "name": "stderr",
     "output_type": "stream",
     "text": [
      " 38%|███▊      | 5093/13309 [05:12<10:47, 12.69it/s]"
     ]
    },
    {
     "name": "stdout",
     "output_type": "stream",
     "text": [
      "good <br><br>Attach File : <a href='http://csupload.cyberlink.com/upload-file/support/cs/2019-03-14/CS002000589/CL_LOGCAT_DATA.zip' target=_blank>CL_LOGCAT_DATA.zip</a> good attach file\n"
     ]
    },
    {
     "name": "stderr",
     "output_type": "stream",
     "text": [
      " 35%|███▌      | 4683/13309 [05:12<15:46,  9.11it/s]"
     ]
    },
    {
     "name": "stdout",
     "output_type": "stream",
     "text": [
      "Good <br><br>Attach File : <a href='http://csupload.cyberlink.com/upload-file/support/cs/2019-07-22/CS002041806/CL_LOGCAT_DATA.zip' target=_blank>CL_LOGCAT_DATA.zip</a> good attach file\n"
     ]
    },
    {
     "name": "stderr",
     "output_type": "stream",
     "text": [
      " 40%|████      | 5338/13309 [05:14<19:20,  6.87it/s]"
     ]
    },
    {
     "name": "stdout",
     "output_type": "stream",
     "text": [
      "chandanraj <br><br>Attach File : <a href='http://csupload.cyberlink.com/upload-file/support/cs/2019-03-25/CS002005997/CL_PHOTODIRECTOR_DATA.zip' target=_blank>CL_PHOTODIRECTOR_DATA.zip</a> chandanraj attach file\n"
     ]
    },
    {
     "name": "stderr",
     "output_type": "stream",
     "text": [
      " 45%|████▌     | 6019/13309 [05:14<06:50, 17.75it/s]"
     ]
    },
    {
     "name": "stdout",
     "output_type": "stream",
     "text": [
      "I lost my program. i lose my\n"
     ]
    },
    {
     "name": "stderr",
     "output_type": "stream",
     "text": [
      "\r",
      " 39%|███▊      | 5134/13309 [05:14<08:36, 15.83it/s]"
     ]
    },
    {
     "name": "stdout",
     "output_type": "stream",
     "text": [
      "I lost my program. i lose my\n"
     ]
    },
    {
     "name": "stderr",
     "output_type": "stream",
     "text": [
      " 33%|███▎      | 4430/13309 [05:14<15:47,  9.37it/s]"
     ]
    },
    {
     "name": "stdout",
     "output_type": "stream",
     "text": [
      "Yyy yyy\n"
     ]
    },
    {
     "name": "stderr",
     "output_type": "stream",
     "text": [
      "\r",
      " 45%|████▌     | 6028/13309 [05:14<05:46, 21.01it/s]"
     ]
    },
    {
     "name": "stdout",
     "output_type": "stream",
     "text": [
      "https://1drv.ms/f/s!AqOqDwJ4LJaCszLH2qeOPYFv2q_V \n"
     ]
    },
    {
     "name": "stderr",
     "output_type": "stream",
     "text": [
      " 36%|███▌      | 4813/13309 [05:15<10:51, 13.03it/s]"
     ]
    },
    {
     "name": "stdout",
     "output_type": "stream",
     "text": [
      " dckrjn dckrjn\n"
     ]
    },
    {
     "name": "stderr",
     "output_type": "stream",
     "text": [
      " 35%|███▌      | 4724/13309 [05:15<10:21, 13.82it/s]"
     ]
    },
    {
     "name": "stdout",
     "output_type": "stream",
     "text": [
      "... \n",
      "<<leoi1037@bol.com.br>>  <<leos5037@bol.com.br>> \n"
     ]
    },
    {
     "name": "stderr",
     "output_type": "stream",
     "text": [
      " 41%|████▏     | 5494/13309 [05:19<05:51, 22.26it/s]"
     ]
    },
    {
     "name": "stdout",
     "output_type": "stream",
     "text": [
      "﻿<html><div dir=\"auto\"> Need support!!!!&nbsp;</div>   </html><br/>﻿ need support nbsp\n"
     ]
    },
    {
     "name": "stderr",
     "output_type": "stream",
     "text": [
      " 37%|███▋      | 4903/13309 [05:21<07:05, 19.76it/s]"
     ]
    },
    {
     "name": "stdout",
     "output_type": "stream",
     "text": [
      "Unable to download PDR13. unable to download\n"
     ]
    },
    {
     "name": "stderr",
     "output_type": "stream",
     "text": [
      " 39%|███▊      | 5136/13315 [05:21<09:52, 13.81it/s]"
     ]
    },
    {
     "name": "stdout",
     "output_type": "stream",
     "text": [
      "Unable to download software.  unable to download\n"
     ]
    },
    {
     "name": "stderr",
     "output_type": "stream",
     "text": [
      " 41%|████▏     | 5495/13309 [05:27<16:49,  7.74it/s]"
     ]
    },
    {
     "name": "stdout",
     "output_type": "stream",
     "text": [
      "Program will not install. program will not\n"
     ]
    },
    {
     "name": "stderr",
     "output_type": "stream",
     "text": [
      " 37%|███▋      | 4877/13309 [05:29<15:48,  8.89it/s]"
     ]
    },
    {
     "name": "stdout",
     "output_type": "stream",
     "text": [
      "https://drive.google.com/file/d/1-YvJ59c6N8-ZXBMufk5hOYmBRwdSUu-D/view?usp=sharing \n",
      "won't download win t download\n"
     ]
    },
    {
     "name": "stderr",
     "output_type": "stream",
     "text": [
      " 37%|███▋      | 4893/13309 [05:30<15:00,  9.34it/s]"
     ]
    },
    {
     "name": "stdout",
     "output_type": "stream",
     "text": [
      "download reactivation download reactivation\n"
     ]
    },
    {
     "name": "stderr",
     "output_type": "stream",
     "text": [
      " 43%|████▎     | 5691/13309 [05:32<07:22, 17.23it/s]"
     ]
    },
    {
     "name": "stdout",
     "output_type": "stream",
     "text": [
      "﻿<html><p dir=\"ltr\"> Kalimshah</p>   </html><br/>﻿ kalimshah\n"
     ]
    },
    {
     "name": "stderr",
     "output_type": "stream",
     "text": [
      "\r",
      " 35%|███▍      | 4613/13309 [05:32<21:32,  6.73it/s]"
     ]
    },
    {
     "name": "stdout",
     "output_type": "stream",
     "text": [
      "﻿<html><p dir=\"ltr\"> Karan services </p>   </html><br/>﻿ karan service\n"
     ]
    },
    {
     "name": "stderr",
     "output_type": "stream",
     "text": [
      "\r",
      " 40%|███▉      | 5295/13315 [05:32<10:26, 12.80it/s]"
     ]
    },
    {
     "name": "stdout",
     "output_type": "stream",
     "text": [
      "﻿<html><p dir=\"ltr\"> link send</p>   </html><br/>﻿ link send\n",
      "Program has not opened. program have not\n"
     ]
    },
    {
     "name": "stderr",
     "output_type": "stream",
     "text": [
      " 38%|███▊      | 5060/13309 [05:32<14:33,  9.45it/s]"
     ]
    },
    {
     "name": "stdout",
     "output_type": "stream",
     "text": [
      "Please see    https://forum.cyberlink.com/forum/posts/list/77376.page#316686 please see\n"
     ]
    },
    {
     "name": "stderr",
     "output_type": "stream",
     "text": [
      " 47%|████▋     | 6233/13309 [05:33<05:06, 23.12it/s]"
     ]
    },
    {
     "name": "stdout",
     "output_type": "stream",
     "text": [
      "PowerDirector 17 lags during editing. powerdirector lag during\n"
     ]
    },
    {
     "name": "stderr",
     "output_type": "stream",
     "text": [
      " 43%|████▎     | 5725/13309 [05:34<06:51, 18.45it/s]"
     ]
    },
    {
     "name": "stdout",
     "output_type": "stream",
     "text": [
      "⁦❤️⁩<br><br>Attach File : <a href='http://csupload.cyberlink.com/upload-file/support/cs/2018-09-17/CS001934872/CL_PHOTODIRECTOR_DATA.zip' target=_blank>CL_PHOTODIRECTOR_DATA.zip</a> attach file\n"
     ]
    },
    {
     "name": "stderr",
     "output_type": "stream",
     "text": [
      " 38%|███▊      | 5102/13309 [05:34<05:44, 23.83it/s]"
     ]
    },
    {
     "name": "stdout",
     "output_type": "stream",
     "text": [
      "0634702680<br><br>Attach File : <a href='http://csupload.cyberlink.com/upload-file/support/cs/2019-01-10/CS001978645/CL_PHOTODIRECTOR_DATA.zip' target=_blank>CL_PHOTODIRECTOR_DATA.zip</a> attach file\n"
     ]
    },
    {
     "name": "stderr",
     "output_type": "stream",
     "text": [
      " 35%|███▍      | 4645/13309 [05:34<11:57, 12.08it/s]"
     ]
    },
    {
     "name": "stdout",
     "output_type": "stream",
     "text": [
      "Download  download\n"
     ]
    },
    {
     "name": "stderr",
     "output_type": "stream",
     "text": [
      " 43%|████▎     | 5731/13309 [05:34<06:36, 19.11it/s]"
     ]
    },
    {
     "name": "stdout",
     "output_type": "stream",
     "text": [
      "Download  download\n"
     ]
    },
    {
     "name": "stderr",
     "output_type": "stream",
     "text": [
      " 41%|████      | 5455/13309 [05:35<11:25, 11.46it/s]"
     ]
    },
    {
     "name": "stdout",
     "output_type": "stream",
     "text": [
      "download program download program\n"
     ]
    },
    {
     "name": "stderr",
     "output_type": "stream",
     "text": [
      " 41%|████      | 5465/13309 [05:35<07:32, 17.35it/s]"
     ]
    },
    {
     "name": "stdout",
     "output_type": "stream",
     "text": [
      "test<br><br>Attach File : <a href='http://csupload.cyberlink.com/upload-file/support/cs/2018-11-19/CS001956107/CL_LOGCAT_DATA.zip' target=_blank>CL_LOGCAT_DATA.zip</a> test attach file\n"
     ]
    },
    {
     "name": "stderr",
     "output_type": "stream",
     "text": [
      " 40%|███▉      | 5311/13315 [05:35<15:51,  8.41it/s]"
     ]
    },
    {
     "name": "stdout",
     "output_type": "stream",
     "text": [
      "technical support technical support\n"
     ]
    },
    {
     "name": "stderr",
     "output_type": "stream",
     "text": [
      " 41%|████      | 5474/13309 [05:36<06:50, 19.10it/s]"
     ]
    },
    {
     "name": "stdout",
     "output_type": "stream",
     "text": [
      "hihihi<br><br>Attach File : <a href='http://csupload.cyberlink.com/upload-file/support/cs/2018-10-08/CS001942038/CL_PHOTODIRECTOR_DATA.zip' target=_blank>CL_PHOTODIRECTOR_DATA.zip</a> hihihi attach file\n"
     ]
    },
    {
     "name": "stderr",
     "output_type": "stream",
     "text": [
      " 35%|███▌      | 4662/13309 [05:36<14:32,  9.91it/s]"
     ]
    },
    {
     "name": "stdout",
     "output_type": "stream",
     "text": [
      "hii<br><br>Attach File : <a href='http://csupload.cyberlink.com/upload-file/support/cs/2018-05-22/CS001892639/CL_PHOTODIRECTOR_DATA.zip' target=_blank>CL_PHOTODIRECTOR_DATA.zip</a> hii attach file\n"
     ]
    },
    {
     "name": "stderr",
     "output_type": "stream",
     "text": [
      " 41%|████      | 5477/13309 [05:36<07:09, 18.21it/s]"
     ]
    },
    {
     "name": "stdout",
     "output_type": "stream",
     "text": [
      "hii<br><br>Attach File : <a href='http://csupload.cyberlink.com/upload-file/support/cs/2019-02-19/CS001992020/CL_PHOTODIRECTOR_DATA.zip' target=_blank>CL_PHOTODIRECTOR_DATA.zip</a> hii attach file\n"
     ]
    },
    {
     "name": "stderr",
     "output_type": "stream",
     "text": [
      " 38%|███▊      | 5122/13309 [05:36<11:07, 12.26it/s]"
     ]
    },
    {
     "name": "stdout",
     "output_type": "stream",
     "text": [
      "Hii<br><br>Attach File : <a href='http://csupload.cyberlink.com/upload-file/support/cs/2019-04-21/CS002014206/CL_PHOTODIRECTOR_DATA.zip' target=_blank>CL_PHOTODIRECTOR_DATA.zip</a> hii attach file\n"
     ]
    },
    {
     "name": "stderr",
     "output_type": "stream",
     "text": [
      " 43%|████▎     | 5768/13309 [05:37<08:22, 15.01it/s]"
     ]
    },
    {
     "name": "stdout",
     "output_type": "stream",
     "text": [
      "re-install re install\n"
     ]
    },
    {
     "name": "stderr",
     "output_type": "stream",
     "text": [
      " 38%|███▊      | 4992/13309 [05:39<11:34, 11.97it/s]"
     ]
    },
    {
     "name": "stdout",
     "output_type": "stream",
     "text": [
      " samsung <br><br>Attach File : <a href='http://csupload.cyberlink.com/upload-file/support/cs/2018-03-12/CS001867368/DeviceInfo.txt' target=_blank>DeviceInfo.txt</a> samsung attach file\n"
     ]
    },
    {
     "name": "stderr",
     "output_type": "stream",
     "text": [
      " 48%|████▊     | 6370/13309 [05:39<04:17, 26.98it/s]"
     ]
    },
    {
     "name": "stdout",
     "output_type": "stream",
     "text": [
      "   <br><br>Attach File : <a href='http://csupload.cyberlink.com/upload-file/support/cs/2018-04-10/CS001877793/feedback_data.zip' target=_blank>feedback_data.zip</a> attach file\n"
     ]
    },
    {
     "name": "stderr",
     "output_type": "stream",
     "text": [
      " 42%|████▏     | 5648/13309 [05:40<07:37, 16.74it/s]"
     ]
    },
    {
     "name": "stdout",
     "output_type": "stream",
     "text": [
      " <br><br>Attach File : <a href='http://csupload.cyberlink.com/upload-file/support/cs/2019-02-09/CS001988512/CL_LOGCAT_DATA.zip' target=_blank>CL_LOGCAT_DATA.zip</a> attach file\n"
     ]
    },
    {
     "name": "stderr",
     "output_type": "stream",
     "text": [
      "\r",
      " 48%|████▊     | 6374/13309 [05:40<04:29, 25.71it/s]"
     ]
    },
    {
     "name": "stdout",
     "output_type": "stream",
     "text": [
      " <br><br>Attach File : <a href='http://csupload.cyberlink.com/upload-file/support/cs/2019-03-16/CS002001104/feedback_data.zip' target=_blank>feedback_data.zip</a> attach file\n"
     ]
    },
    {
     "name": "stderr",
     "output_type": "stream",
     "text": [
      " 39%|███▉      | 5193/13309 [05:41<09:00, 15.02it/s]"
     ]
    },
    {
     "name": "stdout",
     "output_type": "stream",
     "text": [
      "h<br><br>Attach File : <a href='http://csupload.cyberlink.com/upload-file/support/cs/2018-12-11/CS001964672/CL_PHOTODIRECTOR_DATA.zip' target=_blank>CL_PHOTODIRECTOR_DATA.zip</a> h attach file\n"
     ]
    },
    {
     "name": "stderr",
     "output_type": "stream",
     "text": [
      " 43%|████▎     | 5666/13309 [05:41<10:02, 12.69it/s]"
     ]
    },
    {
     "name": "stdout",
     "output_type": "stream",
     "text": [
      "h<br><br>Attach File : <a href='http://csupload.cyberlink.com/upload-file/support/cs/2019-01-05/CS001976758/CL_PHOTODIRECTOR_DATA.zip' target=_blank>CL_PHOTODIRECTOR_DATA.zip</a> h attach file\n"
     ]
    },
    {
     "name": "stderr",
     "output_type": "stream",
     "text": [
      " 40%|████      | 5376/13315 [05:41<11:01, 12.00it/s]"
     ]
    },
    {
     "name": "stdout",
     "output_type": "stream",
     "text": [
      "h<br><br>Attach File : <a href='http://csupload.cyberlink.com/upload-file/support/cs/2019-05-18/CS002022231/CL_PHOTODIRECTOR_DATA.zip' target=_blank>CL_PHOTODIRECTOR_DATA.zip</a> h attach file\n"
     ]
    },
    {
     "name": "stderr",
     "output_type": "stream",
     "text": [
      " 44%|████▍     | 5832/13309 [05:41<10:11, 12.22it/s]"
     ]
    },
    {
     "name": "stdout",
     "output_type": "stream",
     "text": [
      "Hahahaha<br><br>Attach File : <a href='http://csupload.cyberlink.com/upload-file/support/cs/2019-01-07/CS001977670/CL_PHOTODIRECTOR_DATA.zip' target=_blank>CL_PHOTODIRECTOR_DATA.zip</a> hahahaha attach file\n"
     ]
    },
    {
     "name": "stderr",
     "output_type": "stream",
     "text": [
      " 39%|███▉      | 5199/13309 [05:41<10:15, 13.18it/s]"
     ]
    },
    {
     "name": "stdout",
     "output_type": "stream",
     "text": [
      "not working not work\n"
     ]
    },
    {
     "name": "stderr",
     "output_type": "stream",
     "text": [
      " 40%|████      | 5391/13315 [05:42<08:07, 16.27it/s]"
     ]
    },
    {
     "name": "stdout",
     "output_type": "stream",
     "text": [
      "good<br><br>Attach File : <a href='http://csupload.cyberlink.com/upload-file/support/cs/2019-02-20/CS001992574/CL_PHOTODIRECTOR_DATA.zip' target=_blank>CL_PHOTODIRECTOR_DATA.zip</a> good attach file\n"
     ]
    },
    {
     "name": "stderr",
     "output_type": "stream",
     "text": [
      " 43%|████▎     | 5686/13309 [05:42<06:17, 20.19it/s]"
     ]
    },
    {
     "name": "stdout",
     "output_type": "stream",
     "text": [
      "good<br><br>Attach File : <a href='http://csupload.cyberlink.com/upload-file/support/cs/2019-02-21/CS001993305/CL_PHOTODIRECTOR_DATA.zip' target=_blank>CL_PHOTODIRECTOR_DATA.zip</a> good attach file\n"
     ]
    },
    {
     "name": "stderr",
     "output_type": "stream",
     "text": [
      " 35%|███▌      | 4722/13309 [05:42<14:13, 10.06it/s]"
     ]
    },
    {
     "name": "stdout",
     "output_type": "stream",
     "text": [
      "﻿<html><div dir=\"auto\"> Purchase FAQs</div>   </html><br/>﻿ purchase faq\n"
     ]
    },
    {
     "name": "stderr",
     "output_type": "stream",
     "text": [
      " 41%|████      | 5396/13315 [05:42<07:10, 18.40it/s]"
     ]
    },
    {
     "name": "stdout",
     "output_type": "stream",
     "text": [
      "﻿<html><div dir=\"auto\"> Redeem</div>   </html><br/>﻿ redeem\n"
     ]
    },
    {
     "name": "stderr",
     "output_type": "stream",
     "text": [
      " 36%|███▌      | 4732/13309 [05:43<14:46,  9.68it/s]"
     ]
    },
    {
     "name": "stdout",
     "output_type": "stream",
     "text": [
      "Ifofucjdhj<br><br>Attach File : <a href='http://csupload.cyberlink.com/upload-file/support/cs/2018-11-12/CS001953677/feedback_data.zip' target=_blank>feedback_data.zip</a> ifofucjdhj attach file\n"
     ]
    },
    {
     "name": "stderr",
     "output_type": "stream",
     "text": [
      " 43%|████▎     | 5699/13309 [05:43<08:19, 15.24it/s]"
     ]
    },
    {
     "name": "stdout",
     "output_type": "stream",
     "text": [
      "Igoyogigufurouogury<br><br>Attach File : <a href='http://csupload.cyberlink.com/upload-file/support/cs/2018-11-12/CS001953674/feedback_data.zip' target=_blank>feedback_data.zip</a> igoyogigufurouogury attach file\n"
     ]
    },
    {
     "name": "stderr",
     "output_type": "stream",
     "text": [
      " 38%|███▊      | 5045/13309 [05:43<16:49,  8.19it/s]"
     ]
    },
    {
     "name": "stdout",
     "output_type": "stream",
     "text": [
      "Dear Cyberlink team dear cyberlink team\n"
     ]
    },
    {
     "name": "stderr",
     "output_type": "stream",
     "text": [
      " 42%|████▏     | 5623/13309 [05:43<06:45, 18.97it/s]"
     ]
    },
    {
     "name": "stdout",
     "output_type": "stream",
     "text": [
      "reinstall my product.PowerDirector 13 LE reinstall my le\n"
     ]
    },
    {
     "name": "stderr",
     "output_type": "stream",
     "text": [
      " 36%|███▌      | 4741/13309 [05:44<20:17,  7.04it/s]"
     ]
    },
    {
     "name": "stdout",
     "output_type": "stream",
     "text": [
      "feedback   <br><br>Attach File : <a href='http://csupload.cyberlink.com/upload-file/support/cs/2018-03-28/CS001873449/CL_LOGCAT_DATA.zip' target=_blank>CL_LOGCAT_DATA.zip</a> feedback attach file\n"
     ]
    },
    {
     "name": "stderr",
     "output_type": "stream",
     "text": [
      " 39%|███▉      | 5239/13309 [05:44<12:48, 10.49it/s]"
     ]
    },
    {
     "name": "stdout",
     "output_type": "stream",
     "text": [
      "feedback :) <br><br>Attach File : <a href='http://csupload.cyberlink.com/upload-file/support/cs/2018-03-08/CS001866069/CL_LOGCAT_DATA.zip' target=_blank>CL_LOGCAT_DATA.zip</a> feedback attach file\n"
     ]
    },
    {
     "name": "stderr",
     "output_type": "stream",
     "text": [
      " 44%|████▍     | 5884/13309 [05:44<07:53, 15.67it/s]"
     ]
    },
    {
     "name": "stdout",
     "output_type": "stream",
     "text": [
      "Feedback <br><br>Attach File : <a href='http://csupload.cyberlink.com/upload-file/support/cs/2018-03-27/CS001873072/feedback_data.zip' target=_blank>feedback_data.zip</a> feedback attach file\n"
     ]
    },
    {
     "name": "stderr",
     "output_type": "stream",
     "text": [
      " 41%|████      | 5466/13315 [05:46<08:45, 14.93it/s]"
     ]
    },
    {
     "name": "stdout",
     "output_type": "stream",
     "text": [
      "nice apps..<br><br>Attach File : <a href='http://csupload.cyberlink.com/upload-file/support/cs/2018-11-19/CS001956281/DeviceInfo.txt' target=_blank>DeviceInfo.txt</a> nice attach file\n"
     ]
    },
    {
     "name": "stderr",
     "output_type": "stream",
     "text": [
      " 43%|████▎     | 5671/13309 [05:46<08:06, 15.71it/s]"
     ]
    },
    {
     "name": "stdout",
     "output_type": "stream",
     "text": [
      "resolved ! resolve\n"
     ]
    },
    {
     "name": "stderr",
     "output_type": "stream",
     "text": [
      " 40%|███▉      | 5294/13309 [05:48<08:19, 16.06it/s]"
     ]
    },
    {
     "name": "stdout",
     "output_type": "stream",
     "text": [
      "sonson<br><br>Attach File : <a href='http://csupload.cyberlink.com/upload-file/support/cs/2018-07-12/CS001912866/DeviceInfo.txt' target=_blank>DeviceInfo.txt</a> sonson attach file\n"
     ]
    },
    {
     "name": "stderr",
     "output_type": "stream",
     "text": [
      " 43%|████▎     | 5772/13309 [05:48<06:43, 18.67it/s]"
     ]
    },
    {
     "name": "stdout",
     "output_type": "stream",
     "text": [
      "vivencioladao3@gmail.com<br><br>Attach File : <a href='http://csupload.cyberlink.com/upload-file/support/cs/2019-05-05/CS002018485/DeviceInfo.txt' target=_blank>DeviceInfo.txt</a> attach file\n"
     ]
    },
    {
     "name": "stderr",
     "output_type": "stream",
     "text": [
      " 41%|████▏     | 5524/13315 [05:49<08:05, 16.06it/s]"
     ]
    },
    {
     "name": "stdout",
     "output_type": "stream",
     "text": [
      "Ok<br><br>Attach File : <a href='http://csupload.cyberlink.com/upload-file/support/cs/2018-01-18/CS001846467/DeviceInfo.txt' target=_blank>DeviceInfo.txt</a> ok attach file\n"
     ]
    },
    {
     "name": "stderr",
     "output_type": "stream",
     "text": [
      "\r",
      " 39%|███▊      | 5124/13309 [05:49<12:25, 10.98it/s]"
     ]
    },
    {
     "name": "stdout",
     "output_type": "stream",
     "text": [
      "ok<br><br>Attach File : <a href='http://csupload.cyberlink.com/upload-file/support/cs/2019-04-03/CS002009006/DeviceInfo.txt' target=_blank>DeviceInfo.txt</a> ok attach file\n",
      "hi<br><br>Attach File : <a href='http://csupload.cyberlink.com/upload-file/support/cs/2018-10-08/CS001941753/CL_PHOTODIRECTOR_DATA.zip' target=_blank>CL_PHOTODIRECTOR_DATA.zip</a> hi attach file\n"
     ]
    },
    {
     "name": "stderr",
     "output_type": "stream",
     "text": [
      " 42%|████▏     | 5527/13315 [05:49<06:59, 18.58it/s]"
     ]
    },
    {
     "name": "stdout",
     "output_type": "stream",
     "text": [
      "hi<br><br>Attach File : <a href='http://csupload.cyberlink.com/upload-file/support/cs/2018-10-31/CS001949894/CL_PHOTODIRECTOR_DATA.zip' target=_blank>CL_PHOTODIRECTOR_DATA.zip</a> hi attach file\n"
     ]
    },
    {
     "name": "stderr",
     "output_type": "stream",
     "text": [
      " 44%|████▎     | 5792/13309 [05:49<12:05, 10.36it/s]"
     ]
    },
    {
     "name": "stdout",
     "output_type": "stream",
     "text": [
      "hi<br><br>Attach File : <a href='http://csupload.cyberlink.com/upload-file/support/cs/2019-02-25/CS001994938/CL_PHOTODIRECTOR_DATA.zip' target=_blank>CL_PHOTODIRECTOR_DATA.zip</a> hi attach file\n"
     ]
    },
    {
     "name": "stderr",
     "output_type": "stream",
     "text": [
      "\r",
      " 42%|████▏     | 5533/13315 [05:49<06:52, 18.85it/s]"
     ]
    },
    {
     "name": "stdout",
     "output_type": "stream",
     "text": [
      "hi<br><br>Attach File : <a href='http://csupload.cyberlink.com/upload-file/support/cs/2019-03-11/CS001999610/CL_PHOTODIRECTOR_DATA.zip' target=_blank>CL_PHOTODIRECTOR_DATA.zip</a> hi attach file\n"
     ]
    },
    {
     "name": "stderr",
     "output_type": "stream",
     "text": [
      "\r",
      " 39%|███▊      | 5133/13309 [05:49<08:17, 16.44it/s]"
     ]
    },
    {
     "name": "stdout",
     "output_type": "stream",
     "text": [
      "hi<br><br>Attach File : <a href='http://csupload.cyberlink.com/upload-file/support/cs/2019-05-11/CS002020258/CL_PHOTODIRECTOR_DATA.zip' target=_blank>CL_PHOTODIRECTOR_DATA.zip</a> hi attach file\n"
     ]
    },
    {
     "name": "stderr",
     "output_type": "stream",
     "text": [
      " 39%|███▊      | 5136/13309 [05:49<07:46, 17.51it/s]"
     ]
    },
    {
     "name": "stdout",
     "output_type": "stream",
     "text": [
      "hi<br><br>Attach File : <a href='http://csupload.cyberlink.com/upload-file/support/cs/2019-06-03/CS002026744/CL_PHOTODIRECTOR_DATA.zip' target=_blank>CL_PHOTODIRECTOR_DATA.zip</a> hi attach file\n"
     ]
    },
    {
     "name": "stderr",
     "output_type": "stream",
     "text": [
      " 44%|████▎     | 5794/13309 [05:49<13:07,  9.54it/s]"
     ]
    },
    {
     "name": "stdout",
     "output_type": "stream",
     "text": [
      "hi<br><br>Attach File : <a href='http://csupload.cyberlink.com/upload-file/support/cs/2019-06-20/CS002031401/CL_PHOTODIRECTOR_DATA.zip' target=_blank>CL_PHOTODIRECTOR_DATA.zip</a> hi attach file\n",
      "hi<br><br>Attach File : <a href='http://csupload.cyberlink.com/upload-file/support/cs/2019-06-25/CS002032771/CL_PHOTODIRECTOR_DATA.zip' target=_blank>CL_PHOTODIRECTOR_DATA.zip</a> hi attach file\n"
     ]
    },
    {
     "name": "stderr",
     "output_type": "stream",
     "text": [
      " 43%|████▎     | 5738/13309 [05:50<08:33, 14.75it/s]"
     ]
    },
    {
     "name": "stdout",
     "output_type": "stream",
     "text": [
      "https://directorzone.cyberlink.com/member-change-pwd-action.do?actionType=changepwd&membercode=7mM7nDNfIBlMC4v%2BMnl/8w==k6tc9Ppn16W7ZnuXjY%2BYIuVfsfd%2BKlL7zLMEb1h35AaGGYaXmG35DoZ0ZpPAd0pm \n"
     ]
    },
    {
     "name": "stderr",
     "output_type": "stream",
     "text": [
      " 45%|████▌     | 6004/13309 [05:50<08:45, 13.90it/s]"
     ]
    },
    {
     "name": "stdout",
     "output_type": "stream",
     "text": [
      "Edit Error edit error\n"
     ]
    },
    {
     "name": "stderr",
     "output_type": "stream",
     "text": [
      " 42%|████▏     | 5554/13315 [05:51<07:14, 17.86it/s]"
     ]
    },
    {
     "name": "stdout",
     "output_type": "stream",
     "text": [
      "see subject see subject\n"
     ]
    },
    {
     "name": "stderr",
     "output_type": "stream",
     "text": [
      " 42%|████▏     | 5579/13315 [05:52<09:24, 13.70it/s]"
     ]
    },
    {
     "name": "stdout",
     "output_type": "stream",
     "text": [
      "﻿<html><p dir=\"ltr\"> <a href=\"mailto:sahithmca@gmail.com\"> sahithmca@gmail.com</a> </p>   </html><br/>﻿ \n"
     ]
    },
    {
     "name": "stderr",
     "output_type": "stream",
     "text": [
      " 39%|███▉      | 5194/13309 [05:53<06:52, 19.67it/s]"
     ]
    },
    {
     "name": "stdout",
     "output_type": "stream",
     "text": [
      "﻿<html><div dir=\"auto\"> <a href=\"https://play.google.com/store/apps/details?id=com.cyberlink.actiondirector\"> https://play.google.com/store/apps/details?id=com.cyberlink.actiondirector</a> &nbsp;<div dir=\"auto\"> <a href=\"https://play.google.com/store/apps/details?id=com.cyberlink.actiondirector\"> https://play.google.com/store/apps/details?id=com.cyberlink.actiondirector</a> <br> </div> </div>   </html><br/>﻿ nbsp\n"
     ]
    },
    {
     "name": "stderr",
     "output_type": "stream",
     "text": [
      " 40%|████      | 5386/13309 [05:54<07:40, 17.21it/s]"
     ]
    },
    {
     "name": "stdout",
     "output_type": "stream",
     "text": [
      "﻿<html><div dir=\"auto\"> <a href=\"mailto:edildg@yahoo.it\"> edildg@yahoo.it</a> &nbsp;</div>   </html><br/>﻿ nbsp\n"
     ]
    },
    {
     "name": "stderr",
     "output_type": "stream",
     "text": [
      "\r",
      " 42%|████▏     | 5605/13315 [05:54<07:46, 16.52it/s]"
     ]
    },
    {
     "name": "stdout",
     "output_type": "stream",
     "text": [
      "﻿<html><div dir=\"auto\"> <a href=\"mailto:gorfaddarshan2001@gmail.com\"> gorfaddarshan2001@gmail.com</a> </div>   </html><br/>﻿ \n"
     ]
    },
    {
     "name": "stderr",
     "output_type": "stream",
     "text": [
      " 36%|███▋      | 4854/13309 [05:55<21:08,  6.66it/s]"
     ]
    },
    {
     "name": "stdout",
     "output_type": "stream",
     "text": [
      "problems problem\n"
     ]
    },
    {
     "name": "stderr",
     "output_type": "stream",
     "text": [
      " 37%|███▋      | 4868/13309 [05:56<11:57, 11.77it/s]"
     ]
    },
    {
     "name": "stdout",
     "output_type": "stream",
     "text": [
      "👍<br><br>Attach File : <a href='http://csupload.cyberlink.com/upload-file/support/cs/2018-12-16/CS001966461/CL_PHOTODIRECTOR_DATA.zip' target=_blank>CL_PHOTODIRECTOR_DATA.zip</a> attach file\n"
     ]
    },
    {
     "name": "stderr",
     "output_type": "stream",
     "text": [
      " 39%|███▉      | 5227/13309 [05:56<12:15, 11.00it/s]"
     ]
    },
    {
     "name": "stdout",
     "output_type": "stream",
     "text": [
      "👍<br><br>Attach File : <a href='http://csupload.cyberlink.com/upload-file/support/cs/2019-02-26/CS001995304/CL_PHOTODIRECTOR_DATA.zip' target=_blank>CL_PHOTODIRECTOR_DATA.zip</a> attach file\n"
     ]
    },
    {
     "name": "stderr",
     "output_type": "stream",
     "text": [
      " 37%|███▋      | 4871/13309 [05:56<10:10, 13.83it/s]"
     ]
    },
    {
     "name": "stdout",
     "output_type": "stream",
     "text": [
      "👍<br><br>Attach File : <a href='http://csupload.cyberlink.com/upload-file/support/cs/2019-04-22/CS002014463/CL_PHOTODIRECTOR_DATA.zip' target=_blank>CL_PHOTODIRECTOR_DATA.zip</a> attach file\n",
      "👍🏻<br><br>Attach File : <a href='http://csupload.cyberlink.com/upload-file/support/cs/2019-06-17/CS002030494/CL_PHOTODIRECTOR_DATA.zip' target=_blank>CL_PHOTODIRECTOR_DATA.zip</a> attach file\n"
     ]
    },
    {
     "name": "stderr",
     "output_type": "stream",
     "text": [
      " 42%|████▏     | 5652/13315 [05:56<08:12, 15.55it/s]"
     ]
    },
    {
     "name": "stdout",
     "output_type": "stream",
     "text": [
      "👍👍👍👍👍<br><br>Attach File : <a href='http://csupload.cyberlink.com/upload-file/support/cs/2018-03-19/CS001869825/CL_PHOTODIRECTOR_DATA.zip' target=_blank>CL_PHOTODIRECTOR_DATA.zip</a> attach file\n"
     ]
    },
    {
     "name": "stderr",
     "output_type": "stream",
     "text": [
      " 46%|████▌     | 6118/13309 [05:57<06:39, 17.98it/s]"
     ]
    },
    {
     "name": "stdout",
     "output_type": "stream",
     "text": [
      "😀😀😀✌✌✌✌<br><br>Attach File : <a href='http://csupload.cyberlink.com/upload-file/support/cs/2018-09-14/CS001934117/CL_PHOTODIRECTOR_DATA.zip' target=_blank>CL_PHOTODIRECTOR_DATA.zip</a> attach file\n"
     ]
    },
    {
     "name": "stderr",
     "output_type": "stream",
     "text": [
      " 51%|█████     | 6733/13309 [05:57<04:20, 25.23it/s]"
     ]
    },
    {
     "name": "stdout",
     "output_type": "stream",
     "text": [
      "Heufigkf<br><br>Attach File : <a href='http://csupload.cyberlink.com/upload-file/support/cs/2018-11-12/CS001953601/feedback_data.zip' target=_blank>feedback_data.zip</a> heufigkf attach file\n"
     ]
    },
    {
     "name": "stderr",
     "output_type": "stream",
     "text": [
      " 39%|███▉      | 5253/13309 [05:58<08:00, 16.78it/s]"
     ]
    },
    {
     "name": "stdout",
     "output_type": "stream",
     "text": [
      "greatt<br><br>Attach File : <a href='http://csupload.cyberlink.com/upload-file/support/cs/2018-06-25/CS001907294/CL_PHOTODIRECTOR_DATA.zip' target=_blank>CL_PHOTODIRECTOR_DATA.zip</a> greatt attach file\n",
      "gretttttttttttttttttttttttttttttttt<br><br>Attach File : <a href='http://csupload.cyberlink.com/upload-file/support/cs/2018-07-30/CS001918839/CL_PHOTODIRECTOR_DATA.zip' target=_blank>CL_PHOTODIRECTOR_DATA.zip</a> gretttttttttttttttttttttttttttttttt attach file\n"
     ]
    },
    {
     "name": "stderr",
     "output_type": "stream",
     "text": [
      " 51%|█████     | 6769/13309 [05:58<05:11, 20.98it/s]"
     ]
    },
    {
     "name": "stdout",
     "output_type": "stream",
     "text": [
      "good<br><br>Attach File : <a href='http://csupload.cyberlink.com/upload-file/support/cs/2019-02-15/CS001990792/CL_PHOTODIRECTOR_DATA.zip' target=_blank>CL_PHOTODIRECTOR_DATA.zip</a> good attach file\n"
     ]
    },
    {
     "name": "stderr",
     "output_type": "stream",
     "text": [
      "\r",
      " 40%|███▉      | 5266/13309 [05:58<08:20, 16.08it/s]"
     ]
    },
    {
     "name": "stdout",
     "output_type": "stream",
     "text": [
      "good<br><br>Attach File : <a href='http://csupload.cyberlink.com/upload-file/support/cs/2019-02-17/CS001991152/CL_PHOTODIRECTOR_DATA.zip' target=_blank>CL_PHOTODIRECTOR_DATA.zip</a> good attach file\n"
     ]
    },
    {
     "name": "stderr",
     "output_type": "stream",
     "text": [
      " 40%|███▉      | 5285/13309 [05:59<06:49, 19.59it/s]"
     ]
    },
    {
     "name": "stdout",
     "output_type": "stream",
     "text": [
      "Ifgouotufy<br><br>Attach File : <a href='http://csupload.cyberlink.com/upload-file/support/cs/2018-11-12/CS001953619/feedback_data.zip' target=_blank>feedback_data.zip</a> ifgouotufy attach file\n"
     ]
    },
    {
     "name": "stderr",
     "output_type": "stream",
     "text": [
      " 44%|████▍     | 5881/13309 [06:01<12:05, 10.24it/s]"
     ]
    },
    {
     "name": "stdout",
     "output_type": "stream",
     "text": [
      "https://drive.google.com/file/d/1FCUdVCRngv8C506r8xo0FD0OEbdF3crV/view?usp=sharing    https://drive.google.com/file/d/1ReCeRqdH8jf1HP5p63Plzv7AgjCHeAd2/view?usp=sharing    https://drive.google.com/file/d/1_lYOLJiQ0-WgN2MjZWEXeOB81O4e5FAs/view?usp=sharing \n"
     ]
    },
    {
     "name": "stderr",
     "output_type": "stream",
     "text": [
      " 40%|███▉      | 5316/13309 [06:01<11:45, 11.33it/s]"
     ]
    },
    {
     "name": "stdout",
     "output_type": "stream",
     "text": [
      "Good <br><br>Attach File : <a href='http://csupload.cyberlink.com/upload-file/support/cs/2019-03-06/CS001998070/CL_PHOTODIRECTOR_DATA.zip' target=_blank>CL_PHOTODIRECTOR_DATA.zip</a> good attach file\n"
     ]
    },
    {
     "name": "stderr",
     "output_type": "stream",
     "text": [
      " 45%|████▍     | 5969/13309 [06:03<08:24, 14.55it/s]"
     ]
    },
    {
     "name": "stdout",
     "output_type": "stream",
     "text": [
      "Refund Order.  refund\n"
     ]
    },
    {
     "name": "stderr",
     "output_type": "stream",
     "text": [
      " 43%|████▎     | 5780/13315 [06:04<06:44, 18.61it/s]"
     ]
    },
    {
     "name": "stdout",
     "output_type": "stream",
     "text": [
      "﻿<html><div dir=\"auto\"> nhynntrj</div>   </html><br/>﻿ nhynntrj\n"
     ]
    },
    {
     "name": "stderr",
     "output_type": "stream",
     "text": [
      " 45%|████▍     | 5979/13309 [06:04<08:24, 14.54it/s]"
     ]
    },
    {
     "name": "stdout",
     "output_type": "stream",
     "text": [
      "﻿<html><div dir=\"auto\"> nhynntrj</div>   </html><br/>﻿ nhynntrj\n"
     ]
    },
    {
     "name": "stderr",
     "output_type": "stream",
     "text": [
      "\r",
      " 47%|████▋     | 6234/13309 [06:04<12:30,  9.43it/s]"
     ]
    },
    {
     "name": "stdout",
     "output_type": "stream",
     "text": [
      "﻿<html><div dir=\"auto\"> Nice<div dir=\"auto\"> <br> </div> </div>   </html><br/>﻿ nice\n"
     ]
    },
    {
     "name": "stderr",
     "output_type": "stream",
     "text": [
      " 47%|████▋     | 6249/13309 [06:05<06:51, 17.18it/s]"
     ]
    },
    {
     "name": "stdout",
     "output_type": "stream",
     "text": [
      "CS001917439<br><br>Attach File : <a href=\"http://csupload.cyberlink.com/upload-file/support/cs/2018-08-15/CS001924192/20180814_162656 (2).jpg\" target=_blank>20180814_162656 (2).jpg</a> c attach file\n"
     ]
    },
    {
     "name": "stderr",
     "output_type": "stream",
     "text": [
      " 44%|████▎     | 5797/13315 [06:04<06:18, 19.86it/s]"
     ]
    },
    {
     "name": "stdout",
     "output_type": "stream",
     "text": [
      "CS001917439<br><br>Attach File : <a href=\"http://csupload.cyberlink.com/upload-file/support/cs/2018-08-15/CS001924193/20180814_162656 (3).jpg\" target=_blank>20180814_162656 (3).jpg</a> c attach file\n",
      "CS001917439<br><br>Attach File : <a href=\"http://csupload.cyberlink.com/upload-file/support/cs/2018-08-15/CS001924195/20180814_163338 (2).jpg\" target=_blank>20180814_163338 (2).jpg</a> c attach file\n",
      "CyberLink Power2Go11.zip  無法解壓安裝<br><br>Attach File : <a href=\"http://csupload.cyberlink.com/upload-file/support/cs/2018-01-27/CS001850191/CS001850191-1517075349165-0.zip\" target=_blank>CS001850191-1517075349165-0.zip</a> cyberlink attach file\n"
     ]
    },
    {
     "name": "stderr",
     "output_type": "stream",
     "text": [
      " 42%|████▏     | 5556/13309 [06:05<07:28, 17.29it/s]"
     ]
    },
    {
     "name": "stdout",
     "output_type": "stream",
     "text": [
      "hi<br><br>Attach File : <a href='http://csupload.cyberlink.com/upload-file/support/cs/2018-07-21/CS001915781/CL_PHOTODIRECTOR_DATA.zip' target=_blank>CL_PHOTODIRECTOR_DATA.zip</a> hi attach file\n"
     ]
    },
    {
     "name": "stderr",
     "output_type": "stream",
     "text": [
      " 40%|████      | 5360/13309 [06:05<11:32, 11.48it/s]"
     ]
    },
    {
     "name": "stdout",
     "output_type": "stream",
     "text": [
      "hi<br><br>Attach File : <a href='http://csupload.cyberlink.com/upload-file/support/cs/2018-09-09/CS001932328/CL_PHOTODIRECTOR_DATA.zip' target=_blank>CL_PHOTODIRECTOR_DATA.zip</a> hi attach file\n"
     ]
    },
    {
     "name": "stderr",
     "output_type": "stream",
     "text": [
      " 40%|████      | 5362/13309 [06:05<11:05, 11.95it/s]"
     ]
    },
    {
     "name": "stdout",
     "output_type": "stream",
     "text": [
      "PfQatesting<br><br>Attach File : <a href='http://csupload.cyberlink.com/upload-file/support/cs/2019-07-01/CS002034393/feedback_data.zip' target=_blank>feedback_data.zip</a> pfqatesting attach file\n"
     ]
    },
    {
     "name": "stderr",
     "output_type": "stream",
     "text": [
      " 45%|████▍     | 5935/13309 [06:05<21:01,  5.84it/s]"
     ]
    },
    {
     "name": "stdout",
     "output_type": "stream",
     "text": [
      "pfQatesting<br><br>Attach File : <a href='http://csupload.cyberlink.com/upload-file/support/cs/2019-07-04/CS002035234/CL_LOGCAT_DATA.zip' target=_blank>CL_LOGCAT_DATA.zip</a> pfqatesting attach file\n"
     ]
    },
    {
     "name": "stderr",
     "output_type": "stream",
     "text": [
      "\r",
      " 40%|████      | 5364/13309 [06:05<10:05, 13.12it/s]"
     ]
    },
    {
     "name": "stdout",
     "output_type": "stream",
     "text": [
      "Pftesting<br><br>Attach File : <a href='http://csupload.cyberlink.com/upload-file/support/cs/2018-12-14/CS001965528/CL_LOGCAT_DATA.zip' target=_blank>CL_LOGCAT_DATA.zip</a> pftesting attach file\n"
     ]
    },
    {
     "name": "stderr",
     "output_type": "stream",
     "text": [
      " 37%|███▋      | 4972/13309 [06:06<13:30, 10.29it/s]"
     ]
    },
    {
     "name": "stdout",
     "output_type": "stream",
     "text": [
      "﻿<html><div dir=\"auto\"> <div dir=\"auto\"> <br> </div> <div dir=\"auto\"> <br> </div> <div dir=\"auto\"> <br> </div> <div dir=\"auto\"> <br> </div> <div dir=\"auto\"> <br> </div> <div dir=\"auto\"> <br> </div> </div>   </html><br/>﻿ \n"
     ]
    },
    {
     "name": "stderr",
     "output_type": "stream",
     "text": [
      " 41%|████      | 5391/13309 [06:08<13:23,  9.86it/s]"
     ]
    },
    {
     "name": "stdout",
     "output_type": "stream",
     "text": [
      "! <br><br>Attach File : <a href='http://csupload.cyberlink.com/upload-file/support/cs/2019-01-12/CS001979450/CL_PHOTODIRECTOR_DATA.zip' target=_blank>CL_PHOTODIRECTOR_DATA.zip</a> attach file\n"
     ]
    },
    {
     "name": "stderr",
     "output_type": "stream",
     "text": [
      " 45%|████▌     | 6047/13309 [06:08<09:38, 12.55it/s]"
     ]
    },
    {
     "name": "stdout",
     "output_type": "stream",
     "text": [
      "AS BELOW a below\n"
     ]
    },
    {
     "name": "stderr",
     "output_type": "stream",
     "text": [
      " 47%|████▋     | 6304/13309 [06:08<07:40, 15.21it/s]"
     ]
    },
    {
     "name": "stdout",
     "output_type": "stream",
     "text": [
      "రిషత<br><br>Attach File : <a href='http://csupload.cyberlink.com/upload-file/support/cs/2019-05-29/CS002025289/CL_PHOTODIRECTOR_DATA.zip' target=_blank>CL_PHOTODIRECTOR_DATA.zip</a> attach file\n"
     ]
    },
    {
     "name": "stderr",
     "output_type": "stream",
     "text": [
      " 45%|████▍     | 5986/13309 [06:08<06:12, 19.63it/s]"
     ]
    },
    {
     "name": "stdout",
     "output_type": "stream",
     "text": [
      "ಥಾಂಕ್ಸ್ <br><br>Attach File : <a href='http://csupload.cyberlink.com/upload-file/support/cs/2018-08-11/CS001922602/CL_PHOTODIRECTOR_DATA.zip' target=_blank>CL_PHOTODIRECTOR_DATA.zip</a> attach file\n"
     ]
    },
    {
     "name": "stderr",
     "output_type": "stream",
     "text": [
      " 44%|████▍     | 5869/13315 [06:08<06:35, 18.81it/s]"
     ]
    },
    {
     "name": "stdout",
     "output_type": "stream",
     "text": [
      "👍<br><br>Attach File : <a href='http://csupload.cyberlink.com/upload-file/support/cs/2018-12-05/CS001962233/CL_PHOTODIRECTOR_DATA.zip' target=_blank>CL_PHOTODIRECTOR_DATA.zip</a> attach file\n"
     ]
    },
    {
     "name": "stderr",
     "output_type": "stream",
     "text": [
      " 44%|████▍     | 5877/13315 [06:09<07:46, 15.94it/s]"
     ]
    },
    {
     "name": "stdout",
     "output_type": "stream",
     "text": [
      "great<br><br>Attach File : <a href='http://csupload.cyberlink.com/upload-file/support/cs/2018-12-31/CS001974868/CL_PHOTODIRECTOR_DATA.zip' target=_blank>CL_PHOTODIRECTOR_DATA.zip</a> great attach file\n"
     ]
    },
    {
     "name": "stderr",
     "output_type": "stream",
     "text": [
      " 42%|████▏     | 5631/13309 [06:09<09:38, 13.28it/s]"
     ]
    },
    {
     "name": "stdout",
     "output_type": "stream",
     "text": [
      "great<br><br>Attach File : <a href='http://csupload.cyberlink.com/upload-file/support/cs/2019-04-03/CS002009223/CL_PHOTODIRECTOR_DATA.zip' target=_blank>CL_PHOTODIRECTOR_DATA.zip</a> great attach file\n"
     ]
    },
    {
     "name": "stderr",
     "output_type": "stream",
     "text": [
      "\r",
      " 52%|█████▏    | 6981/13309 [06:09<04:29, 23.49it/s]"
     ]
    },
    {
     "name": "stdout",
     "output_type": "stream",
     "text": [
      "great<br><br>Attach File : <a href='http://csupload.cyberlink.com/upload-file/support/cs/2019-05-17/CS002022050/CL_PHOTODIRECTOR_DATA.zip' target=_blank>CL_PHOTODIRECTOR_DATA.zip</a> great attach file\n"
     ]
    },
    {
     "name": "stderr",
     "output_type": "stream",
     "text": [
      "\r",
      " 38%|███▊      | 5001/13309 [06:09<14:36,  9.48it/s]"
     ]
    },
    {
     "name": "stdout",
     "output_type": "stream",
     "text": [
      "great<br><br>Attach File : <a href='http://csupload.cyberlink.com/upload-file/support/cs/2019-06-13/CS002029421/CL_PHOTODIRECTOR_DATA.zip' target=_blank>CL_PHOTODIRECTOR_DATA.zip</a> great attach file\n"
     ]
    },
    {
     "name": "stderr",
     "output_type": "stream",
     "text": [
      " 38%|███▊      | 5012/13309 [06:10<16:16,  8.49it/s]"
     ]
    },
    {
     "name": "stdout",
     "output_type": "stream",
     "text": [
      "incorrect product key. incorrect product\n"
     ]
    },
    {
     "name": "stderr",
     "output_type": "stream",
     "text": [
      " 48%|████▊     | 6344/13309 [06:11<07:22, 15.73it/s]"
     ]
    },
    {
     "name": "stdout",
     "output_type": "stream",
     "text": [
      "Same at before. same at\n"
     ]
    },
    {
     "name": "stderr",
     "output_type": "stream",
     "text": [
      " 41%|████      | 5430/13309 [06:11<08:55, 14.72it/s]"
     ]
    },
    {
     "name": "stdout",
     "output_type": "stream",
     "text": [
      "Good <br><br>Attach File : <a href='http://csupload.cyberlink.com/upload-file/support/cs/2018-11-05/CS001951416/CL_PHOTODIRECTOR_DATA.zip' target=_blank>CL_PHOTODIRECTOR_DATA.zip</a> good attach file\n"
     ]
    },
    {
     "name": "stderr",
     "output_type": "stream",
     "text": [
      " 44%|████▍     | 5920/13315 [06:11<07:58, 15.46it/s]"
     ]
    },
    {
     "name": "stdout",
     "output_type": "stream",
     "text": [
      "good <br><br>Attach File : <a href='http://csupload.cyberlink.com/upload-file/support/cs/2018-12-08/CS001963661/CL_PHOTODIRECTOR_DATA.zip' target=_blank>CL_PHOTODIRECTOR_DATA.zip</a> good attach file\n",
      "good <br><br>Attach File : <a href='http://csupload.cyberlink.com/upload-file/support/cs/2018-12-31/CS001975007/CL_PHOTODIRECTOR_DATA.zip' target=_blank>CL_PHOTODIRECTOR_DATA.zip</a> good attach file\n"
     ]
    },
    {
     "name": "stderr",
     "output_type": "stream",
     "text": [
      " 48%|████▊     | 6370/13309 [06:13<08:05, 14.29it/s]"
     ]
    },
    {
     "name": "stdout",
     "output_type": "stream",
     "text": [
      "Excellent app. <br><br>Attach File : <a href='http://csupload.cyberlink.com/upload-file/support/cs/2018-01-30/CS001851256/CL_PHOTODIRECTOR_DATA.zip' target=_blank>CL_PHOTODIRECTOR_DATA.zip</a> excellent attach file\n"
     ]
    },
    {
     "name": "stderr",
     "output_type": "stream",
     "text": [
      " 38%|███▊      | 5034/13309 [06:13<14:20,  9.62it/s]"
     ]
    },
    {
     "name": "stdout",
     "output_type": "stream",
     "text": [
      "download power dvd 16 download power dvd\n"
     ]
    },
    {
     "name": "stderr",
     "output_type": "stream",
     "text": [
      " 46%|████▌     | 6123/13309 [06:15<07:14, 16.56it/s]"
     ]
    },
    {
     "name": "stdout",
     "output_type": "stream",
     "text": [
      "Please resend in email. please resend in\n"
     ]
    },
    {
     "name": "stderr",
     "output_type": "stream",
     "text": [
      " 54%|█████▎    | 7127/13309 [06:18<09:14, 11.15it/s]"
     ]
    },
    {
     "name": "stdout",
     "output_type": "stream",
     "text": [
      "WHY? why\n"
     ]
    },
    {
     "name": "stderr",
     "output_type": "stream",
     "text": [
      " 54%|█████▍    | 7160/13309 [06:20<05:43, 17.93it/s]"
     ]
    },
    {
     "name": "stdout",
     "output_type": "stream",
     "text": [
      "excellent <br><br>Attach File : <a href='http://csupload.cyberlink.com/upload-file/support/cs/2018-12-04/CS001962139/CL_PHOTODIRECTOR_DATA.zip' target=_blank>CL_PHOTODIRECTOR_DATA.zip</a> excellent attach file\n"
     ]
    },
    {
     "name": "stderr",
     "output_type": "stream",
     "text": [
      " 42%|████▏     | 5556/13309 [06:20<08:54, 14.51it/s]"
     ]
    },
    {
     "name": "stdout",
     "output_type": "stream",
     "text": [
      "excellent <br><br>Attach File : <a href='http://csupload.cyberlink.com/upload-file/support/cs/2019-06-21/CS002031561/CL_PHOTODIRECTOR_DATA.zip' target=_blank>CL_PHOTODIRECTOR_DATA.zip</a> excellent attach file\n"
     ]
    },
    {
     "name": "stderr",
     "output_type": "stream",
     "text": [
      " 45%|████▌     | 6040/13315 [06:21<07:57, 15.23it/s]"
     ]
    },
    {
     "name": "stdout",
     "output_type": "stream",
     "text": [
      "﻿<html><div dir=\"ltr\"> <br> </div>   </html><br/>﻿ \n"
     ]
    },
    {
     "name": "stderr",
     "output_type": "stream",
     "text": [
      " 47%|████▋     | 6228/13309 [06:21<06:52, 17.18it/s]"
     ]
    },
    {
     "name": "stdout",
     "output_type": "stream",
     "text": [
      "hi<br><br>Attach File : <a href='http://csupload.cyberlink.com/upload-file/support/cs/2018-05-11/CS001888908/CL_PHOTODIRECTOR_DATA.zip' target=_blank>CL_PHOTODIRECTOR_DATA.zip</a> hi attach file\n"
     ]
    },
    {
     "name": "stderr",
     "output_type": "stream",
     "text": [
      "\r",
      " 45%|████▌     | 6046/13315 [06:21<07:35, 15.96it/s]"
     ]
    },
    {
     "name": "stdout",
     "output_type": "stream",
     "text": [
      "hi<br><br>Attach File : <a href='http://csupload.cyberlink.com/upload-file/support/cs/2018-06-23/CS001906618/CL_PHOTODIRECTOR_DATA.zip' target=_blank>CL_PHOTODIRECTOR_DATA.zip</a> hi attach file\n"
     ]
    },
    {
     "name": "stderr",
     "output_type": "stream",
     "text": [
      " 38%|███▊      | 5118/13309 [06:22<18:32,  7.36it/s]"
     ]
    },
    {
     "name": "stdout",
     "output_type": "stream",
     "text": [
      "pfqatesting <br><br>Attach File : <a href='http://csupload.cyberlink.com/upload-file/support/cs/2019-02-13/CS001989816/CL_LOGCAT_DATA.zip' target=_blank>CL_LOGCAT_DATA.zip</a> pfqatesting attach file\n"
     ]
    },
    {
     "name": "stderr",
     "output_type": "stream",
     "text": [
      "\r",
      " 49%|████▉     | 6528/13309 [06:22<06:29, 17.39it/s]"
     ]
    },
    {
     "name": "stdout",
     "output_type": "stream",
     "text": [
      "PFQATESTING<br><br>Attach File : <a href='http://csupload.cyberlink.com/upload-file/support/cs/2018-05-06/CS001887207/CL_LOGCAT_DATA.zip' target=_blank>CL_LOGCAT_DATA.zip</a> pfqatesting attach file\n"
     ]
    },
    {
     "name": "stderr",
     "output_type": "stream",
     "text": [
      "\r",
      " 38%|███▊      | 5120/13309 [06:22<15:08,  9.01it/s]"
     ]
    },
    {
     "name": "stdout",
     "output_type": "stream",
     "text": [
      "Pfqatesting<br><br>Attach File : <a href='http://csupload.cyberlink.com/upload-file/support/cs/2018-08-22/CS001926100/feedback_data.zip' target=_blank>feedback_data.zip</a> pfqatesting attach file\n"
     ]
    },
    {
     "name": "stderr",
     "output_type": "stream",
     "text": [
      " 45%|████▌     | 6050/13315 [06:22<11:08, 10.87it/s]"
     ]
    },
    {
     "name": "stdout",
     "output_type": "stream",
     "text": [
      "PFQAtesting<br><br>Attach File : <a href='http://csupload.cyberlink.com/upload-file/support/cs/2018-08-23/CS001926706/CL_LOGCAT_DATA.zip' target=_blank>CL_LOGCAT_DATA.zip</a> pfqatesting attach file\n"
     ]
    },
    {
     "name": "stderr",
     "output_type": "stream",
     "text": [
      " 47%|████▋     | 6239/13309 [06:22<05:27, 21.61it/s]"
     ]
    },
    {
     "name": "stdout",
     "output_type": "stream",
     "text": [
      "PfQatesting<br><br>Attach File : <a href='http://csupload.cyberlink.com/upload-file/support/cs/2018-09-12/CS001933153/feedback_data.zip' target=_blank>feedback_data.zip</a> pfqatesting attach file\n"
     ]
    },
    {
     "name": "stderr",
     "output_type": "stream",
     "text": [
      "\r",
      " 42%|████▏     | 5581/13309 [06:22<11:11, 11.51it/s]"
     ]
    },
    {
     "name": "stdout",
     "output_type": "stream",
     "text": [
      "pfqatesting<br><br>Attach File : <a href='http://csupload.cyberlink.com/upload-file/support/cs/2018-11-22/CS001957447/CL_LOGCAT_DATA.zip' target=_blank>CL_LOGCAT_DATA.zip</a> pfqatesting attach file\n"
     ]
    },
    {
     "name": "stderr",
     "output_type": "stream",
     "text": [
      " 44%|████▍     | 5849/13309 [06:22<12:58,  9.58it/s]"
     ]
    },
    {
     "name": "stdout",
     "output_type": "stream",
     "text": [
      "﻿<html><p dir=\"ltr\"> <a href=\"mailto:mdanwarali368@gmail.com\"> mdanwarali368@gmail.com</a> </p>   </html><br/>﻿ \n"
     ]
    },
    {
     "name": "stderr",
     "output_type": "stream",
     "text": [
      " 39%|███▊      | 5145/13309 [06:24<15:22,  8.85it/s]"
     ]
    },
    {
     "name": "stdout",
     "output_type": "stream",
     "text": [
      "Great<br><br>Attach File : <a href='http://csupload.cyberlink.com/upload-file/support/cs/2018-12-31/CS001974862/CL_PHOTODIRECTOR_DATA.zip' target=_blank>CL_PHOTODIRECTOR_DATA.zip</a> great attach file\n"
     ]
    },
    {
     "name": "stderr",
     "output_type": "stream",
     "text": [
      " 49%|████▉     | 6574/13309 [06:24<07:47, 14.42it/s]"
     ]
    },
    {
     "name": "stdout",
     "output_type": "stream",
     "text": [
      "good<br><br>Attach File : <a href='http://csupload.cyberlink.com/upload-file/support/cs/2019-02-09/CS001988616/CL_PHOTODIRECTOR_DATA.zip' target=_blank>CL_PHOTODIRECTOR_DATA.zip</a> good attach file\n"
     ]
    },
    {
     "name": "stderr",
     "output_type": "stream",
     "text": [
      " 47%|████▋     | 6280/13309 [06:27<07:45, 15.09it/s]"
     ]
    },
    {
     "name": "stdout",
     "output_type": "stream",
     "text": [
      "pfqatesting <br><br>Attach File : <a href='http://csupload.cyberlink.com/upload-file/support/cs/2018-11-20/CS001956735/CL_LOGCAT_DATA.zip' target=_blank>CL_LOGCAT_DATA.zip</a> pfqatesting attach file\n"
     ]
    },
    {
     "name": "stderr",
     "output_type": "stream",
     "text": [
      " 45%|████▍     | 5944/13309 [06:27<05:34, 22.00it/s]"
     ]
    },
    {
     "name": "stdout",
     "output_type": "stream",
     "text": [
      "﻿<html><div dir=\"auto\"> <div dir=\"auto\"> <br> </div> <div dir=\"auto\"> <br> </div> <div dir=\"auto\"> <br> </div> </div>   </html><br/>﻿ \n"
     ]
    },
    {
     "name": "stderr",
     "output_type": "stream",
     "text": [
      " 55%|█████▌    | 7330/13309 [06:28<07:33, 13.18it/s]"
     ]
    },
    {
     "name": "stdout",
     "output_type": "stream",
     "text": [
      "help<br><br>Attach File : <a href='http://csupload.cyberlink.com/upload-file/support/cs/2019-03-06/CS001998028/CL_PHOTODIRECTOR_DATA.zip' target=_blank>CL_PHOTODIRECTOR_DATA.zip</a> help attach file\n"
     ]
    },
    {
     "name": "stderr",
     "output_type": "stream",
     "text": [
      " 50%|████▉     | 6621/13309 [06:28<07:56, 14.05it/s]"
     ]
    },
    {
     "name": "stdout",
     "output_type": "stream",
     "text": [
      "PowerDirector 16 Ultimate not responding. powerdirector ultimate not\n"
     ]
    },
    {
     "name": "stderr",
     "output_type": "stream",
     "text": [
      " 45%|████▍     | 5973/13309 [06:29<06:54, 17.70it/s]"
     ]
    },
    {
     "name": "stdout",
     "output_type": "stream",
     "text": [
      "good<br><br>Attach File : <a href='http://csupload.cyberlink.com/upload-file/support/cs/2019-01-28/CS001984968/CL_PHOTODIRECTOR_DATA.zip' target=_blank>CL_PHOTODIRECTOR_DATA.zip</a> good attach file\n"
     ]
    },
    {
     "name": "stderr",
     "output_type": "stream",
     "text": [
      "\r",
      " 55%|█████▌    | 7363/13309 [06:29<03:28, 28.57it/s]"
     ]
    },
    {
     "name": "stdout",
     "output_type": "stream",
     "text": [
      "good<br><br>Attach File : <a href='http://csupload.cyberlink.com/upload-file/support/cs/2019-02-08/CS001988427/CL_PHOTODIRECTOR_DATA.zip' target=_blank>CL_PHOTODIRECTOR_DATA.zip</a> good attach file\n"
     ]
    },
    {
     "name": "stderr",
     "output_type": "stream",
     "text": [
      " 56%|█████▌    | 7416/13309 [06:33<12:21,  7.94it/s]"
     ]
    },
    {
     "name": "stdout",
     "output_type": "stream",
     "text": [
      "1<br><br>Attach File : <a href='http://csupload.cyberlink.com/upload-file/support/cs/2018-03-20/CS001870592/feedback_data.zip' target=_blank>feedback_data.zip</a> attach file\n"
     ]
    },
    {
     "name": "stderr",
     "output_type": "stream",
     "text": [
      " 48%|████▊     | 6356/13309 [06:33<07:39, 15.13it/s]"
     ]
    },
    {
     "name": "stdout",
     "output_type": "stream",
     "text": [
      "A++++<br><br>Attach File : <a href='http://csupload.cyberlink.com/upload-file/support/cs/2018-02-06/CS001854402/feedback_data.zip' target=_blank>feedback_data.zip</a> a attach file\n"
     ]
    },
    {
     "name": "stderr",
     "output_type": "stream",
     "text": [
      " 56%|█████▌    | 7426/13309 [06:33<07:29, 13.10it/s]"
     ]
    },
    {
     "name": "stdout",
     "output_type": "stream",
     "text": [
      "See Attached.<br><br>Attach File : <a href=\"http://csupload.cyberlink.com/upload-file/support/cs/2018-10-31/CS001949737/Capture.PNG\" target=_blank>Capture.PNG</a> see attach file\n"
     ]
    },
    {
     "name": "stderr",
     "output_type": "stream",
     "text": [
      " 39%|███▉      | 5241/13309 [06:33<15:15,  8.81it/s]"
     ]
    },
    {
     "name": "stdout",
     "output_type": "stream",
     "text": [
      "Followup CS002028207  followup c\n",
      "Follow-Up CS002031692. follow up\n"
     ]
    },
    {
     "name": "stderr",
     "output_type": "stream",
     "text": [
      " 47%|████▋     | 6265/13315 [06:35<06:21, 18.46it/s]"
     ]
    },
    {
     "name": "stdout",
     "output_type": "stream",
     "text": [
      "Ticket ID: CS001990440 ticket id c\n"
     ]
    },
    {
     "name": "stderr",
     "output_type": "stream",
     "text": [
      " 47%|████▋     | 6285/13315 [06:36<07:16, 16.10it/s]"
     ]
    },
    {
     "name": "stdout",
     "output_type": "stream",
     "text": [
      "Activation problem activation problem\n"
     ]
    },
    {
     "name": "stderr",
     "output_type": "stream",
     "text": [
      " 51%|█████     | 6816/13309 [06:39<04:54, 22.02it/s]"
     ]
    },
    {
     "name": "stdout",
     "output_type": "stream",
     "text": [
      "app. will not activate will not activate\n"
     ]
    },
    {
     "name": "stderr",
     "output_type": "stream",
     "text": [
      " 51%|█████▏    | 6831/13309 [06:40<05:16, 20.44it/s]"
     ]
    },
    {
     "name": "stdout",
     "output_type": "stream",
     "text": [
      "Customer # 104635778  Order # 214616414 customer order\n"
     ]
    },
    {
     "name": "stderr",
     "output_type": "stream",
     "text": [
      " 46%|████▌     | 6141/13309 [06:41<06:31, 18.30it/s]"
     ]
    },
    {
     "name": "stdout",
     "output_type": "stream",
     "text": [
      "https://www.facebook.com/AboutSBshuvo/videos/316074952441815/<br><br>Attach File : <a href='http://csupload.cyberlink.com/upload-file/support/cs/2019-02-24/CS001994444/CL_LOGCAT_DATA.zip' target=_blank>CL_LOGCAT_DATA.zip</a> attach file\n"
     ]
    },
    {
     "name": "stderr",
     "output_type": "stream",
     "text": [
      " 48%|████▊     | 6361/13315 [06:42<08:26, 13.73it/s]"
     ]
    },
    {
     "name": "stdout",
     "output_type": "stream",
     "text": [
      "Reached the maximum limit. reach the maximum\n"
     ]
    },
    {
     "name": "stderr",
     "output_type": "stream",
     "text": [
      " 44%|████▍     | 5879/13309 [06:42<05:25, 22.81it/s]"
     ]
    },
    {
     "name": "stdout",
     "output_type": "stream",
     "text": [
      "numbers 212272996 number\n"
     ]
    },
    {
     "name": "stderr",
     "output_type": "stream",
     "text": [
      " 40%|████      | 5342/13309 [06:42<13:56,  9.52it/s]"
     ]
    },
    {
     "name": "stdout",
     "output_type": "stream",
     "text": [
      "MESI50612-03 mesi\n"
     ]
    },
    {
     "name": "stderr",
     "output_type": "stream",
     "text": [
      " 40%|████      | 5348/13309 [06:43<10:51, 12.21it/s]"
     ]
    },
    {
     "name": "stdout",
     "output_type": "stream",
     "text": [
      "ORDER#:  214580193    Customer#:  104549213    Software crashes.    Thanks. order customer software\n"
     ]
    },
    {
     "name": "stderr",
     "output_type": "stream",
     "text": [
      " 52%|█████▏    | 6905/13309 [06:44<06:25, 16.60it/s]"
     ]
    },
    {
     "name": "stdout",
     "output_type": "stream",
     "text": [
      "want effect want effect\n"
     ]
    },
    {
     "name": "stderr",
     "output_type": "stream",
     "text": [
      " 44%|████▍     | 5909/13309 [06:44<09:50, 12.52it/s]"
     ]
    },
    {
     "name": "stdout",
     "output_type": "stream",
     "text": [
      "still cannot download. still can not\n"
     ]
    },
    {
     "name": "stderr",
     "output_type": "stream",
     "text": [
      " 52%|█████▏    | 6913/13309 [06:45<07:04, 15.06it/s]"
     ]
    },
    {
     "name": "stdout",
     "output_type": "stream",
     "text": [
      "Please cancel please cancel\n"
     ]
    },
    {
     "name": "stderr",
     "output_type": "stream",
     "text": [
      "\r",
      " 50%|████▉     | 6601/13309 [06:45<07:42, 14.52it/s]"
     ]
    },
    {
     "name": "stdout",
     "output_type": "stream",
     "text": [
      "please cancel please cancel\n"
     ]
    },
    {
     "name": "stderr",
     "output_type": "stream",
     "text": [
      " 40%|████      | 5370/13309 [06:44<10:21, 12.78it/s]"
     ]
    },
    {
     "name": "stdout",
     "output_type": "stream",
     "text": [
      "Please cancel ASAP please cancel asap\n"
     ]
    },
    {
     "name": "stderr",
     "output_type": "stream",
     "text": [
      " 47%|████▋     | 6243/13309 [06:48<14:41,  8.02it/s]"
     ]
    },
    {
     "name": "stdout",
     "output_type": "stream",
     "text": [
      "it works great it work great\n"
     ]
    },
    {
     "name": "stderr",
     "output_type": "stream",
     "text": [
      " 49%|████▊     | 6478/13315 [06:49<08:53, 12.81it/s]"
     ]
    },
    {
     "name": "stdout",
     "output_type": "stream",
     "text": [
      "It does not work. it do not\n"
     ]
    },
    {
     "name": "stderr",
     "output_type": "stream",
     "text": [
      " 58%|█████▊    | 7667/13309 [06:52<15:48,  5.95it/s]"
     ]
    },
    {
     "name": "stdout",
     "output_type": "stream",
     "text": [
      "powerdirector 12 download  powerdirector download\n"
     ]
    },
    {
     "name": "stderr",
     "output_type": "stream",
     "text": [
      " 48%|████▊     | 6327/13309 [06:55<06:42, 17.33it/s]"
     ]
    },
    {
     "name": "stdout",
     "output_type": "stream",
     "text": [
      "share <br><br>Attach File : <a href='http://csupload.cyberlink.com/upload-file/support/cs/2019-06-12/CS002029058/DeviceInfo.txt' target=_blank>DeviceInfo.txt</a> share attach file\n"
     ]
    },
    {
     "name": "stderr",
     "output_type": "stream",
     "text": [
      " 53%|█████▎    | 7087/13309 [06:55<07:37, 13.60it/s]"
     ]
    },
    {
     "name": "stdout",
     "output_type": "stream",
     "text": [
      "﻿<html><div dir=\"auto\"> Ahmed&nbsp;</div>   </html><br/>﻿ ahmed nbsp\n"
     ]
    },
    {
     "name": "stderr",
     "output_type": "stream",
     "text": [
      " 58%|█████▊    | 7724/13309 [06:56<05:04, 18.37it/s]"
     ]
    },
    {
     "name": "stdout",
     "output_type": "stream",
     "text": [
      "﻿<html><div dir=\"auto\"> App stopped working</div>   </html><br/>﻿ app stop work\n"
     ]
    },
    {
     "name": "stderr",
     "output_type": "stream",
     "text": [
      " 49%|████▉     | 6561/13315 [06:57<07:40, 14.66it/s]"
     ]
    },
    {
     "name": "stdout",
     "output_type": "stream",
     "text": [
      "image<br><br>Attach File : <a href='http://csupload.cyberlink.com/upload-file/support/cs/2018-10-13/CS001943587/CL_PHOTODIRECTOR_DATA.zip' target=_blank>CL_PHOTODIRECTOR_DATA.zip</a> image attach file\n"
     ]
    },
    {
     "name": "stderr",
     "output_type": "stream",
     "text": [
      " 47%|████▋     | 6299/13309 [07:04<09:15, 12.61it/s]"
     ]
    },
    {
     "name": "stdout",
     "output_type": "stream",
     "text": [
      "join me join me\n"
     ]
    },
    {
     "name": "stderr",
     "output_type": "stream",
     "text": [
      " 51%|█████▏    | 6837/13309 [07:06<07:25, 14.52it/s]"
     ]
    },
    {
     "name": "stdout",
     "output_type": "stream",
     "text": [
      "Urjckgcc<br><br>Attach File : <a href='http://csupload.cyberlink.com/upload-file/support/cs/2018-11-12/CS001953669/feedback_data.zip' target=_blank>feedback_data.zip</a> urjckgcc attach file\n"
     ]
    },
    {
     "name": "stderr",
     "output_type": "stream",
     "text": [
      " 48%|████▊     | 6323/13309 [07:06<07:32, 15.45it/s]"
     ]
    },
    {
     "name": "stdout",
     "output_type": "stream",
     "text": [
      "Uruguay<br><br>Attach File : <a href='http://csupload.cyberlink.com/upload-file/support/cs/2018-11-12/CS001953666/feedback_data.zip' target=_blank>feedback_data.zip</a> uruguay attach file\n"
     ]
    },
    {
     "name": "stderr",
     "output_type": "stream",
     "text": [
      "\r",
      " 42%|████▏     | 5602/13309 [07:06<09:35, 13.40it/s]"
     ]
    },
    {
     "name": "stdout",
     "output_type": "stream",
     "text": [
      "user<br><br>Attach File : <a href='http://csupload.cyberlink.com/upload-file/support/cs/2018-02-22/CS001860434/CL_LOGCAT_DATA.zip' target=_blank>CL_LOGCAT_DATA.zip</a> user attach file\n"
     ]
    },
    {
     "name": "stderr",
     "output_type": "stream",
     "text": [
      " 52%|█████▏    | 6894/13309 [07:06<06:58, 15.33it/s]"
     ]
    },
    {
     "name": "stdout",
     "output_type": "stream",
     "text": [
      "Usjfkglovifdf<br><br>Attach File : <a href='http://csupload.cyberlink.com/upload-file/support/cs/2018-11-12/CS001953618/feedback_data.zip' target=_blank>feedback_data.zip</a> usjfkglovifdf attach file\n"
     ]
    },
    {
     "name": "stderr",
     "output_type": "stream",
     "text": [
      " 60%|█████▉    | 7925/13309 [07:08<04:58, 18.01it/s]"
     ]
    },
    {
     "name": "stdout",
     "output_type": "stream",
     "text": [
      "test test\n"
     ]
    },
    {
     "name": "stderr",
     "output_type": "stream",
     "text": [
      "\r",
      " 42%|████▏     | 5620/13309 [07:08<18:55,  6.77it/s]"
     ]
    },
    {
     "name": "stdout",
     "output_type": "stream",
     "text": [
      "test from Joyce test from joyce\n"
     ]
    },
    {
     "name": "stderr",
     "output_type": "stream",
     "text": [
      " 55%|█████▍    | 7302/13309 [07:08<04:52, 20.53it/s]"
     ]
    },
    {
     "name": "stdout",
     "output_type": "stream",
     "text": [
      "708090<br><br>Attach File : <a href='http://csupload.cyberlink.com/upload-file/support/cs/2018-01-04/CS001840465/DeviceInfo.txt' target=_blank>DeviceInfo.txt</a> attach file\n"
     ]
    },
    {
     "name": "stderr",
     "output_type": "stream",
     "text": [
      "\r",
      " 49%|████▉     | 6556/13309 [07:08<06:43, 16.73it/s]"
     ]
    },
    {
     "name": "stdout",
     "output_type": "stream",
     "text": [
      "708090<br><br>Attach File : <a href='http://csupload.cyberlink.com/upload-file/support/cs/2018-01-04/CS001840466/DeviceInfo.txt' target=_blank>DeviceInfo.txt</a> attach file\n"
     ]
    },
    {
     "name": "stderr",
     "output_type": "stream",
     "text": [
      " 50%|█████     | 6708/13315 [07:08<07:06, 15.51it/s]"
     ]
    },
    {
     "name": "stdout",
     "output_type": "stream",
     "text": [
      "test test\n"
     ]
    },
    {
     "name": "stderr",
     "output_type": "stream",
     "text": [
      " 52%|█████▏    | 6859/13309 [07:08<08:59, 11.96it/s]"
     ]
    },
    {
     "name": "stdout",
     "output_type": "stream",
     "text": [
      "Supub app...speechless<br><br>Attach File : <a href='http://csupload.cyberlink.com/upload-file/support/cs/2018-11-13/CS001954082/CL_PHOTODIRECTOR_DATA.zip' target=_blank>CL_PHOTODIRECTOR_DATA.zip</a> supub attach file\n"
     ]
    },
    {
     "name": "stderr",
     "output_type": "stream",
     "text": [
      " 50%|█████     | 6721/13315 [07:09<05:54, 18.58it/s]"
     ]
    },
    {
     "name": "stdout",
     "output_type": "stream",
     "text": [
      "share <br><br>Attach File : <a href='http://csupload.cyberlink.com/upload-file/support/cs/2019-06-12/CS002029057/DeviceInfo.txt' target=_blank>DeviceInfo.txt</a> share attach file\n"
     ]
    },
    {
     "name": "stderr",
     "output_type": "stream",
     "text": [
      " 51%|█████     | 6728/13315 [07:09<05:11, 21.12it/s]"
     ]
    },
    {
     "name": "stdout",
     "output_type": "stream",
     "text": [
      "Order no.: 144990671 order\n"
     ]
    },
    {
     "name": "stderr",
     "output_type": "stream",
     "text": [
      " 52%|█████▏    | 6949/13309 [07:11<06:19, 16.76it/s]"
     ]
    },
    {
     "name": "stdout",
     "output_type": "stream",
     "text": [
      "cau 1 cau\n"
     ]
    },
    {
     "name": "stderr",
     "output_type": "stream",
     "text": [
      " 60%|██████    | 8006/13309 [07:11<04:58, 17.79it/s]"
     ]
    },
    {
     "name": "stdout",
     "output_type": "stream",
     "text": [
      "I want a refund. i want a\n"
     ]
    },
    {
     "name": "stderr",
     "output_type": "stream",
     "text": [
      " 52%|█████▏    | 6963/13309 [07:12<06:37, 15.96it/s]"
     ]
    },
    {
     "name": "stdout",
     "output_type": "stream",
     "text": [
      "Can not activate copy. can not activate\n"
     ]
    },
    {
     "name": "stderr",
     "output_type": "stream",
     "text": [
      " 50%|████▉     | 6618/13309 [07:12<05:09, 21.62it/s]"
     ]
    },
    {
     "name": "stdout",
     "output_type": "stream",
     "text": [
      "Add marathi font add marathi font\n"
     ]
    },
    {
     "name": "stderr",
     "output_type": "stream",
     "text": [
      " 60%|██████    | 8027/13309 [07:14<08:48, 10.00it/s]"
     ]
    },
    {
     "name": "stdout",
     "output_type": "stream",
     "text": [
      "﻿<html><div dir=\"auto\"> </div>   </html><br/>﻿<a target='_blank' href=\"http://csupload.cyberlink.com/upload-file/support/ic/20180405/WM1522927862733_IMG_20180329_102059_358.jpg\">IMG_20180329_102059_358.jpg</a><br/> \n"
     ]
    },
    {
     "name": "stderr",
     "output_type": "stream",
     "text": [
      " 51%|█████     | 6810/13315 [07:14<04:28, 24.23it/s]"
     ]
    },
    {
     "name": "stdout",
     "output_type": "stream",
     "text": [
      "unable to activate software. unable to activate\n"
     ]
    },
    {
     "name": "stderr",
     "output_type": "stream",
     "text": [
      " 61%|██████    | 8067/13309 [07:18<13:15,  6.59it/s]"
     ]
    },
    {
     "name": "stdout",
     "output_type": "stream",
     "text": [
      "HOW TO DOWNLOAD how to download\n"
     ]
    },
    {
     "name": "stderr",
     "output_type": "stream",
     "text": [
      " 52%|█████▏    | 6981/13309 [07:18<08:28, 12.45it/s]"
     ]
    },
    {
     "name": "stdout",
     "output_type": "stream",
     "text": [
      "keeps denying me activation. keep deny me\n"
     ]
    },
    {
     "name": "stderr",
     "output_type": "stream",
     "text": [
      " 52%|█████▏    | 6906/13315 [07:19<04:49, 22.14it/s]"
     ]
    },
    {
     "name": "stdout",
     "output_type": "stream",
     "text": [
      "Please provide please provide\n"
     ]
    },
    {
     "name": "stderr",
     "output_type": "stream",
     "text": [
      " 53%|█████▎    | 7095/13309 [07:20<04:41, 22.06it/s]"
     ]
    },
    {
     "name": "stdout",
     "output_type": "stream",
     "text": [
      "Access to MP3Cache.ini was denied. access to be\n"
     ]
    },
    {
     "name": "stderr",
     "output_type": "stream",
     "text": [
      " 61%|██████    | 8133/13309 [07:21<04:07, 20.89it/s]"
     ]
    },
    {
     "name": "stdout",
     "output_type": "stream",
     "text": [
      "﻿<html><div dir=\"auto\"> Pls unsubscribe me.</div>   </html><br/>﻿ pls unsubscribe\n"
     ]
    },
    {
     "name": "stderr",
     "output_type": "stream",
     "text": [
      " 51%|█████▏    | 6822/13309 [07:25<07:38, 14.15it/s]"
     ]
    },
    {
     "name": "stdout",
     "output_type": "stream",
     "text": [
      "help<br><br>Attach File : <a href='http://csupload.cyberlink.com/upload-file/support/cs/2019-01-30/CS001985510/CL_PHOTODIRECTOR_DATA.zip' target=_blank>CL_PHOTODIRECTOR_DATA.zip</a> help attach file\n"
     ]
    },
    {
     "name": "stderr",
     "output_type": "stream",
     "text": [
      " 51%|█████▏    | 6830/13309 [07:26<06:10, 17.48it/s]"
     ]
    },
    {
     "name": "stdout",
     "output_type": "stream",
     "text": [
      "order # 214047224 order\n"
     ]
    },
    {
     "name": "stderr",
     "output_type": "stream",
     "text": [
      " 52%|█████▏    | 6863/13309 [07:28<05:11, 20.71it/s]"
     ]
    },
    {
     "name": "stdout",
     "output_type": "stream",
     "text": [
      "good experience.<br><br>Attach File : <a href='http://csupload.cyberlink.com/upload-file/support/cs/2018-11-09/CS001952901/CL_PHOTODIRECTOR_DATA.zip' target=_blank>CL_PHOTODIRECTOR_DATA.zip</a> good attach file\n"
     ]
    },
    {
     "name": "stderr",
     "output_type": "stream",
     "text": [
      " 52%|█████▏    | 6870/13309 [07:28<04:40, 22.95it/s]"
     ]
    },
    {
     "name": "stdout",
     "output_type": "stream",
     "text": [
      "Good <br><br>Attach File : <a href='http://csupload.cyberlink.com/upload-file/support/cs/2018-10-15/CS001944216/CL_PHOTODIRECTOR_DATA.zip' target=_blank>CL_PHOTODIRECTOR_DATA.zip</a> good attach file\n"
     ]
    },
    {
     "name": "stderr",
     "output_type": "stream",
     "text": [
      " 52%|█████▏    | 6886/13309 [07:29<04:47, 22.34it/s]"
     ]
    },
    {
     "name": "stdout",
     "output_type": "stream",
     "text": [
      "Amoozing<br><br>Attach File : <a href='http://csupload.cyberlink.com/upload-file/support/cs/2018-03-02/CS001863710/feedback_data.zip' target=_blank>feedback_data.zip</a> amoozing attach file\n"
     ]
    },
    {
     "name": "stderr",
     "output_type": "stream",
     "text": [
      " 45%|████▍     | 5985/13309 [07:30<06:15, 19.53it/s]"
     ]
    },
    {
     "name": "stdout",
     "output_type": "stream",
     "text": [
      "Need refund. need\n"
     ]
    },
    {
     "name": "stderr",
     "output_type": "stream",
     "text": [
      " 63%|██████▎   | 8324/13309 [07:31<06:54, 12.03it/s]"
     ]
    },
    {
     "name": "stdout",
     "output_type": "stream",
     "text": [
      " imgay<br><br>Attach File : <a href='http://csupload.cyberlink.com/upload-file/support/cs/2018-11-26/CS001958810/CL_PHOTODIRECTOR_DATA.zip' target=_blank>CL_PHOTODIRECTOR_DATA.zip</a> imgay attach file\n"
     ]
    },
    {
     "name": "stderr",
     "output_type": "stream",
     "text": [
      " 54%|█████▎    | 7147/13315 [07:31<04:37, 22.25it/s]"
     ]
    },
    {
     "name": "stdout",
     "output_type": "stream",
     "text": [
      "great<br><br>Attach File : <a href='http://csupload.cyberlink.com/upload-file/support/cs/2018-10-05/CS001940853/CL_PHOTODIRECTOR_DATA.zip' target=_blank>CL_PHOTODIRECTOR_DATA.zip</a> great attach file\n"
     ]
    },
    {
     "name": "stderr",
     "output_type": "stream",
     "text": [
      " 50%|█████     | 6714/13309 [07:31<06:35, 16.68it/s]"
     ]
    },
    {
     "name": "stdout",
     "output_type": "stream",
     "text": [
      "great<br><br>Attach File : <a href='http://csupload.cyberlink.com/upload-file/support/cs/2018-11-14/CS001954556/CL_PHOTODIRECTOR_DATA.zip' target=_blank>CL_PHOTODIRECTOR_DATA.zip</a> great attach file\n"
     ]
    },
    {
     "name": "stderr",
     "output_type": "stream",
     "text": [
      " 52%|█████▏    | 6930/13309 [07:32<07:41, 13.81it/s]"
     ]
    },
    {
     "name": "stdout",
     "output_type": "stream",
     "text": [
      "Jdhfug<br><br>Attach File : <a href='http://csupload.cyberlink.com/upload-file/support/cs/2018-11-12/CS001953616/feedback_data.zip' target=_blank>feedback_data.zip</a> jdhfug attach file\n"
     ]
    },
    {
     "name": "stderr",
     "output_type": "stream",
     "text": [
      " 52%|█████▏    | 6934/13309 [07:32<06:14, 17.04it/s]"
     ]
    },
    {
     "name": "stdout",
     "output_type": "stream",
     "text": [
      "jdidjd<br><br>Attach File : <a href='http://csupload.cyberlink.com/upload-file/support/cs/2019-04-24/CS002015404/CL_LOGCAT_DATA.zip' target=_blank>CL_LOGCAT_DATA.zip</a> jdidjd attach file\n"
     ]
    },
    {
     "name": "stderr",
     "output_type": "stream",
     "text": [
      " 53%|█████▎    | 7009/13309 [07:36<05:57, 17.60it/s]"
     ]
    },
    {
     "name": "stdout",
     "output_type": "stream",
     "text": [
      "How to refund? how to refund\n"
     ]
    },
    {
     "name": "stderr",
     "output_type": "stream",
     "text": [
      " 59%|█████▉    | 7829/13309 [07:38<03:48, 23.93it/s]"
     ]
    },
    {
     "name": "stdout",
     "output_type": "stream",
     "text": [
      "I want to cancel. i want to\n"
     ]
    },
    {
     "name": "stderr",
     "output_type": "stream",
     "text": [
      " 53%|█████▎    | 7109/13309 [07:42<05:48, 17.79it/s]"
     ]
    },
    {
     "name": "stdout",
     "output_type": "stream",
     "text": [
      "no more paymnents, please. no more paymnents\n"
     ]
    },
    {
     "name": "stderr",
     "output_type": "stream",
     "text": [
      " 60%|█████▉    | 7940/13309 [07:44<04:37, 19.38it/s]"
     ]
    },
    {
     "name": "stdout",
     "output_type": "stream",
     "text": [
      "help<br><br>Attach File : <a href='http://csupload.cyberlink.com/upload-file/support/cs/2018-09-26/CS001937979/CL_PHOTODIRECTOR_DATA.zip' target=_blank>CL_PHOTODIRECTOR_DATA.zip</a> help attach file\n"
     ]
    },
    {
     "name": "stderr",
     "output_type": "stream",
     "text": [
      " 47%|████▋     | 6312/13309 [07:46<07:30, 15.52it/s]"
     ]
    },
    {
     "name": "stdout",
     "output_type": "stream",
     "text": [
      "MY CONFIRMATION ORDER 214484178 my confirmation order\n"
     ]
    },
    {
     "name": "stderr",
     "output_type": "stream",
     "text": [
      " 60%|██████    | 8018/13309 [07:48<04:27, 19.81it/s]"
     ]
    },
    {
     "name": "stdout",
     "output_type": "stream",
     "text": [
      "awesome...apk<br><br>Attach File : <a href='http://csupload.cyberlink.com/upload-file/support/cs/2018-10-20/CS001945999/CL_PHOTODIRECTOR_DATA.zip' target=_blank>CL_PHOTODIRECTOR_DATA.zip</a> attach file\n"
     ]
    },
    {
     "name": "stderr",
     "output_type": "stream",
     "text": [
      " 56%|█████▌    | 7487/13315 [07:48<07:25, 13.07it/s]"
     ]
    },
    {
     "name": "stdout",
     "output_type": "stream",
     "text": [
      "awesome<br><br>Attach File : <a href='http://csupload.cyberlink.com/upload-file/support/cs/2018-02-18/CS001859076/CL_PHOTODIRECTOR_DATA.zip' target=_blank>CL_PHOTODIRECTOR_DATA.zip</a> awesome attach file\n"
     ]
    },
    {
     "name": "stderr",
     "output_type": "stream",
     "text": [
      " 53%|█████▎    | 7014/13309 [07:48<04:44, 22.13it/s]"
     ]
    },
    {
     "name": "stdout",
     "output_type": "stream",
     "text": [
      "awesome<br><br>Attach File : <a href='http://csupload.cyberlink.com/upload-file/support/cs/2018-11-20/CS001956551/CL_PHOTODIRECTOR_DATA.zip' target=_blank>CL_PHOTODIRECTOR_DATA.zip</a> awesome attach file\n",
      "awesome<br><br>Attach File : <a href='http://csupload.cyberlink.com/upload-file/support/cs/2018-11-20/CS001956773/CL_PHOTODIRECTOR_DATA.zip' target=_blank>CL_PHOTODIRECTOR_DATA.zip</a> awesome attach file\n",
      "awesome<br><br>Attach File : <a href='http://csupload.cyberlink.com/upload-file/support/cs/2019-03-07/CS001998449/CL_PHOTODIRECTOR_DATA.zip' target=_blank>CL_PHOTODIRECTOR_DATA.zip</a> awesome attach file\n"
     ]
    },
    {
     "name": "stderr",
     "output_type": "stream",
     "text": [
      " 65%|██████▍   | 8646/13309 [07:48<04:35, 16.90it/s]"
     ]
    },
    {
     "name": "stdout",
     "output_type": "stream",
     "text": [
      "awesome<br><br>Attach File : <a href='http://csupload.cyberlink.com/upload-file/support/cs/2019-06-27/CS002033150/CL_PHOTODIRECTOR_DATA.zip' target=_blank>CL_PHOTODIRECTOR_DATA.zip</a> awesome attach file\n"
     ]
    },
    {
     "name": "stderr",
     "output_type": "stream",
     "text": [
      " 56%|█████▌    | 7422/13309 [07:48<07:48, 12.55it/s]"
     ]
    },
    {
     "name": "stdout",
     "output_type": "stream",
     "text": [
      "awsm<br><br>Attach File : <a href='http://csupload.cyberlink.com/upload-file/support/cs/2018-12-02/CS001961283/CL_PHOTODIRECTOR_DATA.zip' target=_blank>CL_PHOTODIRECTOR_DATA.zip</a> awsm attach file\n"
     ]
    },
    {
     "name": "stderr",
     "output_type": "stream",
     "text": [
      " 65%|██████▌   | 8651/13309 [07:48<03:46, 20.57it/s]"
     ]
    },
    {
     "name": "stdout",
     "output_type": "stream",
     "text": [
      "awsm<br><br>Attach File : <a href='http://csupload.cyberlink.com/upload-file/support/cs/2018-12-19/CS001967920/CL_PHOTODIRECTOR_DATA.zip' target=_blank>CL_PHOTODIRECTOR_DATA.zip</a> awsm attach file\n"
     ]
    },
    {
     "name": "stderr",
     "output_type": "stream",
     "text": [
      " 65%|██████▌   | 8657/13309 [07:49<03:32, 21.88it/s]"
     ]
    },
    {
     "name": "stdout",
     "output_type": "stream",
     "text": [
      "Bapi<br><br>Attach File : <a href='http://csupload.cyberlink.com/upload-file/support/cs/2018-08-27/CS001927730/CL_PHOTODIRECTOR_DATA.zip' target=_blank>CL_PHOTODIRECTOR_DATA.zip</a> bapi attach file\n"
     ]
    },
    {
     "name": "stderr",
     "output_type": "stream",
     "text": [
      " 60%|██████    | 8034/13309 [07:49<03:48, 23.08it/s]"
     ]
    },
    {
     "name": "stdout",
     "output_type": "stream",
     "text": [
      "barthday<br><br>Attach File : <a href='http://csupload.cyberlink.com/upload-file/support/cs/2019-05-26/CS002024447/CL_PHOTODIRECTOR_DATA.zip' target=_blank>CL_PHOTODIRECTOR_DATA.zip</a> barthday attach file\n"
     ]
    },
    {
     "name": "stderr",
     "output_type": "stream",
     "text": [
      "\r",
      " 53%|█████▎    | 7027/13309 [07:49<04:48, 21.75it/s]"
     ]
    },
    {
     "name": "stdout",
     "output_type": "stream",
     "text": [
      "Batter એપ્પ <br><br>Attach File : <a href='http://csupload.cyberlink.com/upload-file/support/cs/2019-03-03/CS001997032/CL_PHOTODIRECTOR_DATA.zip' target=_blank>CL_PHOTODIRECTOR_DATA.zip</a> batter attach file\n",
      "bbh<br><br>Attach File : <a href='http://csupload.cyberlink.com/upload-file/support/cs/2018-08-27/CS001927706/CL_PHOTODIRECTOR_DATA.zip' target=_blank>CL_PHOTODIRECTOR_DATA.zip</a> bbh attach file\n"
     ]
    },
    {
     "name": "stderr",
     "output_type": "stream",
     "text": [
      "\r",
      " 56%|█████▋    | 7503/13315 [07:49<04:49, 20.07it/s]"
     ]
    },
    {
     "name": "stdout",
     "output_type": "stream",
     "text": [
      "bdhw<br><br>Attach File : <a href='http://csupload.cyberlink.com/upload-file/support/cs/2019-04-03/CS002009004/CL_PHOTODIRECTOR_DATA.zip' target=_blank>CL_PHOTODIRECTOR_DATA.zip</a> bdhw attach file\n"
     ]
    },
    {
     "name": "stderr",
     "output_type": "stream",
     "text": [
      " 57%|█████▋    | 7618/13309 [07:49<02:44, 34.69it/s]"
     ]
    },
    {
     "name": "stdout",
     "output_type": "stream",
     "text": [
      "beautiful<br><br>Attach File : <a href='http://csupload.cyberlink.com/upload-file/support/cs/2018-12-10/CS001964248/CL_PHOTODIRECTOR_DATA.zip' target=_blank>CL_PHOTODIRECTOR_DATA.zip</a> beautiful attach file\n"
     ]
    },
    {
     "name": "stderr",
     "output_type": "stream",
     "text": [
      " 54%|█████▍    | 7216/13309 [07:49<05:44, 17.67it/s]"
     ]
    },
    {
     "name": "stdout",
     "output_type": "stream",
     "text": [
      "Beautiful<br><br>Attach File : <a href='http://csupload.cyberlink.com/upload-file/support/cs/2019-01-18/CS001981404/CL_PHOTODIRECTOR_DATA.zip' target=_blank>CL_PHOTODIRECTOR_DATA.zip</a> beautiful attach file\n"
     ]
    },
    {
     "name": "stderr",
     "output_type": "stream",
     "text": [
      " 65%|██████▌   | 8672/13309 [07:49<03:48, 20.29it/s]"
     ]
    },
    {
     "name": "stdout",
     "output_type": "stream",
     "text": [
      "refund refund\n"
     ]
    },
    {
     "name": "stderr",
     "output_type": "stream",
     "text": [
      "\r",
      " 60%|██████    | 8049/13309 [07:49<04:18, 20.35it/s]"
     ]
    },
    {
     "name": "stdout",
     "output_type": "stream",
     "text": [
      "﻿<html><div dir=\"auto\"> I like this</div>   </html><br/>﻿ i like this\n"
     ]
    },
    {
     "name": "stderr",
     "output_type": "stream",
     "text": [
      " 57%|█████▋    | 7531/13315 [07:49<03:22, 28.61it/s]"
     ]
    },
    {
     "name": "stdout",
     "output_type": "stream",
     "text": [
      "best<br><br>Attach File : <a href='http://csupload.cyberlink.com/upload-file/support/cs/2019-01-17/CS001981053/CL_PHOTODIRECTOR_DATA.zip' target=_blank>CL_PHOTODIRECTOR_DATA.zip</a> best attach file\n"
     ]
    },
    {
     "name": "stderr",
     "output_type": "stream",
     "text": [
      " 56%|█████▌    | 7438/13309 [07:50<10:47,  9.07it/s]"
     ]
    },
    {
     "name": "stdout",
     "output_type": "stream",
     "text": [
      "bgdhhhbhnznssnjjxb<br><br>Attach File : <a href='http://csupload.cyberlink.com/upload-file/support/cs/2019-03-15/CS002001067/CL_PHOTODIRECTOR_DATA.zip' target=_blank>CL_PHOTODIRECTOR_DATA.zip</a> bgdhhhbhnznssnjjxb attach file\n"
     ]
    },
    {
     "name": "stderr",
     "output_type": "stream",
     "text": [
      " 65%|██████▌   | 8679/13309 [07:50<03:52, 19.88it/s]"
     ]
    },
    {
     "name": "stdout",
     "output_type": "stream",
     "text": [
      "bgff<br><br>Attach File : <a href='http://csupload.cyberlink.com/upload-file/support/cs/2019-04-17/CS002013066/CL_PHOTODIRECTOR_DATA.zip' target=_blank>CL_PHOTODIRECTOR_DATA.zip</a> bgff attach file\n"
     ]
    },
    {
     "name": "stderr",
     "output_type": "stream",
     "text": [
      " 54%|█████▍    | 7231/13309 [07:50<06:18, 16.04it/s]"
     ]
    },
    {
     "name": "stdout",
     "output_type": "stream",
     "text": [
      "callr<br><br>Attach File : <a href='http://csupload.cyberlink.com/upload-file/support/cs/2018-07-04/CS001910330/CL_PHOTODIRECTOR_DATA.zip' target=_blank>CL_PHOTODIRECTOR_DATA.zip</a> callr attach file\n"
     ]
    },
    {
     "name": "stderr",
     "output_type": "stream",
     "text": [
      " 65%|██████▌   | 8693/13309 [07:51<04:36, 16.70it/s]"
     ]
    },
    {
     "name": "stdout",
     "output_type": "stream",
     "text": [
      "jgdhk<br><br>Attach File : <a href='http://csupload.cyberlink.com/upload-file/support/cs/2019-01-13/CS001979845/DeviceInfo.txt' target=_blank>DeviceInfo.txt</a> jgdhk attach file\n"
     ]
    },
    {
     "name": "stderr",
     "output_type": "stream",
     "text": [
      " 48%|████▊     | 6385/13309 [07:52<05:07, 22.50it/s]"
     ]
    },
    {
     "name": "stdout",
     "output_type": "stream",
     "text": [
      "cooollll... 😍😍<br><br>Attach File : <a href='http://csupload.cyberlink.com/upload-file/support/cs/2018-11-16/CS001955060/CL_LOGCAT_DATA.zip' target=_blank>CL_LOGCAT_DATA.zip</a> attach file\n"
     ]
    },
    {
     "name": "stderr",
     "output_type": "stream",
     "text": [
      " 48%|████▊     | 6404/13309 [07:52<05:19, 21.64it/s]"
     ]
    },
    {
     "name": "stdout",
     "output_type": "stream",
     "text": [
      "Thanks <br><br>Attach File : <a href='http://csupload.cyberlink.com/upload-file/support/cs/2018-10-30/CS001949427/feedback_data.zip' target=_blank>feedback_data.zip</a> thanks attach file\n"
     ]
    },
    {
     "name": "stderr",
     "output_type": "stream",
     "text": [
      " 58%|█████▊    | 7726/13309 [07:53<05:22, 17.30it/s]"
     ]
    },
    {
     "name": "stdout",
     "output_type": "stream",
     "text": [
      "Cancel my prescription cancel my prescription\n"
     ]
    },
    {
     "name": "stderr",
     "output_type": "stream",
     "text": [
      " 58%|█████▊    | 7735/13309 [07:54<08:03, 11.53it/s]"
     ]
    },
    {
     "name": "stdout",
     "output_type": "stream",
     "text": [
      "﻿<html><p dir=\"ltr\"> <a href=\"mailto:akashsoyasoya254@gmail.com\"> akashsoyasoya254@gmail.com</a> </p>   </html><br/>﻿ \n"
     ]
    },
    {
     "name": "stderr",
     "output_type": "stream",
     "text": [
      " 48%|████▊     | 6430/13309 [07:54<07:09, 16.03it/s]"
     ]
    },
    {
     "name": "stdout",
     "output_type": "stream",
     "text": [
      "﻿<html><p dir=\"ltr\"> <a href=\"mailto:Inteximan143@gmail.com\"> Inteximan143@gmail.com</a> </p>   </html><br/>﻿ \n"
     ]
    },
    {
     "name": "stderr",
     "output_type": "stream",
     "text": [
      " 57%|█████▋    | 7623/13315 [07:54<05:27, 17.40it/s]"
     ]
    },
    {
     "name": "stdout",
     "output_type": "stream",
     "text": [
      "﻿<html><p dir=\"ltr\"> <br>   </p>   </html><br/>﻿ \n"
     ]
    },
    {
     "name": "stderr",
     "output_type": "stream",
     "text": [
      "\r",
      " 56%|█████▋    | 7494/13309 [07:54<07:51, 12.33it/s]"
     ]
    },
    {
     "name": "stdout",
     "output_type": "stream",
     "text": [
      "Mr.Hannan<br><br>Attach File : <a href='http://csupload.cyberlink.com/upload-file/support/cs/2019-03-23/CS002004056/CL_LOGCAT_DATA.zip' target=_blank>CL_LOGCAT_DATA.zip</a> attach file\n"
     ]
    },
    {
     "name": "stderr",
     "output_type": "stream",
     "text": [
      " 66%|██████▌   | 8761/13309 [07:54<05:18, 14.26it/s]"
     ]
    },
    {
     "name": "stdout",
     "output_type": "stream",
     "text": [
      "﻿<html><p dir=\"ltr\"> awesome </p>   </html><br/>﻿ awesome\n"
     ]
    },
    {
     "name": "stderr",
     "output_type": "stream",
     "text": [
      " 56%|█████▋    | 7507/13309 [07:55<06:26, 15.02it/s]"
     ]
    },
    {
     "name": "stdout",
     "output_type": "stream",
     "text": [
      "﻿<html><p dir=\"ltr\"> Hi </p>   </html><br/>﻿ hi\n"
     ]
    },
    {
     "name": "stderr",
     "output_type": "stream",
     "text": [
      " 61%|██████▏   | 8167/13309 [07:55<06:40, 12.85it/s]"
     ]
    },
    {
     "name": "stdout",
     "output_type": "stream",
     "text": [
      "﻿<html><p dir=\"ltr\"> Hi</p>   </html><br/>﻿ hi\n"
     ]
    },
    {
     "name": "stderr",
     "output_type": "stream",
     "text": [
      " 57%|█████▋    | 7633/13315 [07:55<10:48,  8.76it/s]"
     ]
    },
    {
     "name": "stdout",
     "output_type": "stream",
     "text": [
      "﻿<html><p dir=\"ltr\"> Jh</p>   </html><br/>﻿ jh\n",
      "﻿<html><p dir=\"ltr\"> Mmmmmm</p>   </html><br/>﻿ mmmmmm\n"
     ]
    },
    {
     "name": "stderr",
     "output_type": "stream",
     "text": [
      " 48%|████▊     | 6450/13309 [07:55<07:22, 15.49it/s]"
     ]
    },
    {
     "name": "stdout",
     "output_type": "stream",
     "text": [
      "﻿<html><p dir=\"ltr\"> Nice app</p>   </html><br/>﻿ nice app\n",
      "TEMPLETS DOWNLOAD templet download\n"
     ]
    },
    {
     "name": "stderr",
     "output_type": "stream",
     "text": [
      "\r",
      " 58%|█████▊    | 7756/13309 [07:55<05:57, 15.52it/s]"
     ]
    },
    {
     "name": "stdout",
     "output_type": "stream",
     "text": [
      "﻿<html><p dir=\"ltr\"> Rahul <br>   </p>   </html><br/>﻿ rahul\n"
     ]
    },
    {
     "name": "stderr",
     "output_type": "stream",
     "text": [
      " 61%|██████▏   | 8171/13309 [07:55<06:15, 13.70it/s]"
     ]
    },
    {
     "name": "stdout",
     "output_type": "stream",
     "text": [
      "﻿<html><p dir=\"ltr\"> Super awesome app</p>   </html><br/>﻿ super awesome app\n"
     ]
    },
    {
     "name": "stderr",
     "output_type": "stream",
     "text": [
      " 55%|█████▍    | 7317/13309 [07:55<07:33, 13.22it/s]"
     ]
    },
    {
     "name": "stdout",
     "output_type": "stream",
     "text": [
      "﻿<html><p dir=\"ltr\"> Superb work👍 .</p>   </html><br/>﻿ superb work\n"
     ]
    },
    {
     "name": "stderr",
     "output_type": "stream",
     "text": [
      " 49%|████▊     | 6455/13309 [07:55<06:25, 17.77it/s]"
     ]
    },
    {
     "name": "stdout",
     "output_type": "stream",
     "text": [
      "﻿<html><p dir=\"ltr\"> Useful app</p>   </html><br/>﻿ useful app\n"
     ]
    },
    {
     "name": "stderr",
     "output_type": "stream",
     "text": [
      " 56%|█████▋    | 7515/13309 [07:55<08:15, 11.70it/s]"
     ]
    },
    {
     "name": "stdout",
     "output_type": "stream",
     "text": [
      "﻿<html><p dir=\"ltr\"> Very very nice <br>   </p>   </html><br/>﻿ very very nice\n"
     ]
    },
    {
     "name": "stderr",
     "output_type": "stream",
     "text": [
      " 62%|██████▏   | 8197/13309 [07:57<05:15, 16.20it/s]"
     ]
    },
    {
     "name": "stdout",
     "output_type": "stream",
     "text": [
      "﻿<html><div dir=\"ltr\"> Verify email please</div>   </html><br/>﻿ verify email please\n"
     ]
    },
    {
     "name": "stderr",
     "output_type": "stream",
     "text": [
      " 54%|█████▍    | 7160/13309 [07:57<04:37, 22.16it/s]"
     ]
    },
    {
     "name": "stdout",
     "output_type": "stream",
     "text": [
      "﻿<html><p dir=\"ltr\"> No writing shown</p>   </html><br/>﻿ no write show\n"
     ]
    },
    {
     "name": "stderr",
     "output_type": "stream",
     "text": [
      " 49%|████▉     | 6505/13309 [07:58<07:07, 15.92it/s]"
     ]
    },
    {
     "name": "stdout",
     "output_type": "stream",
     "text": [
      "All problems solved............. all problem\n"
     ]
    },
    {
     "name": "stderr",
     "output_type": "stream",
     "text": [
      " 56%|█████▌    | 7398/13309 [08:00<06:27, 15.24it/s]"
     ]
    },
    {
     "name": "stdout",
     "output_type": "stream",
     "text": [
      "https://www.dropbox.com/s/iwcrwccc6mdjgvf/ScreenRecorder.exe?dl=0 \n"
     ]
    },
    {
     "name": "stderr",
     "output_type": "stream",
     "text": [
      " 59%|█████▉    | 7878/13309 [08:01<05:20, 16.97it/s]"
     ]
    },
    {
     "name": "stdout",
     "output_type": "stream",
     "text": [
      "gtehethethethtehe gtehethethethtehe\n"
     ]
    },
    {
     "name": "stderr",
     "output_type": "stream",
     "text": [
      " 63%|██████▎   | 8322/13309 [08:05<06:36, 12.58it/s]"
     ]
    },
    {
     "name": "stdout",
     "output_type": "stream",
     "text": [
      "help<br><br>Attach File : <a href='http://csupload.cyberlink.com/upload-file/support/cs/2018-09-23/CS001936718/CL_PHOTODIRECTOR_DATA.zip' target=_blank>CL_PHOTODIRECTOR_DATA.zip</a> help attach file\n"
     ]
    },
    {
     "name": "stderr",
     "output_type": "stream",
     "text": [
      " 55%|█████▍    | 7299/13309 [08:06<08:16, 12.11it/s]"
     ]
    },
    {
     "name": "stdout",
     "output_type": "stream",
     "text": [
      "Dudihovkcv<br><br>Attach File : <a href='http://csupload.cyberlink.com/upload-file/support/cs/2018-11-12/CS001953678/feedback_data.zip' target=_blank>feedback_data.zip</a> dudihovkcv attach file\n"
     ]
    },
    {
     "name": "stderr",
     "output_type": "stream",
     "text": [
      " 50%|█████     | 6663/13309 [08:08<05:30, 20.08it/s]"
     ]
    },
    {
     "name": "stdout",
     "output_type": "stream",
     "text": [
      "hi<br><br>Attach File : <a href='http://csupload.cyberlink.com/upload-file/support/cs/2018-02-05/CS001854032/CL_PHOTODIRECTOR_DATA.zip' target=_blank>CL_PHOTODIRECTOR_DATA.zip</a> hi attach file\n"
     ]
    },
    {
     "name": "stderr",
     "output_type": "stream",
     "text": [
      " 63%|██████▎   | 8379/13309 [08:08<04:22, 18.80it/s]"
     ]
    },
    {
     "name": "stdout",
     "output_type": "stream",
     "text": [
      "﻿<html><div dir=\"auto\"> <br> <br> <div data-smartmail=\"gmail_signature\"> A</div> </div>   </html><br/>﻿ a\n"
     ]
    },
    {
     "name": "stderr",
     "output_type": "stream",
     "text": [
      " 59%|█████▊    | 7805/13315 [08:08<05:52, 15.65it/s]"
     ]
    },
    {
     "name": "stdout",
     "output_type": "stream",
     "text": [
      "great<br><br>Attach File : <a href='http://csupload.cyberlink.com/upload-file/support/cs/2018-09-18/CS001935208/CL_PHOTODIRECTOR_DATA.zip' target=_blank>CL_PHOTODIRECTOR_DATA.zip</a> great attach file\n"
     ]
    },
    {
     "name": "stderr",
     "output_type": "stream",
     "text": [
      " 58%|█████▊    | 7721/13309 [08:10<06:33, 14.21it/s]"
     ]
    },
    {
     "name": "stdout",
     "output_type": "stream",
     "text": [
      "﻿<html><div dir=\"auto\"> One beautiful app</div>   </html><br/>﻿ one beautiful app\n"
     ]
    },
    {
     "name": "stderr",
     "output_type": "stream",
     "text": [
      " 59%|█████▉    | 7832/13315 [08:10<07:15, 12.60it/s]"
     ]
    },
    {
     "name": "stdout",
     "output_type": "stream",
     "text": [
      "CS001878278 c\n"
     ]
    },
    {
     "name": "stderr",
     "output_type": "stream",
     "text": [
      " 60%|█████▉    | 7969/13309 [08:11<05:50, 15.24it/s]"
     ]
    },
    {
     "name": "stdout",
     "output_type": "stream",
     "text": [
      "환불요청     \n"
     ]
    },
    {
     "name": "stderr",
     "output_type": "stream",
     "text": [
      " 59%|█████▉    | 7847/13315 [08:12<09:39,  9.44it/s]"
     ]
    },
    {
     "name": "stdout",
     "output_type": "stream",
     "text": [
      "for windows 10 for window\n"
     ]
    },
    {
     "name": "stderr",
     "output_type": "stream",
     "text": [
      " 56%|█████▌    | 7399/13309 [08:12<05:59, 16.42it/s]"
     ]
    },
    {
     "name": "stdout",
     "output_type": "stream",
     "text": [
      "test test\n"
     ]
    },
    {
     "name": "stderr",
     "output_type": "stream",
     "text": [
      "\r",
      " 60%|██████    | 7992/13309 [08:12<04:56, 17.91it/s]"
     ]
    },
    {
     "name": "stdout",
     "output_type": "stream",
     "text": [
      "test       <br><br>Attach File : <a href='http://csupload.cyberlink.com/upload-file/support/cs/2018-01-03/CS001840223/CL_LOGCAT_DATA.zip' target=_blank>CL_LOGCAT_DATA.zip</a> test attach file\n"
     ]
    },
    {
     "name": "stderr",
     "output_type": "stream",
     "text": [
      "\r",
      " 51%|█████     | 6732/13309 [08:12<06:50, 16.01it/s]"
     ]
    },
    {
     "name": "stdout",
     "output_type": "stream",
     "text": [
      "Testestetst<br><br>Attach File : <a href='http://csupload.cyberlink.com/upload-file/support/cs/2019-01-09/CS001978252/feedback_data.zip' target=_blank>feedback_data.zip</a> testestetst attach file\n"
     ]
    },
    {
     "name": "stderr",
     "output_type": "stream",
     "text": [
      " 51%|█████     | 6736/13309 [08:12<06:29, 16.88it/s]"
     ]
    },
    {
     "name": "stdout",
     "output_type": "stream",
     "text": [
      "mkj9634@gmail.com  <br><br>Attach File : <a href='http://csupload.cyberlink.com/upload-file/support/cs/2018-12-29/CS001973943/CL_LOGCAT_DATA.zip' target=_blank>CL_LOGCAT_DATA.zip</a> attach file\n"
     ]
    },
    {
     "name": "stderr",
     "output_type": "stream",
     "text": [
      " 51%|█████     | 6741/13309 [08:12<05:36, 19.49it/s]"
     ]
    },
    {
     "name": "stdout",
     "output_type": "stream",
     "text": [
      "I need a refund. i need a\n"
     ]
    },
    {
     "name": "stderr",
     "output_type": "stream",
     "text": [
      " 59%|█████▉    | 7858/13315 [08:12<06:35, 13.80it/s]"
     ]
    },
    {
     "name": "stdout",
     "output_type": "stream",
     "text": [
      "smile<br><br>Attach File : <a href='http://csupload.cyberlink.com/upload-file/support/cs/2018-02-21/CS001860112/CL_LOGCAT_DATA.zip' target=_blank>CL_LOGCAT_DATA.zip</a> smile attach file\n"
     ]
    },
    {
     "name": "stderr",
     "output_type": "stream",
     "text": [
      " 68%|██████▊   | 9059/13309 [08:13<07:31,  9.42it/s]"
     ]
    },
    {
     "name": "stdout",
     "output_type": "stream",
     "text": [
      "subhash <br><br>Attach File : <a href='http://csupload.cyberlink.com/upload-file/support/cs/2019-02-11/CS001989137/CL_LOGCAT_DATA.zip' target=_blank>CL_LOGCAT_DATA.zip</a> subhash attach file\n"
     ]
    },
    {
     "name": "stderr",
     "output_type": "stream",
     "text": [
      " 51%|█████     | 6763/13309 [08:13<04:50, 22.56it/s]"
     ]
    },
    {
     "name": "stdout",
     "output_type": "stream",
     "text": [
      "test<br><br>Attach File : <a href='http://csupload.cyberlink.com/upload-file/support/cs/2018-04-29/CS001884826/feedback_data.zip' target=_blank>feedback_data.zip</a> test attach file\n"
     ]
    },
    {
     "name": "stderr",
     "output_type": "stream",
     "text": [
      " 59%|█████▉    | 7872/13315 [08:13<06:37, 13.69it/s]"
     ]
    },
    {
     "name": "stdout",
     "output_type": "stream",
     "text": [
      "test<br><br>Attach File : <a href='http://csupload.cyberlink.com/upload-file/support/cs/2018-04-29/CS001884827/CL_LOGCAT_DATA.zip' target=_blank>CL_LOGCAT_DATA.zip</a> test attach file\n"
     ]
    },
    {
     "name": "stderr",
     "output_type": "stream",
     "text": [
      " 59%|█████▉    | 7874/13315 [08:13<06:37, 13.67it/s]"
     ]
    },
    {
     "name": "stdout",
     "output_type": "stream",
     "text": [
      "Test<br><br>Attach File : <a href='http://csupload.cyberlink.com/upload-file/support/cs/2019-01-10/CS001978710/feedback_data.zip' target=_blank>feedback_data.zip</a> test attach file\n"
     ]
    },
    {
     "name": "stderr",
     "output_type": "stream",
     "text": [
      " 64%|██████▎   | 8481/13309 [08:14<06:15, 12.86it/s]"
     ]
    },
    {
     "name": "stdout",
     "output_type": "stream",
     "text": [
      "test<br><br>Attach File : <a href='http://csupload.cyberlink.com/upload-file/support/cs/2019-04-24/CS002015405/CL_LOGCAT_DATA.zip' target=_blank>CL_LOGCAT_DATA.zip</a> test attach file\n"
     ]
    },
    {
     "name": "stderr",
     "output_type": "stream",
     "text": [
      " 60%|██████    | 8029/13309 [08:14<03:24, 25.78it/s]"
     ]
    },
    {
     "name": "stdout",
     "output_type": "stream",
     "text": [
      "Testing.  Martin.oster@macys.com<br><br>Attach File : <a href='http://csupload.cyberlink.com/upload-file/support/cs/2019-03-19/CS002002213/feedback_data.zip' target=_blank>feedback_data.zip</a> attach file\n"
     ]
    },
    {
     "name": "stderr",
     "output_type": "stream",
     "text": [
      " 57%|█████▋    | 7601/13309 [08:15<05:11, 18.34it/s]"
     ]
    },
    {
     "name": "stdout",
     "output_type": "stream",
     "text": [
      "﻿<html><div dir=\"auto\"> Stop working😞</div>   </html><br/>﻿ stop work\n"
     ]
    },
    {
     "name": "stderr",
     "output_type": "stream",
     "text": [
      " 57%|█████▋    | 7639/13309 [08:17<05:16, 17.92it/s]"
     ]
    },
    {
     "name": "stdout",
     "output_type": "stream",
     "text": [
      "refund refund\n"
     ]
    },
    {
     "name": "stderr",
     "output_type": "stream",
     "text": [
      " 56%|█████▌    | 7482/13309 [08:16<04:22, 22.21it/s]"
     ]
    },
    {
     "name": "stdout",
     "output_type": "stream",
     "text": [
      "missing msvcp130.dll file miss file\n",
      "Refund refund\n",
      "Refund refund\n"
     ]
    },
    {
     "name": "stderr",
     "output_type": "stream",
     "text": [
      " 59%|█████▉    | 7911/13315 [08:17<09:05,  9.91it/s]"
     ]
    },
    {
     "name": "stdout",
     "output_type": "stream",
     "text": [
      "refund my $20.00. refund my\n"
     ]
    },
    {
     "name": "stderr",
     "output_type": "stream",
     "text": [
      " 56%|█████▋    | 7490/13309 [08:17<03:55, 24.66it/s]"
     ]
    },
    {
     "name": "stdout",
     "output_type": "stream",
     "text": [
      "Activated now. activate\n"
     ]
    },
    {
     "name": "stderr",
     "output_type": "stream",
     "text": [
      " 57%|█████▋    | 7645/13309 [08:17<05:37, 16.80it/s]"
     ]
    },
    {
     "name": "stdout",
     "output_type": "stream",
     "text": [
      "Refund Please? refund please\n"
     ]
    },
    {
     "name": "stderr",
     "output_type": "stream",
     "text": [
      " 58%|█████▊    | 7668/13309 [08:18<04:53, 19.21it/s]"
     ]
    },
    {
     "name": "stdout",
     "output_type": "stream",
     "text": [
      "﻿<html><div dir=\"auto\"> Very good</div>   </html><br/>﻿ very good\n"
     ]
    },
    {
     "name": "stderr",
     "output_type": "stream",
     "text": [
      " 58%|█████▊    | 7671/13309 [08:18<04:55, 19.06it/s]"
     ]
    },
    {
     "name": "stdout",
     "output_type": "stream",
     "text": [
      "﻿<html><div dir=\"auto\"> Video layer no<div dir=\"auto\"> <br> </div> </div>   </html><br/>﻿ video layer no\n"
     ]
    },
    {
     "name": "stderr",
     "output_type": "stream",
     "text": [
      " 61%|██████▏   | 8154/13309 [08:19<03:08, 27.32it/s]"
     ]
    },
    {
     "name": "stdout",
     "output_type": "stream",
     "text": [
      "Purchased under order # 212865108 purchase under order\n"
     ]
    },
    {
     "name": "stderr",
     "output_type": "stream",
     "text": [
      " 58%|█████▊    | 7682/13309 [08:19<05:43, 16.39it/s]"
     ]
    },
    {
     "name": "stdout",
     "output_type": "stream",
     "text": [
      "﻿<html><div dir=\"auto\"> what is code?</div>   </html><br/>﻿ what be code\n"
     ]
    },
    {
     "name": "stderr",
     "output_type": "stream",
     "text": [
      " 59%|█████▉    | 7854/13309 [08:20<07:31, 12.09it/s]"
     ]
    },
    {
     "name": "stdout",
     "output_type": "stream",
     "text": [
      "﻿<html><div dir=\"auto\"> Need help<div dir=\"auto\"> <br> </div> </div>   </html><br/>﻿ need help\n"
     ]
    },
    {
     "name": "stderr",
     "output_type": "stream",
     "text": [
      " 69%|██████▊   | 9133/13309 [08:20<07:08,  9.74it/s]"
     ]
    },
    {
     "name": "stdout",
     "output_type": "stream",
     "text": [
      "﻿<html><p dir=\"ltr\"> Duoble video layer</p>   </html><br/>﻿ duoble video layer\n"
     ]
    },
    {
     "name": "stderr",
     "output_type": "stream",
     "text": [
      " 52%|█████▏    | 6909/13309 [08:21<08:58, 11.89it/s]"
     ]
    },
    {
     "name": "stdout",
     "output_type": "stream",
     "text": [
      "super<br><br>Attach File : <a href='http://csupload.cyberlink.com/upload-file/support/cs/2018-11-12/CS001953919/CL_LOGCAT_DATA.zip' target=_blank>CL_LOGCAT_DATA.zip</a> super attach file\n"
     ]
    },
    {
     "name": "stderr",
     "output_type": "stream",
     "text": [
      " 57%|█████▋    | 7609/13309 [08:25<05:54, 16.07it/s]"
     ]
    },
    {
     "name": "stdout",
     "output_type": "stream",
     "text": [
      "﻿<html><p dir=\"ltr\"> You can makeup<br> <br> <br> <br> </p>   </html><br/>﻿ you can makeup\n"
     ]
    },
    {
     "name": "stderr",
     "output_type": "stream",
     "text": [
      " 65%|██████▌   | 8675/13309 [08:25<04:59, 15.49it/s]"
     ]
    },
    {
     "name": "stdout",
     "output_type": "stream",
     "text": [
      "﻿<html><p dir=\"ltr\"> Worst app</p>   </html><br/>﻿ bad app\n"
     ]
    },
    {
     "name": "stderr",
     "output_type": "stream",
     "text": [
      " 60%|██████    | 8038/13315 [08:25<03:56, 22.32it/s]"
     ]
    },
    {
     "name": "stdout",
     "output_type": "stream",
     "text": [
      "problem is solved. problem be\n"
     ]
    },
    {
     "name": "stderr",
     "output_type": "stream",
     "text": [
      " 60%|█████▉    | 7932/13309 [08:26<07:34, 11.84it/s]"
     ]
    },
    {
     "name": "stdout",
     "output_type": "stream",
     "text": [
      "Order#214740542 order\n"
     ]
    },
    {
     "name": "stderr",
     "output_type": "stream",
     "text": [
      " 61%|██████    | 8113/13315 [08:29<05:02, 17.18it/s]"
     ]
    },
    {
     "name": "stdout",
     "output_type": "stream",
     "text": [
      "(QuestionID = CS001846592) followup questionid c followup\n"
     ]
    },
    {
     "name": "stderr",
     "output_type": "stream",
     "text": [
      " 59%|█████▉    | 7869/13309 [08:32<07:06, 12.74it/s]"
     ]
    },
    {
     "name": "stdout",
     "output_type": "stream",
     "text": [
      "I lost my program. i lose my\n"
     ]
    },
    {
     "name": "stderr",
     "output_type": "stream",
     "text": [
      " 61%|██████    | 8147/13315 [08:31<04:47, 17.95it/s]"
     ]
    },
    {
     "name": "stdout",
     "output_type": "stream",
     "text": [
      "I lost my program.  i lose my\n"
     ]
    },
    {
     "name": "stderr",
     "output_type": "stream",
     "text": [
      " 58%|█████▊    | 7710/13309 [08:32<06:58, 13.38it/s]"
     ]
    },
    {
     "name": "stdout",
     "output_type": "stream",
     "text": [
      "Hlo <br><br>Attach File : <a href='http://csupload.cyberlink.com/upload-file/support/cs/2019-02-09/CS001988599/feedback_data.zip' target=_blank>feedback_data.zip</a> hlo attach file\n"
     ]
    },
    {
     "name": "stderr",
     "output_type": "stream",
     "text": [
      " 58%|█████▊    | 7714/13309 [08:32<08:33, 10.90it/s]"
     ]
    },
    {
     "name": "stdout",
     "output_type": "stream",
     "text": [
      "order number 214378703 order number\n"
     ]
    },
    {
     "name": "stderr",
     "output_type": "stream",
     "text": [
      " 54%|█████▎    | 7130/13309 [08:33<05:58, 17.22it/s]"
     ]
    },
    {
     "name": "stdout",
     "output_type": "stream",
     "text": [
      "test test\n"
     ]
    },
    {
     "name": "stderr",
     "output_type": "stream",
     "text": [
      " 54%|█████▎    | 7142/13309 [08:34<05:18, 19.35it/s]"
     ]
    },
    {
     "name": "stdout",
     "output_type": "stream",
     "text": [
      "yyyyyyy<br><br>Attach File : <a href='http://csupload.cyberlink.com/upload-file/support/cs/2018-07-21/CS001915797/DeviceInfo.txt' target=_blank>DeviceInfo.txt</a> yyyyyyy attach file\n"
     ]
    },
    {
     "name": "stderr",
     "output_type": "stream",
     "text": [
      "\r",
      " 58%|█████▊    | 7732/13309 [08:34<05:14, 17.73it/s]"
     ]
    },
    {
     "name": "stdout",
     "output_type": "stream",
     "text": [
      "yyyyyyy<br><br>Attach File : <a href='http://csupload.cyberlink.com/upload-file/support/cs/2018-07-21/CS001915798/DeviceInfo.txt' target=_blank>DeviceInfo.txt</a> yyyyyyy attach file\n"
     ]
    },
    {
     "name": "stderr",
     "output_type": "stream",
     "text": [
      " 54%|█████▍    | 7159/13309 [08:34<04:03, 25.26it/s]"
     ]
    },
    {
     "name": "stdout",
     "output_type": "stream",
     "text": [
      "Perfect <br><br>Attach File : <a href='http://csupload.cyberlink.com/upload-file/support/cs/2019-05-16/CS002021859/feedback_data.zip' target=_blank>feedback_data.zip</a> perfect attach file\n"
     ]
    },
    {
     "name": "stderr",
     "output_type": "stream",
     "text": [
      " 59%|█████▉    | 7900/13309 [08:34<07:41, 11.73it/s]"
     ]
    },
    {
     "name": "stdout",
     "output_type": "stream",
     "text": [
      "Rapunzel!!!!!<br><br>Attach File : <a href='http://csupload.cyberlink.com/upload-file/support/cs/2018-01-15/CS001845342/feedback_data.zip' target=_blank>feedback_data.zip</a> rapunzel attach file\n"
     ]
    },
    {
     "name": "stderr",
     "output_type": "stream",
     "text": [
      " 54%|█████▍    | 7173/13309 [08:35<03:14, 31.55it/s]"
     ]
    },
    {
     "name": "stdout",
     "output_type": "stream",
     "text": [
      "﻿<html><div dir=\"auto\"> Price?</div>   </html><br/>﻿ price\n"
     ]
    },
    {
     "name": "stderr",
     "output_type": "stream",
     "text": [
      " 54%|█████▍    | 7209/13309 [08:36<04:13, 24.06it/s]"
     ]
    },
    {
     "name": "stdout",
     "output_type": "stream",
     "text": [
      "activation issue activation issue\n"
     ]
    },
    {
     "name": "stderr",
     "output_type": "stream",
     "text": [
      " 64%|██████▍   | 8554/13309 [08:37<10:07,  7.83it/s]"
     ]
    },
    {
     "name": "stdout",
     "output_type": "stream",
     "text": [
      "no email no email\n"
     ]
    },
    {
     "name": "stderr",
     "output_type": "stream",
     "text": [
      " 61%|██████    | 8083/13309 [08:37<06:13, 13.98it/s]"
     ]
    },
    {
     "name": "stdout",
     "output_type": "stream",
     "text": [
      "PowerDirector 14 Installation Files powerdirector installation file\n"
     ]
    },
    {
     "name": "stderr",
     "output_type": "stream",
     "text": [
      " 67%|██████▋   | 8925/13309 [08:39<03:57, 18.45it/s]"
     ]
    },
    {
     "name": "stdout",
     "output_type": "stream",
     "text": [
      "Hi<br><br>Attach File : <a href='http://csupload.cyberlink.com/upload-file/support/cs/2018-10-30/CS001949355/feedback_data.zip' target=_blank>feedback_data.zip</a> hi attach file\n"
     ]
    },
    {
     "name": "stderr",
     "output_type": "stream",
     "text": [
      " 59%|█████▊    | 7803/13309 [08:39<06:56, 13.22it/s]"
     ]
    },
    {
     "name": "stdout",
     "output_type": "stream",
     "text": [
      "﻿<html><p dir=\"ltr\"> vlo laga </p>   </html><br/>﻿ vlo laga\n"
     ]
    },
    {
     "name": "stderr",
     "output_type": "stream",
     "text": [
      " 67%|██████▋   | 8940/13309 [08:40<03:47, 19.22it/s]"
     ]
    },
    {
     "name": "stdout",
     "output_type": "stream",
     "text": [
      "Amen <br><br>Attach File : <a href='http://csupload.cyberlink.com/upload-file/support/cs/2018-01-03/CS001840186/feedback_data.zip' target=_blank>feedback_data.zip</a> amen attach file\n"
     ]
    },
    {
     "name": "stderr",
     "output_type": "stream",
     "text": [
      " 55%|█████▍    | 7278/13309 [08:40<04:45, 21.16it/s]"
     ]
    },
    {
     "name": "stdout",
     "output_type": "stream",
     "text": [
      "﻿<html><div dir=\"auto\"> <div dir=\"auto\"> <br> </div> <div dir=\"auto\"> <br> </div> </div>   </html><br/>﻿ \n"
     ]
    },
    {
     "name": "stderr",
     "output_type": "stream",
     "text": [
      " 62%|██████▏   | 8255/13315 [08:40<06:39, 12.67it/s]"
     ]
    },
    {
     "name": "stdout",
     "output_type": "stream",
     "text": [
      "https://www.cyberlink.com/stat/edms/bb/cms/15/C/18w24_EOLII/enu/index_oem.jsp?PRODUCTNAME=PowerStarter&PRODUCTVERSION=12.2&VERSIONTYPE=OEM+%28UWP%29&CHANNEL=OEM&LANGUAGE=ENU&OSREGION=0xf4&SYSTEMLOCALE=0x0409&BU=CLT&MAJORVER=10&MINORVER=0&BUILDNO=2725&VENDORNAME=1840&SR=PSP170306-02&DEVICE=None&PATTERNID=3299631&BB_ID=94022&HWID=None&Model=None&APREGID=f1d50ce43b35bc386001ccdfde8e71d5&UUID=None&SuiteName=None&SuiteVer=None&SuiteVtype=None&RENEWALTYPEID=-1&RATEPLANID=-1&STORAGEPLAN=-1&AB=0&IsNewBB=1&HWSN=None&HWPN=None&HWMFN=None&CPRM=None&AAC=None&CDKEY=None&CDKey=None&UserRegistered=1&affiliate=1840_1271_572_PSP170306-02_94022_3299631_1-1_None_f1d50ce43b35bc386001ccdfde8e71d5_None_0_6_0&utm_campaign=BB_PowerStarter_RuntextMainPageProductDescription&utm_source=BB_OEM&utm_medium=BB<br><br>Attach File : <a href=\"http://csupload.cyberlink.com/upload-file/support/cs/2018-07-19/CS001915310/DxDiag.txt\" target=_blank>DxDiag.txt</a> attach file\n"
     ]
    },
    {
     "name": "stderr",
     "output_type": "stream",
     "text": [
      " 64%|██████▍   | 8574/13309 [08:40<11:39,  6.77it/s]"
     ]
    },
    {
     "name": "stdout",
     "output_type": "stream",
     "text": [
      "Perfect <br><br>Attach File : <a href='http://csupload.cyberlink.com/upload-file/support/cs/2018-03-22/CS001871341/feedback_data.zip' target=_blank>feedback_data.zip</a> perfect attach file\n"
     ]
    },
    {
     "name": "stderr",
     "output_type": "stream",
     "text": [
      " 67%|██████▋   | 8959/13309 [08:41<03:53, 18.64it/s]"
     ]
    },
    {
     "name": "stdout",
     "output_type": "stream",
     "text": [
      "Reset Limit reset limit\n"
     ]
    },
    {
     "name": "stderr",
     "output_type": "stream",
     "text": [
      " 71%|███████   | 9430/13309 [08:41<02:41, 24.05it/s]"
     ]
    },
    {
     "name": "stdout",
     "output_type": "stream",
     "text": [
      "SAYS INCORRECT KEY say incorrect key\n"
     ]
    },
    {
     "name": "stderr",
     "output_type": "stream",
     "text": [
      " 61%|██████    | 8139/13309 [08:41<07:47, 11.06it/s]"
     ]
    },
    {
     "name": "stdout",
     "output_type": "stream",
     "text": [
      "remove duplicates remove duplicate\n"
     ]
    },
    {
     "name": "stderr",
     "output_type": "stream",
     "text": [
      " 60%|██████    | 8014/13309 [08:42<05:16, 16.72it/s]"
     ]
    },
    {
     "name": "stdout",
     "output_type": "stream",
     "text": [
      "info<br><br>Attach File : <a href=\"http://csupload.cyberlink.com/upload-file/support/cs/2018-09-21/CS001936306/CS001936306-1537556343030-0.png\" target=_blank>CS001936306-1537556343030-0.png</a> info attach file\n"
     ]
    },
    {
     "name": "stderr",
     "output_type": "stream",
     "text": [
      " 55%|█████▌    | 7320/13309 [08:42<05:31, 18.08it/s]"
     ]
    },
    {
     "name": "stdout",
     "output_type": "stream",
     "text": [
      "Invoice number: BKD-73623956395 invoice number bkd\n"
     ]
    },
    {
     "name": "stderr",
     "output_type": "stream",
     "text": [
      " 68%|██████▊   | 9009/13309 [08:43<03:33, 20.11it/s]"
     ]
    },
    {
     "name": "stdout",
     "output_type": "stream",
     "text": [
      "Links to files.    https://drive.google.com/file/d/11dPKByDR-NmpIJt_ZNNkf05BhuOqxunW/view?usp=sharing  https://drive.google.com/file/d/19l44YS6gvSgPR-IIu5VRssTXfvQxPtVS/view?usp=sharing  https://drive.google.com/file/d/1Ghua4AG3QL1ZP4hkWCI1HSiLwGFM_y6F/view?usp=sharing  https://drive.google.com/file/d/1iorHxcTiVImzpaO2Kg_c18rfgj5xp4ZU/view?usp=sharing link to\n"
     ]
    },
    {
     "name": "stderr",
     "output_type": "stream",
     "text": [
      " 62%|██████▏   | 8311/13315 [08:44<07:42, 10.82it/s]"
     ]
    },
    {
     "name": "stdout",
     "output_type": "stream",
     "text": [
      "﻿<html><div dir=\"auto\"> powerdirector bundle</div>   </html><br/>﻿ powerdirector bundle\n"
     ]
    },
    {
     "name": "stderr",
     "output_type": "stream",
     "text": [
      " 65%|██████▍   | 8616/13309 [08:44<06:01, 12.97it/s]"
     ]
    },
    {
     "name": "stdout",
     "output_type": "stream",
     "text": [
      "Good ...easy ..helpful<br><br>Attach File : <a href='http://csupload.cyberlink.com/upload-file/support/cs/2018-07-11/CS001912686/CL_PHOTODIRECTOR_DATA.zip' target=_blank>CL_PHOTODIRECTOR_DATA.zip</a> good attach file\n",
      "Hjdkvkvjchrfg<br><br>Attach File : <a href='http://csupload.cyberlink.com/upload-file/support/cs/2018-11-12/CS001953605/feedback_data.zip' target=_blank>feedback_data.zip</a> hjdkvkvjchrfg attach file\n"
     ]
    },
    {
     "name": "stderr",
     "output_type": "stream",
     "text": [
      " 72%|███████▏  | 9525/13309 [08:45<02:36, 24.18it/s]"
     ]
    },
    {
     "name": "stdout",
     "output_type": "stream",
     "text": [
      "This has been solved. Thanks. this have be\n"
     ]
    },
    {
     "name": "stderr",
     "output_type": "stream",
     "text": [
      " 61%|██████    | 8075/13309 [08:47<07:16, 11.99it/s]"
     ]
    },
    {
     "name": "stdout",
     "output_type": "stream",
     "text": [
      "good<br><br>Attach File : <a href='http://csupload.cyberlink.com/upload-file/support/cs/2019-01-15/CS001980397/CL_PHOTODIRECTOR_DATA.zip' target=_blank>CL_PHOTODIRECTOR_DATA.zip</a> good attach file\n"
     ]
    },
    {
     "name": "stderr",
     "output_type": "stream",
     "text": [
      " 68%|██████▊   | 9107/13309 [08:49<05:48, 12.05it/s]"
     ]
    },
    {
     "name": "stdout",
     "output_type": "stream",
     "text": [
      "﻿<html><div dir=\"auto\"> Legal</div>   </html><br/>﻿ legal\n"
     ]
    },
    {
     "name": "stderr",
     "output_type": "stream",
     "text": [
      " 63%|██████▎   | 8413/13315 [08:49<04:21, 18.76it/s]"
     ]
    },
    {
     "name": "stdout",
     "output_type": "stream",
     "text": [
      "﻿<html><div dir=\"auto\"> Love this app</div>   </html><br/>﻿ love this app\n"
     ]
    },
    {
     "name": "stderr",
     "output_type": "stream",
     "text": [
      " 62%|██████▏   | 8256/13309 [08:50<07:36, 11.07it/s]"
     ]
    },
    {
     "name": "stdout",
     "output_type": "stream",
     "text": [
      "caseyhutchins69@live.com      P# 763 777 2433      Name Casey p name casey\n"
     ]
    },
    {
     "name": "stderr",
     "output_type": "stream",
     "text": [
      " 72%|███████▏  | 9605/13309 [08:50<08:14,  7.50it/s]"
     ]
    },
    {
     "name": "stdout",
     "output_type": "stream",
     "text": [
      "﻿<html><div dir=\"auto\"> MasterCard not working</div>   </html><br/>﻿ mastercard not work\n"
     ]
    },
    {
     "name": "stderr",
     "output_type": "stream",
     "text": [
      "\r",
      " 69%|██████▊   | 9119/13309 [08:50<07:11,  9.70it/s]"
     ]
    },
    {
     "name": "stdout",
     "output_type": "stream",
     "text": [
      "Cancel my order cancel my order\n"
     ]
    },
    {
     "name": "stderr",
     "output_type": "stream",
     "text": [
      " 72%|███████▏  | 9606/13309 [08:50<08:10,  7.56it/s]"
     ]
    },
    {
     "name": "stdout",
     "output_type": "stream",
     "text": [
      "cancel order #214610146 cancel order\n"
     ]
    },
    {
     "name": "stderr",
     "output_type": "stream",
     "text": [
      "\r",
      " 69%|██████▊   | 9123/13309 [08:51<05:39, 12.33it/s]"
     ]
    },
    {
     "name": "stdout",
     "output_type": "stream",
     "text": [
      "﻿<html><div dir=\"auto\"> Me E. N. C.A. N. T. O.🌼💖</div>   </html><br/>﻿ me\n"
     ]
    },
    {
     "name": "stderr",
     "output_type": "stream",
     "text": [
      " 63%|██████▎   | 8428/13315 [08:50<05:52, 13.85it/s]"
     ]
    },
    {
     "name": "stdout",
     "output_type": "stream",
     "text": [
      "﻿<html><div dir=\"auto\"> Unsubscribe me.</div>   </html><br/>﻿ unsubscribe\n"
     ]
    },
    {
     "name": "stderr",
     "output_type": "stream",
     "text": [
      " 69%|██████▉   | 9154/13309 [08:52<02:52, 24.06it/s]"
     ]
    },
    {
     "name": "stdout",
     "output_type": "stream",
     "text": [
      "https://drive.google.com/drive/folders/1ik3x7gF2PVcW9XsoJYK6ZhGMi0XaX3Qe?usp=sharing \n"
     ]
    },
    {
     "name": "stderr",
     "output_type": "stream",
     "text": [
      " 62%|██████▏   | 8286/13309 [08:52<05:59, 13.98it/s]"
     ]
    },
    {
     "name": "stdout",
     "output_type": "stream",
     "text": [
      "﻿<html><div dir=\"auto\"> </div>   </html><br/>﻿<a target='_blank' href=\"http://csupload.cyberlink.com/upload-file/support/ic/20180421/WM1524300662791_Screenshot_2018-04-21-14-27-06.png\">Screenshot_2018-04-21-14-27-06.png</a><br/><a target='_blank' href=\"http://csupload.cyberlink.com/upload-file/support/ic/20180421/WM1524300662791_Screenshot_2018-04-21-14-23-25.png\">Screenshot_2018-04-21-14-23-25.png</a><br/> \n"
     ]
    },
    {
     "name": "stderr",
     "output_type": "stream",
     "text": [
      " 64%|██████▎   | 8482/13315 [08:53<04:12, 19.11it/s]"
     ]
    },
    {
     "name": "stdout",
     "output_type": "stream",
     "text": [
      "super😍<br><br>Attach File : <a href='http://csupload.cyberlink.com/upload-file/support/cs/2019-06-18/CS002030688/CL_PHOTODIRECTOR_DATA.zip' target=_blank>CL_PHOTODIRECTOR_DATA.zip</a> super attach file\n"
     ]
    },
    {
     "name": "stderr",
     "output_type": "stream",
     "text": [
      " 61%|██████    | 8055/13309 [08:53<06:49, 12.82it/s]"
     ]
    },
    {
     "name": "stdout",
     "output_type": "stream",
     "text": [
      "superb<br><br>Attach File : <a href='http://csupload.cyberlink.com/upload-file/support/cs/2018-12-18/CS001967559/CL_PHOTODIRECTOR_DATA.zip' target=_blank>CL_PHOTODIRECTOR_DATA.zip</a> superb attach file\n"
     ]
    },
    {
     "name": "stderr",
     "output_type": "stream",
     "text": [
      "\r",
      " 61%|██████    | 8151/13309 [08:53<05:24, 15.91it/s]"
     ]
    },
    {
     "name": "stdout",
     "output_type": "stream",
     "text": [
      "superb<br><br>Attach File : <a href='http://csupload.cyberlink.com/upload-file/support/cs/2019-01-19/CS001981709/CL_PHOTODIRECTOR_DATA.zip' target=_blank>CL_PHOTODIRECTOR_DATA.zip</a> superb attach file\n"
     ]
    },
    {
     "name": "stderr",
     "output_type": "stream",
     "text": [
      " 57%|█████▋    | 7528/13309 [08:53<06:18, 15.26it/s]"
     ]
    },
    {
     "name": "stdout",
     "output_type": "stream",
     "text": [
      "superb<br><br>Attach File : <a href='http://csupload.cyberlink.com/upload-file/support/cs/2019-01-26/CS001984181/CL_PHOTODIRECTOR_DATA.zip' target=_blank>CL_PHOTODIRECTOR_DATA.zip</a> superb attach file\n"
     ]
    },
    {
     "name": "stderr",
     "output_type": "stream",
     "text": [
      " 73%|███████▎  | 9681/13309 [08:54<02:27, 24.66it/s]"
     ]
    },
    {
     "name": "stdout",
     "output_type": "stream",
     "text": [
      "superb<br><br>Attach File : <a href='http://csupload.cyberlink.com/upload-file/support/cs/2019-02-07/CS001987973/CL_PHOTODIRECTOR_DATA.zip' target=_blank>CL_PHOTODIRECTOR_DATA.zip</a> superb attach file\n"
     ]
    },
    {
     "name": "stderr",
     "output_type": "stream",
     "text": [
      " 62%|██████▏   | 8306/13309 [08:54<05:55, 14.08it/s]"
     ]
    },
    {
     "name": "stdout",
     "output_type": "stream",
     "text": [
      "superb<br><br>Attach File : <a href='http://csupload.cyberlink.com/upload-file/support/cs/2019-03-25/CS002006180/CL_PHOTODIRECTOR_DATA.zip' target=_blank>CL_PHOTODIRECTOR_DATA.zip</a> superb attach file\n"
     ]
    },
    {
     "name": "stderr",
     "output_type": "stream",
     "text": [
      " 61%|██████▏   | 8163/13309 [08:54<05:20, 16.06it/s]"
     ]
    },
    {
     "name": "stdout",
     "output_type": "stream",
     "text": [
      "Asking for Refund. ask for\n"
     ]
    },
    {
     "name": "stderr",
     "output_type": "stream",
     "text": [
      " 69%|██████▉   | 9189/13309 [08:54<04:40, 14.71it/s]"
     ]
    },
    {
     "name": "stdout",
     "output_type": "stream",
     "text": [
      "thank you thank you\n"
     ]
    },
    {
     "name": "stderr",
     "output_type": "stream",
     "text": [
      " 64%|██████▍   | 8504/13315 [08:55<06:00, 13.33it/s]"
     ]
    },
    {
     "name": "stdout",
     "output_type": "stream",
     "text": [
      "Still waiting?. still\n"
     ]
    },
    {
     "name": "stderr",
     "output_type": "stream",
     "text": [
      " 67%|██████▋   | 8866/13309 [08:56<02:22, 31.18it/s]"
     ]
    },
    {
     "name": "stdout",
     "output_type": "stream",
     "text": [
      "﻿<html><div dir=\"auto\"> </div>   </html><br/>﻿<a target='_blank' href=\"http://csupload.cyberlink.com/upload-file/support/ic/20180207/WM1517985662090_20180207_115954_rmscr.jpg\">20180207_115954_rmscr.jpg</a><br/> \n"
     ]
    },
    {
     "name": "stderr",
     "output_type": "stream",
     "text": [
      " 57%|█████▋    | 7582/13309 [08:57<05:11, 18.38it/s]"
     ]
    },
    {
     "name": "stdout",
     "output_type": "stream",
     "text": [
      "redownload the PDVD15 redownload the pdvd\n"
     ]
    },
    {
     "name": "stderr",
     "output_type": "stream",
     "text": [
      " 62%|██████▏   | 8211/13309 [08:57<04:37, 18.35it/s]"
     ]
    },
    {
     "name": "stdout",
     "output_type": "stream",
     "text": [
      "reinstall my program reinstall my program\n"
     ]
    },
    {
     "name": "stderr",
     "output_type": "stream",
     "text": [
      " 62%|██████▏   | 8247/13309 [08:59<04:40, 18.08it/s]"
     ]
    },
    {
     "name": "stdout",
     "output_type": "stream",
     "text": [
      "dssharif dssharif\n"
     ]
    },
    {
     "name": "stderr",
     "output_type": "stream",
     "text": [
      "\r",
      " 73%|███████▎  | 9754/13309 [08:59<07:57,  7.45it/s]"
     ]
    },
    {
     "name": "stdout",
     "output_type": "stream",
     "text": [
      "dssharif dssharif\n"
     ]
    },
    {
     "name": "stderr",
     "output_type": "stream",
     "text": [
      " 57%|█████▋    | 7615/13309 [08:59<06:47, 13.96it/s]"
     ]
    },
    {
     "name": "stdout",
     "output_type": "stream",
     "text": [
      "Fernando <br><br>Attach File : <a href='http://csupload.cyberlink.com/upload-file/support/cs/2018-05-10/CS001888692/DeviceInfo.txt' target=_blank>DeviceInfo.txt</a> fernando attach file\n"
     ]
    },
    {
     "name": "stderr",
     "output_type": "stream",
     "text": [
      " 65%|██████▍   | 8592/13315 [08:59<05:15, 14.95it/s]"
     ]
    },
    {
     "name": "stdout",
     "output_type": "stream",
     "text": [
      "Fernando <br><br>Attach File : <a href='http://csupload.cyberlink.com/upload-file/support/cs/2018-05-10/CS001888693/DeviceInfo.txt' target=_blank>DeviceInfo.txt</a> fernando attach file\n"
     ]
    },
    {
     "name": "stderr",
     "output_type": "stream",
     "text": [
      " 65%|██████▍   | 8608/13315 [09:00<05:13, 15.01it/s]"
     ]
    },
    {
     "name": "stdout",
     "output_type": "stream",
     "text": [
      "﻿<html><div dir=\"auto\"> <a href=\"mailto:Ashishwadiwa57689@gmail.com\"> Ashishwadiwa57689@gmail.com</a> <div dir=\"auto\"> <br> </div> </div>   </html><br/>﻿ \n"
     ]
    },
    {
     "name": "stderr",
     "output_type": "stream",
     "text": [
      " 62%|██████▏   | 8211/13309 [09:05<07:19, 11.59it/s]"
     ]
    },
    {
     "name": "stdout",
     "output_type": "stream",
     "text": [
      "﻿<html><p dir=\"ltr\"> Soport app</p>   </html><br/>﻿ soport app\n"
     ]
    },
    {
     "name": "stderr",
     "output_type": "stream",
     "text": [
      " 65%|██████▌   | 8687/13315 [09:05<06:34, 11.74it/s]"
     ]
    },
    {
     "name": "stdout",
     "output_type": "stream",
     "text": [
      "﻿<html><p dir=\"ltr\"> Super.....</p>   </html><br/>﻿ \n"
     ]
    },
    {
     "name": "stderr",
     "output_type": "stream",
     "text": [
      " 71%|███████   | 9443/13309 [09:09<04:54, 13.13it/s]"
     ]
    },
    {
     "name": "stdout",
     "output_type": "stream",
     "text": [
      "﻿<!DOCTYPE HTML PUBLIC \"-//W3C//DTD HTML 3.2//EN\">   <HTML>   <HEAD>   <META NAME=\"Generator\" CONTENT=\"MS Exchange Server version 08.00.0681.000\">   <TITLE> </TITLE>   </HEAD>   <BODY>   <!-- Converted from text/plain format -->   <BR>   <BR>     </BODY>   </HTML> <br/>﻿<a target='_blank' href=\"http://csupload.cyberlink.com/upload-file/support/ic/20180709/WM1531087263830_IMG_3803.PNG\">IMG_3803.PNG</a><br/><a target='_blank' href=\"http://csupload.cyberlink.com/upload-file/support/ic/20180709/WM1531087263830_ATT00001.txt\">ATT00001.txt</a><br/> \n"
     ]
    },
    {
     "name": "stderr",
     "output_type": "stream",
     "text": [
      " 66%|██████▌   | 8741/13315 [09:09<07:01, 10.86it/s]"
     ]
    },
    {
     "name": "stdout",
     "output_type": "stream",
     "text": [
      "﻿<!DOCTYPE HTML PUBLIC \"-//W3C//DTD HTML 3.2//EN\">   <HTML>   <HEAD>   <META NAME=\"Generator\" CONTENT=\"MS Exchange Server version 08.00.0681.000\">   <TITLE> </TITLE>   </HEAD>   <BODY>   <!-- Converted from text/plain format -->   <BR>   <BR>     </BODY>   </HTML> <br/>﻿<a target='_blank' href=\"http://csupload.cyberlink.com/upload-file/support/ic/20180709/WM1531087265564_IMG_3801.PNG\">IMG_3801.PNG</a><br/><a target='_blank' href=\"http://csupload.cyberlink.com/upload-file/support/ic/20180709/WM1531087265564_ATT00001.txt\">ATT00001.txt</a><br/> \n"
     ]
    },
    {
     "name": "stderr",
     "output_type": "stream",
     "text": [
      " 59%|█████▊    | 7802/13309 [09:09<06:25, 14.27it/s]"
     ]
    },
    {
     "name": "stdout",
     "output_type": "stream",
     "text": [
      "﻿<!DOCTYPE HTML PUBLIC \"-//W3C//DTD HTML 3.2//EN\">   <HTML>   <HEAD>   <META NAME=\"Generator\" CONTENT=\"MS Exchange Server version 08.00.0681.000\">   <TITLE> </TITLE>   </HEAD>   <BODY>   <!-- Converted from text/plain format -->   <BR>   <BR>     </BODY>   </HTML> <br/>﻿<a target='_blank' href=\"http://csupload.cyberlink.com/upload-file/support/ic/20190606/WM1559782817550_IMG_2729.jpg\">IMG_2729.jpg</a><br/><a target='_blank' href=\"http://csupload.cyberlink.com/upload-file/support/ic/20190606/WM1559782817550_ATT00001.txt\">ATT00001.txt</a><br/> \n"
     ]
    },
    {
     "name": "stderr",
     "output_type": "stream",
     "text": [
      " 64%|██████▍   | 8509/13309 [09:09<08:48,  9.07it/s]"
     ]
    },
    {
     "name": "stdout",
     "output_type": "stream",
     "text": [
      "how to activate? how to activate\n"
     ]
    },
    {
     "name": "stderr",
     "output_type": "stream",
     "text": [
      " 66%|██████▌   | 8770/13315 [09:10<04:33, 16.59it/s]"
     ]
    },
    {
     "name": "stdout",
     "output_type": "stream",
     "text": [
      "NEED NEW LINK need new link\n"
     ]
    },
    {
     "name": "stderr",
     "output_type": "stream",
     "text": [
      " 63%|██████▎   | 8322/13309 [09:13<05:36, 14.80it/s]"
     ]
    },
    {
     "name": "stdout",
     "output_type": "stream",
     "text": [
      "Nothing<br><br>Attach File : <a href='http://csupload.cyberlink.com/upload-file/support/cs/2019-01-17/CS001981186/feedback_data.zip' target=_blank>feedback_data.zip</a> nothing attach file\n"
     ]
    },
    {
     "name": "stderr",
     "output_type": "stream",
     "text": [
      " 63%|██████▎   | 8358/13309 [09:16<07:27, 11.07it/s]]"
     ]
    },
    {
     "name": "stdout",
     "output_type": "stream",
     "text": [
      "﻿<html><div dir=\"auto\"> Stop my subscription</div>   </html><br/>﻿ stop my subscription\n"
     ]
    },
    {
     "name": "stderr",
     "output_type": "stream",
     "text": [
      " 59%|█████▉    | 7916/13309 [09:16<07:25, 12.12it/s]"
     ]
    },
    {
     "name": "stdout",
     "output_type": "stream",
     "text": [
      "﻿<html><div dir=\"auto\"> Suport power directer</div>   </html><br/>﻿ suport power directer\n"
     ]
    },
    {
     "name": "stderr",
     "output_type": "stream",
     "text": [
      " 75%|███████▌  | 10009/13309 [09:16<04:57, 11.09it/s]"
     ]
    },
    {
     "name": "stdout",
     "output_type": "stream",
     "text": [
      "﻿<html><div dir=\"auto\"> Support h.265 (HEVC) ??</div>   </html><br/>﻿ support hevc\n"
     ]
    },
    {
     "name": "stderr",
     "output_type": "stream",
     "text": [
      " 64%|██████▍   | 8554/13309 [09:18<08:48,  8.99it/s]]"
     ]
    },
    {
     "name": "stdout",
     "output_type": "stream",
     "text": [
      "﻿<html><div dir=\"auto\"> <div style=\"text-align:left\" dir=\"auto\"> <br> </div> </div>   </html><br/>﻿ \n"
     ]
    },
    {
     "name": "stderr",
     "output_type": "stream",
     "text": [
      " 67%|██████▋   | 8909/13315 [09:20<04:33, 16.12it/s]]"
     ]
    },
    {
     "name": "stdout",
     "output_type": "stream",
     "text": [
      "superb<br><br>Attach File : <a href='http://csupload.cyberlink.com/upload-file/support/cs/2018-11-29/CS001959943/CL_PHOTODIRECTOR_DATA.zip' target=_blank>CL_PHOTODIRECTOR_DATA.zip</a> superb attach file\n"
     ]
    },
    {
     "name": "stderr",
     "output_type": "stream",
     "text": [
      " 67%|██████▋   | 8965/13315 [09:23<03:20, 21.65it/s]]"
     ]
    },
    {
     "name": "stdout",
     "output_type": "stream",
     "text": [
      "﻿<html><div dir=\"auto\"> Stop apps</div>   </html><br/>﻿ stop apps\n"
     ]
    },
    {
     "name": "stderr",
     "output_type": "stream",
     "text": [
      " 65%|██████▌   | 8716/13309 [09:24<07:25, 10.31it/s]]"
     ]
    },
    {
     "name": "stdout",
     "output_type": "stream",
     "text": [
      "Activation limit reached. activation limit\n"
     ]
    },
    {
     "name": "stderr",
     "output_type": "stream",
     "text": [
      " 66%|██████▌   | 8722/13309 [09:25<06:10, 12.40it/s]]"
     ]
    },
    {
     "name": "stdout",
     "output_type": "stream",
     "text": [
      " <br><br>Attach File : <a href='http://csupload.cyberlink.com/upload-file/support/cs/2018-03-29/CS001873695/CL_PHOTODIRECTOR_DATA.zip' target=_blank>CL_PHOTODIRECTOR_DATA.zip</a> attach file\n"
     ]
    },
    {
     "name": "stderr",
     "output_type": "stream",
     "text": [
      "\r",
      " 73%|███████▎  | 9700/13309 [09:25<02:45, 21.84it/s]"
     ]
    },
    {
     "name": "stdout",
     "output_type": "stream",
     "text": [
      " <br><br>Attach File : <a href='http://csupload.cyberlink.com/upload-file/support/cs/2018-07-25/CS001917148/CL_PHOTODIRECTOR_DATA.zip' target=_blank>CL_PHOTODIRECTOR_DATA.zip</a> attach file\n"
     ]
    },
    {
     "name": "stderr",
     "output_type": "stream",
     "text": [
      " 68%|██████▊   | 8990/13315 [09:25<04:08, 17.37it/s]]"
     ]
    },
    {
     "name": "stdout",
     "output_type": "stream",
     "text": [
      " <br><br>Attach File : <a href='http://csupload.cyberlink.com/upload-file/support/cs/2018-11-17/CS001955447/CL_PHOTODIRECTOR_DATA.zip' target=_blank>CL_PHOTODIRECTOR_DATA.zip</a> attach file\n"
     ]
    },
    {
     "name": "stderr",
     "output_type": "stream",
     "text": [
      " 66%|██████▌   | 8731/13309 [09:26<05:20, 14.27it/s]]"
     ]
    },
    {
     "name": "stdout",
     "output_type": "stream",
     "text": [
      "See Subject.<br><br>Attach File : <a href=\"http://csupload.cyberlink.com/upload-file/support/cs/2018-11-26/CS001958649/DxDiag.txt\" target=_blank>DxDiag.txt</a> see attach file\n"
     ]
    },
    {
     "name": "stderr",
     "output_type": "stream",
     "text": [
      " 68%|██████▊   | 9009/13315 [09:26<03:41, 19.42it/s]]"
     ]
    },
    {
     "name": "stdout",
     "output_type": "stream",
     "text": [
      "hello<br><br>Attach File : <a href='http://csupload.cyberlink.com/upload-file/support/cs/2019-01-16/CS001980999/CL_PHOTODIRECTOR_DATA.zip' target=_blank>CL_PHOTODIRECTOR_DATA.zip</a> hello attach file\n",
      "hello<br><br>Attach File : <a href='http://csupload.cyberlink.com/upload-file/support/cs/2019-02-27/CS001995545/CL_PHOTODIRECTOR_DATA.zip' target=_blank>CL_PHOTODIRECTOR_DATA.zip</a> hello attach file\n"
     ]
    },
    {
     "name": "stderr",
     "output_type": "stream",
     "text": [
      " 66%|██████▌   | 8743/13309 [09:26<04:43, 16.13it/s]]"
     ]
    },
    {
     "name": "stdout",
     "output_type": "stream",
     "text": [
      "जयभीम<br><br>Attach File : <a href='http://csupload.cyberlink.com/upload-file/support/cs/2019-05-30/CS002025644/CL_PHOTODIRECTOR_DATA.zip' target=_blank>CL_PHOTODIRECTOR_DATA.zip</a> attach file\n"
     ]
    },
    {
     "name": "stderr",
     "output_type": "stream",
     "text": [
      " 61%|██████    | 8062/13309 [09:26<06:23, 13.69it/s]]"
     ]
    },
    {
     "name": "stdout",
     "output_type": "stream",
     "text": [
      "मस्त<br><br>Attach File : <a href='http://csupload.cyberlink.com/upload-file/support/cs/2019-03-01/CS001996268/CL_PHOTODIRECTOR_DATA.zip' target=_blank>CL_PHOTODIRECTOR_DATA.zip</a> attach file\n"
     ]
    },
    {
     "name": "stderr",
     "output_type": "stream",
     "text": [
      " 68%|██████▊   | 9020/13315 [09:26<03:43, 19.21it/s]"
     ]
    },
    {
     "name": "stdout",
     "output_type": "stream",
     "text": [
      "Order Number: 214606492 order number\n",
      ".<br><br>Attach File : <a href=\"http://csupload.cyberlink.com/upload-file/support/cs/2019-03-12/CS001999819/CS001999819-1552394037798-0.JPG\" target=_blank>CS001999819-1552394037798-0.JPG</a> attach file\n"
     ]
    },
    {
     "name": "stderr",
     "output_type": "stream",
     "text": [
      " 64%|██████▍   | 8489/13309 [09:27<08:10,  9.83it/s]]"
     ]
    },
    {
     "name": "stdout",
     "output_type": "stream",
     "text": [
      "Great. No issues.<br><br>Attach File : <a href='http://csupload.cyberlink.com/upload-file/support/cs/2018-10-20/CS001946050/CL_PHOTODIRECTOR_DATA.zip' target=_blank>CL_PHOTODIRECTOR_DATA.zip</a> no attach file\n",
      "great<br><br>Attach File : <a href='http://csupload.cyberlink.com/upload-file/support/cs/2018-06-02/CS001899278/CL_PHOTODIRECTOR_DATA.zip' target=_blank>CL_PHOTODIRECTOR_DATA.zip</a> great attach file\n"
     ]
    },
    {
     "name": "stderr",
     "output_type": "stream",
     "text": [
      " 73%|███████▎  | 9736/13309 [09:28<07:10,  8.29it/s]]"
     ]
    },
    {
     "name": "stdout",
     "output_type": "stream",
     "text": [
      "good<br><br>Attach File : <a href='http://csupload.cyberlink.com/upload-file/support/cs/2019-01-12/CS001979468/CL_PHOTODIRECTOR_DATA.zip' target=_blank>CL_PHOTODIRECTOR_DATA.zip</a> good attach file\n"
     ]
    },
    {
     "name": "stderr",
     "output_type": "stream",
     "text": [
      " 61%|██████    | 8085/13309 [09:28<06:21, 13.68it/s]]"
     ]
    },
    {
     "name": "stdout",
     "output_type": "stream",
     "text": [
      "not working  WHYYYYYYYYYYYYY not work whyyyyyyyyyyyyy\n"
     ]
    },
    {
     "name": "stderr",
     "output_type": "stream",
     "text": [
      " 77%|███████▋  | 10225/13309 [09:30<03:14, 15.85it/s]"
     ]
    },
    {
     "name": "stdout",
     "output_type": "stream",
     "text": [
      "  hsvf<br><br>Attach File : <a href='http://csupload.cyberlink.com/upload-file/support/cs/2019-06-04/CS002026809/CL_PHOTODIRECTOR_DATA.zip' target=_blank>CL_PHOTODIRECTOR_DATA.zip</a> hsvf attach file\n"
     ]
    },
    {
     "name": "stderr",
     "output_type": "stream",
     "text": [
      " 66%|██████▌   | 8787/13309 [09:30<06:00, 12.55it/s]"
     ]
    },
    {
     "name": "stdout",
     "output_type": "stream",
     "text": [
      "ا<br><br>Attach File : <a href='http://csupload.cyberlink.com/upload-file/support/cs/2019-06-20/CS002031240/CL_PHOTODIRECTOR_DATA.zip' target=_blank>CL_PHOTODIRECTOR_DATA.zip</a> attach file\n"
     ]
    },
    {
     "name": "stderr",
     "output_type": "stream",
     "text": [
      " 61%|██████▏   | 8161/13309 [09:33<06:03, 14.15it/s]]"
     ]
    },
    {
     "name": "stdout",
     "output_type": "stream",
     "text": [
      "please activate please activate\n"
     ]
    },
    {
     "name": "stderr",
     "output_type": "stream",
     "text": [
      " 72%|███████▏  | 9518/13309 [09:33<01:55, 32.89it/s]]"
     ]
    },
    {
     "name": "stdout",
     "output_type": "stream",
     "text": [
      "ओक<br><br>Attach File : <a href='http://csupload.cyberlink.com/upload-file/support/cs/2018-11-06/CS001951588/CL_PHOTODIRECTOR_DATA.zip' target=_blank>CL_PHOTODIRECTOR_DATA.zip</a> attach file\n"
     ]
    },
    {
     "name": "stderr",
     "output_type": "stream",
     "text": [
      " 77%|███████▋  | 10266/13309 [09:34<02:51, 17.73it/s]"
     ]
    },
    {
     "name": "stdout",
     "output_type": "stream",
     "text": [
      "wooowww<br><br>Attach File : <a href='http://csupload.cyberlink.com/upload-file/support/cs/2019-01-17/CS001981047/CL_PHOTODIRECTOR_DATA.zip' target=_blank>CL_PHOTODIRECTOR_DATA.zip</a> wooowww attach file\n"
     ]
    },
    {
     "name": "stderr",
     "output_type": "stream",
     "text": [
      " 64%|██████▍   | 8579/13309 [09:34<06:14, 12.63it/s]]"
     ]
    },
    {
     "name": "stdout",
     "output_type": "stream",
     "text": [
      "worst<br><br>Attach File : <a href='http://csupload.cyberlink.com/upload-file/support/cs/2019-02-25/CS001994959/CL_PHOTODIRECTOR_DATA.zip' target=_blank>CL_PHOTODIRECTOR_DATA.zip</a> bad attach file\n"
     ]
    },
    {
     "name": "stderr",
     "output_type": "stream",
     "text": [
      " 61%|██████▏   | 8174/13309 [09:34<06:50, 12.50it/s]]"
     ]
    },
    {
     "name": "stdout",
     "output_type": "stream",
     "text": [
      "wow<br><br>Attach File : <a href='http://csupload.cyberlink.com/upload-file/support/cs/2018-05-04/CS001886595/CL_PHOTODIRECTOR_DATA.zip' target=_blank>CL_PHOTODIRECTOR_DATA.zip</a> wow attach file\n"
     ]
    },
    {
     "name": "stderr",
     "output_type": "stream",
     "text": [
      " 69%|██████▊   | 9144/13315 [09:34<04:09, 16.71it/s]]"
     ]
    },
    {
     "name": "stdout",
     "output_type": "stream",
     "text": [
      "yea<br><br>Attach File : <a href='http://csupload.cyberlink.com/upload-file/support/cs/2019-01-30/CS001985681/CL_PHOTODIRECTOR_DATA.zip' target=_blank>CL_PHOTODIRECTOR_DATA.zip</a> yea attach file\n"
     ]
    },
    {
     "name": "stderr",
     "output_type": "stream",
     "text": [
      " 66%|██████▋   | 8849/13309 [09:34<06:08, 12.09it/s]]"
     ]
    },
    {
     "name": "stdout",
     "output_type": "stream",
     "text": [
      "yes!! <br><br>Attach File : <a href='http://csupload.cyberlink.com/upload-file/support/cs/2019-05-02/CS002017807/CL_PHOTODIRECTOR_DATA.zip' target=_blank>CL_PHOTODIRECTOR_DATA.zip</a> yes attach file\n"
     ]
    },
    {
     "name": "stderr",
     "output_type": "stream",
     "text": [
      " 77%|███████▋  | 10278/13309 [09:35<05:02, 10.03it/s]"
     ]
    },
    {
     "name": "stdout",
     "output_type": "stream",
     "text": [
      "yes<br><br>Attach File : <a href='http://csupload.cyberlink.com/upload-file/support/cs/2019-02-28/CS001995915/CL_PHOTODIRECTOR_DATA.zip' target=_blank>CL_PHOTODIRECTOR_DATA.zip</a> yes attach file\n"
     ]
    },
    {
     "name": "stderr",
     "output_type": "stream",
     "text": [
      " 72%|███████▏  | 9557/13309 [09:35<02:33, 24.51it/s]]"
     ]
    },
    {
     "name": "stdout",
     "output_type": "stream",
     "text": [
      "﻿<html><div dir=\"auto\"> Thanks&nbsp;</div>   </html><br/>﻿ thanks nbsp\n"
     ]
    },
    {
     "name": "stderr",
     "output_type": "stream",
     "text": [
      " 72%|███████▏  | 9579/13309 [09:36<03:05, 20.13it/s]]"
     ]
    },
    {
     "name": "stdout",
     "output_type": "stream",
     "text": [
      "https://drive.google.com/drive/folders/1G2_cbAKIB6Td6_yJtV95km3ZAbmKr83p?usp=sharing \n"
     ]
    },
    {
     "name": "stderr",
     "output_type": "stream",
     "text": [
      " 67%|██████▋   | 8869/13309 [09:37<03:37, 20.45it/s]]"
     ]
    },
    {
     "name": "stdout",
     "output_type": "stream",
     "text": [
      "canot register canot register\n"
     ]
    },
    {
     "name": "stderr",
     "output_type": "stream",
     "text": [
      " 78%|███████▊  | 10323/13309 [09:37<03:10, 15.68it/s]"
     ]
    },
    {
     "name": "stdout",
     "output_type": "stream",
     "text": [
      "NOT WORKING not work\n"
     ]
    },
    {
     "name": "stderr",
     "output_type": "stream",
     "text": [
      " 65%|██████▍   | 8629/13309 [09:38<08:19,  9.37it/s]]"
     ]
    },
    {
     "name": "stdout",
     "output_type": "stream",
     "text": [
      "dmr<br><br>Attach File : <a href='http://csupload.cyberlink.com/upload-file/support/cs/2018-12-19/CS001967793/CL_PHOTODIRECTOR_DATA.zip' target=_blank>CL_PHOTODIRECTOR_DATA.zip</a> dmr attach file\n"
     ]
    },
    {
     "name": "stderr",
     "output_type": "stream",
     "text": [
      " 62%|██████▏   | 8235/13309 [09:38<05:29, 15.42it/s]]"
     ]
    },
    {
     "name": "stdout",
     "output_type": "stream",
     "text": [
      "Good<br><br>Attach File : <a href='http://csupload.cyberlink.com/upload-file/support/cs/2019-01-05/CS001976938/CL_PHOTODIRECTOR_DATA.zip' target=_blank>CL_PHOTODIRECTOR_DATA.zip</a> good attach file\n"
     ]
    },
    {
     "name": "stderr",
     "output_type": "stream",
     "text": [
      " 69%|██████▉   | 9243/13315 [09:40<03:38, 18.66it/s]]"
     ]
    },
    {
     "name": "stdout",
     "output_type": "stream",
     "text": [
      "good<br><br>Attach File : <a href='http://csupload.cyberlink.com/upload-file/support/cs/2018-10-11/CS001942877/CL_PHOTODIRECTOR_DATA.zip' target=_blank>CL_PHOTODIRECTOR_DATA.zip</a> good attach file\n"
     ]
    },
    {
     "name": "stderr",
     "output_type": "stream",
     "text": [
      " 75%|███████▌  | 9985/13309 [09:41<02:04, 26.64it/s]"
     ]
    },
    {
     "name": "stdout",
     "output_type": "stream",
     "text": [
      "good<br><br>Attach File : <a href='http://csupload.cyberlink.com/upload-file/support/cs/2018-10-11/CS001942925/CL_PHOTODIRECTOR_DATA.zip' target=_blank>CL_PHOTODIRECTOR_DATA.zip</a> good attach file\n"
     ]
    },
    {
     "name": "stderr",
     "output_type": "stream",
     "text": [
      " 67%|██████▋   | 8936/13309 [09:41<06:29, 11.23it/s]"
     ]
    },
    {
     "name": "stdout",
     "output_type": "stream",
     "text": [
      "seth<br><br>Attach File : <a href='http://csupload.cyberlink.com/upload-file/support/cs/2018-01-11/CS001843695/DeviceInfo.txt' target=_blank>DeviceInfo.txt</a> seth attach file\n"
     ]
    },
    {
     "name": "stderr",
     "output_type": "stream",
     "text": [
      " 75%|███████▌  | 9988/13309 [09:41<02:14, 24.71it/s]"
     ]
    },
    {
     "name": "stdout",
     "output_type": "stream",
     "text": [
      "good<br><br>Attach File : <a href='http://csupload.cyberlink.com/upload-file/support/cs/2018-10-14/CS001944113/CL_PHOTODIRECTOR_DATA.zip' target=_blank>CL_PHOTODIRECTOR_DATA.zip</a> good attach file\n"
     ]
    },
    {
     "name": "stderr",
     "output_type": "stream",
     "text": [
      " 62%|██████▏   | 8281/13309 [09:41<05:59, 13.99it/s]]"
     ]
    },
    {
     "name": "stdout",
     "output_type": "stream",
     "text": [
      "good<br><br>Attach File : <a href='http://csupload.cyberlink.com/upload-file/support/cs/2018-10-16/CS001944814/CL_PHOTODIRECTOR_DATA.zip' target=_blank>CL_PHOTODIRECTOR_DATA.zip</a> good attach file\n"
     ]
    },
    {
     "name": "stderr",
     "output_type": "stream",
     "text": [
      " 69%|██████▉   | 9253/13315 [09:41<03:16, 20.63it/s]]"
     ]
    },
    {
     "name": "stdout",
     "output_type": "stream",
     "text": [
      "good<br><br>Attach File : <a href='http://csupload.cyberlink.com/upload-file/support/cs/2018-10-19/CS001945646/CL_PHOTODIRECTOR_DATA.zip' target=_blank>CL_PHOTODIRECTOR_DATA.zip</a> good attach file\n"
     ]
    },
    {
     "name": "stderr",
     "output_type": "stream",
     "text": [
      " 65%|██████▌   | 8673/13309 [09:41<07:52,  9.81it/s]"
     ]
    },
    {
     "name": "stdout",
     "output_type": "stream",
     "text": [
      "good<br><br>Attach File : <a href='http://csupload.cyberlink.com/upload-file/support/cs/2018-10-22/CS001946509/CL_PHOTODIRECTOR_DATA.zip' target=_blank>CL_PHOTODIRECTOR_DATA.zip</a> good attach file\n",
      "Good<br><br>Attach File : <a href='http://csupload.cyberlink.com/upload-file/support/cs/2018-10-22/CS001946642/CL_PHOTODIRECTOR_DATA.zip' target=_blank>CL_PHOTODIRECTOR_DATA.zip</a> good attach file\n"
     ]
    },
    {
     "name": "stderr",
     "output_type": "stream",
     "text": [
      " 78%|███████▊  | 10387/13309 [09:41<04:29, 10.85it/s]"
     ]
    },
    {
     "name": "stdout",
     "output_type": "stream",
     "text": [
      "good<br><br>Attach File : <a href='http://csupload.cyberlink.com/upload-file/support/cs/2018-10-25/CS001947873/CL_PHOTODIRECTOR_DATA.zip' target=_blank>CL_PHOTODIRECTOR_DATA.zip</a> good attach file\n"
     ]
    },
    {
     "name": "stderr",
     "output_type": "stream",
     "text": [
      " 75%|███████▌  | 9998/13309 [09:41<02:38, 20.82it/s]"
     ]
    },
    {
     "name": "stdout",
     "output_type": "stream",
     "text": [
      "good<br><br>Attach File : <a href='http://csupload.cyberlink.com/upload-file/support/cs/2018-11-03/CS001950497/CL_PHOTODIRECTOR_DATA.zip' target=_blank>CL_PHOTODIRECTOR_DATA.zip</a> good attach file\n"
     ]
    },
    {
     "name": "stderr",
     "output_type": "stream",
     "text": [
      " 67%|██████▋   | 8946/13309 [09:41<05:09, 14.12it/s]]"
     ]
    },
    {
     "name": "stdout",
     "output_type": "stream",
     "text": [
      "good<br><br>Attach File : <a href='http://csupload.cyberlink.com/upload-file/support/cs/2018-11-05/CS001951266/CL_PHOTODIRECTOR_DATA.zip' target=_blank>CL_PHOTODIRECTOR_DATA.zip</a> good attach file\n"
     ]
    },
    {
     "name": "stderr",
     "output_type": "stream",
     "text": [
      " 65%|██████▌   | 8678/13309 [09:41<06:00, 12.83it/s]"
     ]
    },
    {
     "name": "stdout",
     "output_type": "stream",
     "text": [
      "Good<br><br>Attach File : <a href='http://csupload.cyberlink.com/upload-file/support/cs/2018-11-08/CS001952522/CL_PHOTODIRECTOR_DATA.zip' target=_blank>CL_PHOTODIRECTOR_DATA.zip</a> good attach file\n"
     ]
    },
    {
     "name": "stderr",
     "output_type": "stream",
     "text": [
      " 73%|███████▎  | 9688/13309 [09:41<03:10, 18.99it/s]"
     ]
    },
    {
     "name": "stdout",
     "output_type": "stream",
     "text": [
      "good<br><br>Attach File : <a href='http://csupload.cyberlink.com/upload-file/support/cs/2018-11-14/CS001954382/CL_PHOTODIRECTOR_DATA.zip' target=_blank>CL_PHOTODIRECTOR_DATA.zip</a> good attach file\n"
     ]
    },
    {
     "name": "stderr",
     "output_type": "stream",
     "text": [
      "\r",
      " 75%|███████▌  | 10002/13309 [09:41<02:28, 22.22it/s]"
     ]
    },
    {
     "name": "stdout",
     "output_type": "stream",
     "text": [
      "good<br><br>Attach File : <a href='http://csupload.cyberlink.com/upload-file/support/cs/2018-11-22/CS001957261/CL_PHOTODIRECTOR_DATA.zip' target=_blank>CL_PHOTODIRECTOR_DATA.zip</a> good attach file\n"
     ]
    },
    {
     "name": "stderr",
     "output_type": "stream",
     "text": [
      "\r",
      " 70%|██████▉   | 9259/13315 [09:41<03:52, 17.45it/s]"
     ]
    },
    {
     "name": "stdout",
     "output_type": "stream",
     "text": [
      "good<br><br>Attach File : <a href='http://csupload.cyberlink.com/upload-file/support/cs/2018-11-30/CS001960378/CL_PHOTODIRECTOR_DATA.zip' target=_blank>CL_PHOTODIRECTOR_DATA.zip</a> good attach file\n"
     ]
    },
    {
     "name": "stderr",
     "output_type": "stream",
     "text": [
      " 73%|███████▎  | 9693/13309 [09:42<02:40, 22.56it/s]"
     ]
    },
    {
     "name": "stdout",
     "output_type": "stream",
     "text": [
      "good<br><br>Attach File : <a href='http://csupload.cyberlink.com/upload-file/support/cs/2018-12-12/CS001964918/CL_PHOTODIRECTOR_DATA.zip' target=_blank>CL_PHOTODIRECTOR_DATA.zip</a> good attach file\n"
     ]
    },
    {
     "name": "stderr",
     "output_type": "stream",
     "text": [
      " 78%|███████▊  | 10391/13309 [09:42<04:47, 10.16it/s]"
     ]
    },
    {
     "name": "stdout",
     "output_type": "stream",
     "text": [
      "Good<br><br>Attach File : <a href='http://csupload.cyberlink.com/upload-file/support/cs/2018-12-14/CS001965582/CL_PHOTODIRECTOR_DATA.zip' target=_blank>CL_PHOTODIRECTOR_DATA.zip</a> good attach file\n"
     ]
    },
    {
     "name": "stderr",
     "output_type": "stream",
     "text": [
      " 65%|██████▌   | 8680/13309 [09:42<06:50, 11.28it/s]]"
     ]
    },
    {
     "name": "stdout",
     "output_type": "stream",
     "text": [
      "good<br><br>Attach File : <a href='http://csupload.cyberlink.com/upload-file/support/cs/2018-12-19/CS001967974/CL_PHOTODIRECTOR_DATA.zip' target=_blank>CL_PHOTODIRECTOR_DATA.zip</a> good attach file\n"
     ]
    },
    {
     "name": "stderr",
     "output_type": "stream",
     "text": [
      " 67%|██████▋   | 8950/13309 [09:42<05:28, 13.27it/s]"
     ]
    },
    {
     "name": "stdout",
     "output_type": "stream",
     "text": [
      "good<br><br>Attach File : <a href='http://csupload.cyberlink.com/upload-file/support/cs/2018-12-28/CS001973639/CL_PHOTODIRECTOR_DATA.zip' target=_blank>CL_PHOTODIRECTOR_DATA.zip</a> good attach file\n",
      "good<br><br>Attach File : <a href='http://csupload.cyberlink.com/upload-file/support/cs/2018-12-29/CS001974166/CL_PHOTODIRECTOR_DATA.zip' target=_blank>CL_PHOTODIRECTOR_DATA.zip</a> good attach file\n"
     ]
    },
    {
     "name": "stderr",
     "output_type": "stream",
     "text": [
      " 73%|███████▎  | 9700/13309 [09:42<02:24, 25.02it/s]]"
     ]
    },
    {
     "name": "stdout",
     "output_type": "stream",
     "text": [
      "vinod<br><br>Attach File : <a href='http://csupload.cyberlink.com/upload-file/support/cs/2019-05-25/CS002024151/CL_PHOTODIRECTOR_DATA.zip' target=_blank>CL_PHOTODIRECTOR_DATA.zip</a> vinod attach file\n"
     ]
    },
    {
     "name": "stderr",
     "output_type": "stream",
     "text": [
      " 67%|██████▋   | 8952/13309 [09:42<05:17, 13.73it/s]"
     ]
    },
    {
     "name": "stdout",
     "output_type": "stream",
     "text": [
      "vip<br><br>Attach File : <a href='http://csupload.cyberlink.com/upload-file/support/cs/2019-01-10/CS001978679/CL_PHOTODIRECTOR_DATA.zip' target=_blank>CL_PHOTODIRECTOR_DATA.zip</a> vip attach file\n"
     ]
    },
    {
     "name": "stderr",
     "output_type": "stream",
     "text": [
      " 65%|██████▌   | 8682/13309 [09:42<07:07, 10.83it/s]]"
     ]
    },
    {
     "name": "stdout",
     "output_type": "stream",
     "text": [
      "virendre<br><br>Attach File : <a href='http://csupload.cyberlink.com/upload-file/support/cs/2019-07-21/CS002041323/CL_PHOTODIRECTOR_DATA.zip' target=_blank>CL_PHOTODIRECTOR_DATA.zip</a> virendre attach file\n"
     ]
    },
    {
     "name": "stderr",
     "output_type": "stream",
     "text": [
      " 73%|███████▎  | 9704/13309 [09:42<02:13, 27.09it/s]]"
     ]
    },
    {
     "name": "stdout",
     "output_type": "stream",
     "text": [
      "vk<br><br>Attach File : <a href='http://csupload.cyberlink.com/upload-file/support/cs/2019-01-24/CS001983494/CL_PHOTODIRECTOR_DATA.zip' target=_blank>CL_PHOTODIRECTOR_DATA.zip</a> vk attach file\n"
     ]
    },
    {
     "name": "stderr",
     "output_type": "stream",
     "text": [
      " 70%|██████▉   | 9282/13315 [09:42<03:00, 22.31it/s]]"
     ]
    },
    {
     "name": "stdout",
     "output_type": "stream",
     "text": [
      "wha<br><br>Attach File : <a href='http://csupload.cyberlink.com/upload-file/support/cs/2018-12-23/CS001969721/CL_PHOTODIRECTOR_DATA.zip' target=_blank>CL_PHOTODIRECTOR_DATA.zip</a> wha attach file\n"
     ]
    },
    {
     "name": "stderr",
     "output_type": "stream",
     "text": [
      " 67%|██████▋   | 8973/13309 [09:43<04:03, 17.78it/s]]"
     ]
    },
    {
     "name": "stdout",
     "output_type": "stream",
     "text": [
      "Hdkgjciv<br><br>Attach File : <a href='http://csupload.cyberlink.com/upload-file/support/cs/2018-11-12/CS001953617/feedback_data.zip' target=_blank>feedback_data.zip</a> hdkgjciv attach file\n"
     ]
    },
    {
     "name": "stderr",
     "output_type": "stream",
     "text": [
      " 75%|███████▌  | 10044/13309 [09:44<04:07, 13.19it/s]"
     ]
    },
    {
     "name": "stdout",
     "output_type": "stream",
     "text": [
      "Hello <br><br>Attach File : <a href='http://csupload.cyberlink.com/upload-file/support/cs/2018-01-06/CS001841359/CL_LOGCAT_DATA.zip' target=_blank>CL_LOGCAT_DATA.zip</a> hello attach file\n"
     ]
    },
    {
     "name": "stderr",
     "output_type": "stream",
     "text": [
      " 78%|███████▊  | 10438/13309 [09:45<02:15, 21.13it/s]"
     ]
    },
    {
     "name": "stdout",
     "output_type": "stream",
     "text": [
      "﻿<html><div dir=\"auto\"> Plz support&nbsp;</div>   </html><br/>﻿ plz support nbsp\n"
     ]
    },
    {
     "name": "stderr",
     "output_type": "stream",
     "text": [
      " 76%|███████▌  | 10072/13309 [09:46<04:02, 13.36it/s]"
     ]
    },
    {
     "name": "stdout",
     "output_type": "stream",
     "text": [
      "Downloaded file is CyberLinkMediaSuite15.0_Ultimate_MES170309-01_TR170513-002.part1.exe download file be\n"
     ]
    },
    {
     "name": "stderr",
     "output_type": "stream",
     "text": [
      " 76%|███████▌  | 10088/13309 [09:47<03:31, 15.25it/s]"
     ]
    },
    {
     "name": "stdout",
     "output_type": "stream",
     "text": [
      "vikas<br><br>Attach File : <a href='http://csupload.cyberlink.com/upload-file/support/cs/2018-11-03/CS001950712/CL_PHOTODIRECTOR_DATA.zip' target=_blank>CL_PHOTODIRECTOR_DATA.zip</a> vikas attach file\n"
     ]
    },
    {
     "name": "stderr",
     "output_type": "stream",
     "text": [
      "\r",
      " 79%|███████▊  | 10470/13309 [09:47<03:05, 15.33it/s]"
     ]
    },
    {
     "name": "stdout",
     "output_type": "stream",
     "text": [
      "vikas<br><br>Attach File : <a href='http://csupload.cyberlink.com/upload-file/support/cs/2019-04-07/CS002010064/CL_PHOTODIRECTOR_DATA.zip' target=_blank>CL_PHOTODIRECTOR_DATA.zip</a> vikas attach file\n"
     ]
    },
    {
     "name": "stderr",
     "output_type": "stream",
     "text": [
      " 76%|███████▌  | 10101/13309 [09:47<03:02, 17.62it/s]"
     ]
    },
    {
     "name": "stdout",
     "output_type": "stream",
     "text": [
      "Photos gone from software. photo go from\n"
     ]
    },
    {
     "name": "stderr",
     "output_type": "stream",
     "text": [
      " 68%|██████▊   | 9033/13309 [09:48<05:10, 13.79it/s]]"
     ]
    },
    {
     "name": "stdout",
     "output_type": "stream",
     "text": [
      "superb<br><br>Attach File : <a href='http://csupload.cyberlink.com/upload-file/support/cs/2018-09-06/CS001931318/CL_PHOTODIRECTOR_DATA.zip' target=_blank>CL_PHOTODIRECTOR_DATA.zip</a> superb attach file\n"
     ]
    },
    {
     "name": "stderr",
     "output_type": "stream",
     "text": [
      " 70%|███████   | 9375/13315 [09:49<04:14, 15.51it/s]]"
     ]
    },
    {
     "name": "stdout",
     "output_type": "stream",
     "text": [
      "NEED HELP DOWNLOADING PROGRAM. need help download\n"
     ]
    },
    {
     "name": "stderr",
     "output_type": "stream",
     "text": [
      " 63%|██████▎   | 8417/13309 [09:49<04:32, 17.92it/s]]"
     ]
    },
    {
     "name": "stdout",
     "output_type": "stream",
     "text": [
      "﻿<html><p dir=\"ltr\"> Selviselvisabasan <a href=\"mailto:49@mil.com\"> 49@mil.com</a> <br> </p>   </html><br/>﻿ selviselvisabasan\n"
     ]
    },
    {
     "name": "stderr",
     "output_type": "stream",
     "text": [
      " 68%|██████▊   | 9086/13309 [09:50<07:19,  9.60it/s]]"
     ]
    },
    {
     "name": "stdout",
     "output_type": "stream",
     "text": [
      "﻿<html><div dir=\"auto\"> Please refund me</div>   </html><br/>﻿ please refund me\n"
     ]
    },
    {
     "name": "stderr",
     "output_type": "stream",
     "text": [
      " 68%|██████▊   | 9067/13309 [09:51<06:14, 11.31it/s]]"
     ]
    },
    {
     "name": "stdout",
     "output_type": "stream",
     "text": [
      "vivencioladao3@gmail.com <br><br>Attach File : <a href='http://csupload.cyberlink.com/upload-file/support/cs/2019-05-05/CS002018489/DeviceInfo.txt' target=_blank>DeviceInfo.txt</a> attach file\n"
     ]
    },
    {
     "name": "stderr",
     "output_type": "stream",
     "text": [
      " 68%|██████▊   | 9071/13309 [09:51<05:57, 11.87it/s]]"
     ]
    },
    {
     "name": "stdout",
     "output_type": "stream",
     "text": [
      "Crash<br><br>Attach File : <a href='http://csupload.cyberlink.com/upload-file/support/cs/2018-05-16/CS001890939/feedback_data.zip' target=_blank>feedback_data.zip</a> crash attach file\n",
      " <br><br>Attach File : <a href='http://csupload.cyberlink.com/upload-file/support/cs/2019-03-17/CS002001490/CL_PHOTODIRECTOR_DATA.zip' target=_blank>CL_PHOTODIRECTOR_DATA.zip</a> attach file\n"
     ]
    },
    {
     "name": "stderr",
     "output_type": "stream",
     "text": [
      " 77%|███████▋  | 10209/13309 [09:53<02:54, 17.78it/s]"
     ]
    },
    {
     "name": "stdout",
     "output_type": "stream",
     "text": [
      "﻿<html><p dir=\"ltr\"> samponey i10 mobile</p>   </html><br/>﻿ samponey i mobile\n"
     ]
    },
    {
     "name": "stderr",
     "output_type": "stream",
     "text": [
      " 64%|██████▍   | 8505/13309 [09:54<03:08, 25.44it/s]]"
     ]
    },
    {
     "name": "stdout",
     "output_type": "stream",
     "text": [
      "gffgh<br><br>Attach File : <a href='http://csupload.cyberlink.com/upload-file/support/cs/2019-01-04/CS001976389/CL_PHOTODIRECTOR_DATA.zip' target=_blank>CL_PHOTODIRECTOR_DATA.zip</a> gffgh attach file\n"
     ]
    },
    {
     "name": "stderr",
     "output_type": "stream",
     "text": [
      " 64%|██████▍   | 8508/13309 [09:54<03:31, 22.74it/s]]"
     ]
    },
    {
     "name": "stdout",
     "output_type": "stream",
     "text": [
      "ggh<br><br>Attach File : <a href='http://csupload.cyberlink.com/upload-file/support/cs/2019-03-26/CS002006624/CL_PHOTODIRECTOR_DATA.zip' target=_blank>CL_PHOTODIRECTOR_DATA.zip</a> ggh attach file\n"
     ]
    },
    {
     "name": "stderr",
     "output_type": "stream",
     "text": [
      " 75%|███████▌  | 9983/13309 [09:54<02:37, 21.17it/s]]"
     ]
    },
    {
     "name": "stdout",
     "output_type": "stream",
     "text": [
      "ghgghg<br><br>Attach File : <a href='http://csupload.cyberlink.com/upload-file/support/cs/2018-11-12/CS001953980/CL_PHOTODIRECTOR_DATA.zip' target=_blank>CL_PHOTODIRECTOR_DATA.zip</a> ghgghg attach file\n"
     ]
    },
    {
     "name": "stderr",
     "output_type": "stream",
     "text": [
      " 77%|███████▋  | 10232/13309 [09:54<02:40, 19.23it/s]"
     ]
    },
    {
     "name": "stdout",
     "output_type": "stream",
     "text": [
      "ghsbd<br><br>Attach File : <a href='http://csupload.cyberlink.com/upload-file/support/cs/2019-07-08/CS002036166/CL_PHOTODIRECTOR_DATA.zip' target=_blank>CL_PHOTODIRECTOR_DATA.zip</a> ghsbd attach file\n"
     ]
    },
    {
     "name": "stderr",
     "output_type": "stream",
     "text": [
      " 80%|███████▉  | 10607/13309 [09:54<02:31, 17.80it/s]"
     ]
    },
    {
     "name": "stdout",
     "output_type": "stream",
     "text": [
      "Give<br><br>Attach File : <a href='http://csupload.cyberlink.com/upload-file/support/cs/2019-07-10/CS002036925/CL_PHOTODIRECTOR_DATA.zip' target=_blank>CL_PHOTODIRECTOR_DATA.zip</a> give attach file\n"
     ]
    },
    {
     "name": "stderr",
     "output_type": "stream",
     "text": [
      " 69%|██████▉   | 9159/13309 [09:54<06:03, 11.43it/s]]"
     ]
    },
    {
     "name": "stdout",
     "output_type": "stream",
     "text": [
      "goo<br><br>Attach File : <a href='http://csupload.cyberlink.com/upload-file/support/cs/2019-07-12/CS002037807/CL_PHOTODIRECTOR_DATA.zip' target=_blank>CL_PHOTODIRECTOR_DATA.zip</a> goo attach file\n"
     ]
    },
    {
     "name": "stderr",
     "output_type": "stream",
     "text": [
      " 69%|██████▊   | 9120/13309 [09:55<05:36, 12.44it/s]]"
     ]
    },
    {
     "name": "stdout",
     "output_type": "stream",
     "text": [
      "﻿<html><div dir=\"auto\"> Nyc aaps&nbsp;</div>   </html><br/>﻿ nyc aaps nbsp\n"
     ]
    },
    {
     "name": "stderr",
     "output_type": "stream",
     "text": [
      " 64%|██████▍   | 8523/13309 [09:55<03:56, 20.26it/s]]"
     ]
    },
    {
     "name": "stdout",
     "output_type": "stream",
     "text": [
      "﻿<html><div dir=\"auto\"> Nyc achievment</div>   </html><br/>﻿ nyc achievment\n"
     ]
    },
    {
     "name": "stderr",
     "output_type": "stream",
     "text": [
      " 80%|███████▉  | 10631/13309 [09:56<02:21, 18.91it/s]"
     ]
    },
    {
     "name": "stdout",
     "output_type": "stream",
     "text": [
      "ASKNET.COMT/APANDASEC KARSLRUHE      Foreign Currency karslruhe foreign currency\n"
     ]
    },
    {
     "name": "stderr",
     "output_type": "stream",
     "text": [
      " 64%|██████▍   | 8561/13309 [09:57<05:19, 14.85it/s]]"
     ]
    },
    {
     "name": "stdout",
     "output_type": "stream",
     "text": [
      "nice<br><br>Attach File : <a href='http://csupload.cyberlink.com/upload-file/support/cs/2019-03-10/CS001999383/DeviceInfo.txt' target=_blank>DeviceInfo.txt</a> nice attach file\n"
     ]
    },
    {
     "name": "stderr",
     "output_type": "stream",
     "text": [
      " 71%|███████▏  | 9505/13315 [09:58<04:00, 15.82it/s]]"
     ]
    },
    {
     "name": "stdout",
     "output_type": "stream",
     "text": [
      "﻿<html><div dir=\"ltr\"> <br> </div>   </html><br/>﻿ \n"
     ]
    },
    {
     "name": "stderr",
     "output_type": "stream",
     "text": [
      " 69%|██████▉   | 9221/13309 [09:58<04:15, 16.01it/s]]"
     ]
    },
    {
     "name": "stdout",
     "output_type": "stream",
     "text": [
      "    <br><br>Attach File : <a href='http://csupload.cyberlink.com/upload-file/support/cs/2018-12-20/CS001968596/CL_LOGCAT_DATA.zip' target=_blank>CL_LOGCAT_DATA.zip</a> attach file\n"
     ]
    },
    {
     "name": "stderr",
     "output_type": "stream",
     "text": [
      " 80%|████████  | 10673/13309 [09:58<02:40, 16.47it/s]"
     ]
    },
    {
     "name": "stdout",
     "output_type": "stream",
     "text": [
      "  <br><br>Attach File : <a href='http://csupload.cyberlink.com/upload-file/support/cs/2019-05-23/CS002023841/CL_LOGCAT_DATA.zip' target=_blank>CL_LOGCAT_DATA.zip</a> attach file\n"
     ]
    },
    {
     "name": "stderr",
     "output_type": "stream",
     "text": [
      "\r",
      " 76%|███████▌  | 10069/13309 [09:58<02:29, 21.66it/s]"
     ]
    },
    {
     "name": "stdout",
     "output_type": "stream",
     "text": [
      " <br><br>Attach File : <a href='http://csupload.cyberlink.com/upload-file/support/cs/2019-02-24/CS001994501/CL_LOGCAT_DATA.zip' target=_blank>CL_LOGCAT_DATA.zip</a> attach file\n"
     ]
    },
    {
     "name": "stderr",
     "output_type": "stream",
     "text": [
      " 69%|██████▉   | 9153/13309 [09:58<07:05,  9.77it/s]]"
     ]
    },
    {
     "name": "stdout",
     "output_type": "stream",
     "text": [
      " camra<br><br>Attach File : <a href='http://csupload.cyberlink.com/upload-file/support/cs/2019-03-25/CS002005641/CL_LOGCAT_DATA.zip' target=_blank>CL_LOGCAT_DATA.zip</a> camra attach file\n"
     ]
    },
    {
     "name": "stderr",
     "output_type": "stream",
     "text": [
      " 80%|████████  | 10678/13309 [09:58<02:33, 17.15it/s]"
     ]
    },
    {
     "name": "stdout",
     "output_type": "stream",
     "text": [
      " hi <br><br>Attach File : <a href='http://csupload.cyberlink.com/upload-file/support/cs/2019-05-13/CS002020877/CL_LOGCAT_DATA.zip' target=_blank>CL_LOGCAT_DATA.zip</a> hi attach file\n"
     ]
    },
    {
     "name": "stderr",
     "output_type": "stream",
     "text": [
      " 76%|███████▌  | 10089/13309 [09:59<04:03, 13.22it/s]"
     ]
    },
    {
     "name": "stdout",
     "output_type": "stream",
     "text": [
      " <br><br>Attach File : <a href='http://csupload.cyberlink.com/upload-file/support/cs/2018-12-31/CS001974835/CL_PHOTODIRECTOR_DATA.zip' target=_blank>CL_PHOTODIRECTOR_DATA.zip</a> attach file\n"
     ]
    },
    {
     "name": "stderr",
     "output_type": "stream",
     "text": [
      " 69%|██████▉   | 9191/13309 [10:01<07:33,  9.09it/s]]"
     ]
    },
    {
     "name": "stdout",
     "output_type": "stream",
     "text": [
      "﻿<html><p dir=\"ltr\"> Request for refund</p>   </html><br/>﻿ request for refund\n"
     ]
    },
    {
     "name": "stderr",
     "output_type": "stream",
     "text": [
      " 76%|███████▌  | 10102/13309 [10:01<08:05,  6.61it/s]"
     ]
    },
    {
     "name": "stdout",
     "output_type": "stream",
     "text": [
      "﻿<html><p dir=\"ltr\"> S3 sumsung galaxy </p>   </html><br/>﻿ s sumsung galaxy\n"
     ]
    },
    {
     "name": "stderr",
     "output_type": "stream",
     "text": [
      " 72%|███████▏  | 9562/13315 [10:03<05:02, 12.39it/s]]"
     ]
    },
    {
     "name": "stdout",
     "output_type": "stream",
     "text": [
      "test<br><br>Attach File : <a href='http://csupload.cyberlink.com/upload-file/support/cs/2018-12-17/CS001966562/CL_LOGCAT_DATA.zip' target=_blank>CL_LOGCAT_DATA.zip</a> test attach file\n"
     ]
    },
    {
     "name": "stderr",
     "output_type": "stream",
     "text": [
      " 81%|████████  | 10745/13309 [10:03<03:05, 13.85it/s]"
     ]
    },
    {
     "name": "stdout",
     "output_type": "stream",
     "text": [
      "thanks<br><br>Attach File : <a href='http://csupload.cyberlink.com/upload-file/support/cs/2018-05-03/CS001886294/CL_LOGCAT_DATA.zip' target=_blank>CL_LOGCAT_DATA.zip</a> thanks attach file\n"
     ]
    },
    {
     "name": "stderr",
     "output_type": "stream",
     "text": [
      " 78%|███████▊  | 10409/13309 [10:06<03:46, 12.80it/s]"
     ]
    },
    {
     "name": "stdout",
     "output_type": "stream",
     "text": [
      "تتتتت<br><br>Attach File : <a href='http://csupload.cyberlink.com/upload-file/support/cs/2019-03-19/CS002002171/CL_PHOTODIRECTOR_DATA.zip' target=_blank>CL_PHOTODIRECTOR_DATA.zip</a> attach file\n"
     ]
    },
    {
     "name": "stderr",
     "output_type": "stream",
     "text": [
      " 70%|██████▉   | 9270/13309 [10:07<05:24, 12.46it/s]]"
     ]
    },
    {
     "name": "stdout",
     "output_type": "stream",
     "text": [
      "ra<br><br>Attach File : <a href='http://csupload.cyberlink.com/upload-file/support/cs/2019-02-20/CS001992978/CL_PHOTODIRECTOR_DATA.zip' target=_blank>CL_PHOTODIRECTOR_DATA.zip</a> ra attach file\n"
     ]
    },
    {
     "name": "stderr",
     "output_type": "stream",
     "text": [
      " 76%|███████▋  | 10162/13309 [10:07<02:45, 19.06it/s]"
     ]
    },
    {
     "name": "stdout",
     "output_type": "stream",
     "text": [
      "Ramudu <br><br>Attach File : <a href='http://csupload.cyberlink.com/upload-file/support/cs/2019-07-03/CS002034800/CL_PHOTODIRECTOR_DATA.zip' target=_blank>CL_PHOTODIRECTOR_DATA.zip</a> ramudu attach file\n"
     ]
    },
    {
     "name": "stderr",
     "output_type": "stream",
     "text": [
      " 65%|██████▌   | 8707/13309 [10:07<06:17, 12.20it/s]"
     ]
    },
    {
     "name": "stdout",
     "output_type": "stream",
     "text": [
      "Rashed<br><br>Attach File : <a href='http://csupload.cyberlink.com/upload-file/support/cs/2018-09-09/CS001932155/CL_PHOTODIRECTOR_DATA.zip' target=_blank>CL_PHOTODIRECTOR_DATA.zip</a> rashed attach file\n"
     ]
    },
    {
     "name": "stderr",
     "output_type": "stream",
     "text": [
      " 81%|████████▏ | 10824/13309 [10:07<01:53, 21.91it/s]"
     ]
    },
    {
     "name": "stdout",
     "output_type": "stream",
     "text": [
      "mast<br><br>Attach File : <a href='http://csupload.cyberlink.com/upload-file/support/cs/2018-08-18/CS001924850/DeviceInfo.txt' target=_blank>DeviceInfo.txt</a> mast attach file\n"
     ]
    },
    {
     "name": "stderr",
     "output_type": "stream",
     "text": [
      " 78%|███████▊  | 10425/13309 [10:08<04:01, 11.95it/s]"
     ]
    },
    {
     "name": "stdout",
     "output_type": "stream",
     "text": [
      "maruthi <br><br>Attach File : <a href='http://csupload.cyberlink.com/upload-file/support/cs/2019-06-30/CS002033834/DeviceInfo.txt' target=_blank>DeviceInfo.txt</a> maruthi attach file\n"
     ]
    },
    {
     "name": "stderr",
     "output_type": "stream",
     "text": [
      " 65%|██████▌   | 8715/13309 [10:08<07:02, 10.87it/s]]"
     ]
    },
    {
     "name": "stdout",
     "output_type": "stream",
     "text": [
      "reply@facebookmail.com<br><br>Attach File : <a href='http://csupload.cyberlink.com/upload-file/support/cs/2018-12-17/CS001967030/CL_PHOTODIRECTOR_DATA.zip' target=_blank>CL_PHOTODIRECTOR_DATA.zip</a> attach file\n"
     ]
    },
    {
     "name": "stderr",
     "output_type": "stream",
     "text": [
      " 68%|██████▊   | 9018/13309 [10:08<06:06, 11.71it/s]]"
     ]
    },
    {
     "name": "stdout",
     "output_type": "stream",
     "text": [
      "s<br><br>Attach File : <a href='http://csupload.cyberlink.com/upload-file/support/cs/2019-04-17/CS002013278/CL_PHOTODIRECTOR_DATA.zip' target=_blank>CL_PHOTODIRECTOR_DATA.zip</a> s attach file\n"
     ]
    },
    {
     "name": "stderr",
     "output_type": "stream",
     "text": [
      " 65%|██████▌   | 8717/13309 [10:08<06:20, 12.06it/s]]"
     ]
    },
    {
     "name": "stdout",
     "output_type": "stream",
     "text": [
      "sadap <br><br>Attach File : <a href='http://csupload.cyberlink.com/upload-file/support/cs/2018-11-18/CS001955800/CL_PHOTODIRECTOR_DATA.zip' target=_blank>CL_PHOTODIRECTOR_DATA.zip</a> sadap attach file\n"
     ]
    },
    {
     "name": "stderr",
     "output_type": "stream",
     "text": [
      " 78%|███████▊  | 10443/13309 [10:08<02:28, 19.29it/s]"
     ]
    },
    {
     "name": "stdout",
     "output_type": "stream",
     "text": [
      "sanjoydebnath9800@gmail.com<br><br>Attach File : <a href='http://csupload.cyberlink.com/upload-file/support/cs/2018-10-22/CS001946557/CL_PHOTODIRECTOR_DATA.zip' target=_blank>CL_PHOTODIRECTOR_DATA.zip</a> attach file\n"
     ]
    },
    {
     "name": "stderr",
     "output_type": "stream",
     "text": [
      " 70%|██████▉   | 9285/13309 [10:08<05:25, 12.36it/s]]"
     ]
    },
    {
     "name": "stdout",
     "output_type": "stream",
     "text": [
      "sbbd<br><br>Attach File : <a href='http://csupload.cyberlink.com/upload-file/support/cs/2019-04-25/CS002015720/CL_PHOTODIRECTOR_DATA.zip' target=_blank>CL_PHOTODIRECTOR_DATA.zip</a> sbbd attach file\n"
     ]
    },
    {
     "name": "stderr",
     "output_type": "stream",
     "text": [
      " 70%|███████   | 9378/13309 [10:09<05:35, 11.73it/s]]"
     ]
    },
    {
     "name": "stdout",
     "output_type": "stream",
     "text": [
      "shamim<br><br>Attach File : <a href='http://csupload.cyberlink.com/upload-file/support/cs/2018-11-27/CS001959394/CL_PHOTODIRECTOR_DATA.zip' target=_blank>CL_PHOTODIRECTOR_DATA.zip</a> shamim attach file\n"
     ]
    },
    {
     "name": "stderr",
     "output_type": "stream",
     "text": [
      " 77%|███████▋  | 10213/13309 [10:09<02:05, 24.73it/s]"
     ]
    },
    {
     "name": "stdout",
     "output_type": "stream",
     "text": [
      "snanasbh<br><br>Attach File : <a href='http://csupload.cyberlink.com/upload-file/support/cs/2018-09-13/CS001933782/CL_PHOTODIRECTOR_DATA.zip' target=_blank>CL_PHOTODIRECTOR_DATA.zip</a> snanasbh attach file\n"
     ]
    },
    {
     "name": "stderr",
     "output_type": "stream",
     "text": [
      " 70%|██████▉   | 9301/13309 [10:10<05:29, 12.16it/s]]"
     ]
    },
    {
     "name": "stdout",
     "output_type": "stream",
     "text": [
      "sonu<br><br>Attach File : <a href='http://csupload.cyberlink.com/upload-file/support/cs/2019-01-18/CS001981433/CL_PHOTODIRECTOR_DATA.zip' target=_blank>CL_PHOTODIRECTOR_DATA.zip</a> sonu attach file\n"
     ]
    },
    {
     "name": "stderr",
     "output_type": "stream",
     "text": [
      " 79%|███████▊  | 10462/13309 [10:10<03:19, 14.25it/s]"
     ]
    },
    {
     "name": "stdout",
     "output_type": "stream",
     "text": [
      "sonusingh56343@gmail.com<br><br>Attach File : <a href='http://csupload.cyberlink.com/upload-file/support/cs/2019-05-15/CS002021411/CL_PHOTODIRECTOR_DATA.zip' target=_blank>CL_PHOTODIRECTOR_DATA.zip</a> attach file\n"
     ]
    },
    {
     "name": "stderr",
     "output_type": "stream",
     "text": [
      " 72%|███████▏  | 9638/13315 [10:10<08:36,  7.12it/s]]"
     ]
    },
    {
     "name": "stdout",
     "output_type": "stream",
     "text": [
      "sooperb<br><br>Attach File : <a href='http://csupload.cyberlink.com/upload-file/support/cs/2018-07-07/CS001911192/CL_PHOTODIRECTOR_DATA.zip' target=_blank>CL_PHOTODIRECTOR_DATA.zip</a> sooperb attach file\n"
     ]
    },
    {
     "name": "stderr",
     "output_type": "stream",
     "text": [
      " 79%|███████▊  | 10474/13309 [10:10<02:33, 18.49it/s]"
     ]
    },
    {
     "name": "stdout",
     "output_type": "stream",
     "text": [
      "sumon<br><br>Attach File : <a href='http://csupload.cyberlink.com/upload-file/support/cs/2018-09-20/CS001936106/CL_PHOTODIRECTOR_DATA.zip' target=_blank>CL_PHOTODIRECTOR_DATA.zip</a> sumon attach file\n"
     ]
    },
    {
     "name": "stderr",
     "output_type": "stream",
     "text": [
      " 77%|███████▋  | 10238/13309 [10:10<02:43, 18.82it/s]"
     ]
    },
    {
     "name": "stdout",
     "output_type": "stream",
     "text": [
      "supar<br><br>Attach File : <a href='http://csupload.cyberlink.com/upload-file/support/cs/2019-01-26/CS001984153/CL_PHOTODIRECTOR_DATA.zip' target=_blank>CL_PHOTODIRECTOR_DATA.zip</a> supar attach file\n"
     ]
    },
    {
     "name": "stderr",
     "output_type": "stream",
     "text": [
      " 70%|██████▉   | 9309/13309 [10:10<06:41,  9.96it/s]]"
     ]
    },
    {
     "name": "stdout",
     "output_type": "stream",
     "text": [
      "super <br><br>Attach File : <a href='http://csupload.cyberlink.com/upload-file/support/cs/2018-03-16/CS001868900/CL_PHOTODIRECTOR_DATA.zip' target=_blank>CL_PHOTODIRECTOR_DATA.zip</a> super attach file\n"
     ]
    },
    {
     "name": "stderr",
     "output_type": "stream",
     "text": [
      " 82%|████████▏ | 10878/13309 [10:11<02:24, 16.83it/s]"
     ]
    },
    {
     "name": "stdout",
     "output_type": "stream",
     "text": [
      "super <br><br>Attach File : <a href='http://csupload.cyberlink.com/upload-file/support/cs/2018-11-05/CS001951316/CL_PHOTODIRECTOR_DATA.zip' target=_blank>CL_PHOTODIRECTOR_DATA.zip</a> super attach file\n"
     ]
    },
    {
     "name": "stderr",
     "output_type": "stream",
     "text": [
      " 66%|██████▌   | 8757/13309 [10:11<05:19, 14.27it/s]"
     ]
    },
    {
     "name": "stdout",
     "output_type": "stream",
     "text": [
      "super <br><br>Attach File : <a href='http://csupload.cyberlink.com/upload-file/support/cs/2018-11-23/CS001957626/CL_PHOTODIRECTOR_DATA.zip' target=_blank>CL_PHOTODIRECTOR_DATA.zip</a> super attach file\n"
     ]
    },
    {
     "name": "stderr",
     "output_type": "stream",
     "text": [
      " 71%|███████   | 9408/13309 [10:11<03:28, 18.72it/s]]"
     ]
    },
    {
     "name": "stdout",
     "output_type": "stream",
     "text": [
      "﻿<!DOCTYPE HTML PUBLIC \"-//W3C//DTD HTML 3.2//EN\">   <HTML>   <HEAD>   <META NAME=\"Generator\" CONTENT=\"MS Exchange Server version 08.00.0681.000\">   <TITLE> </TITLE>   </HEAD>   <BODY>   <!-- Converted from text/plain format -->   <BR>   <BR>     </BODY>   </HTML> <br/>﻿ \n"
     ]
    },
    {
     "name": "stderr",
     "output_type": "stream",
     "text": [
      " 82%|████████▏ | 10881/13309 [10:11<02:15, 17.89it/s]"
     ]
    },
    {
     "name": "stdout",
     "output_type": "stream",
     "text": [
      "super <br><br>Attach File : <a href='http://csupload.cyberlink.com/upload-file/support/cs/2019-01-05/CS001976748/CL_PHOTODIRECTOR_DATA.zip' target=_blank>CL_PHOTODIRECTOR_DATA.zip</a> super attach file\n",
      "https://www.dropbox.com/s/ml3k8uyevwrh2rs/Capture_20180915121546.mp4?dl=0 \n"
     ]
    },
    {
     "name": "stderr",
     "output_type": "stream",
     "text": [
      " 68%|██████▊   | 9054/13309 [10:11<04:48, 14.74it/s]"
     ]
    },
    {
     "name": "stdout",
     "output_type": "stream",
     "text": [
      "Super <br><br>Attach File : <a href='http://csupload.cyberlink.com/upload-file/support/cs/2019-03-04/CS001997135/CL_PHOTODIRECTOR_DATA.zip' target=_blank>CL_PHOTODIRECTOR_DATA.zip</a> super attach file\n",
      "super <br><br>Attach File : <a href='http://csupload.cyberlink.com/upload-file/support/cs/2019-04-18/CS002013600/CL_PHOTODIRECTOR_DATA.zip' target=_blank>CL_PHOTODIRECTOR_DATA.zip</a> super attach file\n"
     ]
    },
    {
     "name": "stderr",
     "output_type": "stream",
     "text": [
      " 70%|███████   | 9323/13309 [10:11<04:37, 14.36it/s]]"
     ]
    },
    {
     "name": "stdout",
     "output_type": "stream",
     "text": [
      "super<br><br>Attach File : <a href='http://csupload.cyberlink.com/upload-file/support/cs/2018-01-27/CS001850387/CL_PHOTODIRECTOR_DATA.zip' target=_blank>CL_PHOTODIRECTOR_DATA.zip</a> super attach file\n"
     ]
    },
    {
     "name": "stderr",
     "output_type": "stream",
     "text": [
      " 82%|████████▏ | 10898/13309 [10:12<01:58, 20.29it/s]"
     ]
    },
    {
     "name": "stdout",
     "output_type": "stream",
     "text": [
      "super<br><br>Attach File : <a href='http://csupload.cyberlink.com/upload-file/support/cs/2018-02-19/CS001859232/CL_PHOTODIRECTOR_DATA.zip' target=_blank>CL_PHOTODIRECTOR_DATA.zip</a> super attach file\n",
      "super<br><br>Attach File : <a href='http://csupload.cyberlink.com/upload-file/support/cs/2018-08-20/CS001925539/CL_PHOTODIRECTOR_DATA.zip' target=_blank>CL_PHOTODIRECTOR_DATA.zip</a> super attach file\n"
     ]
    },
    {
     "name": "stderr",
     "output_type": "stream",
     "text": [
      " 71%|███████   | 9419/13309 [10:12<04:59, 12.99it/s]]"
     ]
    },
    {
     "name": "stdout",
     "output_type": "stream",
     "text": [
      "super<br><br>Attach File : <a href='http://csupload.cyberlink.com/upload-file/support/cs/2018-11-04/CS001951066/CL_PHOTODIRECTOR_DATA.zip' target=_blank>CL_PHOTODIRECTOR_DATA.zip</a> super attach file\n",
      "super<br><br>Attach File : <a href='http://csupload.cyberlink.com/upload-file/support/cs/2018-11-20/CS001956440/CL_PHOTODIRECTOR_DATA.zip' target=_blank>CL_PHOTODIRECTOR_DATA.zip</a> super attach file\n"
     ]
    },
    {
     "name": "stderr",
     "output_type": "stream",
     "text": [
      " 77%|███████▋  | 10271/13309 [10:12<02:10, 23.20it/s]"
     ]
    },
    {
     "name": "stdout",
     "output_type": "stream",
     "text": [
      "super<br><br>Attach File : <a href='http://csupload.cyberlink.com/upload-file/support/cs/2018-12-07/CS001963453/CL_PHOTODIRECTOR_DATA.zip' target=_blank>CL_PHOTODIRECTOR_DATA.zip</a> super attach file\n"
     ]
    },
    {
     "name": "stderr",
     "output_type": "stream",
     "text": [
      " 71%|███████   | 9421/13309 [10:12<04:53, 13.26it/s]]"
     ]
    },
    {
     "name": "stdout",
     "output_type": "stream",
     "text": [
      "super<br><br>Attach File : <a href='http://csupload.cyberlink.com/upload-file/support/cs/2019-01-21/CS001982368/CL_PHOTODIRECTOR_DATA.zip' target=_blank>CL_PHOTODIRECTOR_DATA.zip</a> super attach file\n"
     ]
    },
    {
     "name": "stderr",
     "output_type": "stream",
     "text": [
      "\r",
      " 79%|███████▉  | 10494/13309 [10:12<03:20, 14.07it/s]"
     ]
    },
    {
     "name": "stdout",
     "output_type": "stream",
     "text": [
      "super<br><br>Attach File : <a href='http://csupload.cyberlink.com/upload-file/support/cs/2019-02-01/CS001986127/CL_PHOTODIRECTOR_DATA.zip' target=_blank>CL_PHOTODIRECTOR_DATA.zip</a> super attach file\n"
     ]
    },
    {
     "name": "stderr",
     "output_type": "stream",
     "text": [
      " 77%|███████▋  | 10274/13309 [10:12<02:28, 20.42it/s]"
     ]
    },
    {
     "name": "stdout",
     "output_type": "stream",
     "text": [
      "super<br><br>Attach File : <a href='http://csupload.cyberlink.com/upload-file/support/cs/2019-02-20/CS001992642/CL_PHOTODIRECTOR_DATA.zip' target=_blank>CL_PHOTODIRECTOR_DATA.zip</a> super attach file\n"
     ]
    },
    {
     "name": "stderr",
     "output_type": "stream",
     "text": [
      " 68%|██████▊   | 9073/13309 [10:12<04:09, 17.00it/s]]"
     ]
    },
    {
     "name": "stdout",
     "output_type": "stream",
     "text": [
      "super<br><br>Attach File : <a href='http://csupload.cyberlink.com/upload-file/support/cs/2019-02-24/CS001994745/CL_PHOTODIRECTOR_DATA.zip' target=_blank>CL_PHOTODIRECTOR_DATA.zip</a> super attach file\n"
     ]
    },
    {
     "name": "stderr",
     "output_type": "stream",
     "text": [
      "\r",
      " 70%|███████   | 9333/13309 [10:12<04:00, 16.51it/s]"
     ]
    },
    {
     "name": "stdout",
     "output_type": "stream",
     "text": [
      "super<br><br>Attach File : <a href='http://csupload.cyberlink.com/upload-file/support/cs/2019-03-24/CS002004660/CL_PHOTODIRECTOR_DATA.zip' target=_blank>CL_PHOTODIRECTOR_DATA.zip</a> super attach file\n"
     ]
    },
    {
     "name": "stderr",
     "output_type": "stream",
     "text": [
      " 73%|███████▎  | 9665/13315 [10:12<04:56, 12.32it/s]]"
     ]
    },
    {
     "name": "stdout",
     "output_type": "stream",
     "text": [
      "super<br><br>Attach File : <a href='http://csupload.cyberlink.com/upload-file/support/cs/2019-04-12/CS002011655/CL_PHOTODIRECTOR_DATA.zip' target=_blank>CL_PHOTODIRECTOR_DATA.zip</a> super attach file\n"
     ]
    },
    {
     "name": "stderr",
     "output_type": "stream",
     "text": [
      "\r",
      " 71%|███████   | 9425/13309 [10:12<04:44, 13.65it/s]"
     ]
    },
    {
     "name": "stdout",
     "output_type": "stream",
     "text": [
      "super<br><br>Attach File : <a href='http://csupload.cyberlink.com/upload-file/support/cs/2019-05-25/CS002024250/CL_PHOTODIRECTOR_DATA.zip' target=_blank>CL_PHOTODIRECTOR_DATA.zip</a> super attach file\n"
     ]
    },
    {
     "name": "stderr",
     "output_type": "stream",
     "text": [
      " 79%|███████▉  | 10501/13309 [10:12<02:45, 16.94it/s]"
     ]
    },
    {
     "name": "stdout",
     "output_type": "stream",
     "text": [
      "superb app......👌<br><br>Attach File : <a href='http://csupload.cyberlink.com/upload-file/support/cs/2018-11-22/CS001957379/CL_PHOTODIRECTOR_DATA.zip' target=_blank>CL_PHOTODIRECTOR_DATA.zip</a> superb attach file\n"
     ]
    },
    {
     "name": "stderr",
     "output_type": "stream",
     "text": [
      " 79%|███████▉  | 10504/13309 [10:12<02:32, 18.33it/s]"
     ]
    },
    {
     "name": "stdout",
     "output_type": "stream",
     "text": [
      "superb App..<br><br>Attach File : <a href='http://csupload.cyberlink.com/upload-file/support/cs/2018-09-14/CS001933948/CL_PHOTODIRECTOR_DATA.zip' target=_blank>CL_PHOTODIRECTOR_DATA.zip</a> superb attach file\n"
     ]
    },
    {
     "name": "stderr",
     "output_type": "stream",
     "text": [
      " 71%|███████   | 9399/13309 [10:16<05:25, 12.03it/s]]"
     ]
    },
    {
     "name": "stdout",
     "output_type": "stream",
     "text": [
      "2ggh<br><br>Attach File : <a href='http://csupload.cyberlink.com/upload-file/support/cs/2018-11-02/CS001950407/feedback_data.zip' target=_blank>feedback_data.zip</a> ggh attach file\n"
     ]
    },
    {
     "name": "stderr",
     "output_type": "stream",
     "text": [
      " 82%|████████▏ | 10956/13309 [10:17<04:20,  9.03it/s]"
     ]
    },
    {
     "name": "stdout",
     "output_type": "stream",
     "text": [
      "7265043697_1_381974001 - call 1 <br><br>Attach File : <a href='http://csupload.cyberlink.com/upload-file/support/cs/2018-01-23/CS001848718/CL_LOGCAT_DATA.zip' target=_blank>CL_LOGCAT_DATA.zip</a> call attach file\n"
     ]
    },
    {
     "name": "stderr",
     "output_type": "stream",
     "text": [
      " 66%|██████▋   | 8840/13309 [10:17<04:49, 15.43it/s]]"
     ]
    },
    {
     "name": "stdout",
     "output_type": "stream",
     "text": [
      "activation limit activation limit\n"
     ]
    },
    {
     "name": "stderr",
     "output_type": "stream",
     "text": [
      " 73%|███████▎  | 9744/13315 [10:19<05:12, 11.42it/s]]"
     ]
    },
    {
     "name": "stdout",
     "output_type": "stream",
     "text": [
      "TM797734441396J5 tm j\n"
     ]
    },
    {
     "name": "stderr",
     "output_type": "stream",
     "text": [
      " 80%|████████  | 10654/13309 [10:21<02:30, 17.65it/s]"
     ]
    },
    {
     "name": "stdout",
     "output_type": "stream",
     "text": [
      "slow<br><br>Attach File : <a href='http://csupload.cyberlink.com/upload-file/support/cs/2019-06-08/CS002027988/CL_LOGCAT_DATA.zip' target=_blank>CL_LOGCAT_DATA.zip</a> slow attach file\n"
     ]
    },
    {
     "name": "stderr",
     "output_type": "stream",
     "text": [
      " 80%|███████▉  | 10600/13309 [10:30<01:26, 31.47it/s]"
     ]
    },
    {
     "name": "stdout",
     "output_type": "stream",
     "text": [
      "﻿<html> <head>     </head>   <body>   </body>   </html>   <br/>﻿<a target='_blank' href=\"http://csupload.cyberlink.com/upload-file/support/ic/20180516/WM1526437265089_20180516_052002.png\">20180516_052002.png</a><br/> \n"
     ]
    },
    {
     "name": "stderr",
     "output_type": "stream",
     "text": [
      " 72%|███████▏  | 9578/13309 [10:30<04:39, 13.34it/s]]"
     ]
    },
    {
     "name": "stdout",
     "output_type": "stream",
     "text": [
      "NOT WORKING not work\n"
     ]
    },
    {
     "name": "stderr",
     "output_type": "stream",
     "text": [
      " 81%|████████  | 10778/13309 [10:32<02:28, 17.10it/s]"
     ]
    },
    {
     "name": "stdout",
     "output_type": "stream",
     "text": [
      "Ticket ID: CS001948659 ticket id c\n"
     ]
    },
    {
     "name": "stderr",
     "output_type": "stream",
     "text": [
      " 68%|██████▊   | 9070/13309 [10:32<04:38, 15.23it/s]]"
     ]
    },
    {
     "name": "stdout",
     "output_type": "stream",
     "text": [
      "language/p2grc.dll is missing be miss\n"
     ]
    },
    {
     "name": "stderr",
     "output_type": "stream",
     "text": [
      " 75%|███████▍  | 9937/13315 [10:33<03:23, 16.56it/s]]"
     ]
    },
    {
     "name": "stdout",
     "output_type": "stream",
     "text": [
      "Follow-up CS001860978. follow up\n"
     ]
    },
    {
     "name": "stderr",
     "output_type": "stream",
     "text": [
      " 74%|███████▍  | 9833/13309 [10:36<03:39, 15.85it/s]]"
     ]
    },
    {
     "name": "stdout",
     "output_type": "stream",
     "text": [
      "hi<br><br>Attach File : <a href='http://csupload.cyberlink.com/upload-file/support/cs/2018-04-18/CS001881117/DeviceInfo.txt' target=_blank>DeviceInfo.txt</a> hi attach file\n"
     ]
    },
    {
     "name": "stderr",
     "output_type": "stream",
     "text": [
      " 69%|██████▊   | 9127/13309 [10:36<06:50, 10.18it/s]]"
     ]
    },
    {
     "name": "stdout",
     "output_type": "stream",
     "text": [
      "hi<br><br>Attach File : <a href='http://csupload.cyberlink.com/upload-file/support/cs/2018-05-26/CS001894367/DeviceInfo.txt' target=_blank>DeviceInfo.txt</a> hi attach file\n",
      "hi<br><br>Attach File : <a href='http://csupload.cyberlink.com/upload-file/support/cs/2018-05-26/CS001894368/DeviceInfo.txt' target=_blank>DeviceInfo.txt</a> hi attach file\n"
     ]
    },
    {
     "name": "stderr",
     "output_type": "stream",
     "text": [
      " 85%|████████▍ | 11252/13309 [10:36<03:34,  9.60it/s]"
     ]
    },
    {
     "name": "stdout",
     "output_type": "stream",
     "text": [
      "hi<br><br>Attach File : <a href='http://csupload.cyberlink.com/upload-file/support/cs/2019-01-20/CS001982020/DeviceInfo.txt' target=_blank>DeviceInfo.txt</a> hi attach file\n"
     ]
    },
    {
     "name": "stderr",
     "output_type": "stream",
     "text": [
      " 70%|███████   | 9376/13309 [10:36<05:51, 11.20it/s]]"
     ]
    },
    {
     "name": "stdout",
     "output_type": "stream",
     "text": [
      "hi<br><br>Attach File : <a href='http://csupload.cyberlink.com/upload-file/support/cs/2019-06-11/CS002028947/DeviceInfo.txt' target=_blank>DeviceInfo.txt</a> hi attach file\n"
     ]
    },
    {
     "name": "stderr",
     "output_type": "stream",
     "text": [
      " 70%|███████   | 9378/13309 [10:36<05:20, 12.27it/s]]"
     ]
    },
    {
     "name": "stdout",
     "output_type": "stream",
     "text": [
      "hii<br><br>Attach File : <a href='http://csupload.cyberlink.com/upload-file/support/cs/2018-12-24/CS001970704/DeviceInfo.txt' target=_blank>DeviceInfo.txt</a> hii attach file\n"
     ]
    },
    {
     "name": "stderr",
     "output_type": "stream",
     "text": [
      " 69%|██████▉   | 9170/13309 [10:39<03:26, 20.05it/s]]"
     ]
    },
    {
     "name": "stdout",
     "output_type": "stream",
     "text": [
      "test <br><br>Attach File : <a href='http://csupload.cyberlink.com/upload-file/support/cs/2018-07-15/CS001913957/CL_LOGCAT_DATA.zip' target=_blank>CL_LOGCAT_DATA.zip</a> test attach file\n"
     ]
    },
    {
     "name": "stderr",
     "output_type": "stream",
     "text": [
      " 74%|███████▍  | 9879/13309 [10:39<04:18, 13.24it/s]]"
     ]
    },
    {
     "name": "stdout",
     "output_type": "stream",
     "text": [
      "nyc <br><br>Attach File : <a href='http://csupload.cyberlink.com/upload-file/support/cs/2018-10-11/CS001942939/CL_PHOTODIRECTOR_DATA.zip' target=_blank>CL_PHOTODIRECTOR_DATA.zip</a> nyc attach file\n"
     ]
    },
    {
     "name": "stderr",
     "output_type": "stream",
     "text": [
      " 82%|████████▏ | 10914/13309 [10:39<02:27, 16.28it/s]"
     ]
    },
    {
     "name": "stdout",
     "output_type": "stream",
     "text": [
      "nyc<br><br>Attach File : <a href='http://csupload.cyberlink.com/upload-file/support/cs/2019-07-04/CS002035077/CL_PHOTODIRECTOR_DATA.zip' target=_blank>CL_PHOTODIRECTOR_DATA.zip</a> nyc attach file\n"
     ]
    },
    {
     "name": "stderr",
     "output_type": "stream",
     "text": [
      " 85%|████████▍ | 11307/13309 [10:39<02:24, 13.85it/s]"
     ]
    },
    {
     "name": "stdout",
     "output_type": "stream",
     "text": [
      "nyc1<br><br>Attach File : <a href='http://csupload.cyberlink.com/upload-file/support/cs/2018-10-11/CS001942841/CL_PHOTODIRECTOR_DATA.zip' target=_blank>CL_PHOTODIRECTOR_DATA.zip</a> nyc attach file\n"
     ]
    },
    {
     "name": "stderr",
     "output_type": "stream",
     "text": [
      " 74%|███████▍  | 9884/13309 [10:39<03:29, 16.31it/s]]"
     ]
    },
    {
     "name": "stdout",
     "output_type": "stream",
     "text": [
      "ok<br><br>Attach File : <a href='http://csupload.cyberlink.com/upload-file/support/cs/2018-10-15/CS001944311/CL_PHOTODIRECTOR_DATA.zip' target=_blank>CL_PHOTODIRECTOR_DATA.zip</a> ok attach file\n"
     ]
    },
    {
     "name": "stderr",
     "output_type": "stream",
     "text": [
      " 85%|████████▍ | 11310/13309 [10:39<02:08, 15.58it/s]"
     ]
    },
    {
     "name": "stdout",
     "output_type": "stream",
     "text": [
      "ok<br><br>Attach File : <a href='http://csupload.cyberlink.com/upload-file/support/cs/2019-03-21/CS002003185/CL_PHOTODIRECTOR_DATA.zip' target=_blank>CL_PHOTODIRECTOR_DATA.zip</a> ok attach file\n"
     ]
    },
    {
     "name": "stderr",
     "output_type": "stream",
     "text": [
      " 82%|████████▏ | 10918/13309 [10:39<02:33, 15.58it/s]"
     ]
    },
    {
     "name": "stdout",
     "output_type": "stream",
     "text": [
      "ok<br><br>Attach File : <a href='http://csupload.cyberlink.com/upload-file/support/cs/2019-05-10/CS002020181/CL_PHOTODIRECTOR_DATA.zip' target=_blank>CL_PHOTODIRECTOR_DATA.zip</a> ok attach file\n"
     ]
    },
    {
     "name": "stderr",
     "output_type": "stream",
     "text": [
      " 74%|███████▍  | 9886/13309 [10:39<03:41, 15.44it/s]"
     ]
    },
    {
     "name": "stdout",
     "output_type": "stream",
     "text": [
      "ok<br><br>Attach File : <a href='http://csupload.cyberlink.com/upload-file/support/cs/2019-06-24/CS002032225/CL_PHOTODIRECTOR_DATA.zip' target=_blank>CL_PHOTODIRECTOR_DATA.zip</a> ok attach file\n"
     ]
    },
    {
     "name": "stderr",
     "output_type": "stream",
     "text": [
      " 73%|███████▎  | 9702/13309 [10:39<04:16, 14.04it/s]]"
     ]
    },
    {
     "name": "stdout",
     "output_type": "stream",
     "text": [
      "ok<br><br>Attach File : <a href='http://csupload.cyberlink.com/upload-file/support/cs/2019-07-15/CS002038946/CL_PHOTODIRECTOR_DATA.zip' target=_blank>CL_PHOTODIRECTOR_DATA.zip</a> ok attach file\n"
     ]
    },
    {
     "name": "stderr",
     "output_type": "stream",
     "text": [
      "\r",
      " 75%|███████▌  | 10032/13315 [10:39<03:18, 16.53it/s]"
     ]
    },
    {
     "name": "stdout",
     "output_type": "stream",
     "text": [
      "okkk<br><br>Attach File : <a href='http://csupload.cyberlink.com/upload-file/support/cs/2019-02-07/CS001988012/CL_PHOTODIRECTOR_DATA.zip' target=_blank>CL_PHOTODIRECTOR_DATA.zip</a> okkk attach file\n"
     ]
    },
    {
     "name": "stderr",
     "output_type": "stream",
     "text": [
      " 75%|███████▌  | 10034/13315 [10:39<03:23, 16.09it/s]"
     ]
    },
    {
     "name": "stdout",
     "output_type": "stream",
     "text": [
      "oo<br><br>Attach File : <a href='http://csupload.cyberlink.com/upload-file/support/cs/2018-12-23/CS001969620/CL_PHOTODIRECTOR_DATA.zip' target=_blank>CL_PHOTODIRECTOR_DATA.zip</a> oo attach file\n"
     ]
    },
    {
     "name": "stderr",
     "output_type": "stream",
     "text": [
      " 74%|███████▍  | 9891/13309 [10:40<03:31, 16.13it/s]]"
     ]
    },
    {
     "name": "stdout",
     "output_type": "stream",
     "text": [
      "open<br><br>Attach File : <a href='http://csupload.cyberlink.com/upload-file/support/cs/2018-10-24/CS001947373/CL_PHOTODIRECTOR_DATA.zip' target=_blank>CL_PHOTODIRECTOR_DATA.zip</a> open attach file\n"
     ]
    },
    {
     "name": "stderr",
     "output_type": "stream",
     "text": [
      " 71%|███████   | 9426/13309 [10:40<05:41, 11.39it/s]]"
     ]
    },
    {
     "name": "stdout",
     "output_type": "stream",
     "text": [
      "osam<br><br>Attach File : <a href='http://csupload.cyberlink.com/upload-file/support/cs/2019-01-08/CS001978139/CL_PHOTODIRECTOR_DATA.zip' target=_blank>CL_PHOTODIRECTOR_DATA.zip</a> osam attach file\n"
     ]
    },
    {
     "name": "stderr",
     "output_type": "stream",
     "text": [
      " 85%|████████▌ | 11319/13309 [10:40<02:26, 13.55it/s]"
     ]
    },
    {
     "name": "stdout",
     "output_type": "stream",
     "text": [
      "osm<br><br>Attach File : <a href='http://csupload.cyberlink.com/upload-file/support/cs/2018-11-25/CS001958495/CL_PHOTODIRECTOR_DATA.zip' target=_blank>CL_PHOTODIRECTOR_DATA.zip</a> osm attach file\n"
     ]
    },
    {
     "name": "stderr",
     "output_type": "stream",
     "text": [
      " 82%|████████▏ | 10855/13309 [10:40<02:05, 19.58it/s]"
     ]
    },
    {
     "name": "stdout",
     "output_type": "stream",
     "text": [
      "installation issues installation issue\n"
     ]
    },
    {
     "name": "stderr",
     "output_type": "stream",
     "text": [
      " 82%|████████▏ | 10936/13309 [10:40<02:10, 18.14it/s]"
     ]
    },
    {
     "name": "stdout",
     "output_type": "stream",
     "text": [
      "osm<br><br>Attach File : <a href='http://csupload.cyberlink.com/upload-file/support/cs/2018-12-02/CS001961306/CL_PHOTODIRECTOR_DATA.zip' target=_blank>CL_PHOTODIRECTOR_DATA.zip</a> osm attach file\n"
     ]
    },
    {
     "name": "stderr",
     "output_type": "stream",
     "text": [
      " 69%|██████▉   | 9196/13309 [10:41<05:36, 12.21it/s]]"
     ]
    },
    {
     "name": "stdout",
     "output_type": "stream",
     "text": [
      "perfect <br><br>Attach File : <a href='http://csupload.cyberlink.com/upload-file/support/cs/2018-11-06/CS001951721/CL_PHOTODIRECTOR_DATA.zip' target=_blank>CL_PHOTODIRECTOR_DATA.zip</a> perfect attach file\n"
     ]
    },
    {
     "name": "stderr",
     "output_type": "stream",
     "text": [
      "\r",
      " 82%|████████▏ | 10946/13309 [10:41<01:59, 19.76it/s]"
     ]
    },
    {
     "name": "stdout",
     "output_type": "stream",
     "text": [
      "Perfect<br><br>Attach File : <a href='http://csupload.cyberlink.com/upload-file/support/cs/2019-04-29/CS002016728/CL_PHOTODIRECTOR_DATA.zip' target=_blank>CL_PHOTODIRECTOR_DATA.zip</a> perfect attach file\n"
     ]
    },
    {
     "name": "stderr",
     "output_type": "stream",
     "text": [
      " 82%|████████▏ | 10952/13309 [10:41<02:13, 17.70it/s]"
     ]
    },
    {
     "name": "stdout",
     "output_type": "stream",
     "text": [
      "photo<br><br>Attach File : <a href='http://csupload.cyberlink.com/upload-file/support/cs/2019-04-30/CS002016935/CL_PHOTODIRECTOR_DATA.zip' target=_blank>CL_PHOTODIRECTOR_DATA.zip</a> photo attach file\n"
     ]
    },
    {
     "name": "stderr",
     "output_type": "stream",
     "text": [
      " 71%|███████   | 9441/13309 [10:41<05:13, 12.33it/s]]"
     ]
    },
    {
     "name": "stdout",
     "output_type": "stream",
     "text": [
      "photo<br><br>Attach File : <a href='http://csupload.cyberlink.com/upload-file/support/cs/2019-04-30/CS002016936/CL_PHOTODIRECTOR_DATA.zip' target=_blank>CL_PHOTODIRECTOR_DATA.zip</a> photo attach file\n"
     ]
    },
    {
     "name": "stderr",
     "output_type": "stream",
     "text": [
      " 85%|████████▌ | 11360/13309 [10:42<03:07, 10.42it/s]"
     ]
    },
    {
     "name": "stdout",
     "output_type": "stream",
     "text": [
      "pls<br><br>Attach File : <a href='http://csupload.cyberlink.com/upload-file/support/cs/2018-10-28/CS001948590/CL_PHOTODIRECTOR_DATA.zip' target=_blank>CL_PHOTODIRECTOR_DATA.zip</a> pls attach file\n"
     ]
    },
    {
     "name": "stderr",
     "output_type": "stream",
     "text": [
      "\r",
      " 76%|███████▌  | 10068/13315 [10:42<03:33, 15.22it/s]"
     ]
    },
    {
     "name": "stdout",
     "output_type": "stream",
     "text": [
      "plz <br><br>Attach File : <a href='http://csupload.cyberlink.com/upload-file/support/cs/2018-09-26/CS001937836/CL_PHOTODIRECTOR_DATA.zip' target=_blank>CL_PHOTODIRECTOR_DATA.zip</a> plz attach file\n"
     ]
    },
    {
     "name": "stderr",
     "output_type": "stream",
     "text": [
      " 85%|████████▌ | 11365/13309 [10:43<02:21, 13.73it/s]"
     ]
    },
    {
     "name": "stdout",
     "output_type": "stream",
     "text": [
      "plz<br><br>Attach File : <a href='http://csupload.cyberlink.com/upload-file/support/cs/2018-07-17/CS001914720/CL_PHOTODIRECTOR_DATA.zip' target=_blank>CL_PHOTODIRECTOR_DATA.zip</a> plz attach file\n"
     ]
    },
    {
     "name": "stderr",
     "output_type": "stream",
     "text": [
      "\r",
      " 82%|████████▏ | 10974/13309 [10:43<02:39, 14.67it/s]"
     ]
    },
    {
     "name": "stdout",
     "output_type": "stream",
     "text": [
      "buffer overrun error buffer overrun error\n"
     ]
    },
    {
     "name": "stderr",
     "output_type": "stream",
     "text": [
      " 71%|███████   | 9459/13309 [10:42<04:19, 14.86it/s]]"
     ]
    },
    {
     "name": "stdout",
     "output_type": "stream",
     "text": [
      "Plz<br><br>Attach File : <a href='http://csupload.cyberlink.com/upload-file/support/cs/2018-11-01/CS001950031/CL_PHOTODIRECTOR_DATA.zip' target=_blank>CL_PHOTODIRECTOR_DATA.zip</a> plz attach file\n",
      "plzz<br><br>Attach File : <a href='http://csupload.cyberlink.com/upload-file/support/cs/2019-03-08/CS001998662/CL_PHOTODIRECTOR_DATA.zip' target=_blank>CL_PHOTODIRECTOR_DATA.zip</a> plzz attach file\n"
     ]
    },
    {
     "name": "stderr",
     "output_type": "stream",
     "text": [
      "\r",
      " 75%|███████▍  | 9935/13309 [10:43<04:14, 13.26it/s]"
     ]
    },
    {
     "name": "stdout",
     "output_type": "stream",
     "text": [
      "poor<br><br>Attach File : <a href='http://csupload.cyberlink.com/upload-file/support/cs/2018-10-12/CS001943247/CL_PHOTODIRECTOR_DATA.zip' target=_blank>CL_PHOTODIRECTOR_DATA.zip</a> poor attach file\n"
     ]
    },
    {
     "name": "stderr",
     "output_type": "stream",
     "text": [
      " 82%|████████▏ | 10976/13309 [10:43<02:40, 14.53it/s]"
     ]
    },
    {
     "name": "stdout",
     "output_type": "stream",
     "text": [
      "prakash <br><br>Attach File : <a href='http://csupload.cyberlink.com/upload-file/support/cs/2018-02-01/CS001852321/CL_PHOTODIRECTOR_DATA.zip' target=_blank>CL_PHOTODIRECTOR_DATA.zip</a> prakash attach file\n"
     ]
    },
    {
     "name": "stderr",
     "output_type": "stream",
     "text": [
      " 69%|██████▉   | 9243/13309 [10:43<03:39, 18.52it/s]]"
     ]
    },
    {
     "name": "stdout",
     "output_type": "stream",
     "text": [
      "HELP help\n"
     ]
    },
    {
     "name": "stderr",
     "output_type": "stream",
     "text": [
      " 69%|██████▉   | 9246/13309 [10:43<04:57, 13.66it/s]]"
     ]
    },
    {
     "name": "stdout",
     "output_type": "stream",
     "text": [
      "Unable to download DS6. unable to download\n"
     ]
    },
    {
     "name": "stderr",
     "output_type": "stream",
     "text": [
      " 70%|██████▉   | 9251/13309 [10:43<03:59, 16.92it/s]]"
     ]
    },
    {
     "name": "stdout",
     "output_type": "stream",
     "text": [
      "Unable to install  unable to install\n"
     ]
    },
    {
     "name": "stderr",
     "output_type": "stream",
     "text": [
      " 83%|████████▎ | 11026/13309 [10:45<02:15, 16.85it/s]"
     ]
    },
    {
     "name": "stdout",
     "output_type": "stream",
     "text": [
      "https://drive.google.com/file/d/1TITguCP5-73xPAj3NWe3_Y9keJBrfqdn/view?usp=sharing \n"
     ]
    },
    {
     "name": "stderr",
     "output_type": "stream",
     "text": [
      " 73%|███████▎  | 9780/13309 [10:45<04:24, 13.37it/s]]"
     ]
    },
    {
     "name": "stdout",
     "output_type": "stream",
     "text": [
      "1-1 issue<br><br>Attach File : <a href='http://csupload.cyberlink.com/upload-file/support/cs/2018-05-09/CS001888404/feedback_data.zip' target=_blank>feedback_data.zip</a> issue attach file\n"
     ]
    },
    {
     "name": "stderr",
     "output_type": "stream",
     "text": [
      " 86%|████████▌ | 11433/13309 [10:46<02:47, 11.22it/s]"
     ]
    },
    {
     "name": "stdout",
     "output_type": "stream",
     "text": [
      "problem problem\n"
     ]
    },
    {
     "name": "stderr",
     "output_type": "stream",
     "text": [
      " 72%|███████▏  | 9575/13309 [10:52<04:01, 15.49it/s]]"
     ]
    },
    {
     "name": "stdout",
     "output_type": "stream",
     "text": [
      "i restore my pc. i restore my\n"
     ]
    },
    {
     "name": "stderr",
     "output_type": "stream",
     "text": [
      " 87%|████████▋ | 11533/13309 [10:53<02:04, 14.31it/s]"
     ]
    },
    {
     "name": "stdout",
     "output_type": "stream",
     "text": [
      "Link notnworking link notnworking\n"
     ]
    },
    {
     "name": "stderr",
     "output_type": "stream",
     "text": [
      " 71%|███████   | 9414/13309 [10:54<04:01, 16.14it/s]]"
     ]
    },
    {
     "name": "stdout",
     "output_type": "stream",
     "text": [
      "activation key exceeds activation key exceeds\n"
     ]
    },
    {
     "name": "stderr",
     "output_type": "stream",
     "text": [
      "\r",
      " 72%|███████▏  | 9616/13309 [10:54<03:49, 16.12it/s]"
     ]
    },
    {
     "name": "stdout",
     "output_type": "stream",
     "text": [
      "HELP help\n"
     ]
    },
    {
     "name": "stderr",
     "output_type": "stream",
     "text": [
      " 71%|███████   | 9420/13309 [10:54<03:26, 18.83it/s]]"
     ]
    },
    {
     "name": "stdout",
     "output_type": "stream",
     "text": [
      "I need pasword i need pasword\n"
     ]
    },
    {
     "name": "stderr",
     "output_type": "stream",
     "text": [
      " 84%|████████▎ | 11133/13309 [10:55<02:43, 13.33it/s]"
     ]
    },
    {
     "name": "stdout",
     "output_type": "stream",
     "text": [
      "reset my password reset my password\n"
     ]
    },
    {
     "name": "stderr",
     "output_type": "stream",
     "text": [
      " 75%|███████▍  | 9935/13309 [10:56<03:09, 17.76it/s]]"
     ]
    },
    {
     "name": "stdout",
     "output_type": "stream",
     "text": [
      "Youcan.perfect.unblock    \n"
     ]
    },
    {
     "name": "stderr",
     "output_type": "stream",
     "text": [
      " 84%|████████▍ | 11235/13309 [10:58<01:56, 17.73it/s]"
     ]
    },
    {
     "name": "stdout",
     "output_type": "stream",
     "text": [
      "cant change password cant change password\n"
     ]
    },
    {
     "name": "stderr",
     "output_type": "stream",
     "text": [
      " 87%|████████▋ | 11618/13309 [10:58<01:54, 14.81it/s]"
     ]
    },
    {
     "name": "stdout",
     "output_type": "stream",
     "text": [
      "אני צריכה לדעת את הסיסמא שלי למייל \n"
     ]
    },
    {
     "name": "stderr",
     "output_type": "stream",
     "text": [
      " 85%|████████▍ | 11253/13309 [10:59<02:03, 16.60it/s]"
     ]
    },
    {
     "name": "stdout",
     "output_type": "stream",
     "text": [
      "Unable to download  unable to download\n"
     ]
    },
    {
     "name": "stderr",
     "output_type": "stream",
     "text": [
      " 85%|████████▍ | 11257/13309 [10:59<02:40, 12.75it/s]"
     ]
    },
    {
     "name": "stdout",
     "output_type": "stream",
     "text": [
      "Unable to upgrade  unable to upgrade\n"
     ]
    },
    {
     "name": "stderr",
     "output_type": "stream",
     "text": [
      " 77%|███████▋  | 10227/13309 [11:02<02:40, 19.15it/s]"
     ]
    },
    {
     "name": "stdout",
     "output_type": "stream",
     "text": [
      "where where\n"
     ]
    },
    {
     "name": "stderr",
     "output_type": "stream",
     "text": [
      " 85%|████████▍ | 11252/13309 [11:02<02:07, 16.16it/s]"
     ]
    },
    {
     "name": "stdout",
     "output_type": "stream",
     "text": [
      "need help instaliing need help instaliing\n"
     ]
    },
    {
     "name": "stderr",
     "output_type": "stream",
     "text": [
      " 85%|████████▍ | 11299/13309 [11:05<01:50, 18.24it/s]"
     ]
    },
    {
     "name": "stdout",
     "output_type": "stream",
     "text": [
      "need soft ware need soft ware\n"
     ]
    },
    {
     "name": "stderr",
     "output_type": "stream",
     "text": [
      " 73%|███████▎  | 9757/13309 [11:07<06:24,  9.25it/s]]"
     ]
    },
    {
     "name": "stdout",
     "output_type": "stream",
     "text": [
      "Code error 2 code error\n"
     ]
    },
    {
     "name": "stderr",
     "output_type": "stream",
     "text": [
      " 79%|███████▉  | 10573/13315 [11:10<02:24, 19.04it/s]"
     ]
    },
    {
     "name": "stdout",
     "output_type": "stream",
     "text": [
      "Won't download win t download\n"
     ]
    },
    {
     "name": "stderr",
     "output_type": "stream",
     "text": [
      " 73%|███████▎  | 9712/13309 [11:14<04:17, 13.99it/s]]"
     ]
    },
    {
     "name": "stdout",
     "output_type": "stream",
     "text": [
      "Nice app.<br><br>Attach File : <a href='http://csupload.cyberlink.com/upload-file/support/cs/2018-04-22/CS001882112/CL_PHOTODIRECTOR_DATA.zip' target=_blank>CL_PHOTODIRECTOR_DATA.zip</a> nice attach file\n"
     ]
    },
    {
     "name": "stderr",
     "output_type": "stream",
     "text": [
      " 87%|████████▋ | 11534/13309 [11:14<01:37, 18.27it/s]"
     ]
    },
    {
     "name": "stdout",
     "output_type": "stream",
     "text": [
      "Send purchase record send purchase record\n"
     ]
    },
    {
     "name": "stderr",
     "output_type": "stream",
     "text": [
      " 76%|███████▋  | 10177/13309 [11:15<03:12, 16.29it/s]"
     ]
    },
    {
     "name": "stdout",
     "output_type": "stream",
     "text": [
      "nice... ☺☺<br><br>Attach File : <a href='http://csupload.cyberlink.com/upload-file/support/cs/2018-11-29/CS001960060/CL_PHOTODIRECTOR_DATA.zip' target=_blank>CL_PHOTODIRECTOR_DATA.zip</a> attach file\n"
     ]
    },
    {
     "name": "stderr",
     "output_type": "stream",
     "text": [
      " 78%|███████▊  | 10438/13309 [11:15<03:24, 14.01it/s]"
     ]
    },
    {
     "name": "stdout",
     "output_type": "stream",
     "text": [
      "nice<br><br>Attach File : <a href='http://csupload.cyberlink.com/upload-file/support/cs/2018-04-06/CS001876290/CL_PHOTODIRECTOR_DATA.zip' target=_blank>CL_PHOTODIRECTOR_DATA.zip</a> nice attach file\n"
     ]
    },
    {
     "name": "stderr",
     "output_type": "stream",
     "text": [
      " 74%|███████▍  | 9829/13309 [11:15<04:17, 13.49it/s]]"
     ]
    },
    {
     "name": "stdout",
     "output_type": "stream",
     "text": [
      "nice<br><br>Attach File : <a href='http://csupload.cyberlink.com/upload-file/support/cs/2018-04-24/CS001882858/CL_PHOTODIRECTOR_DATA.zip' target=_blank>CL_PHOTODIRECTOR_DATA.zip</a> nice attach file\n"
     ]
    },
    {
     "name": "stderr",
     "output_type": "stream",
     "text": [
      " 89%|████████▉ | 11885/13309 [11:15<01:45, 13.45it/s]"
     ]
    },
    {
     "name": "stdout",
     "output_type": "stream",
     "text": [
      "Nice<br><br>Attach File : <a href='http://csupload.cyberlink.com/upload-file/support/cs/2018-08-09/CS001921932/CL_PHOTODIRECTOR_DATA.zip' target=_blank>CL_PHOTODIRECTOR_DATA.zip</a> nice attach file\n"
     ]
    },
    {
     "name": "stderr",
     "output_type": "stream",
     "text": [
      " 74%|███████▍  | 9832/13309 [11:15<03:36, 16.03it/s]]"
     ]
    },
    {
     "name": "stdout",
     "output_type": "stream",
     "text": [
      "nice<br><br>Attach File : <a href='http://csupload.cyberlink.com/upload-file/support/cs/2018-09-11/CS001932874/CL_PHOTODIRECTOR_DATA.zip' target=_blank>CL_PHOTODIRECTOR_DATA.zip</a> nice attach file\n"
     ]
    },
    {
     "name": "stderr",
     "output_type": "stream",
     "text": [
      "\r",
      " 80%|████████  | 10657/13315 [11:15<02:59, 14.81it/s]"
     ]
    },
    {
     "name": "stdout",
     "output_type": "stream",
     "text": [
      "nice<br><br>Attach File : <a href='http://csupload.cyberlink.com/upload-file/support/cs/2018-09-14/CS001934139/CL_PHOTODIRECTOR_DATA.zip' target=_blank>CL_PHOTODIRECTOR_DATA.zip</a> nice attach file\n"
     ]
    },
    {
     "name": "stderr",
     "output_type": "stream",
     "text": [
      " 78%|███████▊  | 10440/13309 [11:15<04:06, 11.64it/s]"
     ]
    },
    {
     "name": "stdout",
     "output_type": "stream",
     "text": [
      "nice<br><br>Attach File : <a href='http://csupload.cyberlink.com/upload-file/support/cs/2018-09-17/CS001935067/CL_PHOTODIRECTOR_DATA.zip' target=_blank>CL_PHOTODIRECTOR_DATA.zip</a> nice attach file\n"
     ]
    },
    {
     "name": "stderr",
     "output_type": "stream",
     "text": [
      " 74%|███████▍  | 9834/13309 [11:15<04:38, 12.49it/s]]"
     ]
    },
    {
     "name": "stdout",
     "output_type": "stream",
     "text": [
      "nice<br><br>Attach File : <a href='http://csupload.cyberlink.com/upload-file/support/cs/2018-10-10/CS001942633/CL_PHOTODIRECTOR_DATA.zip' target=_blank>CL_PHOTODIRECTOR_DATA.zip</a> nice attach file\n",
      "nice<br><br>Attach File : <a href='http://csupload.cyberlink.com/upload-file/support/cs/2018-10-10/CS001942811/CL_PHOTODIRECTOR_DATA.zip' target=_blank>CL_PHOTODIRECTOR_DATA.zip</a> nice attach file\n"
     ]
    },
    {
     "name": "stderr",
     "output_type": "stream",
     "text": [
      " 80%|████████  | 10661/13315 [11:15<02:52, 15.39it/s]"
     ]
    },
    {
     "name": "stdout",
     "output_type": "stream",
     "text": [
      "nice<br><br>Attach File : <a href='http://csupload.cyberlink.com/upload-file/support/cs/2018-10-12/CS001943224/CL_PHOTODIRECTOR_DATA.zip' target=_blank>CL_PHOTODIRECTOR_DATA.zip</a> nice attach file\n",
      "nice<br><br>Attach File : <a href='http://csupload.cyberlink.com/upload-file/support/cs/2018-10-15/CS001944137/CL_PHOTODIRECTOR_DATA.zip' target=_blank>CL_PHOTODIRECTOR_DATA.zip</a> nice attach file\n"
     ]
    },
    {
     "name": "stderr",
     "output_type": "stream",
     "text": [
      " 87%|████████▋ | 11555/13309 [11:15<01:43, 16.95it/s]"
     ]
    },
    {
     "name": "stdout",
     "output_type": "stream",
     "text": [
      "nice<br><br>Attach File : <a href='http://csupload.cyberlink.com/upload-file/support/cs/2018-10-16/CS001944532/CL_PHOTODIRECTOR_DATA.zip' target=_blank>CL_PHOTODIRECTOR_DATA.zip</a> nice attach file\n"
     ]
    },
    {
     "name": "stderr",
     "output_type": "stream",
     "text": [
      " 77%|███████▋  | 10185/13309 [11:15<03:44, 13.89it/s]"
     ]
    },
    {
     "name": "stdout",
     "output_type": "stream",
     "text": [
      "nice<br><br>Attach File : <a href='http://csupload.cyberlink.com/upload-file/support/cs/2018-10-26/CS001947967/CL_PHOTODIRECTOR_DATA.zip' target=_blank>CL_PHOTODIRECTOR_DATA.zip</a> nice attach file\n"
     ]
    },
    {
     "name": "stderr",
     "output_type": "stream",
     "text": [
      "\r",
      " 80%|████████  | 10664/13315 [11:15<02:41, 16.37it/s]"
     ]
    },
    {
     "name": "stdout",
     "output_type": "stream",
     "text": [
      "nice<br><br>Attach File : <a href='http://csupload.cyberlink.com/upload-file/support/cs/2018-11-01/CS001950162/CL_PHOTODIRECTOR_DATA.zip' target=_blank>CL_PHOTODIRECTOR_DATA.zip</a> nice attach file\n"
     ]
    },
    {
     "name": "stderr",
     "output_type": "stream",
     "text": [
      " 78%|███████▊  | 10445/13309 [11:15<04:16, 11.14it/s]"
     ]
    },
    {
     "name": "stdout",
     "output_type": "stream",
     "text": [
      "nice<br><br>Attach File : <a href='http://csupload.cyberlink.com/upload-file/support/cs/2018-11-08/CS001952315/CL_PHOTODIRECTOR_DATA.zip' target=_blank>CL_PHOTODIRECTOR_DATA.zip</a> nice attach file\n"
     ]
    },
    {
     "name": "stderr",
     "output_type": "stream",
     "text": [
      " 74%|███████▍  | 9839/13309 [11:15<04:03, 14.24it/s]]"
     ]
    },
    {
     "name": "stdout",
     "output_type": "stream",
     "text": [
      "nice<br><br>Attach File : <a href='http://csupload.cyberlink.com/upload-file/support/cs/2018-11-09/CS001952593/CL_PHOTODIRECTOR_DATA.zip' target=_blank>CL_PHOTODIRECTOR_DATA.zip</a> nice attach file\n"
     ]
    },
    {
     "name": "stderr",
     "output_type": "stream",
     "text": [
      " 80%|████████  | 10667/13315 [11:15<02:22, 18.59it/s]"
     ]
    },
    {
     "name": "stdout",
     "output_type": "stream",
     "text": [
      "nice<br><br>Attach File : <a href='http://csupload.cyberlink.com/upload-file/support/cs/2018-11-17/CS001955450/CL_PHOTODIRECTOR_DATA.zip' target=_blank>CL_PHOTODIRECTOR_DATA.zip</a> nice attach file\n"
     ]
    },
    {
     "name": "stderr",
     "output_type": "stream",
     "text": [
      " 73%|███████▎  | 9726/13309 [11:15<06:45,  8.84it/s]]"
     ]
    },
    {
     "name": "stdout",
     "output_type": "stream",
     "text": [
      "nice<br><br>Attach File : <a href='http://csupload.cyberlink.com/upload-file/support/cs/2018-11-18/CS001955716/CL_PHOTODIRECTOR_DATA.zip' target=_blank>CL_PHOTODIRECTOR_DATA.zip</a> nice attach file\n"
     ]
    },
    {
     "name": "stderr",
     "output_type": "stream",
     "text": [
      " 74%|███████▍  | 9841/13309 [11:15<03:43, 15.51it/s]]"
     ]
    },
    {
     "name": "stdout",
     "output_type": "stream",
     "text": [
      "nice<br><br>Attach File : <a href='http://csupload.cyberlink.com/upload-file/support/cs/2018-11-29/CS001960277/CL_PHOTODIRECTOR_DATA.zip' target=_blank>CL_PHOTODIRECTOR_DATA.zip</a> nice attach file\n"
     ]
    },
    {
     "name": "stderr",
     "output_type": "stream",
     "text": [
      "\r",
      " 78%|███████▊  | 10447/13309 [11:15<04:01, 11.85it/s]"
     ]
    },
    {
     "name": "stdout",
     "output_type": "stream",
     "text": [
      "nice<br><br>Attach File : <a href='http://csupload.cyberlink.com/upload-file/support/cs/2018-12-12/CS001964927/CL_PHOTODIRECTOR_DATA.zip' target=_blank>CL_PHOTODIRECTOR_DATA.zip</a> nice attach file\n"
     ]
    },
    {
     "name": "stderr",
     "output_type": "stream",
     "text": [
      " 79%|███████▊  | 10450/13309 [11:16<03:22, 14.12it/s]"
     ]
    },
    {
     "name": "stdout",
     "output_type": "stream",
     "text": [
      "Nice<br><br>Attach File : <a href='http://csupload.cyberlink.com/upload-file/support/cs/2019-01-04/CS001976627/CL_PHOTODIRECTOR_DATA.zip' target=_blank>CL_PHOTODIRECTOR_DATA.zip</a> nice attach file\n"
     ]
    },
    {
     "name": "stderr",
     "output_type": "stream",
     "text": [
      "\r",
      " 80%|████████  | 10670/13315 [11:15<02:34, 17.11it/s]"
     ]
    },
    {
     "name": "stdout",
     "output_type": "stream",
     "text": [
      "nice<br><br>Attach File : <a href='http://csupload.cyberlink.com/upload-file/support/cs/2019-01-10/CS001978857/CL_PHOTODIRECTOR_DATA.zip' target=_blank>CL_PHOTODIRECTOR_DATA.zip</a> nice attach file\n"
     ]
    },
    {
     "name": "stderr",
     "output_type": "stream",
     "text": [
      "\r",
      " 73%|███████▎  | 9728/13309 [11:16<06:40,  8.95it/s]"
     ]
    },
    {
     "name": "stdout",
     "output_type": "stream",
     "text": [
      "nice<br><br>Attach File : <a href='http://csupload.cyberlink.com/upload-file/support/cs/2019-01-14/CS001979882/CL_PHOTODIRECTOR_DATA.zip' target=_blank>CL_PHOTODIRECTOR_DATA.zip</a> nice attach file\n"
     ]
    },
    {
     "name": "stderr",
     "output_type": "stream",
     "text": [
      " 80%|████████  | 10672/13315 [11:16<02:40, 16.47it/s]"
     ]
    },
    {
     "name": "stdout",
     "output_type": "stream",
     "text": [
      "nice<br><br>Attach File : <a href='http://csupload.cyberlink.com/upload-file/support/cs/2019-01-18/CS001981611/CL_PHOTODIRECTOR_DATA.zip' target=_blank>CL_PHOTODIRECTOR_DATA.zip</a> nice attach file\n"
     ]
    },
    {
     "name": "stderr",
     "output_type": "stream",
     "text": [
      "\r",
      " 73%|███████▎  | 9732/13309 [11:16<05:10, 11.52it/s]"
     ]
    },
    {
     "name": "stdout",
     "output_type": "stream",
     "text": [
      "nice<br><br>Attach File : <a href='http://csupload.cyberlink.com/upload-file/support/cs/2019-02-07/CS001987889/CL_PHOTODIRECTOR_DATA.zip' target=_blank>CL_PHOTODIRECTOR_DATA.zip</a> nice attach file\n",
      "nice<br><br>Attach File : <a href='http://csupload.cyberlink.com/upload-file/support/cs/2019-02-07/CS001987928/CL_PHOTODIRECTOR_DATA.zip' target=_blank>CL_PHOTODIRECTOR_DATA.zip</a> nice attach file\n"
     ]
    },
    {
     "name": "stderr",
     "output_type": "stream",
     "text": [
      " 89%|████████▉ | 11902/13309 [11:16<01:26, 16.28it/s]"
     ]
    },
    {
     "name": "stdout",
     "output_type": "stream",
     "text": [
      "nice<br><br>Attach File : <a href='http://csupload.cyberlink.com/upload-file/support/cs/2019-02-12/CS001989568/CL_PHOTODIRECTOR_DATA.zip' target=_blank>CL_PHOTODIRECTOR_DATA.zip</a> nice attach file\n"
     ]
    },
    {
     "name": "stderr",
     "output_type": "stream",
     "text": [
      " 77%|███████▋  | 10196/13309 [11:16<03:45, 13.78it/s]"
     ]
    },
    {
     "name": "stdout",
     "output_type": "stream",
     "text": [
      "Nice<br><br>Attach File : <a href='http://csupload.cyberlink.com/upload-file/support/cs/2019-03-08/CS001998734/CL_PHOTODIRECTOR_DATA.zip' target=_blank>CL_PHOTODIRECTOR_DATA.zip</a> nice attach file\n"
     ]
    },
    {
     "name": "stderr",
     "output_type": "stream",
     "text": [
      " 89%|████████▉ | 11904/13309 [11:16<01:25, 16.37it/s]"
     ]
    },
    {
     "name": "stdout",
     "output_type": "stream",
     "text": [
      "nice<br><br>Attach File : <a href='http://csupload.cyberlink.com/upload-file/support/cs/2019-03-24/CS002004741/CL_PHOTODIRECTOR_DATA.zip' target=_blank>CL_PHOTODIRECTOR_DATA.zip</a> nice attach file\n",
      "Nice<br><br>Attach File : <a href='http://csupload.cyberlink.com/upload-file/support/cs/2019-03-24/CS002004754/CL_PHOTODIRECTOR_DATA.zip' target=_blank>CL_PHOTODIRECTOR_DATA.zip</a> nice attach file\n"
     ]
    },
    {
     "name": "stderr",
     "output_type": "stream",
     "text": [
      " 77%|███████▋  | 10199/13309 [11:16<03:35, 14.41it/s]"
     ]
    },
    {
     "name": "stdout",
     "output_type": "stream",
     "text": [
      "nice<br><br>Attach File : <a href='http://csupload.cyberlink.com/upload-file/support/cs/2019-04-01/CS002008450/CL_PHOTODIRECTOR_DATA.zip' target=_blank>CL_PHOTODIRECTOR_DATA.zip</a> nice attach file\n"
     ]
    },
    {
     "name": "stderr",
     "output_type": "stream",
     "text": [
      "\r",
      " 89%|████████▉ | 11906/13309 [11:16<01:36, 14.54it/s]"
     ]
    },
    {
     "name": "stdout",
     "output_type": "stream",
     "text": [
      "nice<br><br>Attach File : <a href='http://csupload.cyberlink.com/upload-file/support/cs/2019-04-02/CS002008777/CL_PHOTODIRECTOR_DATA.zip' target=_blank>CL_PHOTODIRECTOR_DATA.zip</a> nice attach file\n"
     ]
    },
    {
     "name": "stderr",
     "output_type": "stream",
     "text": [
      "\r",
      " 73%|███████▎  | 9734/13309 [11:16<07:04,  8.42it/s]"
     ]
    },
    {
     "name": "stdout",
     "output_type": "stream",
     "text": [
      "nice<br><br>Attach File : <a href='http://csupload.cyberlink.com/upload-file/support/cs/2019-04-06/CS002009850/CL_PHOTODIRECTOR_DATA.zip' target=_blank>CL_PHOTODIRECTOR_DATA.zip</a> nice attach file\n"
     ]
    },
    {
     "name": "stderr",
     "output_type": "stream",
     "text": [
      " 77%|███████▋  | 10201/13309 [11:16<03:52, 13.35it/s]"
     ]
    },
    {
     "name": "stdout",
     "output_type": "stream",
     "text": [
      "nice<br><br>Attach File : <a href='http://csupload.cyberlink.com/upload-file/support/cs/2019-04-19/CS002013897/CL_PHOTODIRECTOR_DATA.zip' target=_blank>CL_PHOTODIRECTOR_DATA.zip</a> nice attach file\n",
      "nice<br><br>Attach File : <a href='http://csupload.cyberlink.com/upload-file/support/cs/2019-04-28/CS002016364/CL_PHOTODIRECTOR_DATA.zip' target=_blank>CL_PHOTODIRECTOR_DATA.zip</a> nice attach file\n"
     ]
    },
    {
     "name": "stderr",
     "output_type": "stream",
     "text": [
      "\r",
      " 87%|████████▋ | 11606/13309 [11:16<01:12, 23.52it/s]"
     ]
    },
    {
     "name": "stdout",
     "output_type": "stream",
     "text": [
      "nice<br><br>Attach File : <a href='http://csupload.cyberlink.com/upload-file/support/cs/2019-05-18/CS002022136/CL_PHOTODIRECTOR_DATA.zip' target=_blank>CL_PHOTODIRECTOR_DATA.zip</a> nice attach file\n"
     ]
    },
    {
     "name": "stderr",
     "output_type": "stream",
     "text": [
      " 79%|███████▊  | 10465/13309 [11:16<02:52, 16.44it/s]"
     ]
    },
    {
     "name": "stdout",
     "output_type": "stream",
     "text": [
      "nice<br><br>Attach File : <a href='http://csupload.cyberlink.com/upload-file/support/cs/2019-05-25/CS002024233/CL_PHOTODIRECTOR_DATA.zip' target=_blank>CL_PHOTODIRECTOR_DATA.zip</a> nice attach file\n"
     ]
    },
    {
     "name": "stderr",
     "output_type": "stream",
     "text": [
      "\r",
      " 73%|███████▎  | 9736/13309 [11:16<07:07,  8.35it/s]"
     ]
    },
    {
     "name": "stdout",
     "output_type": "stream",
     "text": [
      "nice<br><br>Attach File : <a href='http://csupload.cyberlink.com/upload-file/support/cs/2019-06-05/CS002027182/CL_PHOTODIRECTOR_DATA.zip' target=_blank>CL_PHOTODIRECTOR_DATA.zip</a> nice attach file\n"
     ]
    },
    {
     "name": "stderr",
     "output_type": "stream",
     "text": [
      " 73%|███████▎  | 9738/13309 [11:16<06:15,  9.50it/s]]"
     ]
    },
    {
     "name": "stdout",
     "output_type": "stream",
     "text": [
      "nice<br><br>Attach File : <a href='http://csupload.cyberlink.com/upload-file/support/cs/2019-07-09/CS002036493/CL_PHOTODIRECTOR_DATA.zip' target=_blank>CL_PHOTODIRECTOR_DATA.zip</a> nice attach file\n"
     ]
    },
    {
     "name": "stderr",
     "output_type": "stream",
     "text": [
      " 77%|███████▋  | 10204/13309 [11:16<04:13, 12.27it/s]"
     ]
    },
    {
     "name": "stdout",
     "output_type": "stream",
     "text": [
      "nice<br><br>Attach File : <a href='http://csupload.cyberlink.com/upload-file/support/cs/2019-07-11/CS002037385/CL_PHOTODIRECTOR_DATA.zip' target=_blank>CL_PHOTODIRECTOR_DATA.zip</a> nice attach file\n"
     ]
    },
    {
     "name": "stderr",
     "output_type": "stream",
     "text": [
      " 89%|████████▉ | 11910/13309 [11:17<02:12, 10.57it/s]"
     ]
    },
    {
     "name": "stdout",
     "output_type": "stream",
     "text": [
      "Nicew<br><br>Attach File : <a href='http://csupload.cyberlink.com/upload-file/support/cs/2019-04-07/CS002010042/CL_PHOTODIRECTOR_DATA.zip' target=_blank>CL_PHOTODIRECTOR_DATA.zip</a> nicew attach file\n"
     ]
    },
    {
     "name": "stderr",
     "output_type": "stream",
     "text": [
      " 74%|███████▍  | 9852/13309 [11:17<05:36, 10.27it/s]]"
     ]
    },
    {
     "name": "stdout",
     "output_type": "stream",
     "text": [
      "Nil<br><br>Attach File : <a href='http://csupload.cyberlink.com/upload-file/support/cs/2019-01-12/CS001979473/CL_PHOTODIRECTOR_DATA.zip' target=_blank>CL_PHOTODIRECTOR_DATA.zip</a> nil attach file\n"
     ]
    },
    {
     "name": "stderr",
     "output_type": "stream",
     "text": [
      " 74%|███████▍  | 9854/13309 [11:17<04:51, 11.84it/s]]"
     ]
    },
    {
     "name": "stdout",
     "output_type": "stream",
     "text": [
      "Nirmal<br><br>Attach File : <a href='http://csupload.cyberlink.com/upload-file/support/cs/2018-12-22/CS001969224/CL_PHOTODIRECTOR_DATA.zip' target=_blank>CL_PHOTODIRECTOR_DATA.zip</a> nirmal attach file\n"
     ]
    },
    {
     "name": "stderr",
     "output_type": "stream",
     "text": [
      " 87%|████████▋ | 11580/13309 [11:17<01:41, 17.12it/s]"
     ]
    },
    {
     "name": "stdout",
     "output_type": "stream",
     "text": [
      "no   <br><br>Attach File : <a href='http://csupload.cyberlink.com/upload-file/support/cs/2018-11-06/CS001951776/CL_PHOTODIRECTOR_DATA.zip' target=_blank>CL_PHOTODIRECTOR_DATA.zip</a> no attach file\n",
      "License not working license not work\n"
     ]
    },
    {
     "name": "stderr",
     "output_type": "stream",
     "text": [
      " 77%|███████▋  | 10222/13309 [11:18<03:15, 15.82it/s]"
     ]
    },
    {
     "name": "stdout",
     "output_type": "stream",
     "text": [
      "nothing <br><br>Attach File : <a href='http://csupload.cyberlink.com/upload-file/support/cs/2019-04-22/CS002014718/CL_PHOTODIRECTOR_DATA.zip' target=_blank>CL_PHOTODIRECTOR_DATA.zip</a> nothing attach file\n"
     ]
    },
    {
     "name": "stderr",
     "output_type": "stream",
     "text": [
      " 87%|████████▋ | 11602/13309 [11:18<01:40, 17.03it/s]"
     ]
    },
    {
     "name": "stdout",
     "output_type": "stream",
     "text": [
      "nothing<br><br>Attach File : <a href='http://csupload.cyberlink.com/upload-file/support/cs/2018-08-08/CS001921815/CL_PHOTODIRECTOR_DATA.zip' target=_blank>CL_PHOTODIRECTOR_DATA.zip</a> nothing attach file\n"
     ]
    },
    {
     "name": "stderr",
     "output_type": "stream",
     "text": [
      "\r",
      " 79%|███████▉  | 10496/13309 [11:18<02:12, 21.23it/s]"
     ]
    },
    {
     "name": "stdout",
     "output_type": "stream",
     "text": [
      "nuur<br><br>Attach File : <a href='http://csupload.cyberlink.com/upload-file/support/cs/2019-01-10/CS001978649/CL_PHOTODIRECTOR_DATA.zip' target=_blank>CL_PHOTODIRECTOR_DATA.zip</a> nuur attach file\n"
     ]
    },
    {
     "name": "stderr",
     "output_type": "stream",
     "text": [
      " 73%|███████▎  | 9762/13309 [11:18<03:31, 16.74it/s]]"
     ]
    },
    {
     "name": "stdout",
     "output_type": "stream",
     "text": [
      "Nuur1234<br><br>Attach File : <a href='http://csupload.cyberlink.com/upload-file/support/cs/2019-01-10/CS001978651/CL_PHOTODIRECTOR_DATA.zip' target=_blank>CL_PHOTODIRECTOR_DATA.zip</a> nuur attach file\n"
     ]
    },
    {
     "name": "stderr",
     "output_type": "stream",
     "text": [
      " 77%|███████▋  | 10304/13309 [11:23<03:24, 14.73it/s]"
     ]
    },
    {
     "name": "stdout",
     "output_type": "stream",
     "text": [
      "same same\n"
     ]
    },
    {
     "name": "stderr",
     "output_type": "stream",
     "text": [
      " 90%|█████████ | 11981/13309 [11:24<01:44, 12.69it/s]"
     ]
    },
    {
     "name": "stdout",
     "output_type": "stream",
     "text": [
      "xfcbgfd xfcbgfd\n"
     ]
    },
    {
     "name": "stderr",
     "output_type": "stream",
     "text": [
      " 78%|███████▊  | 10331/13309 [11:25<04:05, 12.12it/s]"
     ]
    },
    {
     "name": "stdout",
     "output_type": "stream",
     "text": [
      "I have activation problem. i have activation\n"
     ]
    },
    {
     "name": "stderr",
     "output_type": "stream",
     "text": [
      " 89%|████████▊ | 11791/13309 [11:29<01:41, 14.99it/s]"
     ]
    },
    {
     "name": "stdout",
     "output_type": "stream",
     "text": [
      "https://forum.cyberlink.com/forum/posts/list/79460.page \n"
     ]
    },
    {
     "name": "stderr",
     "output_type": "stream",
     "text": [
      " 74%|███████▍  | 9901/13309 [11:31<09:03,  6.28it/s]]"
     ]
    },
    {
     "name": "stdout",
     "output_type": "stream",
     "text": [
      "reactviate<br><br>Attach File : <a href=\"http://csupload.cyberlink.com/upload-file/support/cs/2018-02-26/CS001862058/20180226_131411_001[1].jpg\" target=_blank>20180226_131411_001[1].jpg</a> reactviate attach file\n"
     ]
    },
    {
     "name": "stderr",
     "output_type": "stream",
     "text": [
      " 89%|████████▉ | 11863/13309 [11:33<01:51, 13.01it/s]"
     ]
    },
    {
     "name": "stdout",
     "output_type": "stream",
     "text": [
      "Pro 18 pro\n"
     ]
    },
    {
     "name": "stderr",
     "output_type": "stream",
     "text": [
      " 79%|███████▊  | 10471/13309 [11:35<03:13, 14.69it/s]"
     ]
    },
    {
     "name": "stdout",
     "output_type": "stream",
     "text": [
      "need help asap need help asap\n"
     ]
    },
    {
     "name": "stderr",
     "output_type": "stream",
     "text": [
      " 92%|█████████▏| 12194/13309 [11:38<01:20, 13.86it/s]"
     ]
    },
    {
     "name": "stdout",
     "output_type": "stream",
     "text": [
      "https://drive.google.com/open?id=1ulF3jUy7XixkQEvtrTTtmcOC229wLlVS \n"
     ]
    },
    {
     "name": "stderr",
     "output_type": "stream",
     "text": [
      " 79%|███████▉  | 10576/13309 [11:43<03:27, 13.15it/s]"
     ]
    },
    {
     "name": "stdout",
     "output_type": "stream",
     "text": [
      "﻿<html><div dir=\"auto\"> ,</div>   </html><br/>﻿ \n"
     ]
    },
    {
     "name": "stderr",
     "output_type": "stream",
     "text": [
      " 90%|█████████ | 12039/13309 [11:44<01:09, 18.18it/s]"
     ]
    },
    {
     "name": "stdout",
     "output_type": "stream",
     "text": [
      "﻿<html><div dir=\"auto\"> </div>   </html><br/>﻿<a target='_blank' href=\"http://csupload.cyberlink.com/upload-file/support/ic/20180709/WM1531138263585_Screenshot_2018-07-04-21-15-46-92.png\">Screenshot_2018-07-04-21-15-46-92.png</a><br/> \n"
     ]
    },
    {
     "name": "stderr",
     "output_type": "stream",
     "text": [
      " 90%|████████▉ | 11946/13309 [11:44<01:24, 16.04it/s]"
     ]
    },
    {
     "name": "stdout",
     "output_type": "stream",
     "text": [
      "﻿<html><div dir=\"auto\"> </div>   </html><br/>﻿<a target='_blank' href=\"http://csupload.cyberlink.com/upload-file/support/ic/20180729/WM1532839261362_Screenshot_20180729-001732.png\">Screenshot_20180729-001732.png</a><br/> \n"
     ]
    },
    {
     "name": "stderr",
     "output_type": "stream",
     "text": [
      " 90%|█████████ | 12042/13309 [11:44<01:03, 20.05it/s]"
     ]
    },
    {
     "name": "stdout",
     "output_type": "stream",
     "text": [
      "﻿<html><div dir=\"auto\"> </div>   </html><br/>﻿<a target='_blank' href=\"http://csupload.cyberlink.com/upload-file/support/ic/20180815/WM1534321264500_Screenshot_2018-08-15-13-48-34-146_com.cpuid.cpu_z.png\">Screenshot_2018-08-15-13-48-34-146_com.cpuid.cpu_z.png</a><br/> \n"
     ]
    },
    {
     "name": "stderr",
     "output_type": "stream",
     "text": [
      " 90%|████████▉ | 11948/13309 [11:44<01:20, 16.97it/s]"
     ]
    },
    {
     "name": "stdout",
     "output_type": "stream",
     "text": [
      "﻿<html><div dir=\"auto\"> </div>   </html><br/>﻿<a target='_blank' href=\"http://csupload.cyberlink.com/upload-file/support/ic/20180904/WM1536010264447_Screenshot_20180903-162546_PowerDirector.jpg\">Screenshot_20180903-162546_PowerDirector.jpg</a><br/> \n",
      "﻿<html><div dir=\"auto\"> </div>   </html><br/>﻿<a target='_blank' href=\"http://csupload.cyberlink.com/upload-file/support/ic/20180904/WM1536010864626_Screenshot_20180903-162546_PowerDirector.jpg\">Screenshot_20180903-162546_PowerDirector.jpg</a><br/> \n"
     ]
    },
    {
     "name": "stderr",
     "output_type": "stream",
     "text": [
      " 90%|████████▉ | 11951/13309 [11:44<01:09, 19.48it/s]"
     ]
    },
    {
     "name": "stdout",
     "output_type": "stream",
     "text": [
      "﻿<html><div dir=\"auto\"> </div>   </html><br/>﻿<a target='_blank' href=\"http://csupload.cyberlink.com/upload-file/support/ic/20181012/WM1539298860267_Screenshot_2018-10-11-21-57-44-306_com.miui.videoplayer.png\">Screenshot_2018-10-11-21-57-44-306_com.miui.videoplayer.png</a><br/> \n"
     ]
    },
    {
     "name": "stderr",
     "output_type": "stream",
     "text": [
      " 77%|███████▋  | 10206/13309 [11:44<04:30, 11.46it/s]"
     ]
    },
    {
     "name": "stdout",
     "output_type": "stream",
     "text": [
      "﻿<html><div dir=\"auto\"> </div>   </html><br/>﻿<a target='_blank' href=\"http://csupload.cyberlink.com/upload-file/support/ic/20181203/WM1543849260687_Screenshot_20181203-085623.png\">Screenshot_20181203-085623.png</a><br/> \n"
     ]
    },
    {
     "name": "stderr",
     "output_type": "stream",
     "text": [
      " 92%|█████████▏| 12274/13309 [11:44<01:20, 12.84it/s]"
     ]
    },
    {
     "name": "stdout",
     "output_type": "stream",
     "text": [
      "﻿<html><div dir=\"auto\"> </div>   </html><br/>﻿<a target='_blank' href=\"http://csupload.cyberlink.com/upload-file/support/ic/20181222/WM1545433855287_Screenshot_2018-12-21-17-04-37.png\">Screenshot_2018-12-21-17-04-37.png</a><br/> \n"
     ]
    },
    {
     "name": "stderr",
     "output_type": "stream",
     "text": [
      " 82%|████████▏ | 10929/13309 [11:44<02:46, 14.28it/s]"
     ]
    },
    {
     "name": "stdout",
     "output_type": "stream",
     "text": [
      "﻿<html><div dir=\"auto\"> </div>   </html><br/>﻿<a target='_blank' href=\"http://csupload.cyberlink.com/upload-file/support/ic/20190606/WM1559824142598_20190606_202020.jpg\">20190606_202020.jpg</a><br/> \n"
     ]
    },
    {
     "name": "stderr",
     "output_type": "stream",
     "text": [
      " 82%|████████▏ | 10943/13309 [11:45<02:53, 13.65it/s]"
     ]
    },
    {
     "name": "stdout",
     "output_type": "stream",
     "text": [
      "﻿<html><div dir=\"auto\"> <a href=\"https://developers.google.com/android/guides/overview\"> https://developers.google.com/android/guides/overview</a> </div>   </html><br/>﻿ \n",
      "﻿<html><div dir=\"auto\"> <a href=\"https://photos.app.goo.gl/MJ7PJYbex33qVQsY6\"> https://photos.app.goo.gl/MJ7PJYbex33qVQsY6</a> </div>   </html><br/>﻿ \n"
     ]
    },
    {
     "name": "stderr",
     "output_type": "stream",
     "text": [
      " 83%|████████▎ | 11113/13315 [11:45<02:57, 12.43it/s]"
     ]
    },
    {
     "name": "stdout",
     "output_type": "stream",
     "text": [
      "﻿<html><div dir=\"auto\"> <a href=\"mailto:ajanand647@gmail.com\"> ajanand647@gmail.com</a> </div>   </html><br/>﻿ \n"
     ]
    },
    {
     "name": "stderr",
     "output_type": "stream",
     "text": [
      " 91%|█████████ | 12065/13309 [11:45<01:24, 14.71it/s]"
     ]
    },
    {
     "name": "stdout",
     "output_type": "stream",
     "text": [
      "Not working not work\n"
     ]
    },
    {
     "name": "stderr",
     "output_type": "stream",
     "text": [
      "\r",
      " 77%|███████▋  | 10224/13309 [11:45<04:05, 12.58it/s]"
     ]
    },
    {
     "name": "stdout",
     "output_type": "stream",
     "text": [
      "﻿<html><div dir=\"auto\"> <a href=\"mailto:AkashAKavithiya@gmail.com\"> AkashAKavithiya@gmail.com</a> &nbsp;</div>   </html><br/>﻿ nbsp\n"
     ]
    },
    {
     "name": "stderr",
     "output_type": "stream",
     "text": [
      " 76%|███████▌  | 10069/13309 [11:45<05:32,  9.73it/s]"
     ]
    },
    {
     "name": "stdout",
     "output_type": "stream",
     "text": [
      "﻿<html><div dir=\"auto\"> <a href=\"mailto:Ayubansari3345@gmail.com\"> Ayubansari3345@gmail.com</a> <div dir=\"auto\"> <br> </div> </div>   </html><br/>﻿ \n"
     ]
    },
    {
     "name": "stderr",
     "output_type": "stream",
     "text": [
      " 90%|████████▉ | 11969/13309 [11:45<01:53, 11.84it/s]"
     ]
    },
    {
     "name": "stdout",
     "output_type": "stream",
     "text": [
      "﻿<html><div dir=\"auto\"> <a href=\"mailto:balakiran.n143@gmail.com\"> balakiran.n143@gmail.com</a> </div>   </html><br/>﻿ \n"
     ]
    },
    {
     "name": "stderr",
     "output_type": "stream",
     "text": [
      " 82%|████████▏ | 10947/13309 [11:45<03:27, 11.36it/s]"
     ]
    },
    {
     "name": "stdout",
     "output_type": "stream",
     "text": [
      "﻿<html><div dir=\"auto\"> <a href=\"mailto:brilliantkhan1334@gmail.com\"> brilliantkhan1334@gmail.com</a> </div>   </html><br/>﻿ \n"
     ]
    },
    {
     "name": "stderr",
     "output_type": "stream",
     "text": [
      " 83%|████████▎ | 11117/13315 [11:45<02:34, 14.20it/s]"
     ]
    },
    {
     "name": "stdout",
     "output_type": "stream",
     "text": [
      "﻿<html><div dir=\"auto\"> <a href=\"mailto:Hemantamunda718@gmail.com\"> Hemantamunda718@gmail.com</a> </div>   </html><br/>﻿ \n"
     ]
    },
    {
     "name": "stderr",
     "output_type": "stream",
     "text": [
      " 92%|█████████▏| 12298/13309 [11:46<01:22, 12.31it/s]"
     ]
    },
    {
     "name": "stdout",
     "output_type": "stream",
     "text": [
      "﻿<html><div dir=\"auto\"> <a href=\"mailto:hitagrg9@gmail.com\"> hitagrg9@gmail.com</a> </div>   </html><br/>﻿ \n"
     ]
    },
    {
     "name": "stderr",
     "output_type": "stream",
     "text": [
      " 91%|█████████ | 12072/13309 [11:46<01:05, 18.99it/s]"
     ]
    },
    {
     "name": "stdout",
     "output_type": "stream",
     "text": [
      "﻿<html><div dir=\"auto\"> <a href=\"mailto:Manuelsalinasb1978@gmail.com\"> Manuelsalinasb1978@gmail.com</a> </div>   </html><br/>﻿ \n",
      "﻿<html><div dir=\"auto\"> <a href=\"mailto:saleemsaleem75598@gmail.com\"> saleemsaleem75598@gmail.com</a> </div>   </html><br/>﻿ \n"
     ]
    },
    {
     "name": "stderr",
     "output_type": "stream",
     "text": [
      " 92%|█████████▏| 12300/13309 [11:46<01:15, 13.30it/s]"
     ]
    },
    {
     "name": "stdout",
     "output_type": "stream",
     "text": [
      "﻿<html><div dir=\"auto\"> <a href=\"mailto:Sbroypapon@gmail.com\"> Sbroypapon@gmail.com</a> </div>   </html><br/>﻿ \n"
     ]
    },
    {
     "name": "stderr",
     "output_type": "stream",
     "text": [
      "\r",
      " 77%|███████▋  | 10231/13309 [11:46<03:18, 15.52it/s]"
     ]
    },
    {
     "name": "stdout",
     "output_type": "stream",
     "text": [
      "﻿<html><div dir=\"auto\"> <a href=\"mailto:shaiknagur42463@email.com\"> shaiknagur42463@email.com</a> </div>   </html><br/>﻿ \n"
     ]
    },
    {
     "name": "stderr",
     "output_type": "stream",
     "text": [
      " 77%|███████▋  | 10233/13309 [11:46<03:42, 13.82it/s]"
     ]
    },
    {
     "name": "stdout",
     "output_type": "stream",
     "text": [
      "Download download\n"
     ]
    },
    {
     "name": "stderr",
     "output_type": "stream",
     "text": [
      " 80%|███████▉  | 10604/13309 [11:46<05:33,  8.12it/s]"
     ]
    },
    {
     "name": "stdout",
     "output_type": "stream",
     "text": [
      "﻿<html><div dir=\"auto\"> <div class=\"gmail_quote\" dir=\"auto\"> <div dir=\"ltr\"> <br> </div> <blockquote class=\"gmail_quote\" style=\"margin:0 0 0 .8ex;border-left:1px #ccc solid;padding-left:1ex\">   </blockquote> </div> </div>   </html><br/>﻿<a target='_blank' href=\"http://csupload.cyberlink.com/upload-file/support/ic/20180511/WM1526000455848_maxresdefault.jpg\">maxresdefault.jpg</a><br/> \n"
     ]
    },
    {
     "name": "stderr",
     "output_type": "stream",
     "text": [
      " 80%|███████▉  | 10626/13309 [11:48<02:47, 16.05it/s]"
     ]
    },
    {
     "name": "stdout",
     "output_type": "stream",
     "text": [
      "﻿<html><div dir=\"auto\"> <div dir=\"auto\"> <br> </div> <div dir=\"auto\"> Nices</div> </div>   </html><br/>﻿ nice\n"
     ]
    },
    {
     "name": "stderr",
     "output_type": "stream",
     "text": [
      " 77%|███████▋  | 10270/13309 [11:48<03:48, 13.29it/s]"
     ]
    },
    {
     "name": "stdout",
     "output_type": "stream",
     "text": [
      "﻿<html><div dir=\"auto\"> Full version&nbsp;<div dir=\"auto\"> <br> </div> </div>   </html><br/>﻿ full version nbsp\n"
     ]
    },
    {
     "name": "stderr",
     "output_type": "stream",
     "text": [
      " 80%|████████  | 10660/13309 [11:50<04:31,  9.76it/s]"
     ]
    },
    {
     "name": "stdout",
     "output_type": "stream",
     "text": [
      "Unable to rip  unable to rip\n"
     ]
    },
    {
     "name": "stderr",
     "output_type": "stream",
     "text": [
      " 77%|███████▋  | 10312/13309 [11:51<03:01, 16.47it/s]"
     ]
    },
    {
     "name": "stdout",
     "output_type": "stream",
     "text": [
      "﻿<html><div dir=\"auto\"> Good Nice</div>   </html><br/>﻿ good nice\n"
     ]
    },
    {
     "name": "stderr",
     "output_type": "stream",
     "text": [
      " 78%|███████▊  | 10315/13309 [11:51<02:45, 18.10it/s]"
     ]
    },
    {
     "name": "stdout",
     "output_type": "stream",
     "text": [
      "﻿<html><div dir=\"auto\"> Good production</div>   </html><br/>﻿ good production\n",
      "﻿<html><div dir=\"auto\"> Good</div>   </html><br/>﻿ good\n"
     ]
    },
    {
     "name": "stderr",
     "output_type": "stream",
     "text": [
      " 84%|████████▍ | 11229/13315 [11:52<01:28, 23.47it/s]"
     ]
    },
    {
     "name": "stdout",
     "output_type": "stream",
     "text": [
      "Upgrade failed. upgrade\n"
     ]
    },
    {
     "name": "stderr",
     "output_type": "stream",
     "text": [
      " 76%|███████▋  | 10175/13309 [11:54<06:07,  8.54it/s]"
     ]
    },
    {
     "name": "stdout",
     "output_type": "stream",
     "text": [
      "It is working now. it be work\n"
     ]
    },
    {
     "name": "stderr",
     "output_type": "stream",
     "text": [
      " 94%|█████████▎| 12449/13309 [11:55<01:25, 10.09it/s]"
     ]
    },
    {
     "name": "stdout",
     "output_type": "stream",
     "text": [
      "trying to reinstall try to reinstall\n"
     ]
    },
    {
     "name": "stderr",
     "output_type": "stream",
     "text": [
      " 94%|█████████▎| 12474/13309 [11:57<01:11, 11.75it/s]"
     ]
    },
    {
     "name": "stdout",
     "output_type": "stream",
     "text": [
      "Cancel subscription cancel subscription\n"
     ]
    },
    {
     "name": "stderr",
     "output_type": "stream",
     "text": [
      " 92%|█████████▏| 12191/13309 [11:58<00:44, 25.40it/s]"
     ]
    },
    {
     "name": "stdout",
     "output_type": "stream",
     "text": [
      "reinstall dvd 14 reinstall dvd\n"
     ]
    },
    {
     "name": "stderr",
     "output_type": "stream",
     "text": [
      " 79%|███████▊  | 10473/13309 [12:00<02:01, 23.34it/s]"
     ]
    },
    {
     "name": "stdout",
     "output_type": "stream",
     "text": [
      "test test\n"
     ]
    },
    {
     "name": "stderr",
     "output_type": "stream",
     "text": [
      " 92%|█████████▏| 12250/13309 [12:00<00:50, 21.13it/s]"
     ]
    },
    {
     "name": "stdout",
     "output_type": "stream",
     "text": [
      "thnx got it thnx get it\n"
     ]
    },
    {
     "name": "stderr",
     "output_type": "stream",
     "text": [
      " 85%|████████▌ | 11345/13315 [12:00<02:51, 11.49it/s]"
     ]
    },
    {
     "name": "stdout",
     "output_type": "stream",
     "text": [
      "lost key lose key\n"
     ]
    },
    {
     "name": "stderr",
     "output_type": "stream",
     "text": [
      " 94%|█████████▍| 12533/13309 [12:01<00:53, 14.57it/s]"
     ]
    },
    {
     "name": "stdout",
     "output_type": "stream",
     "text": [
      "lost powerdvd17 code lose powerdvd code\n"
     ]
    },
    {
     "name": "stderr",
     "output_type": "stream",
     "text": [
      " 94%|█████████▍| 12539/13309 [12:01<00:46, 16.43it/s]"
     ]
    },
    {
     "name": "stdout",
     "output_type": "stream",
     "text": [
      "INED HELP ined help\n"
     ]
    },
    {
     "name": "stderr",
     "output_type": "stream",
     "text": [
      " 92%|█████████▏| 12284/13309 [12:02<01:12, 14.12it/s]"
     ]
    },
    {
     "name": "stdout",
     "output_type": "stream",
     "text": [
      "Will not export??? will not export\n"
     ]
    },
    {
     "name": "stderr",
     "output_type": "stream",
     "text": [
      " 77%|███████▋  | 10306/13309 [12:04<05:29,  9.12it/s]"
     ]
    },
    {
     "name": "stdout",
     "output_type": "stream",
     "text": [
      "Nice <br><br>Attach File : <a href='http://csupload.cyberlink.com/upload-file/support/cs/2018-08-05/CS001920674/CL_PHOTODIRECTOR_DATA.zip' target=_blank>CL_PHOTODIRECTOR_DATA.zip</a> nice attach file\n"
     ]
    },
    {
     "name": "stderr",
     "output_type": "stream",
     "text": [
      " 85%|████████▍ | 11259/13309 [12:04<02:32, 13.49it/s]"
     ]
    },
    {
     "name": "stdout",
     "output_type": "stream",
     "text": [
      "nice <br><br>Attach File : <a href='http://csupload.cyberlink.com/upload-file/support/cs/2018-12-10/CS001964173/CL_PHOTODIRECTOR_DATA.zip' target=_blank>CL_PHOTODIRECTOR_DATA.zip</a> nice attach file\n"
     ]
    },
    {
     "name": "stderr",
     "output_type": "stream",
     "text": [
      "\r",
      " 93%|█████████▎| 12340/13309 [12:04<00:57, 16.73it/s]"
     ]
    },
    {
     "name": "stdout",
     "output_type": "stream",
     "text": [
      "nice <br><br>Attach File : <a href='http://csupload.cyberlink.com/upload-file/support/cs/2018-12-20/CS001968577/CL_PHOTODIRECTOR_DATA.zip' target=_blank>CL_PHOTODIRECTOR_DATA.zip</a> nice attach file\n"
     ]
    },
    {
     "name": "stderr",
     "output_type": "stream",
     "text": [
      " 79%|███████▉  | 10554/13309 [12:04<02:53, 15.85it/s]"
     ]
    },
    {
     "name": "stdout",
     "output_type": "stream",
     "text": [
      "nice <br><br>Attach File : <a href='http://csupload.cyberlink.com/upload-file/support/cs/2018-12-21/CS001968602/CL_PHOTODIRECTOR_DATA.zip' target=_blank>CL_PHOTODIRECTOR_DATA.zip</a> nice attach file\n"
     ]
    },
    {
     "name": "stderr",
     "output_type": "stream",
     "text": [
      " 93%|█████████▎| 12334/13309 [12:05<00:40, 24.01it/s]"
     ]
    },
    {
     "name": "stdout",
     "output_type": "stream",
     "text": [
      "nice <br><br>Attach File : <a href='http://csupload.cyberlink.com/upload-file/support/cs/2019-03-15/CS002000956/CL_PHOTODIRECTOR_DATA.zip' target=_blank>CL_PHOTODIRECTOR_DATA.zip</a> nice attach file\n"
     ]
    },
    {
     "name": "stderr",
     "output_type": "stream",
     "text": [
      " 85%|████████▍ | 11272/13309 [12:05<02:35, 13.13it/s]"
     ]
    },
    {
     "name": "stdout",
     "output_type": "stream",
     "text": [
      "neveikia facebook neveikia facebook\n"
     ]
    },
    {
     "name": "stderr",
     "output_type": "stream",
     "text": [
      " 86%|████████▌ | 11456/13315 [12:08<02:04, 14.89it/s]"
     ]
    },
    {
     "name": "stdout",
     "output_type": "stream",
     "text": [
      "Lost my key lose my key\n"
     ]
    },
    {
     "name": "stderr",
     "output_type": "stream",
     "text": [
      " 93%|█████████▎| 12440/13309 [12:10<00:36, 24.08it/s]"
     ]
    },
    {
     "name": "stdout",
     "output_type": "stream",
     "text": [
      "abu abdu abu abdu\n"
     ]
    },
    {
     "name": "stderr",
     "output_type": "stream",
     "text": [
      " 82%|████████▏ | 10950/13309 [12:10<02:59, 13.16it/s]"
     ]
    },
    {
     "name": "stdout",
     "output_type": "stream",
     "text": [
      "mee<br><br>Attach File : <a href='http://csupload.cyberlink.com/upload-file/support/cs/2018-10-28/CS001948666/CL_PHOTODIRECTOR_DATA.zip' target=_blank>CL_PHOTODIRECTOR_DATA.zip</a> mee attach file\n"
     ]
    },
    {
     "name": "stderr",
     "output_type": "stream",
     "text": [
      " 93%|█████████▎| 12438/13309 [12:10<00:45, 19.25it/s]"
     ]
    },
    {
     "name": "stdout",
     "output_type": "stream",
     "text": [
      "Amer <br><br>Attach File : <a href='http://csupload.cyberlink.com/upload-file/support/cs/2018-11-06/CS001951472/screenshot1.jpg' target=_blank>screenshot1.jpg</a> amer attach file\n",
      "meer<br><br>Attach File : <a href='http://csupload.cyberlink.com/upload-file/support/cs/2019-02-06/CS001987629/CL_PHOTODIRECTOR_DATA.zip' target=_blank>CL_PHOTODIRECTOR_DATA.zip</a> meer attach file\n"
     ]
    },
    {
     "name": "stderr",
     "output_type": "stream",
     "text": [
      " 85%|████████▌ | 11361/13309 [12:10<01:45, 18.49it/s]"
     ]
    },
    {
     "name": "stdout",
     "output_type": "stream",
     "text": [
      "mh<br><br>Attach File : <a href='http://csupload.cyberlink.com/upload-file/support/cs/2019-05-27/CS002024790/CL_PHOTODIRECTOR_DATA.zip' target=_blank>CL_PHOTODIRECTOR_DATA.zip</a> mh attach file\n"
     ]
    },
    {
     "name": "stderr",
     "output_type": "stream",
     "text": [
      " 86%|████████▋ | 11492/13315 [12:10<01:12, 25.18it/s]"
     ]
    },
    {
     "name": "stdout",
     "output_type": "stream",
     "text": [
      "Mm<br><br>Attach File : <a href='http://csupload.cyberlink.com/upload-file/support/cs/2018-12-08/CS001963504/CL_PHOTODIRECTOR_DATA.zip' target=_blank>CL_PHOTODIRECTOR_DATA.zip</a> mm attach file\n"
     ]
    },
    {
     "name": "stderr",
     "output_type": "stream",
     "text": [
      " 85%|████████▌ | 11368/13309 [12:11<02:10, 14.90it/s]"
     ]
    },
    {
     "name": "stdout",
     "output_type": "stream",
     "text": [
      "mr.raa<br><br>Attach File : <a href='http://csupload.cyberlink.com/upload-file/support/cs/2018-12-19/CS001968049/CL_PHOTODIRECTOR_DATA.zip' target=_blank>CL_PHOTODIRECTOR_DATA.zip</a> attach file\n"
     ]
    },
    {
     "name": "stderr",
     "output_type": "stream",
     "text": [
      " 94%|█████████▍| 12481/13309 [12:11<00:31, 26.04it/s]"
     ]
    },
    {
     "name": "stdout",
     "output_type": "stream",
     "text": [
      "I have some question. i have some\n"
     ]
    },
    {
     "name": "stderr",
     "output_type": "stream",
     "text": [
      " 80%|████████  | 10674/13309 [12:12<02:20, 18.73it/s]"
     ]
    },
    {
     "name": "stdout",
     "output_type": "stream",
     "text": [
      "   .x .             .  m      ik,    m ik\n"
     ]
    },
    {
     "name": "stderr",
     "output_type": "stream",
     "text": [
      "\r",
      " 87%|████████▋ | 11526/13315 [12:11<01:13, 24.27it/s]"
     ]
    },
    {
     "name": "stdout",
     "output_type": "stream",
     "text": [
      "nathing<br><br>Attach File : <a href='http://csupload.cyberlink.com/upload-file/support/cs/2018-02-07/CS001854913/CL_PHOTODIRECTOR_DATA.zip' target=_blank>CL_PHOTODIRECTOR_DATA.zip</a> nathing attach file\n"
     ]
    },
    {
     "name": "stderr",
     "output_type": "stream",
     "text": [
      "\r",
      " 94%|█████████▍| 12487/13309 [12:12<00:33, 24.33it/s]"
     ]
    },
    {
     "name": "stdout",
     "output_type": "stream",
     "text": [
      " <br><br>Attach File : <a href='http://csupload.cyberlink.com/upload-file/support/cs/2019-06-21/CS002031578/U_20190621233719194.jpg' target=_blank>U_20190621233719194.jpg</a> attach file\n"
     ]
    },
    {
     "name": "stderr",
     "output_type": "stream",
     "text": [
      "\r",
      " 85%|████████▌ | 11378/13309 [12:12<02:25, 13.23it/s]"
     ]
    },
    {
     "name": "stdout",
     "output_type": "stream",
     "text": [
      "nathing<br><br>Attach File : <a href='http://csupload.cyberlink.com/upload-file/support/cs/2018-02-07/CS001854914/CL_PHOTODIRECTOR_DATA.zip' target=_blank>CL_PHOTODIRECTOR_DATA.zip</a> nathing attach file\n",
      "..  \n"
     ]
    },
    {
     "name": "stderr",
     "output_type": "stream",
     "text": [
      "\r",
      " 83%|████████▎ | 10982/13309 [12:12<01:55, 20.18it/s]"
     ]
    },
    {
     "name": "stdout",
     "output_type": "stream",
     "text": [
      "Naveenroy3435@gmail.com<br><br>Attach File : <a href='http://csupload.cyberlink.com/upload-file/support/cs/2019-06-14/CS002029562/CL_PHOTODIRECTOR_DATA.zip' target=_blank>CL_PHOTODIRECTOR_DATA.zip</a> attach file\n"
     ]
    },
    {
     "name": "stderr",
     "output_type": "stream",
     "text": [
      " 86%|████████▌ | 11380/13309 [12:12<02:12, 14.53it/s]"
     ]
    },
    {
     "name": "stdout",
     "output_type": "stream",
     "text": [
      "jaime arabit jr.  jaime arabit\n"
     ]
    },
    {
     "name": "stderr",
     "output_type": "stream",
     "text": [
      " 94%|█████████▎| 12462/13309 [12:12<01:09, 12.20it/s]"
     ]
    },
    {
     "name": "stdout",
     "output_type": "stream",
     "text": [
      "massenger massenger\n"
     ]
    },
    {
     "name": "stderr",
     "output_type": "stream",
     "text": [
      "\r",
      " 87%|████████▋ | 11532/13315 [12:12<01:13, 24.11it/s]"
     ]
    },
    {
     "name": "stdout",
     "output_type": "stream",
     "text": [
      "Mohmmad   mohmmad\n"
     ]
    },
    {
     "name": "stderr",
     "output_type": "stream",
     "text": [
      " 86%|████████▌ | 11383/13309 [12:12<02:05, 15.39it/s]"
     ]
    },
    {
     "name": "stdout",
     "output_type": "stream",
     "text": [
      "no mic no mic\n"
     ]
    },
    {
     "name": "stderr",
     "output_type": "stream",
     "text": [
      " 83%|████████▎ | 10988/13309 [12:12<01:58, 19.61it/s]"
     ]
    },
    {
     "name": "stdout",
     "output_type": "stream",
     "text": [
      "<br><br>Attach File : <a href='http://csupload.cyberlink.com/upload-file/support/cs/2018-02-05/CS001854090/CL_Report_U_2018-02-06-12-44-43.zip' target=_blank>CL_Report_U_2018-02-06-12-44-43.zip</a> attach file\n"
     ]
    },
    {
     "name": "stderr",
     "output_type": "stream",
     "text": [
      " 86%|████████▌ | 11386/13309 [12:12<01:48, 17.79it/s]"
     ]
    },
    {
     "name": "stdout",
     "output_type": "stream",
     "text": [
      "<br><br>Attach File : <a href='http://csupload.cyberlink.com/upload-file/support/cs/2018-06-26/CS001907587/CL_Report_U_2018-06-26-18-09-49.zip' target=_blank>CL_Report_U_2018-06-26-18-09-49.zip</a> attach file\n"
     ]
    },
    {
     "name": "stderr",
     "output_type": "stream",
     "text": [
      " 78%|███████▊  | 10397/13309 [12:12<03:39, 13.26it/s]"
     ]
    },
    {
     "name": "stdout",
     "output_type": "stream",
     "text": [
      "I want lockout  i want lockout\n"
     ]
    },
    {
     "name": "stderr",
     "output_type": "stream",
     "text": [
      " 83%|████████▎ | 11003/13309 [12:13<01:34, 24.42it/s]"
     ]
    },
    {
     "name": "stdout",
     "output_type": "stream",
     "text": [
      "https://u.cyberlink.com/meeting/805263611 \n",
      "add music add music\n"
     ]
    },
    {
     "name": "stderr",
     "output_type": "stream",
     "text": [
      " 94%|█████████▍| 12479/13309 [12:13<00:56, 14.58it/s]"
     ]
    },
    {
     "name": "stdout",
     "output_type": "stream",
     "text": [
      "how to logout  how to logout\n"
     ]
    },
    {
     "name": "stderr",
     "output_type": "stream",
     "text": [
      " 94%|█████████▍| 12523/13309 [12:13<00:39, 20.01it/s]"
     ]
    },
    {
     "name": "stdout",
     "output_type": "stream",
     "text": [
      "Hi  hi\n"
     ]
    },
    {
     "name": "stderr",
     "output_type": "stream",
     "text": [
      "\r",
      " 80%|████████  | 10706/13309 [12:13<02:02, 21.32it/s]"
     ]
    },
    {
     "name": "stdout",
     "output_type": "stream",
     "text": [
      "Hi <br><br>Attach File : <a href='http://csupload.cyberlink.com/upload-file/support/cs/2019-07-16/CS002039790/screenshot1.jpg' target=_blank>screenshot1.jpg</a> hi attach file\n"
     ]
    },
    {
     "name": "stderr",
     "output_type": "stream",
     "text": [
      " 94%|█████████▍| 12527/13309 [12:13<00:35, 22.17it/s]"
     ]
    },
    {
     "name": "stdout",
     "output_type": "stream",
     "text": [
      "Hello hello\n"
     ]
    },
    {
     "name": "stderr",
     "output_type": "stream",
     "text": [
      " 78%|███████▊  | 10409/13309 [12:13<03:30, 13.75it/s]"
     ]
    },
    {
     "name": "stdout",
     "output_type": "stream",
     "text": [
      "E e\n"
     ]
    },
    {
     "name": "stderr",
     "output_type": "stream",
     "text": [
      " 86%|████████▌ | 11410/13309 [12:13<02:05, 15.08it/s]"
     ]
    },
    {
     "name": "stdout",
     "output_type": "stream",
     "text": [
      "delete this account  delete this account\n"
     ]
    },
    {
     "name": "stderr",
     "output_type": "stream",
     "text": [
      " 83%|████████▎ | 11018/13309 [12:13<02:01, 18.81it/s]"
     ]
    },
    {
     "name": "stdout",
     "output_type": "stream",
     "text": [
      "rfffffhbfrhnrfhbsGFsszdfvds<br><br>Attach File : <a href='http://csupload.cyberlink.com/upload-file/support/cs/2018-10-27/CS001948453/CL_Report_U_2018-10-28-09-54-35.zip' target=_blank>CL_Report_U_2018-10-28-09-54-35.zip</a> rfffffhbfrhnrfhbsgfsszdfvds attach file\n"
     ]
    },
    {
     "name": "stderr",
     "output_type": "stream",
     "text": [
      "\r",
      " 94%|█████████▍| 12530/13309 [12:13<00:40, 19.38it/s]"
     ]
    },
    {
     "name": "stdout",
     "output_type": "stream",
     "text": [
      "connectiom prblm connectiom prblm\n",
      "Delete my account  delete my account\n"
     ]
    },
    {
     "name": "stderr",
     "output_type": "stream",
     "text": [
      " 94%|█████████▍| 12489/13309 [12:14<01:02, 13.17it/s]"
     ]
    },
    {
     "name": "stdout",
     "output_type": "stream",
     "text": [
      "can't  call can t call\n"
     ]
    },
    {
     "name": "stderr",
     "output_type": "stream",
     "text": [
      " 94%|█████████▍| 12533/13309 [12:14<00:37, 20.70it/s]"
     ]
    },
    {
     "name": "stdout",
     "output_type": "stream",
     "text": [
      "can't  call can t call\n"
     ]
    },
    {
     "name": "stderr",
     "output_type": "stream",
     "text": [
      " 94%|█████████▍| 12529/13309 [12:16<00:48, 15.97it/s]"
     ]
    },
    {
     "name": "stdout",
     "output_type": "stream",
     "text": [
      "[1002-003] Cancellation cancellation\n"
     ]
    },
    {
     "name": "stderr",
     "output_type": "stream",
     "text": [
      " 96%|█████████▌| 12746/13309 [12:16<00:42, 13.18it/s]"
     ]
    },
    {
     "name": "stdout",
     "output_type": "stream",
     "text": [
      "﻿<!DOCTYPE HTML PUBLIC \"-//W3C//DTD HTML 3.2//EN\">   <HTML>   <HEAD>   <META NAME=\"Generator\" CONTENT=\"MS Exchange Server version 08.00.0681.000\">   <TITLE> </TITLE>   </HEAD>   <BODY>   <!-- Converted from text/plain format -->     </BODY>   </HTML> <br/>﻿<a target='_blank' href=\"http://csupload.cyberlink.com/upload-file/support/ic/20190119/WM1547875854620_Screenshot_20190119-081417.png\">Screenshot_20190119-081417.png</a><br/><a target='_blank' href=\"http://csupload.cyberlink.com/upload-file/support/ic/20190119/WM1547875854620_Screenshot_20190119-081427.png\">Screenshot_20190119-081427.png</a><br/><a target='_blank' href=\"http://csupload.cyberlink.com/upload-file/support/ic/20190119/WM1547875854620_Screenshot_20190119-081433.png\">Screenshot_20190119-081433.png</a><br/><a target='_blank' href=\"http://csupload.cyberlink.com/upload-file/support/ic/20190119/WM1547875854620_Screenshot_20190119-081504.png\">Screenshot_20190119-081504.png</a><br/><a target='_blank' href=\"http://csupload.cyberlink.com/upload-file/support/ic/20190119/WM1547875854620_Screenshot_20190119-081518.png\">Screenshot_20190119-081518.png</a><br/> \n"
     ]
    },
    {
     "name": "stderr",
     "output_type": "stream",
     "text": [
      " 86%|████████▋ | 11491/13309 [12:18<01:29, 20.36it/s]"
     ]
    },
    {
     "name": "stdout",
     "output_type": "stream",
     "text": [
      "﻿<html> <head>   </head> <body> Can't update.</body> </html> <br/>﻿ can t\n"
     ]
    },
    {
     "name": "stderr",
     "output_type": "stream",
     "text": [
      " 96%|█████████▌| 12780/13309 [12:18<00:31, 16.99it/s]"
     ]
    },
    {
     "name": "stdout",
     "output_type": "stream",
     "text": [
      "Lost my key. lose my\n"
     ]
    },
    {
     "name": "stderr",
     "output_type": "stream",
     "text": [
      " 96%|█████████▋| 12818/13309 [12:21<00:42, 11.54it/s]"
     ]
    },
    {
     "name": "stdout",
     "output_type": "stream",
     "text": [
      "﻿<html><div dir=\"auto\"> djrocker</div>   </html><br/>﻿ djrocker\n"
     ]
    },
    {
     "name": "stderr",
     "output_type": "stream",
     "text": [
      " 95%|█████████▍| 12618/13309 [12:22<00:50, 13.58it/s]"
     ]
    },
    {
     "name": "stdout",
     "output_type": "stream",
     "text": [
      "﻿<html><div dir=\"auto\"> Doesnt work</div>   </html><br/>﻿ doesnt work\n"
     ]
    },
    {
     "name": "stderr",
     "output_type": "stream",
     "text": [
      " 82%|████████▏ | 10881/13309 [12:22<01:56, 20.84it/s]"
     ]
    },
    {
     "name": "stdout",
     "output_type": "stream",
     "text": [
      "﻿<html><div dir=\"auto\"> ES file explorer</div>   </html><br/>﻿ es file explorer\n"
     ]
    },
    {
     "name": "stderr",
     "output_type": "stream",
     "text": [
      " 95%|█████████▌| 12671/13309 [12:25<00:48, 13.07it/s]"
     ]
    },
    {
     "name": "stdout",
     "output_type": "stream",
     "text": [
      "Can I change to.monthly? can i change\n"
     ]
    },
    {
     "name": "stderr",
     "output_type": "stream",
     "text": [
      " 97%|█████████▋| 12899/13309 [12:27<00:39, 10.49it/s]"
     ]
    },
    {
     "name": "stdout",
     "output_type": "stream",
     "text": [
      "I found it....nevermind i find\n"
     ]
    },
    {
     "name": "stderr",
     "output_type": "stream",
     "text": [
      " 87%|████████▋ | 11636/13309 [12:28<01:59, 13.97it/s]"
     ]
    },
    {
     "name": "stdout",
     "output_type": "stream",
     "text": [
      "i like you i like you\n"
     ]
    },
    {
     "name": "stderr",
     "output_type": "stream",
     "text": [
      " 96%|█████████▌| 12712/13309 [12:28<00:46, 12.95it/s]"
     ]
    },
    {
     "name": "stdout",
     "output_type": "stream",
     "text": [
      "Activation online? activation online\n"
     ]
    },
    {
     "name": "stderr",
     "output_type": "stream",
     "text": [
      " 97%|█████████▋| 12928/13309 [12:29<00:27, 14.00it/s]"
     ]
    },
    {
     "name": "stdout",
     "output_type": "stream",
     "text": [
      "download &install program download install program\n"
     ]
    },
    {
     "name": "stderr",
     "output_type": "stream",
     "text": [
      " 96%|█████████▋| 12831/13309 [12:30<00:24, 19.67it/s]"
     ]
    },
    {
     "name": "stdout",
     "output_type": "stream",
     "text": [
      "Download the softwer. download the\n"
     ]
    },
    {
     "name": "stderr",
     "output_type": "stream",
     "text": [
      " 80%|███████▉  | 10599/13309 [12:30<04:06, 10.98it/s]"
     ]
    },
    {
     "name": "stdout",
     "output_type": "stream",
     "text": [
      "drivers install driver install\n"
     ]
    },
    {
     "name": "stderr",
     "output_type": "stream",
     "text": [
      " 97%|█████████▋| 12948/13309 [12:30<00:25, 13.93it/s]"
     ]
    },
    {
     "name": "stdout",
     "output_type": "stream",
     "text": [
      "for windows 10 thanks for window thanks\n"
     ]
    },
    {
     "name": "stderr",
     "output_type": "stream",
     "text": [
      " 80%|███████▉  | 10601/13309 [12:30<04:36,  9.81it/s]"
     ]
    },
    {
     "name": "stdout",
     "output_type": "stream",
     "text": [
      "later<br><br>Attach File : <a href='http://csupload.cyberlink.com/upload-file/support/cs/2018-10-17/CS001945026/CL_PHOTODIRECTOR_DATA.zip' target=_blank>CL_PHOTODIRECTOR_DATA.zip</a> later attach file\n"
     ]
    },
    {
     "name": "stderr",
     "output_type": "stream",
     "text": [
      " 80%|███████▉  | 10603/13309 [12:30<04:16, 10.55it/s]"
     ]
    },
    {
     "name": "stdout",
     "output_type": "stream",
     "text": [
      "like<br><br>Attach File : <a href='http://csupload.cyberlink.com/upload-file/support/cs/2019-03-19/CS002002174/CL_PHOTODIRECTOR_DATA.zip' target=_blank>CL_PHOTODIRECTOR_DATA.zip</a> like attach file\n"
     ]
    },
    {
     "name": "stderr",
     "output_type": "stream",
     "text": [
      " 97%|█████████▋| 12972/13309 [12:31<00:19, 16.92it/s]"
     ]
    },
    {
     "name": "stdout",
     "output_type": "stream",
     "text": [
      "Lovely <br><br>Attach File : <a href='http://csupload.cyberlink.com/upload-file/support/cs/2019-06-22/CS002031790/CL_PHOTODIRECTOR_DATA.zip' target=_blank>CL_PHOTODIRECTOR_DATA.zip</a> lovely attach file\n"
     ]
    },
    {
     "name": "stderr",
     "output_type": "stream",
     "text": [
      " 97%|█████████▋| 12882/13309 [12:31<00:15, 27.62it/s]"
     ]
    },
    {
     "name": "stdout",
     "output_type": "stream",
     "text": [
      "lovely<br><br>Attach File : <a href='http://csupload.cyberlink.com/upload-file/support/cs/2019-04-11/CS002011358/CL_PHOTODIRECTOR_DATA.zip' target=_blank>CL_PHOTODIRECTOR_DATA.zip</a> lovely attach file\n"
     ]
    },
    {
     "name": "stderr",
     "output_type": "stream",
     "text": [
      " 85%|████████▍ | 11288/13309 [12:31<02:22, 14.17it/s]"
     ]
    },
    {
     "name": "stdout",
     "output_type": "stream",
     "text": [
      "mahesh<br><br>Attach File : <a href='http://csupload.cyberlink.com/upload-file/support/cs/2018-10-17/CS001945039/CL_PHOTODIRECTOR_DATA.zip' target=_blank>CL_PHOTODIRECTOR_DATA.zip</a> mahesh attach file\n"
     ]
    },
    {
     "name": "stderr",
     "output_type": "stream",
     "text": [
      " 98%|█████████▊| 12978/13309 [12:31<00:18, 18.33it/s]"
     ]
    },
    {
     "name": "stdout",
     "output_type": "stream",
     "text": [
      "manik<br><br>Attach File : <a href='http://csupload.cyberlink.com/upload-file/support/cs/2019-02-25/CS001994901/CL_PHOTODIRECTOR_DATA.zip' target=_blank>CL_PHOTODIRECTOR_DATA.zip</a> manik attach file\n"
     ]
    },
    {
     "name": "stderr",
     "output_type": "stream",
     "text": [
      " 89%|████████▉ | 11858/13315 [12:32<05:40,  4.28it/s]"
     ]
    },
    {
     "name": "stdout",
     "output_type": "stream",
     "text": [
      "digitale code kwijt digitale code kwijt\n"
     ]
    },
    {
     "name": "stderr",
     "output_type": "stream",
     "text": [
      " 96%|█████████▋| 12812/13309 [12:34<00:21, 23.56it/s]"
     ]
    },
    {
     "name": "stdout",
     "output_type": "stream",
     "text": [
      "PowerDirector 13 Exceeded Activation Limit. powerdirector exceed activation\n"
     ]
    },
    {
     "name": "stderr",
     "output_type": "stream",
     "text": [
      " 88%|████████▊ | 11744/13309 [12:35<01:38, 15.92it/s]"
     ]
    },
    {
     "name": "stdout",
     "output_type": "stream",
     "text": [
      "Unable to PowerDVD 16 unable to powerdvd\n"
     ]
    },
    {
     "name": "stderr",
     "output_type": "stream",
     "text": [
      " 98%|█████████▊| 13034/13309 [12:35<00:15, 17.79it/s]"
     ]
    },
    {
     "name": "stdout",
     "output_type": "stream",
     "text": [
      "﻿<html><div dir=\"auto\"> Code&nbsp;</div>   </html><br/>﻿<a target='_blank' href=\"http://csupload.cyberlink.com/upload-file/support/ic/20180123/Screenshot_20180122-224532.png\">Screenshot_20180122-224532.png</a><br/> code nbsp\n"
     ]
    },
    {
     "name": "stderr",
     "output_type": "stream",
     "text": [
      " 97%|█████████▋| 12848/13309 [12:36<00:26, 17.63it/s]"
     ]
    },
    {
     "name": "stdout",
     "output_type": "stream",
     "text": [
      "Key is invalid   key be invalid\n"
     ]
    },
    {
     "name": "stderr",
     "output_type": "stream",
     "text": [
      " 86%|████████▌ | 11386/13309 [12:37<02:14, 14.30it/s]"
     ]
    },
    {
     "name": "stdout",
     "output_type": "stream",
     "text": [
      "mbvbsd. d <br><br>Attach File : <a href='http://csupload.cyberlink.com/upload-file/support/cs/2018-02-23/CS001861112/DeviceInfo.txt' target=_blank>DeviceInfo.txt</a> d attach file\n"
     ]
    },
    {
     "name": "stderr",
     "output_type": "stream",
     "text": [
      " 84%|████████▍ | 11165/13309 [12:37<02:07, 16.88it/s]"
     ]
    },
    {
     "name": "stdout",
     "output_type": "stream",
     "text": [
      "cant activate cant activate\n"
     ]
    },
    {
     "name": "stderr",
     "output_type": "stream",
     "text": [
      " 98%|█████████▊| 13082/13309 [12:38<00:19, 11.94it/s]"
     ]
    },
    {
     "name": "stdout",
     "output_type": "stream",
     "text": [
      "mbvbsd. d <br><br>Attach File : <a href='http://csupload.cyberlink.com/upload-file/support/cs/2018-02-23/CS001861106/DeviceInfo.txt' target=_blank>DeviceInfo.txt</a> d attach file\n"
     ]
    },
    {
     "name": "stderr",
     "output_type": "stream",
     "text": [
      " 97%|█████████▋| 12899/13309 [12:38<00:23, 17.20it/s]"
     ]
    },
    {
     "name": "stdout",
     "output_type": "stream",
     "text": [
      "mbvbsd. d <br><br>Attach File : <a href='http://csupload.cyberlink.com/upload-file/support/cs/2018-02-23/CS001861107/DeviceInfo.txt' target=_blank>DeviceInfo.txt</a> d attach file\n"
     ]
    },
    {
     "name": "stderr",
     "output_type": "stream",
     "text": [
      "\r",
      " 98%|█████████▊| 13024/13309 [12:38<00:13, 21.18it/s]"
     ]
    },
    {
     "name": "stdout",
     "output_type": "stream",
     "text": [
      "mbvbsd. d <br><br>Attach File : <a href='http://csupload.cyberlink.com/upload-file/support/cs/2018-02-23/CS001861108/DeviceInfo.txt' target=_blank>DeviceInfo.txt</a> d attach file\n",
      "mbvbsd. d <br><br>Attach File : <a href='http://csupload.cyberlink.com/upload-file/support/cs/2018-02-23/CS001861109/DeviceInfo.txt' target=_blank>DeviceInfo.txt</a> d attach file\n"
     ]
    },
    {
     "name": "stderr",
     "output_type": "stream",
     "text": [
      " 98%|█████████▊| 13084/13309 [12:38<00:19, 11.27it/s]"
     ]
    },
    {
     "name": "stdout",
     "output_type": "stream",
     "text": [
      "mbvbsd. d <br><br>Attach File : <a href='http://csupload.cyberlink.com/upload-file/support/cs/2018-02-23/CS001861110/DeviceInfo.txt' target=_blank>DeviceInfo.txt</a> d attach file\n",
      "mbvbsd. d <br><br>Attach File : <a href='http://csupload.cyberlink.com/upload-file/support/cs/2018-02-23/CS001861111/DeviceInfo.txt' target=_blank>DeviceInfo.txt</a> d attach file\n"
     ]
    },
    {
     "name": "stderr",
     "output_type": "stream",
     "text": [
      " 89%|████████▉ | 11817/13309 [12:39<01:20, 18.58it/s]"
     ]
    },
    {
     "name": "stdout",
     "output_type": "stream",
     "text": [
      "﻿<html><div dir=\"auto\"> Chroma key supported<div dir=\"auto\"> <br> </div> </div>   </html><br/>﻿ chroma key support\n"
     ]
    },
    {
     "name": "stderr",
     "output_type": "stream",
     "text": [
      "\r",
      " 98%|█████████▊| 13091/13309 [12:39<00:18, 12.11it/s]"
     ]
    },
    {
     "name": "stdout",
     "output_type": "stream",
     "text": [
      "﻿<html><div dir=\"auto\"> Chroma key</div>   </html><br/>﻿ chroma key\n"
     ]
    },
    {
     "name": "stderr",
     "output_type": "stream",
     "text": [
      " 97%|█████████▋| 12914/13309 [12:39<00:19, 20.10it/s]"
     ]
    },
    {
     "name": "stdout",
     "output_type": "stream",
     "text": [
      "﻿<html><div dir=\"auto\"> Code&nbsp;</div>   </html><br/>﻿ code nbsp\n"
     ]
    },
    {
     "name": "stderr",
     "output_type": "stream",
     "text": [
      " 81%|████████  | 10716/13309 [12:39<02:54, 14.85it/s]"
     ]
    },
    {
     "name": "stdout",
     "output_type": "stream",
     "text": [
      "mbvbsd. d <br><br>Attach File : <a href='http://csupload.cyberlink.com/upload-file/support/cs/2018-02-23/CS001861104/DeviceInfo.txt' target=_blank>DeviceInfo.txt</a> d attach file\n"
     ]
    },
    {
     "name": "stderr",
     "output_type": "stream",
     "text": [
      " 98%|█████████▊| 13093/13309 [12:39<00:16, 12.89it/s]"
     ]
    },
    {
     "name": "stdout",
     "output_type": "stream",
     "text": [
      "mbvbsd. d <br><br>Attach File : <a href='http://csupload.cyberlink.com/upload-file/support/cs/2018-02-23/CS001861105/DeviceInfo.txt' target=_blank>DeviceInfo.txt</a> d attach file\n"
     ]
    },
    {
     "name": "stderr",
     "output_type": "stream",
     "text": [
      " 86%|████████▌ | 11427/13309 [12:39<01:48, 17.35it/s]"
     ]
    },
    {
     "name": "stdout",
     "output_type": "stream",
     "text": [
      "﻿<html><div dir=\"auto\"> Daved</div>   </html><br/>﻿ daved\n"
     ]
    },
    {
     "name": "stderr",
     "output_type": "stream",
     "text": [
      " 89%|████████▉ | 11830/13309 [12:40<01:18, 18.84it/s]"
     ]
    },
    {
     "name": "stdout",
     "output_type": "stream",
     "text": [
      "﻿<html><div dir=\"auto\"> Dawanload size<div dir=\"auto\"> Kinemaster</div> </div>   </html><br/>﻿ dawanload size kinemaster\n"
     ]
    },
    {
     "name": "stderr",
     "output_type": "stream",
     "text": [
      " 99%|█████████▉| 13150/13309 [12:43<00:11, 13.86it/s]"
     ]
    },
    {
     "name": "stdout",
     "output_type": "stream",
     "text": [
      "Help me find   1.\"CyberLink_PowerDVD16_Ultra_DVD161012-01.exe\"  2. CyberLink_ScreenRecorder_SRC161109-011.exe  3. CyberLink_PhotoDirector8_Deluxe_PTD161220-03.exe  4.    1_CyberLink_Power2Go11_Deluxe_P2G160727-01.exe  5.  2_Power2Go11_ContentPack_PGM160628-02.exe help me find\n"
     ]
    },
    {
     "name": "stderr",
     "output_type": "stream",
     "text": [
      " 99%|█████████▊| 13119/13309 [12:44<00:11, 16.35it/s]"
     ]
    },
    {
     "name": "stdout",
     "output_type": "stream",
     "text": [
      "Test email. Please ignore. Thanks test please thanks\n"
     ]
    },
    {
     "name": "stderr",
     "output_type": "stream",
     "text": [
      " 98%|█████████▊| 13005/13309 [12:44<00:15, 19.97it/s]"
     ]
    },
    {
     "name": "stdout",
     "output_type": "stream",
     "text": [
      "test test\n"
     ]
    },
    {
     "name": "stderr",
     "output_type": "stream",
     "text": [
      "\r",
      " 90%|█████████ | 12045/13315 [12:44<01:10, 17.94it/s]"
     ]
    },
    {
     "name": "stdout",
     "output_type": "stream",
     "text": [
      "test test\n"
     ]
    },
    {
     "name": "stderr",
     "output_type": "stream",
     "text": [
      " 89%|████████▉ | 11906/13309 [12:44<01:29, 15.59it/s]"
     ]
    },
    {
     "name": "stdout",
     "output_type": "stream",
     "text": [
      "test test\n"
     ]
    },
    {
     "name": "stderr",
     "output_type": "stream",
     "text": [
      " 99%|█████████▉| 13172/13309 [12:44<00:13, 10.22it/s]"
     ]
    },
    {
     "name": "stdout",
     "output_type": "stream",
     "text": [
      "test test\n"
     ]
    },
    {
     "name": "stderr",
     "output_type": "stream",
     "text": [
      " 89%|████████▉ | 11908/13309 [12:45<01:25, 16.37it/s]"
     ]
    },
    {
     "name": "stdout",
     "output_type": "stream",
     "text": [
      "test test\n"
     ]
    },
    {
     "name": "stderr",
     "output_type": "stream",
     "text": [
      " 86%|████████▋ | 11504/13309 [12:45<02:10, 13.80it/s]"
     ]
    },
    {
     "name": "stdout",
     "output_type": "stream",
     "text": [
      "test test\n"
     ]
    },
    {
     "name": "stderr",
     "output_type": "stream",
     "text": [
      " 85%|████████▍ | 11303/13309 [12:45<01:39, 20.12it/s]"
     ]
    },
    {
     "name": "stdout",
     "output_type": "stream",
     "text": [
      "test test\n"
     ]
    },
    {
     "name": "stderr",
     "output_type": "stream",
     "text": [
      "\r",
      " 99%|█████████▊| 13125/13309 [12:45<00:13, 14.01it/s]"
     ]
    },
    {
     "name": "stdout",
     "output_type": "stream",
     "text": [
      "test test\n"
     ]
    },
    {
     "name": "stderr",
     "output_type": "stream",
     "text": [
      " 85%|████████▍ | 11306/13309 [12:45<01:34, 21.22it/s]"
     ]
    },
    {
     "name": "stdout",
     "output_type": "stream",
     "text": [
      "Thanks Very Much!! thanks very much\n"
     ]
    },
    {
     "name": "stderr",
     "output_type": "stream",
     "text": [
      " 81%|████████  | 10789/13309 [12:45<03:48, 11.03it/s]"
     ]
    },
    {
     "name": "stdout",
     "output_type": "stream",
     "text": [
      "For testing, please ignore. Thanks. for test please\n"
     ]
    },
    {
     "name": "stderr",
     "output_type": "stream",
     "text": [
      " 98%|█████████▊| 13096/13309 [12:49<00:11, 19.01it/s]"
     ]
    },
    {
     "name": "stdout",
     "output_type": "stream",
     "text": [
      "Generate code generate code\n"
     ]
    },
    {
     "name": "stderr",
     "output_type": "stream",
     "text": [
      " 87%|████████▋ | 11596/13309 [12:51<02:21, 12.09it/s]"
     ]
    },
    {
     "name": "stdout",
     "output_type": "stream",
     "text": [
      "issue resolved, never mind. issue resolve never\n"
     ]
    },
    {
     "name": "stderr",
     "output_type": "stream",
     "text": [
      " 82%|████████▏ | 10885/13309 [12:52<02:56, 13.77it/s]"
     ]
    },
    {
     "name": "stdout",
     "output_type": "stream",
     "text": [
      "Umm maybe,   cphat8055@aol.com umm maybe\n",
      "j<br><br>Attach File : <a href='http://csupload.cyberlink.com/upload-file/support/cs/2018-04-28/CS001884459/CL_PHOTODIRECTOR_DATA.zip' target=_blank>CL_PHOTODIRECTOR_DATA.zip</a> j attach file\n"
     ]
    },
    {
     "name": "stderr",
     "output_type": "stream",
     "text": [
      " 90%|█████████ | 12026/13309 [12:52<01:06, 19.16it/s]"
     ]
    },
    {
     "name": "stdout",
     "output_type": "stream",
     "text": [
      "need product keys need product key\n",
      "jakara <br><br>Attach File : <a href='http://csupload.cyberlink.com/upload-file/support/cs/2018-12-19/CS001967767/CL_PHOTODIRECTOR_DATA.zip' target=_blank>CL_PHOTODIRECTOR_DATA.zip</a> jakara attach file\n"
     ]
    },
    {
     "name": "stderr",
     "output_type": "stream",
     "text": [
      " 82%|████████▏ | 10889/13309 [12:52<02:24, 16.72it/s]"
     ]
    },
    {
     "name": "stdout",
     "output_type": "stream",
     "text": [
      "jchbj<br><br>Attach File : <a href='http://csupload.cyberlink.com/upload-file/support/cs/2018-11-24/CS001958018/CL_PHOTODIRECTOR_DATA.zip' target=_blank>CL_PHOTODIRECTOR_DATA.zip</a> jchbj attach file\n"
     ]
    },
    {
     "name": "stderr",
     "output_type": "stream",
     "text": [
      "\r",
      " 99%|█████████▉| 13153/13309 [12:52<00:08, 19.18it/s]"
     ]
    },
    {
     "name": "stdout",
     "output_type": "stream",
     "text": [
      "jena<br><br>Attach File : <a href='http://csupload.cyberlink.com/upload-file/support/cs/2018-02-18/CS001858849/CL_PHOTODIRECTOR_DATA.zip' target=_blank>CL_PHOTODIRECTOR_DATA.zip</a> jena attach file\n"
     ]
    },
    {
     "name": "stderr",
     "output_type": "stream",
     "text": [
      " 90%|█████████ | 12029/13309 [12:52<01:02, 20.59it/s]"
     ]
    },
    {
     "name": "stdout",
     "output_type": "stream",
     "text": [
      "ji<br><br>Attach File : <a href='http://csupload.cyberlink.com/upload-file/support/cs/2019-05-19/CS002022461/CL_PHOTODIRECTOR_DATA.zip' target=_blank>CL_PHOTODIRECTOR_DATA.zip</a> ji attach file\n"
     ]
    },
    {
     "name": "stderr",
     "output_type": "stream",
     "text": [
      "\r",
      "100%|█████████▉| 13269/13309 [12:52<00:01, 31.04it/s]"
     ]
    },
    {
     "name": "stdout",
     "output_type": "stream",
     "text": [
      "jjgffdgn<br><br>Attach File : <a href='http://csupload.cyberlink.com/upload-file/support/cs/2018-05-19/CS001891657/CL_PHOTODIRECTOR_DATA.zip' target=_blank>CL_PHOTODIRECTOR_DATA.zip</a> jjgffdgn attach file\n"
     ]
    },
    {
     "name": "stderr",
     "output_type": "stream",
     "text": [
      " 82%|████████▏ | 10893/13309 [12:52<02:09, 18.59it/s]"
     ]
    },
    {
     "name": "stdout",
     "output_type": "stream",
     "text": [
      "jjjji<br><br>Attach File : <a href='http://csupload.cyberlink.com/upload-file/support/cs/2018-10-10/CS001942683/CL_PHOTODIRECTOR_DATA.zip' target=_blank>CL_PHOTODIRECTOR_DATA.zip</a> jjjji attach file\n"
     ]
    },
    {
     "name": "stderr",
     "output_type": "stream",
     "text": [
      " 92%|█████████▏| 12184/13315 [12:52<01:36, 11.71it/s]"
     ]
    },
    {
     "name": "stdout",
     "output_type": "stream",
     "text": [
      "jjjjj<br><br>Attach File : <a href='http://csupload.cyberlink.com/upload-file/support/cs/2019-04-29/CS002016891/CL_PHOTODIRECTOR_DATA.zip' target=_blank>CL_PHOTODIRECTOR_DATA.zip</a> jjjjj attach file\n"
     ]
    },
    {
     "name": "stderr",
     "output_type": "stream",
     "text": [
      "\r",
      "100%|█████████▉| 13273/13309 [12:52<00:01, 31.58it/s]"
     ]
    },
    {
     "name": "stdout",
     "output_type": "stream",
     "text": [
      "junadkhan3300@gmail.com<br><br>Attach File : <a href='http://csupload.cyberlink.com/upload-file/support/cs/2019-03-09/CS001998774/CL_PHOTODIRECTOR_DATA.zip' target=_blank>CL_PHOTODIRECTOR_DATA.zip</a> attach file\n"
     ]
    },
    {
     "name": "stderr",
     "output_type": "stream",
     "text": [
      " 99%|█████████▉| 13162/13309 [12:52<00:06, 22.38it/s]"
     ]
    },
    {
     "name": "stdout",
     "output_type": "stream",
     "text": [
      "test test\n"
     ]
    },
    {
     "name": "stderr",
     "output_type": "stream",
     "text": [
      "100%|█████████▉| 13282/13309 [12:52<00:00, 33.29it/s]"
     ]
    },
    {
     "name": "stdout",
     "output_type": "stream",
     "text": [
      "k<br><br>Attach File : <a href='http://csupload.cyberlink.com/upload-file/support/cs/2019-05-08/CS002019394/CL_PHOTODIRECTOR_DATA.zip' target=_blank>CL_PHOTODIRECTOR_DATA.zip</a> k attach file\n"
     ]
    },
    {
     "name": "stderr",
     "output_type": "stream",
     "text": [
      " 99%|█████████▉| 13165/13309 [12:52<00:07, 18.88it/s]"
     ]
    },
    {
     "name": "stdout",
     "output_type": "stream",
     "text": [
      "kdkkkk<br><br>Attach File : <a href='http://csupload.cyberlink.com/upload-file/support/cs/2019-03-04/CS001997447/CL_PHOTODIRECTOR_DATA.zip' target=_blank>CL_PHOTODIRECTOR_DATA.zip</a> kdkkkk attach file\n"
     ]
    },
    {
     "name": "stderr",
     "output_type": "stream",
     "text": [
      " 86%|████████▌ | 11461/13309 [12:52<01:18, 23.47it/s]"
     ]
    },
    {
     "name": "stdout",
     "output_type": "stream",
     "text": [
      "unable to activate unable to activate\n"
     ]
    },
    {
     "name": "stderr",
     "output_type": "stream",
     "text": [
      " 87%|████████▋ | 11623/13309 [12:52<01:30, 18.70it/s]"
     ]
    },
    {
     "name": "stdout",
     "output_type": "stream",
     "text": [
      "kira<br><br>Attach File : <a href='http://csupload.cyberlink.com/upload-file/support/cs/2018-10-21/CS001946272/CL_PHOTODIRECTOR_DATA.zip' target=_blank>CL_PHOTODIRECTOR_DATA.zip</a> kira attach file\n"
     ]
    },
    {
     "name": "stderr",
     "output_type": "stream",
     "text": [
      " 90%|█████████ | 12044/13309 [12:53<00:59, 21.37it/s]"
     ]
    },
    {
     "name": "stdout",
     "output_type": "stream",
     "text": [
      "kkhb<br><br>Attach File : <a href='http://csupload.cyberlink.com/upload-file/support/cs/2018-12-21/CS001968964/CL_PHOTODIRECTOR_DATA.zip' target=_blank>CL_PHOTODIRECTOR_DATA.zip</a> kkhb attach file\n"
     ]
    },
    {
     "name": "stderr",
     "output_type": "stream",
     "text": [
      "100%|█████████▉| 13298/13309 [12:53<00:00, 40.90it/s]"
     ]
    },
    {
     "name": "stdout",
     "output_type": "stream",
     "text": [
      "kuldeep <br><br>Attach File : <a href='http://csupload.cyberlink.com/upload-file/support/cs/2018-10-15/CS001944230/CL_PHOTODIRECTOR_DATA.zip' target=_blank>CL_PHOTODIRECTOR_DATA.zip</a> kuldeep attach file\n"
     ]
    },
    {
     "name": "stderr",
     "output_type": "stream",
     "text": [
      " 82%|████████▏ | 10912/13309 [12:53<02:04, 19.20it/s]"
     ]
    },
    {
     "name": "stdout",
     "output_type": "stream",
     "text": [
      "need activaction codes. need activaction\n"
     ]
    },
    {
     "name": "stderr",
     "output_type": "stream",
     "text": [
      "100%|█████████▉| 13308/13309 [12:53<00:00, 20.19it/s]\n",
      " 91%|█████████ | 12061/13309 [12:53<01:14, 16.85it/s]\n",
      " 92%|█████████▏| 12269/13315 [12:56<00:54, 19.18it/s]"
     ]
    },
    {
     "name": "stdout",
     "output_type": "stream",
     "text": [
      "co zrobić ? co zrobi\n"
     ]
    },
    {
     "name": "stderr",
     "output_type": "stream",
     "text": [
      " 92%|█████████▏| 12286/13315 [12:56<00:57, 17.82it/s]"
     ]
    },
    {
     "name": "stdout",
     "output_type": "stream",
     "text": [
      "product key issue.   product key\n"
     ]
    },
    {
     "name": "stderr",
     "output_type": "stream",
     "text": [
      " 87%|████████▋ | 11583/13309 [12:57<01:11, 24.08it/s]"
     ]
    },
    {
     "name": "stdout",
     "output_type": "stream",
     "text": [
      "how? how\n"
     ]
    },
    {
     "name": "stderr",
     "output_type": "stream",
     "text": [
      " 92%|█████████▏| 12305/13315 [12:57<00:49, 20.31it/s]"
     ]
    },
    {
     "name": "stdout",
     "output_type": "stream",
     "text": [
      "need a code need a code\n"
     ]
    },
    {
     "name": "stderr",
     "output_type": "stream",
     "text": [
      " 88%|████████▊ | 11646/13309 [12:59<01:00, 27.50it/s]\n",
      " 84%|████████▎ | 11129/13309 [13:02<00:54, 40.03it/s]"
     ]
    },
    {
     "name": "stdout",
     "output_type": "stream",
     "text": [
      "lost key lose key\n"
     ]
    },
    {
     "name": "stderr",
     "output_type": "stream",
     "text": [
      " 89%|████████▉ | 11849/13309 [13:02<00:50, 28.70it/s]"
     ]
    },
    {
     "name": "stdout",
     "output_type": "stream",
     "text": [
      "reset powerdvd completely reset powerdvd completely\n"
     ]
    },
    {
     "name": "stderr",
     "output_type": "stream",
     "text": [
      " 84%|████████▍ | 11155/13309 [13:03<01:08, 31.35it/s]"
     ]
    },
    {
     "name": "stdout",
     "output_type": "stream",
     "text": [
      "https://www.dropbox.com/s/m5xpypv1yrs0s85/20190116_164953.jpg?dl=0 \n"
     ]
    },
    {
     "name": "stderr",
     "output_type": "stream",
     "text": [
      " 94%|█████████▎| 12451/13315 [13:04<00:33, 25.46it/s]"
     ]
    },
    {
     "name": "stdout",
     "output_type": "stream",
     "text": [
      "Version 5 version\n"
     ]
    },
    {
     "name": "stderr",
     "output_type": "stream",
     "text": [
      " 88%|████████▊ | 11771/13309 [13:04<00:50, 30.20it/s]"
     ]
    },
    {
     "name": "stdout",
     "output_type": "stream",
     "text": [
      "Power Director power director\n"
     ]
    },
    {
     "name": "stderr",
     "output_type": "stream",
     "text": [
      "\r",
      " 93%|█████████▎| 12322/13309 [13:04<00:52, 18.90it/s]"
     ]
    },
    {
     "name": "stdout",
     "output_type": "stream",
     "text": [
      "PowerDirector powerdirector\n"
     ]
    },
    {
     "name": "stderr",
     "output_type": "stream",
     "text": [
      " 89%|████████▊ | 11790/13309 [13:05<00:42, 35.96it/s]"
     ]
    },
    {
     "name": "stdout",
     "output_type": "stream",
     "text": [
      "Lost Product Key! lose product key\n"
     ]
    },
    {
     "name": "stderr",
     "output_type": "stream",
     "text": [
      "\r",
      " 84%|████████▍ | 11230/13309 [13:05<01:08, 30.21it/s]"
     ]
    },
    {
     "name": "stdout",
     "output_type": "stream",
     "text": [
      "lost reg key lose reg key\n"
     ]
    },
    {
     "name": "stderr",
     "output_type": "stream",
     "text": [
      " 89%|████████▉ | 11834/13309 [13:06<00:48, 30.22it/s]"
     ]
    },
    {
     "name": "stdout",
     "output_type": "stream",
     "text": [
      "Thank you. thank\n"
     ]
    },
    {
     "name": "stderr",
     "output_type": "stream",
     "text": [
      " 85%|████████▍ | 11293/13309 [13:06<00:51, 39.47it/s]"
     ]
    },
    {
     "name": "stdout",
     "output_type": "stream",
     "text": [
      "Losy Key losy key\n"
     ]
    },
    {
     "name": "stderr",
     "output_type": "stream",
     "text": [
      " 89%|████████▉ | 11863/13309 [13:07<01:02, 23.05it/s]"
     ]
    },
    {
     "name": "stdout",
     "output_type": "stream",
     "text": [
      "Fast Rendering Technology. fast render\n"
     ]
    },
    {
     "name": "stderr",
     "output_type": "stream",
     "text": [
      " 93%|█████████▎| 12441/13309 [13:09<00:27, 31.59it/s]"
     ]
    },
    {
     "name": "stdout",
     "output_type": "stream",
     "text": [
      "It keeps cutting out. it keep cut\n"
     ]
    },
    {
     "name": "stderr",
     "output_type": "stream",
     "text": [
      " 85%|████████▌ | 11374/13309 [13:09<01:09, 27.84it/s]"
     ]
    },
    {
     "name": "stdout",
     "output_type": "stream",
     "text": [
      "no activation key no activation key\n"
     ]
    },
    {
     "name": "stderr",
     "output_type": "stream",
     "text": [
      " 94%|█████████▍| 12487/13309 [13:10<00:39, 20.94it/s]"
     ]
    },
    {
     "name": "stdout",
     "output_type": "stream",
     "text": [
      "youcam 6 youcam\n"
     ]
    },
    {
     "name": "stderr",
     "output_type": "stream",
     "text": [
      " 95%|█████████▍| 12598/13315 [13:11<00:37, 19.21it/s]"
     ]
    },
    {
     "name": "stdout",
     "output_type": "stream",
     "text": [
      "need key need key\n"
     ]
    },
    {
     "name": "stderr",
     "output_type": "stream",
     "text": [
      " 91%|█████████ | 12061/13309 [13:11<00:48, 25.77it/s]"
     ]
    },
    {
     "name": "stdout",
     "output_type": "stream",
     "text": [
      "need to activate need to activate\n"
     ]
    },
    {
     "name": "stderr",
     "output_type": "stream",
     "text": [
      " 86%|████████▌ | 11443/13309 [13:12<01:06, 27.86it/s]"
     ]
    },
    {
     "name": "stdout",
     "output_type": "stream",
     "text": [
      "lost activation key lose activation key\n"
     ]
    },
    {
     "name": "stderr",
     "output_type": "stream",
     "text": [
      " 94%|█████████▍| 12511/13309 [13:12<00:48, 16.34it/s]"
     ]
    },
    {
     "name": "stdout",
     "output_type": "stream",
     "text": [
      "what happened what happen\n"
     ]
    },
    {
     "name": "stderr",
     "output_type": "stream",
     "text": [
      " 91%|█████████ | 12114/13309 [13:12<00:31, 38.14it/s]"
     ]
    },
    {
     "name": "stdout",
     "output_type": "stream",
     "text": [
      "tried everystep tried everystep\n"
     ]
    },
    {
     "name": "stderr",
     "output_type": "stream",
     "text": [
      " 87%|████████▋ | 11581/13309 [13:17<00:54, 31.44it/s]"
     ]
    },
    {
     "name": "stdout",
     "output_type": "stream",
     "text": [
      "MediaEspresso will not open. mediaespresso will not\n"
     ]
    },
    {
     "name": "stderr",
     "output_type": "stream",
     "text": [
      " 95%|█████████▍| 12643/13309 [13:17<00:30, 21.58it/s]"
     ]
    },
    {
     "name": "stdout",
     "output_type": "stream",
     "text": [
      "Lost product product key.  lose product product\n"
     ]
    },
    {
     "name": "stderr",
     "output_type": "stream",
     "text": [
      " 87%|████████▋ | 11621/13309 [13:18<01:18, 21.62it/s]"
     ]
    },
    {
     "name": "stdout",
     "output_type": "stream",
     "text": [
      "like CyberLink PowerDirector 11 like cyberlink powerdirector\n"
     ]
    },
    {
     "name": "stderr",
     "output_type": "stream",
     "text": [
      " 96%|█████████▌| 12813/13315 [13:19<00:15, 32.56it/s]"
     ]
    },
    {
     "name": "stdout",
     "output_type": "stream",
     "text": [
      ":) \n"
     ]
    },
    {
     "name": "stderr",
     "output_type": "stream",
     "text": [
      " 93%|█████████▎| 12329/13309 [13:20<00:39, 24.79it/s]"
     ]
    },
    {
     "name": "stdout",
     "output_type": "stream",
     "text": [
      "help me please help me please\n"
     ]
    },
    {
     "name": "stderr",
     "output_type": "stream",
     "text": [
      " 97%|█████████▋| 12898/13315 [13:22<00:22, 18.51it/s]"
     ]
    },
    {
     "name": "stdout",
     "output_type": "stream",
     "text": [
      "I bought on cruz40@hotmail.com i buy on\n"
     ]
    },
    {
     "name": "stderr",
     "output_type": "stream",
     "text": [
      " 96%|█████████▌| 12798/13309 [13:22<00:13, 36.60it/s]"
     ]
    },
    {
     "name": "stdout",
     "output_type": "stream",
     "text": [
      "wow app wow app\n"
     ]
    },
    {
     "name": "stderr",
     "output_type": "stream",
     "text": [
      "\r",
      " 97%|█████████▋| 12901/13315 [13:22<00:21, 19.48it/s]"
     ]
    },
    {
     "name": "stdout",
     "output_type": "stream",
     "text": [
      "wow app wow app\n"
     ]
    },
    {
     "name": "stderr",
     "output_type": "stream",
     "text": [
      "\r",
      " 88%|████████▊ | 11749/13309 [13:22<00:39, 39.24it/s]"
     ]
    },
    {
     "name": "stdout",
     "output_type": "stream",
     "text": [
      "www www\n"
     ]
    },
    {
     "name": "stderr",
     "output_type": "stream",
     "text": [
      " 93%|█████████▎| 12421/13309 [13:23<00:27, 32.11it/s]"
     ]
    },
    {
     "name": "stdout",
     "output_type": "stream",
     "text": [
      "please call back 407 860 7237 please call back\n"
     ]
    },
    {
     "name": "stderr",
     "output_type": "stream",
     "text": [
      " 89%|████████▊ | 11806/13309 [13:24<00:36, 41.44it/s]"
     ]
    },
    {
     "name": "stdout",
     "output_type": "stream",
     "text": [
      "Please Ignore please ignore\n"
     ]
    },
    {
     "name": "stderr",
     "output_type": "stream",
     "text": [
      " 97%|█████████▋| 12936/13315 [13:24<00:18, 20.97it/s]"
     ]
    },
    {
     "name": "stdout",
     "output_type": "stream",
     "text": [
      "Plug in plug in\n"
     ]
    },
    {
     "name": "stderr",
     "output_type": "stream",
     "text": [
      " 89%|████████▉ | 11819/13309 [13:24<00:45, 32.65it/s]"
     ]
    },
    {
     "name": "stdout",
     "output_type": "stream",
     "text": [
      "plz help me sir.. plz help me\n"
     ]
    },
    {
     "name": "stderr",
     "output_type": "stream",
     "text": [
      "\r",
      " 94%|█████████▎| 12449/13309 [13:24<00:30, 28.63it/s]"
     ]
    },
    {
     "name": "stdout",
     "output_type": "stream",
     "text": [
      "poert directer poert directer\n"
     ]
    },
    {
     "name": "stderr",
     "output_type": "stream",
     "text": [
      "\r",
      " 93%|█████████▎| 12430/13309 [13:24<00:29, 30.18it/s]"
     ]
    },
    {
     "name": "stdout",
     "output_type": "stream",
     "text": [
      "power direct power direct\n",
      "Power director power director\n"
     ]
    },
    {
     "name": "stderr",
     "output_type": "stream",
     "text": [
      " 97%|█████████▋| 12946/13315 [13:24<00:15, 23.68it/s]"
     ]
    },
    {
     "name": "stdout",
     "output_type": "stream",
     "text": [
      "pragya pragya\n"
     ]
    },
    {
     "name": "stderr",
     "output_type": "stream",
     "text": [
      " 97%|█████████▋| 12889/13309 [13:25<00:11, 38.06it/s]"
     ]
    },
    {
     "name": "stdout",
     "output_type": "stream",
     "text": [
      "Our website www.paceelectricinc.com is lost. our website be\n"
     ]
    },
    {
     "name": "stderr",
     "output_type": "stream",
     "text": [
      " 97%|█████████▋| 12952/13315 [13:25<00:18, 19.38it/s]"
     ]
    },
    {
     "name": "stdout",
     "output_type": "stream",
     "text": [
      "PCF0318 pcf\n"
     ]
    },
    {
     "name": "stderr",
     "output_type": "stream",
     "text": [
      " 97%|█████████▋| 12904/13309 [13:25<00:10, 38.31it/s]"
     ]
    },
    {
     "name": "stdout",
     "output_type": "stream",
     "text": [
      "please accept me please accept me\n"
     ]
    },
    {
     "name": "stderr",
     "output_type": "stream",
     "text": [
      " 98%|█████████▊| 12999/13315 [13:27<00:14, 22.33it/s]"
     ]
    },
    {
     "name": "stdout",
     "output_type": "stream",
     "text": [
      "Start subscription start subscription\n"
     ]
    },
    {
     "name": "stderr",
     "output_type": "stream",
     "text": [
      " 99%|█████████▊| 13140/13315 [13:33<00:07, 24.28it/s]"
     ]
    },
    {
     "name": "stdout",
     "output_type": "stream",
     "text": [
      "hai hai\n"
     ]
    },
    {
     "name": "stderr",
     "output_type": "stream",
     "text": [
      " 99%|█████████▉| 13170/13315 [13:35<00:06, 22.49it/s]"
     ]
    },
    {
     "name": "stdout",
     "output_type": "stream",
     "text": [
      "파워디렉트17 \n"
     ]
    },
    {
     "name": "stderr",
     "output_type": "stream",
     "text": [
      " 96%|█████████▌| 12800/13309 [13:38<00:29, 16.99it/s]"
     ]
    },
    {
     "name": "stdout",
     "output_type": "stream",
     "text": [
      "test test\n"
     ]
    },
    {
     "name": "stderr",
     "output_type": "stream",
     "text": [
      "100%|█████████▉| 13281/13315 [13:40<00:01, 17.36it/s]\n",
      " 92%|█████████▏| 12273/13309 [13:40<00:34, 30.00it/s]"
     ]
    },
    {
     "name": "stdout",
     "output_type": "stream",
     "text": [
      "power media player power medium player\n"
     ]
    },
    {
     "name": "stderr",
     "output_type": "stream",
     "text": [
      " 92%|█████████▏| 12281/13309 [13:41<00:31, 32.25it/s]\n",
      " 94%|█████████▎| 12448/13309 [13:44<00:14, 61.19it/s]"
     ]
    },
    {
     "name": "stdout",
     "output_type": "stream",
     "text": [
      "回報<br><br>Attach File : <a href=\"http://csupload.cyberlink.com/upload-file/support/cs/2018-06-10/CS001902290/CS001902290-1528641060080-0.zip\" target=_blank>CS001902290-1528641060080-0.zip</a> attach file\n",
      "SORRY,  POWER DIRECTOR 15 sorry power director\n"
     ]
    },
    {
     "name": "stderr",
     "output_type": "stream",
     "text": [
      " 97%|█████████▋| 12974/13309 [13:44<00:06, 49.34it/s]"
     ]
    },
    {
     "name": "stdout",
     "output_type": "stream",
     "text": [
      "問題如圖<br><br>Attach File : <a href=\"http://csupload.cyberlink.com/upload-file/support/cs/2018-01-06/CS001841521/CS001841521-1515304819361-4.JPG\" target=_blank>CS001841521-1515304819361-4.JPG</a> attach file\n"
     ]
    },
    {
     "name": "stderr",
     "output_type": "stream",
     "text": [
      " 98%|█████████▊| 12985/13309 [13:44<00:09, 35.58it/s]"
     ]
    },
    {
     "name": "stdout",
     "output_type": "stream",
     "text": [
      "不能升級<br><br>Attach File : <a href=\"http://csupload.cyberlink.com/upload-file/support/cs/2019-07-22/CS002041920/CS002041920-1563803797948-0.zip\" target=_blank>CS002041920-1563803797948-0.zip</a> attach file\n"
     ]
    },
    {
     "name": "stderr",
     "output_type": "stream",
     "text": [
      " 94%|█████████▍| 12493/13309 [13:44<00:11, 73.69it/s]"
     ]
    },
    {
     "name": "stdout",
     "output_type": "stream",
     "text": [
      "PowerDirector stopped working  powerdirector stop work\n",
      "intallation intallation\n"
     ]
    },
    {
     "name": "stderr",
     "output_type": "stream",
     "text": [
      " 94%|█████████▍| 12516/13309 [13:45<00:12, 63.71it/s]"
     ]
    },
    {
     "name": "stdout",
     "output_type": "stream",
     "text": [
      "not working not work\n"
     ]
    },
    {
     "name": "stderr",
     "output_type": "stream",
     "text": [
      " 98%|█████████▊| 13019/13309 [13:45<00:08, 35.00it/s]"
     ]
    },
    {
     "name": "stdout",
     "output_type": "stream",
     "text": [
      "PowerDirector 16 keeps on crashing. powerdirector keep on\n",
      "PowerDirector 16 Ultimate keeps crashing. powerdirector ultimate keep\n",
      "PowerDirector 16 Ultimate keeps crashing. powerdirector ultimate keep\n"
     ]
    },
    {
     "name": "stderr",
     "output_type": "stream",
     "text": [
      " 98%|█████████▊| 13027/13309 [13:45<00:06, 40.47it/s]"
     ]
    },
    {
     "name": "stdout",
     "output_type": "stream",
     "text": [
      "PowerDirector Stopped powerdirector stop\n"
     ]
    },
    {
     "name": "stderr",
     "output_type": "stream",
     "text": [
      " 95%|█████████▍| 12643/13309 [13:47<00:13, 48.38it/s]"
     ]
    },
    {
     "name": "stdout",
     "output_type": "stream",
     "text": [
      "It keeps crashing it keep crash\n"
     ]
    },
    {
     "name": "stderr",
     "output_type": "stream",
     "text": [
      "100%|██████████| 13309/13309 [13:49<00:00, 16.04it/s]\n"
     ]
    },
    {
     "name": "stdout",
     "output_type": "stream",
     "text": [
      "AudioDirector is crashing. audiodirector be\n"
     ]
    },
    {
     "name": "stderr",
     "output_type": "stream",
     "text": [
      "100%|██████████| 13309/13309 [13:51<00:00, 59.07it/s]\n",
      " 98%|█████████▊| 13071/13309 [13:53<00:02, 114.54it/s]"
     ]
    },
    {
     "name": "stdout",
     "output_type": "stream",
     "text": [
      "not recording voice not record voice\n"
     ]
    },
    {
     "name": "stderr",
     "output_type": "stream",
     "text": [
      "100%|██████████| 13309/13309 [13:55<00:00, 15.92it/s] \n"
     ]
    },
    {
     "name": "stdout",
     "output_type": "stream",
     "text": [
      "done\n"
     ]
    }
   ],
   "source": [
    "import nltk\n",
    "nltk.download('punkt')\n",
    "nltk.download('stopwords')\n",
    "\n",
    "from nltk import word_tokenize, pos_tag\n",
    "from nltk.corpus import wordnet\n",
    "from nltk.stem import WordNetLemmatizer\n",
    "wnl = WordNetLemmatizer()\n",
    "\n",
    "import langid\n",
    "\n",
    "from nltk.corpus import stopwords\n",
    "\n",
    "stw = stopwords.words('english') + ['nbsp', 'powerdirector', 'cyberlink', 'powerdvd', 'power', 'director', 'ba']\n",
    "#print(stw)\n",
    "print(\"Stopwords length: {}\".format(len(stw)))\n",
    "\n",
    "def _filter(ori_x):\n",
    "    x = re.sub('<[^<]*?/?>', ' ', ori_x)        # remove all html tag\n",
    "    x = re.sub('https?:\\/\\/[^ ]*', ' ', x)  # remove all url\n",
    "    x = re.sub('\\S*@\\S*\\s?', ' ', x)        # remove all email address\n",
    "    x = re.sub('\\S*\\.\\S*\\s?', ' ', x, flags=re.IGNORECASE)        # remove all filename\n",
    "    x = re.sub('[^a-z A-Z]', ' ', x)        # remove all non-english alphabat\n",
    "    return x\n",
    "'''\n",
    "def _correct_word(text1):\n",
    "    pattern = re.compile(r\"(.)\\1{2,}\")\n",
    "    text2 = pattern.sub(r\"\\1\\1\", text1) # reduce lengthening\n",
    "    #if text1 != text2:\n",
    "    #    print(text1, text2)\n",
    "    text3 = spell(text2).lower() # spell correction\n",
    "    #if text2 != text3:\n",
    "    #    print(text2, text3)\n",
    "    return text3\n",
    "'''\n",
    "def _get_wordnet_pos(tag):\n",
    "    if tag.startswith('J'):\n",
    "        return wordnet.ADJ\n",
    "    elif tag.startswith('V'):\n",
    "        return wordnet.VERB\n",
    "    elif tag.startswith('N'):\n",
    "        return wordnet.NOUN\n",
    "    elif tag.startswith('R'):\n",
    "        return wordnet.ADV\n",
    "    else:\n",
    "        return None\n",
    "\n",
    "def _lemmatization(tokens):\n",
    "    tagged_sent = pos_tag(tokens)   \n",
    "    ret = []\n",
    "    for tag in tagged_sent:\n",
    "        wordnet_pos = _get_wordnet_pos(tag[1]) or wordnet.NOUN\n",
    "        ret.append(wnl.lemmatize(tag[0], pos=wordnet_pos))\n",
    "    return ret\n",
    "\n",
    "def _remove_stopword(tokens):\n",
    "    ret = []\n",
    "    for word in tokens:\n",
    "        if word not in stw and len(word) > 2:\n",
    "            ret.append(word)\n",
    "    return ret\n",
    "\n",
    "def preprocess(sentence):\n",
    "    sentence = _filter(sentence.lower())\n",
    "    tokens = nltk.word_tokenize(sentence)\n",
    "\n",
    "    #tokens = [self._correct_word(word) for word in tokens] # spell correction\n",
    "    tokens = _lemmatization(tokens) # lemmatization\n",
    "    #tokens = _remove_stopword(tokens) # remove stopwords\n",
    "    s = \" \".join(tokens)\n",
    "\n",
    "    return s, tokens\n",
    "\n",
    "def process_batch(batch):   \n",
    "    clean_batch = []\n",
    "    reduced_batch = []\n",
    "    token_batch = []\n",
    "    for s in tqdm(batch):\n",
    "        ret = langid.classify(s)\n",
    "        if ret[0] != \"en\" and ret[1] < -100: # remove language other than english\n",
    "            #print(ret)\n",
    "            #print(s)\n",
    "            continue\n",
    "        else:\n",
    "            processed, tokens = preprocess(s)\n",
    "            if len(tokens) <= 3: # remove too short sentence\n",
    "                print(s,processed)\n",
    "                continue\n",
    "            #print(processed)\n",
    "            #print(tokens)\n",
    "            reduced_batch.append(s)\n",
    "            clean_batch.append(processed)\n",
    "            token_batch.append(tokens)\n",
    "    return clean_batch, reduced_batch, token_batch\n",
    "\n",
    "\n",
    "clean_data = []\n",
    "reduced_data = []\n",
    "token_data = []\n",
    "\n",
    "n_workers = 8\n",
    "from multiprocessing import Pool\n",
    "ret = [None] * n_workers\n",
    "n_data = len(data)\n",
    "with Pool(processes=n_workers) as pool:\n",
    "    for i in range(n_workers):\n",
    "        batch_start = (n_data // n_workers) * i \n",
    "        if i == n_workers - 1:\n",
    "            batch_end = n_data\n",
    "        else:\n",
    "            batch_end = (n_data // n_workers) * (i + 1)\n",
    "        batch = data[batch_start:batch_end]\n",
    "        ret[i] = pool.apply_async(process_batch, [batch])\n",
    "    pool.close()\n",
    "    pool.join()\n",
    "    \n",
    "for result in ret:\n",
    "    clean_batch, reduced_batch, token_batch = result.get()\n",
    "    clean_data += clean_batch\n",
    "    reduced_data += reduced_batch\n",
    "    token_data += token_batch\n",
    "print(\"done\")"
   ]
  },
  {
   "cell_type": "code",
   "execution_count": 8,
   "metadata": {},
   "outputs": [],
   "source": [
    "output = {\n",
    "    \"clean_data\": clean_data,\n",
    "    \"reduced_data\": reduced_data,\n",
    "    \"token_data\": token_data\n",
    "}\n",
    "with open(loadpath, \"wb\") as f:\n",
    "    pickle.dump(output, f)"
   ]
  },
  {
   "cell_type": "code",
   "execution_count": 9,
   "metadata": {},
   "outputs": [],
   "source": [
    "with open(loadpath, \"rb\") as f:\n",
    "    output = pickle.load(f)\n",
    "clean_data = output[\"clean_data\"]\n",
    "reduced_data = output[\"reduced_data\"]\n",
    "token_data = output[\"token_data\"]"
   ]
  },
  {
   "cell_type": "code",
   "execution_count": null,
   "metadata": {},
   "outputs": [],
   "source": [
    "print(\"max_feature\",max_features)\n",
    "tfidf = TfidfVectorizer(\n",
    "    min_df = 0.001,\n",
    "    max_df = 0.95,\n",
    "    max_features = max_features,\n",
    "    stop_words = 'english'\n",
    ")\n",
    "tfidf.fit(clean_data)\n",
    "text = tfidf.transform(clean_data)"
   ]
  },
  {
   "cell_type": "code",
   "execution_count": null,
   "metadata": {},
   "outputs": [],
   "source": [
    "def find_optimal_clusters(data, max_k, batch_size):\n",
    "    iters = range(2, max_k+1, 2)\n",
    "    \n",
    "    sse = []\n",
    "    bar = tqdm(iters)\n",
    "    for k in bar:\n",
    "        sse.append(MiniBatchKMeans(n_clusters=k, batch_size=batch_size, random_state=20).fit(data).inertia_)\n",
    "        bar.set_description('Fit {} clusters'.format(k))\n",
    "        \n",
    "    f, ax = plt.subplots(1, 1)\n",
    "    ax.plot(iters, sse, marker='o')\n",
    "    ax.set_xlabel('Cluster Centers')\n",
    "    ax.set_xticks(iters)\n",
    "    ax.set_xticklabels(iters)\n",
    "    ax.set_ylabel('SSE')\n",
    "    ax.set_title('SSE by Cluster Center Plot')\n",
    "\n",
    "find_optimal_clusters(text, max_k, batch_size)"
   ]
  },
  {
   "cell_type": "markdown",
   "metadata": {},
   "source": [
    "Compute cluster centers and predict cluster index for each sample."
   ]
  },
  {
   "cell_type": "code",
   "execution_count": null,
   "metadata": {},
   "outputs": [],
   "source": [
    "clusters = MiniBatchKMeans(n_clusters=10, batch_size=batch_size, random_state=20).fit_predict(text)"
   ]
  },
  {
   "cell_type": "code",
   "execution_count": null,
   "metadata": {},
   "outputs": [],
   "source": [
    "def plot_tsne_pca(data, labels):\n",
    "    n_cpu = 15\n",
    "    n_data = data.shape[0]\n",
    "    \n",
    "    # number of clusters\n",
    "    max_label = max(labels) \n",
    "    print(\"Number of clusters: {}\".format(max_label + 1))\n",
    "    \n",
    "    # random sample (n_sample) points\n",
    "    np.random.seed(5)\n",
    "    n_sample = n_data // 1#10\n",
    "    print(\"Only calculate {} data points\".format(n_sample))\n",
    "    sample_items = np.random.choice(range(n_data), size=n_sample, replace=False)\n",
    "    npdata = data[sample_items,:]\n",
    "    \n",
    "    pca = PCA(n_components=2, whiten=True).fit_transform(npdata)\n",
    "    print(\"PCA done\")\n",
    "    \n",
    "    tsne_pca = TSNE(n_jobs=n_cpu, n_iter=5000).fit_transform(PCA(n_components=(max_features // 2)).fit_transform(npdata))\n",
    "    print(\"tsne_pca done\")\n",
    "    tsne = TSNE(n_jobs=n_cpu, n_iter=5000).fit_transform(npdata)\n",
    "    print(\"tsne30 done\")\n",
    "    tsne_per50 = TSNE(n_jobs=n_cpu, perplexity=50, n_iter=5000).fit_transform(npdata)\n",
    "    print(\"tsne50 done\")\n",
    "    '''\n",
    "    tsne_per80 = TSNE(n_jobs=n_cpu, perplexity=80, n_iter=5000).fit_transform(npdata)\n",
    "    print(\"tsne80 done\")\n",
    "    tsne_per100 = TSNE(n_jobs=n_cpu, perplexity=100, n_iter=5000).fit_transform(npdata)\n",
    "    print(\"tsne100 done\")\n",
    "    \n",
    "    tsne_per3001 = TSNE(n_jobs=n_cpu, perplexity=30, n_iter=100).fit_transform(npdata)\n",
    "    print(\"tsne_per3001 done\")\n",
    "    tsne_per3005 = TSNE(n_jobs=n_cpu, perplexity=30, n_iter=500).fit_transform(npdata)\n",
    "    print(\"tsne_per3005 done\")\n",
    "    tsne_per301 = TSNE(n_jobs=n_cpu, perplexity=30, n_iter=1000).fit_transform(npdata)\n",
    "    print(\"tsne301 done\")\n",
    "    tsne_per302 = TSNE(n_jobs=n_cpu, perplexity=30, n_iter=2000).fit_transform(npdata)\n",
    "    print(\"tsne302 done\")\n",
    "    tsne_per303 = TSNE(n_jobs=n_cpu, perplexity=30, n_iter=3000).fit_transform(npdata)\n",
    "    print(\"tsne303 done\")\n",
    "    tsne_per304 = TSNE(n_jobs=n_cpu, perplexity=30, n_iter=4000).fit_transform(npdata)\n",
    "    print(\"tsne304 done\")\n",
    "    tsne_per306 = TSNE(n_jobs=n_cpu, perplexity=30, n_iter=6000).fit_transform(npdata)\n",
    "    print(\"tsne306 done\")\n",
    "    tsne_per307 = TSNE(n_jobs=n_cpu, perplexity=30, n_iter=7000).fit_transform(npdata)\n",
    "    print(\"tsne307 done\")\n",
    "    tsne_per308 = TSNE(n_jobs=n_cpu, perplexity=30, n_iter=8000).fit_transform(npdata)\n",
    "    print(\"tsne308 done\")\n",
    "    tsne_per309 = TSNE(n_jobs=n_cpu, perplexity=30, n_iter=9000).fit_transform(npdata)\n",
    "    print(\"tsne309 done\")\n",
    "    tsne_per3010 = TSNE(n_jobs=n_cpu, perplexity=30, n_iter=10000).fit_transform(npdata)\n",
    "    print(\"tsne3010 done\")\n",
    "    '''\n",
    "    \n",
    "    # draw only (n_draw) points\n",
    "    np.random.seed(5)\n",
    "    n_draw = n_sample // 1#20\n",
    "    print(\"Only draw {} data points\".format(n_draw))\n",
    "    idx = np.random.choice(range(pca.shape[0]), size=n_draw, replace=False)\n",
    "    \n",
    "    label_subset = labels[sample_items]\n",
    "    \n",
    "    # draw scatter\n",
    "    f, ax = plt.subplots(2, 2, figsize=(14, 14))\n",
    "    for i in range(-1,max_label + 1):\n",
    "        sub_idx = idx[label_subset[idx] == i]\n",
    "        print(\"{} points in group {}\".format(len(sub_idx),i))\n",
    "        label_subset_color = np.array([cm.hsv(i/ ( max_label + 1)) for i in label_subset[sub_idx]])\n",
    "        ax[0,0].scatter(pca[sub_idx, 0], pca[sub_idx, 1])   # , c=label_subset_color\n",
    "        ax[0,0].set_title('PCA Cluster Plot')\n",
    "        \n",
    "        ax[1,0].set_title('t-SNE & PCA Cluster Plot')\n",
    "        ax[1,0].scatter(tsne_pca[sub_idx, 0], tsne_pca[sub_idx, 1], label=str(i)) # , c=label_subset_color\n",
    "        \n",
    "        ax[0,1].set_title('t-SNE Cluster Plot')\n",
    "        ax[0,1].scatter(tsne[sub_idx, 0], tsne[sub_idx, 1]) # , c=label_subset_color\n",
    "        \n",
    "        ax[1,1].set_title('t-SNE Cluster Plot (Perplexity 50)')\n",
    "        ax[1,1].scatter(tsne_per50[sub_idx, 0], tsne_per50[sub_idx, 1]) # , c=label_subset_color\n",
    "        '''\n",
    "        ax[2,0].set_title('t-SNE Cluster Plot (Perplexity 80)')\n",
    "        ax[2,0].scatter(tsne_per80[sub_idx, 0], tsne_per80[sub_idx, 1]) # , c=label_subset_color\n",
    "        \n",
    "        ax[2,1].set_title('t-SNE Cluster Plot (Perplexity 100)')\n",
    "        ax[2,1].scatter(tsne_per100[sub_idx, 0], tsne_per100[sub_idx, 1]) # , c=label_subset_color\n",
    "        \n",
    "        ax[3,0].set_title('t-SNE Cluster Plot (Perplexity 30 100)')\n",
    "        ax[3,0].scatter(tsne_per3001[sub_idx, 0], tsne_per3001[sub_idx, 1]) # , c=label_subset_color\n",
    "        ax[3,1].set_title('t-SNE Cluster Plot (Perplexity 30 500)')\n",
    "        ax[3,1].scatter(tsne_per3005[sub_idx, 0], tsne_per3005[sub_idx, 1]) # , c=label_subset_color\n",
    "       \n",
    "        ax[4,0].set_title('t-SNE Cluster Plot (Perplexity 30 1000)')\n",
    "        ax[4,0].scatter(tsne_per301[sub_idx, 0], tsne_per301[sub_idx, 1]) # , c=label_subset_color\n",
    "        ax[4,1].set_title('t-SNE Cluster Plot (Perplexity 30 2000)')\n",
    "        ax[4,1].scatter(tsne_per302[sub_idx, 0], tsne_per302[sub_idx, 1]) # , c=label_subset_color\n",
    "         \n",
    "        ax[5,0].set_title('t-SNE Cluster Plot (Perplexity 30 3000)')\n",
    "        ax[5,0].scatter(tsne_per303[sub_idx, 0], tsne_per303[sub_idx, 1]) # , c=label_subset_color\n",
    "        ax[5,1].set_title('t-SNE Cluster Plot (Perplexity 30 4000)')\n",
    "        ax[5,1].scatter(tsne_per304[sub_idx, 0], tsne_per304[sub_idx, 1]) # , c=label_subset_color\n",
    "        \n",
    "        ax[6,0].set_title('t-SNE Cluster Plot (Perplexity 30 6000)')\n",
    "        ax[6,0].scatter(tsne_per306[sub_idx, 0], tsne_per306[sub_idx, 1]) # , c=label_subset_color\n",
    "        ax[6,1].set_title('t-SNE Cluster Plot (Perplexity 30 7000)')\n",
    "        ax[6,1].scatter(tsne_per307[sub_idx, 0], tsne_per307[sub_idx, 1]) # , c=label_subset_color\n",
    "        \n",
    "        ax[7,0].set_title('t-SNE Cluster Plot (Perplexity 30 8000)')\n",
    "        ax[7,0].scatter(tsne_per308[sub_idx, 0], tsne_per308[sub_idx, 1]) # , c=label_subset_color\n",
    "        ax[7,1].set_title('t-SNE Cluster Plot (Perplexity 30 9000)')\n",
    "        ax[7,1].scatter(tsne_per309[sub_idx, 0], tsne_per309[sub_idx, 1]) # , c=label_subset_color\n",
    "        \n",
    "        ax[8,0].set_title('t-SNE Cluster Plot (Perplexity 30 10000)')\n",
    "        ax[8,0].scatter(tsne_per3010[sub_idx, 0], tsne_per3010[sub_idx, 1]) # , c=label_subset_color\n",
    "        '''\n",
    "    f.legend() # plot only one legend"
   ]
  },
  {
   "cell_type": "code",
   "execution_count": null,
   "metadata": {},
   "outputs": [],
   "source": [
    "print(\"text shape:\", text.shape)\n",
    "print(\"clusters:\", clusters.shape, clusters)\n",
    "plot_tsne_pca(text.todense(), clusters)"
   ]
  },
  {
   "cell_type": "markdown",
   "metadata": {},
   "source": [
    "## Get keywords of each clusters"
   ]
  },
  {
   "cell_type": "code",
   "execution_count": null,
   "metadata": {},
   "outputs": [],
   "source": [
    "def get_top_keywords(data, text, clusters, labels, n_terms):\n",
    "    text_feature = text.toarray()\n",
    "    data = np.array(data)\n",
    "    labels = np.array(labels)\n",
    "    group = pd.DataFrame(text.todense()).groupby(clusters)\n",
    "    #print(\"Data point in each group:\\n\", group.size())\n",
    "    df = group.mean() # [(clusters) rows x (feature) columns]\n",
    "\n",
    "    for i,r in df.iterrows():\n",
    "        #print(text_feature[clusters == i,:])\n",
    "        sub_text = data[clusters == i]\n",
    "        sub_text_list = sub_text.tolist()\n",
    "        sub_text_feature = text_feature[clusters == i]\n",
    "        #print(\"sub_text: {} | sub_text_feature: {}\".format(sub_text.shape,sub_text_feature.shape))\n",
    "        dist = np.linalg.norm(sub_text_feature - np.array(r), axis=1)\n",
    "\n",
    "        #print(\"Euclidean distance:\", dist.shape, dist)\n",
    "        \n",
    "        print('\\nCluster {}'.format(i))\n",
    "        print(','.join([labels[t] for t in np.argsort(r)[-n_terms:]]))\n",
    "        #print(','.join([str(r[t]) for t in np.argsort(r)[-n_terms:]]))\n",
    "        print(\"\")\n",
    "        print('\\n\\n'.join([re.sub(' +', ' ',_filter(sub_text_list[t])) + \" | \" + str(dist[t]) for t in np.argsort(dist)[-2:]]))\n",
    "            \n",
    "get_top_keywords(reduced_data, text, clusters, tfidf.get_feature_names(), 10)"
   ]
  },
  {
   "cell_type": "markdown",
   "metadata": {},
   "source": [
    "## Test"
   ]
  },
  {
   "cell_type": "code",
   "execution_count": null,
   "metadata": {},
   "outputs": [],
   "source": [
    "def top_tfidf_feats(row, features, top_n=50):\n",
    "    ''' Get top n tfidf values in row and return them with their corresponding feature names.'''\n",
    "    topn_ids = np.argsort(row)[::-1][:top_n]\n",
    "    top_feats = [(features[i], row[i]) for i in topn_ids]\n",
    "    df = pd.DataFrame(top_feats)\n",
    "    df.columns = ['feature', 'tfidf']\n",
    "    return df\n",
    "def top_feats_in_doc(Xtr, features, row_id, top_n=50):\n",
    "    ''' Top tfidf features in specific document (matrix row) '''\n",
    "    row = np.squeeze(Xtr[row_id].toarray())\n",
    "    return top_tfidf_feats(row, features, top_n)\n",
    "\n",
    "top_feats_in_doc(text,tfidf.get_feature_names(),2)"
   ]
  },
  {
   "cell_type": "markdown",
   "metadata": {},
   "source": [
    "## Doc2vec Clustering"
   ]
  },
  {
   "cell_type": "code",
   "execution_count": null,
   "metadata": {},
   "outputs": [],
   "source": [
    "from gensim.models.doc2vec import Doc2Vec, TaggedDocument"
   ]
  },
  {
   "cell_type": "code",
   "execution_count": null,
   "metadata": {},
   "outputs": [],
   "source": [
    "tagged_data = [TaggedDocument(words=tokens, tags=[str(i)]) for i, tokens in enumerate(token_data)]"
   ]
  },
  {
   "cell_type": "code",
   "execution_count": null,
   "metadata": {},
   "outputs": [],
   "source": [
    "max_epochs = 100\n",
    "alpha = 0.025\n",
    "\n",
    "model = Doc2Vec(vector_size=max_features,\n",
    "                alpha=alpha, \n",
    "                min_alpha=0.00025,\n",
    "                min_count=1,\n",
    "                workers=8,\n",
    "                dm=1)\n",
    "  \n",
    "model.build_vocab(tagged_data)\n",
    "bar = tqdm(range(max_epochs))\n",
    "for epoch in bar:\n",
    "    bar.set_description('iteration {0}'.format(epoch))\n",
    "    model.train(tagged_data,\n",
    "                total_examples=model.corpus_count,\n",
    "                epochs=model.epochs)\n",
    "    # decrease the learning rate\n",
    "    model.alpha -= 0.0002\n",
    "    # fix the learning rate, no decay\n",
    "    model.min_alpha = model.alpha\n",
    "\n",
    "model.save(\"d2v.model\")\n",
    "print(\"Model Saved\")"
   ]
  },
  {
   "cell_type": "code",
   "execution_count": null,
   "metadata": {},
   "outputs": [],
   "source": [
    "#model= Doc2Vec.load(\"d2v.model\")\n",
    "model= Doc2Vec.load(\"enwiki_dbow/doc2vec.bin\")\n",
    "'''\n",
    "#to find the vector of a document which is not in training data\n",
    "test_data = word_tokenize(\"I love chatbots\".lower())\n",
    "v1 = model.infer_vector(test_data)\n",
    "print(\"V1_infer\", v1)\n",
    "\n",
    "\n",
    "# to find most similar doc using tags\n",
    "similar_doc = model.docvecs.most_similar('1')\n",
    "print(similar_doc)\n",
    "\n",
    "\n",
    "# to find vector of doc in training data using tags or in other words, printing the vector of document at index 1 in training data\n",
    "print(model.docvecs['1'])\n",
    "'''\n",
    "\n",
    "n_reduced_data = len(reduced_data)\n",
    "docvec = []\n",
    "for i in tqdm(range(n_reduced_data)):\n",
    "    #docvec.append(model.docvecs[str(i)])\n",
    "    docvec.append(model.infer_vector(token_data[i]))\n",
    "docvec = np.array(docvec)\n",
    "print(\"Number of data: {}\".format(n_reduced_data))"
   ]
  },
  {
   "cell_type": "code",
   "execution_count": null,
   "metadata": {},
   "outputs": [],
   "source": [
    "find_optimal_clusters(docvec, max_k, batch_size)"
   ]
  },
  {
   "cell_type": "code",
   "execution_count": null,
   "metadata": {},
   "outputs": [],
   "source": [
    "clusters_docvec = MiniBatchKMeans(n_clusters=10, batch_size=batch_size, random_state=20).fit_predict(docvec)\n",
    "print(\"docvec shape:\", docvec.shape)\n",
    "print(\"clusters:\", clusters_docvec.shape, clusters_docvec)\n",
    "plot_tsne_pca(docvec, clusters_docvec)"
   ]
  },
  {
   "cell_type": "code",
   "execution_count": null,
   "metadata": {},
   "outputs": [],
   "source": [
    "def get_doc2vec_center_representation(data, docvec, clusters, n_sentence):\n",
    "    data = np.array(data)\n",
    "    #print(len(data))\n",
    "    #print(clusters.shape)\n",
    "    print(\"docvec shape\", docvec.shape)\n",
    "    group = pd.DataFrame(docvec).groupby(clusters)\n",
    "    #print(\"Data point in each group:\\n\", group.size())\n",
    "    df = group.mean() # [(clusters) rows x (feature) columns]\n",
    "\n",
    "    for i,r in df.iterrows():\n",
    "        #print(text_feature[clusters == i,:])\n",
    "        sub_text = data[clusters == i]\n",
    "        sub_text_list = sub_text.tolist()\n",
    "        sub_docvec = docvec[clusters == i]\n",
    "        #print(\"sub_text: {} | sub_text_feature: {}\".format(sub_text.shape,sub_text_feature.shape))\n",
    "        dist = np.linalg.norm(sub_docvec - np.array(r), axis=1)\n",
    "\n",
    "        #print(\"Euclidean distance:\", dist.shape, dist)\n",
    "        \n",
    "        print('\\nCluster {}'.format(i))\n",
    "        print('\\n\\n'.join([re.sub(' +', ' ',_filter(sub_text_list[t])) + \" | \" + str(dist[t]) for t in np.argsort(dist)[-2:]]))\n",
    "            \n",
    "get_doc2vec_center_representation(reduced_data, docvec, clusters_docvec, 2)"
   ]
  },
  {
   "cell_type": "markdown",
   "metadata": {},
   "source": [
    "### Reference\n",
    "* [Clustering documents with TFIDF and KMeans](https://www.kaggle.com/jbencina/clustering-documents-with-tfidf-and-kmeans)\n",
    "* [Analyzing tf-idf results in scikit-learn](https://buhrmann.github.io/tfidf-analysis.html)"
   ]
  },
  {
   "cell_type": "code",
   "execution_count": null,
   "metadata": {},
   "outputs": [],
   "source": [
    "import gensim\n",
    "from gensim.models import LdaMulticore\n",
    "\n",
    "dictionary = gensim.corpora.Dictionary(token_data)\n",
    "dictionary.filter_extremes(no_below=15, no_above=0.5, keep_n=100000)\n",
    "\n",
    "bow_corpus = [dictionary.doc2bow(doc) for doc in token_data]\n",
    "\n",
    "from gensim import corpora, models\n",
    "tfidf = models.TfidfModel(bow_corpus)\n",
    "corpus_tfidf = tfidf[bow_corpus]"
   ]
  },
  {
   "cell_type": "markdown",
   "metadata": {},
   "source": [
    "### LDA using BOW"
   ]
  },
  {
   "cell_type": "code",
   "execution_count": null,
   "metadata": {},
   "outputs": [],
   "source": [
    "lda_model = gensim.models.LdaMulticore(bow_corpus, num_topics=10, id2word=dictionary, passes=2, workers=16)\n",
    "for idx, topic in lda_model.print_topics(-1):\n",
    "    print('Topic: {} \\nWords: {}'.format(idx, topic))\n"
   ]
  },
  {
   "cell_type": "markdown",
   "metadata": {},
   "source": [
    "### LDA using TF-IDF"
   ]
  },
  {
   "cell_type": "code",
   "execution_count": null,
   "metadata": {},
   "outputs": [],
   "source": [
    "lda_model_tfidf = gensim.models.LdaMulticore(corpus_tfidf, num_topics=10, id2word=dictionary, passes=2, workers=16)\n",
    "for idx, topic in lda_model_tfidf.print_topics(-1):\n",
    "    print('Topic: {} Word: {}'.format(idx, topic))"
   ]
  },
  {
   "cell_type": "markdown",
   "metadata": {},
   "source": [
    "### Clustering by DBSCAN"
   ]
  },
  {
   "cell_type": "code",
   "execution_count": null,
   "metadata": {},
   "outputs": [],
   "source": [
    "n_data = text.shape[0]\n",
    "n_sample = n_data // 50\n",
    "print(\"Only calculate {} data points\".format(n_sample))\n",
    "sample_items = np.random.choice(range(n_data), size=n_sample, replace=False)\n",
    "tmp_data = text[sample_items]\n",
    "print(tmp_data.shape)\n",
    "print(tmp_data.todense())\n",
    "clusters_dbscan = DBSCAN(eps=0.5, n_jobs=16).fit_predict(tmp_data)\n",
    "print(clusters_dbscan.shape)\n",
    "print(\"Number of noise data: {}\".format(len(clusters_dbscan[clusters_dbscan == -1])))\n",
    "plot_tsne_pca(tmp_data.todense(), clusters_dbscan)"
   ]
  },
  {
   "cell_type": "code",
   "execution_count": null,
   "metadata": {},
   "outputs": [],
   "source": [
    "n_data = docvec.shape[0]\n",
    "n_sample = n_data // 50\n",
    "print(\"Only calculate {} data points\".format(n_sample))\n",
    "sample_items = np.random.choice(range(n_data), size=n_sample, replace=False)\n",
    "tmp_data = docvec[sample_items]\n",
    "print(tmp_data.shape)\n",
    "clusters_dbscan = DBSCAN(eps=0.8, n_jobs=16).fit_predict(tmp_data)\n",
    "print(clusters_dbscan.shape)\n",
    "print(\"Number of noise data: {}\".format(len(clusters_dbscan[clusters_dbscan == -1])))\n",
    "plot_tsne_pca(tmp_data, clusters_dbscan)"
   ]
  },
  {
   "cell_type": "markdown",
   "metadata": {},
   "source": [
    "### Bert Sentence Encoding\n",
    "\n",
    "1. 要先把 bert server 開起來\n",
    "    `gpu0 bert-serving-start -model_dir uncased_L-12_H-768_A-12 -num_worker 4  -port 1355 -max_seq_len 40 -device_map 0`\n",
    "2. 直到出現 `all set, ready to serve request!` 才可以 run client 的 command\n",
    "Note:\n",
    "1. 如果是 run 大的 model 會 load 不進去 GPU 中，跑出 OOM\n",
    "2. 如果系統記憶體不夠則不會出現 all set, ready to serve request!，CPU 版來說，最多只能 -num_worker 2"
   ]
  },
  {
   "cell_type": "code",
   "execution_count": 31,
   "metadata": {},
   "outputs": [
    {
     "name": "stdout",
     "output_type": "stream",
     "text": [
      "haha\n",
      "Start predicting\n"
     ]
    },
    {
     "data": {
      "text/plain": [
       "array([[-0.02333167, -0.15783611,  0.7571935 , ..., -0.6655425 ,\n",
       "         0.11866888, -0.322679  ],\n",
       "       [ 0.02837013, -0.22225656,  0.3633494 , ..., -0.9503657 ,\n",
       "         0.4703933 , -0.30546838],\n",
       "       [-0.04679756, -0.11322953,  0.608148  , ..., -0.7760451 ,\n",
       "         0.16086861, -0.06835199],\n",
       "       ...,\n",
       "       [ 0.03290899, -0.18723612,  0.7789025 , ..., -0.4018115 ,\n",
       "         0.06781986, -0.13194203],\n",
       "       [-0.02638241, -0.24411282,  0.6372484 , ..., -0.9262525 ,\n",
       "         0.1274888 , -0.39639097],\n",
       "       [-0.12681141, -0.0636662 ,  0.7399107 , ..., -0.67203087,\n",
       "         0.3631346 , -0.29763722]], dtype=float32)"
      ]
     },
     "execution_count": 31,
     "metadata": {},
     "output_type": "execute_result"
    }
   ],
   "source": [
    "from bert_serving.client import BertClient\n",
    "print(\"haha\")\n",
    "bc = BertClient(port=1355)\n",
    "print(\"Start predicting\")\n",
    "bert_output = bc.encode(clean_data)\n",
    "bert_output[:10]"
   ]
  },
  {
   "cell_type": "code",
   "execution_count": 32,
   "metadata": {},
   "outputs": [],
   "source": [
    "bert_data_path = \"bert_base.pkl\"\n",
    "bert_data = {\n",
    "    \"clean_data\": clean_data,\n",
    "    \"reduced_data\": reduced_data,\n",
    "    \"token_data\": token_data,\n",
    "    \"bert_data\": bert_output\n",
    "}\n",
    "with open(bert_data_path, \"wb\") as f:\n",
    "    pickle.dump(bert_data, f)"
   ]
  },
  {
   "cell_type": "code",
   "execution_count": 34,
   "metadata": {},
   "outputs": [],
   "source": [
    "with open(bert_data_path, \"rb\") as f:\n",
    "    bert_data = pickle.load(f)\n",
    "clean_data = bert_data[\"clean_data\"]\n",
    "reduced_data = bert_data[\"reduced_data\"]\n",
    "token_data = bert_data[\"token_data\"]\n",
    "bert_output = bert_data[\"bert_data\"]"
   ]
  }
 ],
 "metadata": {
  "kernelspec": {
   "display_name": "Python 3",
   "language": "python",
   "name": "python3"
  },
  "language_info": {
   "codemirror_mode": {
    "name": "ipython",
    "version": 3
   },
   "file_extension": ".py",
   "mimetype": "text/x-python",
   "name": "python",
   "nbconvert_exporter": "python",
   "pygments_lexer": "ipython3",
   "version": "3.7.3"
  }
 },
 "nbformat": 4,
 "nbformat_minor": 2
}
