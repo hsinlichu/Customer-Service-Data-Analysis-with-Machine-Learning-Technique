{
 "cells": [
  {
   "cell_type": "markdown",
   "metadata": {},
   "source": [
    "# LSTM Predict Confusion Matrix\n",
    "這個檔案我想要分析的是我的 supervised learning model 他預測的結果，會依據 testing data 的 ground truth 以及預測的結果畫出 confusion matrix。"
   ]
  },
  {
   "cell_type": "code",
   "execution_count": null,
   "metadata": {
    "scrolled": false
   },
   "outputs": [],
   "source": [
    "import sys\n",
    "sys.path.insert(1, '../src')\n",
    "\n",
    "import argparse\n",
    "import logging\n",
    "import os\n",
    "from mypredictor import Predictor\n",
    "from metric import Metric\n",
    "import csv\n",
    "import json\n",
    "import pickle\n",
    "from preprocess import Embedding, CSDataset\n",
    "import torch\n",
    "from sklearn.metrics import confusion_matrix\n",
    "import seaborn as sn\n",
    "import matplotlib.pyplot as plt\n",
    "import pandas as pd\n",
    "import numpy as np"
   ]
  },
  {
   "cell_type": "code",
   "execution_count": null,
   "metadata": {},
   "outputs": [],
   "source": [
    "model_dir = os.path.join(\"..\",\"model\",\"moreData_clean_256\")\n",
    "epoch = 3\n",
    "logging.basicConfig(level=logging.INFO, format='%(asctime)s - %(filename)s[line:%(lineno)d] - %(levelname)s: %(message)s')\n",
    "\n",
    "model_path = os.path.join(model_dir, \"model.pkl.{}\".format(epoch))\n",
    "config_path = os.path.join(model_dir, \"config.json\")\n",
    "\n",
    "logging.info('Loading configuration file from {}'.format(config_path))\n",
    "with open(config_path) as f:\n",
    "    config = json.load(f)\n",
    "\n",
    "embedding_pkl_path = os.path.join(model_dir, config[\"embedding_pkl_path\"])\n",
    "val_pkl_path = os.path.join(model_dir, config[\"val_pkl_path\"])\n",
    "labelEncoder_path = os.path.join(model_dir, config[\"labelEncoder_path\"])\n",
    "with open(embedding_pkl_path, \"rb\") as f:\n",
    "    config[\"model_parameters\"][\"embedding\"] = pickle.load(f).vectors\n",
    "    logging.info( \"Load embedding from {}\".format(embedding_pkl_path))\n",
    "with open(val_pkl_path, \"rb\") as f:\n",
    "    config[\"model_parameters\"][\"valid\"] = pickle.load(f)\n",
    "    logging.info( \"Load val from {}\".format(val_pkl_path))\n",
    "with open(labelEncoder_path, \"rb\") as f:\n",
    "    config[\"model_parameters\"][\"labelEncoder\"] = pickle.load(f)\n",
    "    logging.info( \"Load labelEncoder from {}\".format(labelEncoder_path))\n",
    "\n",
    "le = config[\"model_parameters\"][\"labelEncoder\"]\n",
    "num_classes = len(le.classes_)\n",
    "class_list = list(le.classes_)\n",
    "\n",
    "print(class_list)\n",
    "\n",
    "predictor = Predictor(metric=Metric(), **config[\"model_parameters\"])\n",
    "predictor.load(model_path)\n",
    "\n",
    "\n",
    "logging.info(\"Loading testing data.\")\n",
    "#with open(args.test_data_path, \"rb\") as f:\n",
    "#    pass\n",
    "valid = config[\"model_parameters\"][\"valid\"] # CSDataset\n",
    "test = valid\n",
    "\n",
    "\n",
    "logging.info(\"Predicting...\")\n",
    "predicts, solution = predictor.predict_dataset(test, test.collate_fn)\n"
   ]
  },
  {
   "cell_type": "code",
   "execution_count": null,
   "metadata": {},
   "outputs": [],
   "source": [
    "def analysis(predicts, gt, labels):\n",
    "    matrix = confusion_matrix(gt, predicts, labels=labels)\n",
    "    df = pd.DataFrame(matrix, columns=labels, index=labels)\n",
    "    #print(df.head())\n",
    "    figsize = (80, 25)\n",
    "    plt.figure(figsize=figsize)\n",
    "    plt.title('LSTM Confusion Matrix', y=1.03, fontsize = 25)\n",
    "    #cmap = sn.cubehelix_palette(start = 1.5, rot = 3, gamma=0.8, as_cmap = True)\n",
    "    heatmap = sn.heatmap(df, annot=True, annot_kws={\"size\": 16}) # , cmap=cmap\n",
    "    plt.ylabel('Ground Truth', fontsize = 20)\n",
    "    plt.xlabel('Prediction', fontsize = 20)\n",
    "    heatmap.set_xticklabels(heatmap.get_xticklabels(), rotation=45, horizontalalignment=\"right\")\n",
    "    plt.savefig('ConfusionMatrix_LSTM.png', bbox_inches = \"tight\")\n",
    "    \n",
    "    normalized_matrix = matrix.astype('float') / matrix.sum(axis=1)[:, np.newaxis] # normalize\n",
    "    normalized_matrix = np.nan_to_num(normalized_matrix).round(2)\n",
    "    df = pd.DataFrame(normalized_matrix, columns=labels, index=labels)\n",
    "    \n",
    "    plt.figure(figsize=figsize)\n",
    "    plt.title('Normalized LSTM Confusion Matrix', y=1.03, fontsize = 25)\n",
    "    #cmap = sn.cubehelix_palette(start = 1.5, rot = 3, gamma=0.8, as_cmap = True)\n",
    "    heatmap = sn.heatmap(df, annot=True, annot_kws={\"size\": 16}) # , cmap=cmap\n",
    "    plt.ylabel('Ground Truth', fontsize = 20)\n",
    "    plt.xlabel('Prediction', fontsize = 20)\n",
    "    heatmap.set_xticklabels(heatmap.get_xticklabels(), rotation=45, horizontalalignment=\"right\")\n",
    "    plt.savefig('Normalized_ConfusionMatrix_LSTM.png', bbox_inches = \"tight\")\n",
    "\n",
    "\n",
    "    n = 0\n",
    "    n_correct = 0\n",
    "    '''\n",
    "    for i in range(len(gt)):\n",
    "        n += 1\n",
    "        if gt[i][maxindex[i]] == 1:\n",
    "            n_correct += 1\n",
    "    print(\"Accuracy: {}\".format(n_correct / n))\n",
    "    print(len(matrix), len(matrix[0]))\n",
    "    '''"
   ]
  },
  {
   "cell_type": "code",
   "execution_count": null,
   "metadata": {},
   "outputs": [],
   "source": [
    "predicts_index = torch.argmax(predicts, dim=1)\n",
    "gt_index = torch.argmax(solution, dim=1)\n",
    "predicts_str = list(le.inverse_transform(predicts_index))\n",
    "gt_str = list(le.inverse_transform(gt_index))\n",
    "    \n",
    "analysis(predicts_str, gt_str, labels=class_list)"
   ]
  }
 ],
 "metadata": {
  "kernelspec": {
   "display_name": "Python 3",
   "language": "python",
   "name": "python3"
  },
  "language_info": {
   "codemirror_mode": {
    "name": "ipython",
    "version": 3
   },
   "file_extension": ".py",
   "mimetype": "text/x-python",
   "name": "python",
   "nbconvert_exporter": "python",
   "pygments_lexer": "ipython3",
   "version": "3.7.4"
  }
 },
 "nbformat": 4,
 "nbformat_minor": 2
}
