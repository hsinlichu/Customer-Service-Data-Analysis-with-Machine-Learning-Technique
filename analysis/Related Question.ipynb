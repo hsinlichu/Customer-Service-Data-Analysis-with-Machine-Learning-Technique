{
 "cells": [
  {
   "cell_type": "code",
   "execution_count": 1,
   "metadata": {},
   "outputs": [],
   "source": [
    "import torch\n",
    "import torch.nn as nn\n",
    "\n",
    "import pickle\n",
    "import numpy as np\n",
    "\n",
    "loadpath = \"processed_data_bert_expand\"\n",
    "bert_data_path = \"bert_expand.pkl\""
   ]
  },
  {
   "cell_type": "markdown",
   "metadata": {},
   "source": [
    "bert-serving-start -model_dir uncased_L-12_H-768_A-12 -num_worker 1  -port 1355 -max_seq_len 150 -device_map 3 -show_tokens_to_client"
   ]
  },
  {
   "cell_type": "markdown",
   "metadata": {},
   "source": [
    "## Predict Dataset"
   ]
  },
  {
   "cell_type": "markdown",
   "metadata": {},
   "source": [
    "Read dataset"
   ]
  },
  {
   "cell_type": "code",
   "execution_count": 2,
   "metadata": {},
   "outputs": [],
   "source": [
    "with open(loadpath, \"rb\") as f:\n",
    "    output = pickle.load(f)\n",
    "clean_data = output[\"clean_data\"]\n",
    "reduced_data = output[\"reduced_data\"]\n",
    "token_data = output[\"token_data\"]"
   ]
  },
  {
   "cell_type": "markdown",
   "metadata": {},
   "source": [
    "Predict dataset"
   ]
  },
  {
   "cell_type": "code",
   "execution_count": 3,
   "metadata": {},
   "outputs": [
    {
     "name": "stdout",
     "output_type": "stream",
     "text": [
      "Start predicting\n"
     ]
    },
    {
     "name": "stderr",
     "output_type": "stream",
     "text": [
      "/tmp2/b05505004/intern/lib/python3.7/site-packages/bert_serving/client/__init__.py:299: UserWarning: some of your sentences have more tokens than \"max_seq_len=150\" set on the server, as consequence you may get less-accurate or truncated embeddings.\n",
      "here is what you can do:\n",
      "- disable the length-check by create a new \"BertClient(check_length=False)\" when you do not want to display this warning\n",
      "- or, start a new server with a larger \"max_seq_len\"\n",
      "  '- or, start a new server with a larger \"max_seq_len\"' % self.length_limit)\n"
     ]
    }
   ],
   "source": [
    "from bert_serving.client import BertClient\n",
    "bc = BertClient(port=1355)\n",
    "print(\"Start predicting\")\n",
    "bert_output = bc.encode(clean_data)"
   ]
  },
  {
   "cell_type": "code",
   "execution_count": 4,
   "metadata": {},
   "outputs": [],
   "source": [
    "bert_data = {\n",
    "    \"clean_data\": clean_data,\n",
    "    \"reduced_data\": reduced_data,\n",
    "    \"token_data\": token_data,\n",
    "    \"bert_data\": bert_output\n",
    "}\n",
    "with open(bert_data_path, \"wb\") as f:\n",
    "    pickle.dump(bert_data, f)"
   ]
  },
  {
   "cell_type": "markdown",
   "metadata": {},
   "source": [
    "Read dataset with bert sentence representation"
   ]
  },
  {
   "cell_type": "code",
   "execution_count": 5,
   "metadata": {},
   "outputs": [],
   "source": [
    "with open(bert_data_path, \"rb\") as f:\n",
    "    bert_data = pickle.load(f)\n",
    "clean_data = bert_data[\"clean_data\"]\n",
    "reduced_data = bert_data[\"reduced_data\"]\n",
    "token_data = bert_data[\"token_data\"]\n",
    "bert_output = bert_data[\"bert_data\"]"
   ]
  },
  {
   "cell_type": "code",
   "execution_count": 6,
   "metadata": {},
   "outputs": [
    {
     "name": "stdout",
     "output_type": "stream",
     "text": [
      "Type:  <class 'numpy.ndarray'> (100868, 768)\n",
      "torch.Size([100868, 768])\n"
     ]
    }
   ],
   "source": [
    "print(\"Type: \", type(bert_output), bert_output.shape)\n",
    "bert_tensor = torch.from_numpy(bert_output)\n",
    "print(bert_tensor.size())"
   ]
  },
  {
   "cell_type": "markdown",
   "metadata": {},
   "source": [
    "## Testing"
   ]
  },
  {
   "cell_type": "code",
   "execution_count": 66,
   "metadata": {},
   "outputs": [],
   "source": [
    "from bert_serving.client import BertClient\n",
    "bc = BertClient(port=1355)\n",
    "bert_norm = bert_tensor / torch.norm(bert_tensor, dim=1).view(-1, 1)\n",
    "\n",
    "def predict(test_sentence, num_related):\n",
    "    print(\"Start predicting: {}\".format(test_sentence))\n",
    "    test_array, token = bc.encode([test_sentence], show_tokens=True)\n",
    "    print(token)\n",
    "    test_tensor = torch.tensor(test_array[0])\n",
    "    #print(\"bert_tensor:\", bert_tensor.size()) # torch.Size([100868, 768])\n",
    "    \n",
    "    test_norm = test_tensor / torch.norm(test_tensor)\n",
    "    similarity = torch.matmul(bert_norm, test_norm.view(-1,1))\n",
    "    \n",
    "    rank = torch.argsort(similarity, dim=0, descending=True)\n",
    "\n",
    "    for i in range(1, num_related + 1):\n",
    "        print(\"\\n=\" * 10 + \"Similarity: {}\".format(similarity[rank[i]][0]) + \"=\" * 10)\n",
    "        print(reduced_data[rank[i]])\n",
    "        print()\n",
    "        print(clean_data[rank[i]])\n",
    "    return None"
   ]
  },
  {
   "cell_type": "code",
   "execution_count": 67,
   "metadata": {
    "scrolled": false
   },
   "outputs": [
    {
     "name": "stdout",
     "output_type": "stream",
     "text": [
      "Start predicting: Unable to update my PowerDVD 17 Ultra to the latest build.\n",
      "Start predicting: unable to update my powerdvd 17 ultra to the latest\n",
      "[['[CLS]', 'unable', 'to', 'update', 'my', 'power', '##d', '##vd', '17', 'ultra', 'to', 'the', 'latest', '[SEP]']]\n",
      "==========Similarity: tensor([0.9232])==========\n",
      "Unable to download PowerDVD 18 on my new computer\n",
      "\n",
      "unable to download powerdvd 18 on my new computer\n",
      "==========Similarity: tensor([0.9217])==========\n",
      "Unable to access the PH10 365 on my mac computer.\n",
      "\n",
      "unable to access the ph10 365 on my mac\n",
      "==========Similarity: tensor([0.9201])==========\n",
      "I am unable to upgrade to PowerDVD 18 Ultra which I recently purchased.\n",
      "\n",
      "i am unable to upgrade to powerdvd 18 ultra which i recently\n",
      "\n",
      "**************************************************\n",
      "\n",
      "Start predicting: Hi there, I reboot my pc a lot and my licence says it has been used too many times. It is just myself using the code. Could you please reset GM399-QR9DU-2W768-KXYUE-BWYXT-3HVX8    thank you\n",
      "Start predicting: hi there , i reboot my pc a lot and my licence says it has been used too many it is just myself using the could you please reset thank you\n",
      "[['[CLS]', 'hi', 'there', ',', 'i', 're', '##boot', 'my', 'pc', 'a', 'lot', 'and', 'my', 'licence', 'says', 'it', 'has', 'been', 'used', 'too', 'many', 'it', 'is', 'just', 'myself', 'using', 'the', 'could', 'you', 'please', 'reset', 'thank', 'you', '[SEP]']]\n",
      "==========Similarity: tensor([0.9390])==========\n",
      "Hi There.    I previously purchased on line Version 14 and recently my PC crashed and I had to reset my PC and PowerDirector was erased. Am I able to download again the software and re-install it.     Need your help. Please advise.    Thanks    David Phua\n",
      "\n",
      "hi i previously purchased on line version 14 and recently my pc crashed and i had to reset my pc and powerdirector was am i able to download again the software and re-install need your please thanks david phua\n",
      "==========Similarity: tensor([0.9380])==========\n",
      "Hello, i have tried to re-install powerdirector 14 on my pc after having to reset my pc which wiped everthing off my pc.  This has happened a few times before but only when my pc needed resetting.  This time When i tried to activate it using my product key it says i have used it too many times .  As i bought this and am only using it for personal use i think this is wrong.  Please help me to be able to use it again.  Thank You\n",
      "\n",
      "hello , i have tried to re-install powerdirector 14 on my pc after having to reset my pc which wiped everthing off my this has happened a few times before but only when my pc needed this time when i tried to activate it using my product key it says i have used it too many times as i bought this and am only using it for personal use i think this is please help me to be able to use it thank you\n",
      "==========Similarity: tensor([0.9373])==========\n",
      "HI, My computer was worked on and they did a refresh which wiped out all my apps so am having to re-install them.  I did a purchase 12.13.16, but now the download availability has passed. So how can I get them back. My reference # is 103378655.  Hope you can help.Thank you\n",
      "\n",
      "hi , my computer was worked on and they did a refresh which wiped out all my apps so am having to re-install i did a purchase but now the download availability has so how can i get them my reference # is hope you can you\n",
      "\n",
      "**************************************************\n",
      "\n",
      "Start predicting: For thecnical issues my product had been uninstalled from my computer.     Is there any way that I can have access back to it?    Thank ypu\n",
      "Start predicting: for thecnical issues my product had been uninstalled from my is there any way that i can have access back to it ? thank ypu\n",
      "[['[CLS]', 'for', 'the', '##c', '##nical', 'issues', 'my', 'product', 'had', 'been', 'un', '##ins', '##tal', '##led', 'from', 'my', 'is', 'there', 'any', 'way', 'that', 'i', 'can', 'have', 'access', 'back', 'to', 'it', '?', 'thank', 'y', '##pu', '[SEP]']]\n",
      "==========Similarity: tensor([0.9318])==========\n",
      "I have lost my serial number. The program is installed on my computer, is there a way I cn retrieve the product key so that I can reinstall the program on my new computer?\n",
      "\n",
      "i have lost my serial the program is installed on my computer , is there a way i cn retrieve the product key so that i can reinstall the program on my new computer ?\n",
      "==========Similarity: tensor([0.9316])==========\n",
      "Is PowerDirector 16 Ultimate a perpetual license?  I log in to my account but couldn't find this product in 'My Product'.  I would like to know if there is any support that I need to renew?\n",
      "\n",
      "is powerdirector 16 ultimate a perpetual license ? i log in to my account but could n't find this product in 'my i would like to know if there is any support that i need to renew ?\n",
      "==========Similarity: tensor([0.9305])==========\n",
      "Hello. I have lost all the program in my computer. How I can re-download the products I purchashed? My order number is 213676144. Thank you\n",
      "\n",
      "i have lost all the program in my how i can re-download the products i purchashed ? my order number is thank you\n",
      "\n",
      "**************************************************\n",
      "\n",
      "Start predicting: Your web site support is so difficult to use i wonder some times if you really WANT to actually HELP your customers!\n",
      "Start predicting: your web site support is so difficult to use i wonder some times if you really want to actually help your customers !\n",
      "[['[CLS]', 'your', 'web', 'site', 'support', 'is', 'so', 'difficult', 'to', 'use', 'i', 'wonder', 'some', 'times', 'if', 'you', 'really', 'want', 'to', 'actually', 'help', 'your', 'customers', '!', '[SEP]']]\n",
      "==========Similarity: tensor([0.8891])==========\n",
      "So confusing I just renew my membership not because I really enjoy the many options you have (far from That)  only because Windows 10 cannot do what your software can   Once it gets close to it - (You guys are out to Confusing)\n",
      "\n",
      "so confusing i just renew my membership not because i really enjoy the many options you have ( far from that ) only because windows 10 can not do what your software can once it gets close to it - ( you guys are out to confusing )\n",
      "==========Similarity: tensor([0.8891])==========\n",
      "I'm looking for a software that burns DVDs and Blurays. Something that will allow me to create my own menus and customize the images. You have so many products, it is not clear which to get. Please advise\n",
      "\n",
      "i 'm looking for a software that burns dvds and something that will allow me to create my own menus and customize the you have so many products , it is not clear which to please advise\n",
      "==========Similarity: tensor([0.8875])==========\n",
      "I am so dissatisfied with your customer support that I have no words and from what I read on the net (Trustpilot and many many many other websites) I am not the only one, far from it - I have actually never read anyone writing anything good about your customer service at all. EVER! Is this really how you want people to look at your company, as someone who doesn’t care at all about their customers? Because this is the view I and many others have on your company as it is now. There are so many great companies out there who give great support and even to those customers who haven’t spent a lot of money on their products (even companies where you use their free versions only give good support) and you know why? Because happy customers come back! Dissatisfied customers do not. I have lost all trust in you, to me you are not trustworthy and I have no desire to ever spend any money at all again on any of your products. I have problems with your software on my brand new PC which an IT worker helped me build for the sake of it being good for video editing as well as photo editing and gaming, so it can take a lot… but I still have problems with PowerDirector 13 and it is not my CPU or any other technical stuff on my PC (yes, I have checked). I also had tons of problems with it being incredibly slow on my other PC, which is why I bought a new one, as I thought it was the PC, but now I see it is definitely not my PC (and the worst part is, it worked a little bit better on my old slow PC than on my new fast PC). So tell me, what will it take for you to understand the value of happy customers and for you to actually give support that helps, or at least respond as you used to but without giving any help… not that it will do much good, but it’s better than ignoring your customers? Because I have read so many furious reviews about your customer service that it may someday affect you and you lose even more customers… oh, I am very sure you have lost cutomers, at least you just lost me… for I had hoped to get help to get it to work and then buy PD16 upgrade, but that’s definitely not going to happen… Because even the free trial of PD16 is extremely slow and hey, I don’t get help from you guys to get it to work, so I can’t buy it. I hope you consider giving better support in future, because you can get so many more customers if you do and you can keep those you already have. It’s your own choice. I don’t care. You already lost me, unless you can give me support that actually works and I will not buy PD16 if I can’t get it while it is 70% off and ONLY if you can give me support so I can get PD13 and PD16 and future versions to work smoothly. My ticket ID on the ticket I’ve opened is: CS001848332\n",
      "\n",
      "i am so dissatisfied with your customer support that i have no words and from what i read on the net ( trustpilot and many many many other websites ) i am not the only one , far from it - i have actually never read anyone writing anything good about your customer service at ever ! is this really how you want people to look at your company , as someone who doesn ’ t care at all about their customers ? because this is the view i and many others have on your company as it is there are so many great companies out there who give great support and even to those customers who haven ’ t spent a lot of money on their products ( even companies where you use their free versions only give good support ) and you know why ? because happy customers come back ! dissatisfied customers do i have lost all trust in you , to me you are not trustworthy and i have no desire to ever spend any money at all again on any of your i have problems with your software on my brand new pc which an it worker helped me build for the sake of it being good for video editing as well as photo editing and gaming , so it can take a lot… but i still have problems with powerdirector 13 and it is not my cpu or any other technical stuff on my pc ( yes , i have i also had tons of problems with it being incredibly slow on my other pc , which is why i bought a new one , as i thought it was the pc , but now i see it is definitely not my pc ( and the worst part is , it worked a little bit better on my old slow pc than on my new fast so tell me , what will it take for you to understand the value of happy customers and for you to actually give support that helps , or at least respond as you used to but without giving any help… not that it will do much good , but it ’ s better than ignoring your customers ? because i have read so many furious reviews about your customer service that it may someday affect you and you lose even more customers… oh , i am very sure you have lost cutomers , at least you just lost me… for i had hoped to get help to get it to work and then buy pd16 upgrade , but that ’ s definitely not going to happen… because even the free trial of pd16 is extremely slow and hey , i don ’ t get help from you guys to get it to work , so i can ’ t buy i hope you consider giving better support in future , because you can get so many more customers if you do and you can keep those you already it ’ s your own i don ’ t you already lost me , unless you can give me support that actually works and i will not buy pd16 if i can ’ t get it while it is 70 % off and only if you can give me support so i can get pd13 and pd16 and future versions to work my ticket id on the ticket i ’ ve opened is : cs001848332\n",
      "\n",
      "**************************************************\n",
      "\n",
      "Start predicting: I purchased a version of PowerDVD Ultra 16 back in October of 2017 and downloaded it at that time. My hard drive crashed and I cannot find the original download file to download the full version. The trial version cannot be activated with my key. What can I do? Please help.\n",
      "Start predicting: i purchased a version of powerdvd ultra 16 back in october of 2017 and downloaded it at that my hard drive crashed and i can not find the original download file to download the full the trial version can not be activated with my what can i do ? please\n",
      "[['[CLS]', 'i', 'purchased', 'a', 'version', 'of', 'power', '##d', '##vd', 'ultra', '16', 'back', 'in', 'october', 'of', '2017', 'and', 'downloaded', 'it', 'at', 'that', 'my', 'hard', 'drive', 'crashed', 'and', 'i', 'can', 'not', 'find', 'the', 'original', 'download', 'file', 'to', 'download', 'the', 'full', 'the', 'trial', 'version', 'can', 'not', 'be', 'activated', 'with', 'my', 'what', 'can', 'i', 'do', '?', 'please', '[SEP]']]\n",
      "==========Similarity: tensor([0.9625])==========\n",
      "Hello.     I am currently using PowerDVD 17 which I bought from you on the 18th June 2017.    I have just reinstalled Windows and went to your website to download PDVD 17 but my I cannot find a link to the software and the one in my email has expired.    Where can I download the software? The trial version won't let me put in my product key.    Thank you.\n",
      "\n",
      "i am currently using powerdvd 17 which i bought from you on the 18th june i have just reinstalled windows and went to your website to download powerdvd 17 but my i can not find a link to the software and the one in my email has where can i download the software ? the trial version wo n't let me put in my product thank\n",
      "==========Similarity: tensor([0.9614])==========\n",
      "    I purchase the upgrade for the Power DVD 19 and started to download it, it removed the previous version(DVD18) and proceeded to install the new version when it stalled and would not install beyond 81%.     Now I can not upload the upgrade as the previous version has been uninstalled from my PC..    Can you please advise as to how I can reinstall Power DVD 19 to my system.         Thank you\n",
      "\n",
      "i purchase the upgrade for the powerdvd 19 and started to download it , it removed the previous version ( dvd18 ) and proceeded to install the new version when it stalled and would not install beyond now i can not upload the upgrade as the previous version has been uninstalled from my can you please advise as to how i can reinstall powerdvd 19 to my thank you\n",
      "==========Similarity: tensor([0.9580])==========\n",
      "Hello,    I have recently performed a format on my disk and installed windows 10 fresh.  I have purchased power dvd 2017 ULTRA version but it seems I cannot install that version now and instead the installer takes me to the 2018 version (not ultra) and I believe its a trial version as well.    I need a link to install my product.  I thought I could do this from \"My Products\" when I login to cyberlink but I cannot.    Thank you.    Regards,    Marinos\n",
      "\n",
      "hello , i have recently performed a format on my disk and installed windows 10 i have purchased powerdvd 2017 ultra version but it seems i can not install that version now and instead the installer takes me to the 2018 version ( not ultra ) and i believe its a trial version as i need a link to install my i thought i could do this from `` my products '' when i login to cyberlink but i thank\n",
      "\n",
      "**************************************************\n",
      "\n",
      "Start predicting: Hi there, I've been away for a few weeks without access to check emails, etc. Could you be so kind to resume this investigation to resolve the issue, please? I have already uploaded the files as previously requested. Many thanks in advance for your assistance. Kind regards, Janet\n",
      "Start predicting: hi there , i 've been away for a few weeks without access to check emails , could you be so kind to resume this investigation to resolve the issue , please ? i have already uploaded the files as previously many thanks in advance for your\n"
     ]
    },
    {
     "name": "stdout",
     "output_type": "stream",
     "text": [
      "[['[CLS]', 'hi', 'there', ',', 'i', \"'\", 've', 'been', 'away', 'for', 'a', 'few', 'weeks', 'without', 'access', 'to', 'check', 'emails', ',', 'could', 'you', 'be', 'so', 'kind', 'to', 'resume', 'this', 'investigation', 'to', 'resolve', 'the', 'issue', ',', 'please', '?', 'i', 'have', 'already', 'uploaded', 'the', 'files', 'as', 'previously', 'many', 'thanks', 'in', 'advance', 'for', 'your', '[SEP]']]\n",
      "==========Similarity: tensor([0.9366])==========\n",
      "Hi There,  I have had so issues with my computer so would it be possible for you to re send the links to my software so I can reinstall it.  This is for all of my software programs.  Many thanks  Leigh\n",
      "\n",
      "hi there , i have had so issues with my computer so would it be possible for you to re send the links to my software so i can reinstall this is for all of my software many thanks leigh\n",
      "==========Similarity: tensor([0.9340])==========\n",
      "Good Morning,    After purchasing the product last night I have had trouble downloading and installing the application, the files seem to have    Downloaded but can not install.    Could you please send a link to make this easier or explain steps, I would appreciate any assistance in obtaining this product.         Kind Rgards    Ene Bell\n",
      "\n",
      "good morning , after purchasing the product last night i have had trouble downloading and installing the application , the files seem to have downloaded but can not could you please send a link to make this easier or explain steps , i would appreciate any assistance in obtaining this kind rgards ene bell\n",
      "==========Similarity: tensor([0.9330])==========\n",
      "Hi there its Lawrence, just an update for you regarding my open enquiry with you, I have tried twice to forward some more information in addition to my last reply to you but because of the 5mb restriction on this form it will not except my information even in a zip file. do you have an email address that I can reply to so I can give you the additional information, many thanks, Lawrence\n",
      "\n",
      "hi there its lawrence , just an update for you regarding my open enquiry with you , i have tried twice to forward some more information in addition to my last reply to you but because of the 5mb restriction on this form it will not except my information even in a zip do you have an email address that i can reply to so i can give you the additional information , many thanks , lawrence\n",
      "\n",
      "**************************************************\n",
      "\n",
      "Start predicting: Sir / Madam,    I am interested in Action Director (Android) Version 2.13.0 Build Number 64140... Regarding this I have 2 Questions...    1) Does Cyberlink offers any lifetime registration of this Android App instead of Yearly Renewal...    2) If I buy this Action Director (V2.13.0 ... Build # 64140) does I get free Upgrades also?    Regards,    Z. Khan  Zeelee69@hotmail.com    Samsung Note 8\n",
      "Start predicting: sir / madam , i am interested in actiondirector ( android ) version build number regarding this i have 2 1 ) does cyberlink offers any lifetime registration of this android app instead of yearly 2 ) if i buy this actiondirector build # 64140 ) does i get free upgrades also ?\n",
      "[['[CLS]', 'sir', '/', 'madam', ',', 'i', 'am', 'interested', 'in', 'action', '##di', '##re', '##ctor', '(', 'android', ')', 'version', 'build', 'number', 'regarding', 'this', 'i', 'have', '2', '1', ')', 'does', 'cyber', '##link', 'offers', 'any', 'lifetime', 'registration', 'of', 'this', 'android', 'app', 'instead', 'of', 'yearly', '2', ')', 'if', 'i', 'buy', 'this', 'action', '##di', '##re', '##ctor', 'build', '#', '64', '##14', '##0', ')', 'does', 'i', 'get', 'free', 'upgrades', 'also', '?', '[SEP]']]\n",
      "==========Similarity: tensor([0.9506])==========\n",
      "Dear  1) I want to upgrade my Powerdirector 7 (details see attachment) to Powerdirector 17. Can I order and upgrade via the \"upgrade\" button (lower pricing) on your website because there is mentioned \"upgrade from Powerdirector 15/16\"? Actually I'm using Powerdirector 17 trial version. I suppose this is the ultimate version. Correct? When I want to upgrade via Powerdirector 7, I'm transfered to the same cyberlink website.  2) I'm not sure about ordering Powerdirector 17 Ultra or Ultimate. Can I order first Ultra and if not enough functionalities, review to ultimate with the upgrade price conditions within 30 days after my purchase? How will the payment organised in that case? Thanks in advance.<br><br>Attach File : <a href=\"http://csupload.cyberlink.com/upload-file/support/cs/2019-02-06/CS001987771/CS001987771-1549487853289-0.JPG\" target=_blank>CS001987771-1549487853289-0.JPG</a>\n",
      "\n",
      "dear 1 ) i want to upgrade my powerdirector 7 ( details see attachment ) to powerdirector can i order and upgrade via the `` upgrade '' button ( lower pricing ) on your website because there is mentioned `` upgrade from powerdirector 15/16 '' ? actually i 'm using powerdirector 17 trial i suppose this is the ultimate correct ? when i want to upgrade via powerdirector 7 , i 'm transfered to the same cyberlink 2 ) i 'm not sure about ordering powerdirector 17 ultra or can i order first ultra and if not enough functionalities , review to ultimate with the upgrade price conditions within 30 days after my purchase ? how will the payment organised in that case ? thanks in attach file :\n",
      "==========Similarity: tensor([0.9506])==========\n",
      "I purchased a powerdirector bundle last year and forgot to download and activate it until now.     But when clicking the link I am greeted with a webpage saying \"Your download is no longer valid. Please contact our customer support.\"    Also included in the bundle was:    ColorDirector 4 Ultra.    15 Music Tracks & Sound Effects from Muserk.    Travel Pack 5 for PowerDirector.    CyberLink Cloud 25 GB (12 months)      So may I have a new valid link(s)? or I am out of luck?\n",
      "\n",
      "i purchased a powerdirector bundle last year and forgot to download and activate it until but when clicking the link i am greeted with a webpage saying `` your download is no longer please contact our customer also included in the bundle was : colordirector 4 15 music tracks & sound effects from travel pack 5 for cyberlink cloud 25 gb ( 12 months ) so may i have a new valid link ( s ) ? or i am out of luck ?\n",
      "==========Similarity: tensor([0.9504])==========\n",
      "I have Power Director 6 deluxe installed on one pc and wish now to purchase Power Director 17 Ultimate for my other pc. Am I still eligible to purchase as upgrade? Also is Director 17 Ultimate a one-time purchase or do I still have to pay annual subscription. Does Director 17 Ultimate offer free upgrades. A quick reply is appreciated so I can place my order.\n",
      "\n",
      "i have powerdirector 6 deluxe installed on one pc and wish now to purchase powerdirector 17 ultimate for my other am i still eligible to purchase as upgrade ? also is director 17 ultimate a one-time purchase or do i still have to pay annual does director 17 ultimate offer free a quick reply is appreciated so i can place my\n",
      "\n",
      "**************************************************\n",
      "\n",
      "Start predicting: can you please advise if I can put this download on more than one device?\n",
      "Start predicting: can you please advise if i can put this download on more than one device ?\n",
      "[['[CLS]', 'can', 'you', 'please', 'advise', 'if', 'i', 'can', 'put', 'this', 'download', 'on', 'more', 'than', 'one', 'device', '?', '[SEP]']]\n",
      "==========Similarity: tensor([0.9035])==========\n",
      "Can I install my licensed copy on more that one computer?\n",
      "\n",
      "can i install my licensed copy on more that one computer ?\n",
      "==========Similarity: tensor([0.9027])==========\n",
      "can you please confirm if I am able to copy and paste a project I've been working on. I would like to have more than one version editable.<br><br>Attach File : <a href='http://csupload.cyberlink.com/upload-file/support/cs/2018-09-21/CS001936437/DeviceInfo.txt' target=_blank>DeviceInfo.txt</a>\n",
      "\n",
      "can you please confirm if i am able to copy and paste a project i 've been working i would like to have more than one version attach file :\n",
      "==========Similarity: tensor([0.9001])==========\n",
      "Can I purchase one version of Cyber and use it on more than one of my computers?\n",
      "\n",
      "can i purchase one version of cyber and use it on more than one of my computers ?\n",
      "\n",
      "**************************************************\n",
      "\n",
      "Start predicting: <html><head><meta http-equiv=\"Content-Type\" content=\"text/html; charset=utf-8\"></head><body>  <table width=\"100%\" border=\"0\" cellspacing=\"2\" cellpadding=\"2\">  <tr>     <td colspan=\"2\">Message from: <a href='mailto:g_patucci@yahoo.com'>Gary Pichini &lt;g_patucci@yahoo.com&gt;</a>     </td>  </tr>  <tr>     <td width=\"37%\"><li>Product Interest:</li></td>    <td width=\"63%\"> PowerDirector 16 </td>  </tr>  <tr>     <td width=\"37%\"><li>Sale Interest:</li></td>    <td width=\"63%\"> Hardware bundle (OEM) inquiry </td>  </tr>  <tr>     <td width=\"37%\"><li>Plan to purchase:</li></td>    <td width=\"63%\">Immediately </td>  </tr>  <tr>     <td width=\"37%\"><li>Country:</li></td>    <td width=\"63%\">USA </td>  </tr>  <tr>     <td width=\"37%\"><li>Company:</li></td>    <td width=\"63%\">N/A </td>  </tr>  <tr>     <td width=\"37%\"><li>Category:</li></td>    <td width=\"63%\">Partner</td>  </tr>  <tr>     <td width=\"37%\"><li>Phone Number:</li></td>    <td width=\"63%\">313-720-9798 </td>  </tr>  <tr>     <td width=\"37%\"><li>Company Web address:</li></td>    <td width=\"63%\">NA </td>  </tr>  <tr>     <td width=\"37%\"><li>Position:</li></td>    <td width=\"63%\">NA </td>  </tr>  <tr>     <td width=\"37%\"><li>Comment:</li></td>    <td width=\"63%\"></td>  </tr>  <tr>     <td colspan=\"2\">  <table width=\"90%\" align=\"right\">   <tr>    <td align=\"left\">I placed an order, ORDER NO. 214677945, and I've been trying for 5 hours to download about 6 different things that were listed for downloads. How about you cancel this order? I've spent way too much time with it and I don't think it's what it appeared to be anyway. It looks like this is a subscription of sort. I wanted a video editing software I can simply load onto my computer. I've never used editing software before and I'm finding this to be a huge wast of my time. Five hours is a long time and the items I selected for a download still aren't available. Please just cancel my order and return my purchase price.  </td>   </tr>  </table>    </td>  </tr></table>  </body></html>\n",
      "Start predicting: i placed an order , order 214677945 , and i 've been trying for 5 hours to download about 6 different things that were listed for how about you cancel this order ? i 've spent way too much time with it and i do n't think it 's what it appeared to be it looks like this is a subscription of i wanted a video editing software i can simply load onto my i 've never used editing software before and i 'm finding this to be a huge wast of my five hours is a long time and the items i selected for a download still are n't please just cancel my order and return my purchase\n",
      "[['[CLS]', 'i', 'placed', 'an', 'order', ',', 'order', '214', '##6', '##7', '##7', '##9', '##45', ',', 'and', 'i', \"'\", 've', 'been', 'trying', 'for', '5', 'hours', 'to', 'download', 'about', '6', 'different', 'things', 'that', 'were', 'listed', 'for', 'how', 'about', 'you', 'cancel', 'this', 'order', '?', 'i', \"'\", 've', 'spent', 'way', 'too', 'much', 'time', 'with', 'it', 'and', 'i', 'do', 'n', \"'\", 't', 'think', 'it', \"'\", 's', 'what', 'it', 'appeared', 'to', 'be', 'it', 'looks', 'like', 'this', 'is', 'a', 'subscription', 'of', 'i', 'wanted', 'a', 'video', 'editing', 'software', 'i', 'can', 'simply', 'load', 'onto', 'my', 'i', \"'\", 've', 'never', 'used', 'editing', 'software', 'before', 'and', 'i', \"'\", 'm', 'finding', 'this', 'to', 'be', 'a', 'huge', 'was', '##t', 'of', 'my', 'five', 'hours', 'is', 'a', 'long', 'time', 'and', 'the', 'items', 'i', 'selected', 'for', 'a', 'download', 'still', 'are', 'n', \"'\", 't', 'please', 'just', 'cancel', 'my', 'order', 'and', 'return', 'my', 'purchase', '[SEP]']]\n",
      "==========Similarity: tensor([0.9597])==========\n",
      "I'm having problems because I'm asked to put in the product key after I have reinstalled the software. I have purchased several upgrades. since it was a download I don't think I can do that since my emails don't go back that far. additionally my computer's hard drive had to be recently replaced. I don't think it's right if I had to repurchased those upgrades. Can you help me out please? The best way would be if you could look at my purchase history and send me my product key codes for each purchased product or upgrade.\n",
      "\n",
      "i 'm having problems because i 'm asked to put in the product key after i have reinstalled the i have purchased several since it was a download i do n't think i can do that since my emails do n't go back that additionally my computer 's hard drive had to be recently i do n't think it 's right if i had to repurchased those can you help me out please ? the best way would be if you could look at my purchase history and send me my product key codes for each purchased product or\n",
      "==========Similarity: tensor([0.9586])==========\n",
      "I had purchased powerdirector  16 ultimate. I just got a new laptop and wanted to download it. I clicked the link in the email and it tells me that my link is no longer valid?! I'd like to know why. Right now it kind of looks like I have paid for a product that I now can not use. I'm hoping that this isn't the case. So please tell me how I can download my purchased products.\n",
      "\n",
      "i had purchased powerdirector 16 i just got a new laptop and wanted to download i clicked the link in the email and it tells me that my link is no longer valid ? ! i 'd like to know right now it kind of looks like i have paid for a product that i now can not i 'm hoping that this is n't the so please tell me how i can download my purchased\n",
      "==========Similarity: tensor([0.9583])==========\n",
      "Customer #100712717  Order #214479921  I have subscribed for two years. I'm currently paying for an outdated version of your software.  I've spent all evening trying to figure out how to upgrade my software to a newer version.  You have no support, your FAQ are useless and you have apparently made it overly complicated to manage a subscription. All upgrades I select say they are 30 day free trials. PLEASE cancel my subscription and refund my $99 that was just charged to me today.  I do not want instructions on how to upgrade, I've exhausted my time on that issue, I want a refund ASAP and I'll go to Best Buy and purchase a box version as I use to do...  PLEASE REFUND MY MONEY, I DO NOT WANT INSTRUTIONS OR TROUBLESHOOTING... You should have made it easier for me to stay up to date...\n",
      "\n",
      "customer # 100712717 order # 214479921 i have subscribed for two i 'm currently paying for an outdated version of your i 've spent all evening trying to figure out how to upgrade my software to a newer you have no support , your faq are useless and you have apparently made it overly complicated to manage a all upgrades i select say they are 30 day free please cancel my subscription and refund my $ 99 that was just charged to me i do not want instructions on how to upgrade , i 've exhausted my time on that issue , i want a refund asap and i 'll go to best buy and purchase a box version as i use to please refund my money , i do not want instrutions or you should have made it easier for me to stay up to\n",
      "\n",
      "**************************************************\n",
      "\n",
      "Start predicting: please fix the profile part... having to go through every month and year to get to the tight year is obnoxious!! You should be able to just type the info in... ALSO... the options for hair suck... I have a shaved head, and there's no option for that, so to complete and accept my profile info I had to lie about hair, NOT COOL!!<br><br>Attach File : <a href='http://csupload.cyberlink.com/upload-file/support/cs/2018-12-03/CS001961673/CL_LOGCAT_DATA.zip' target=_blank>CL_LOGCAT_DATA.zip</a>\n",
      "Start predicting: please fix the profile having to go through every month and year to get to the tight year is obnoxious ! ! you should be able to just type the info the options for hair i have a shaved head , and there 's no option for that , so to complete and accept my profile info i had to lie about hair , not cool ! ! attach file :\n"
     ]
    },
    {
     "name": "stdout",
     "output_type": "stream",
     "text": [
      "[['[CLS]', 'please', 'fix', 'the', 'profile', 'having', 'to', 'go', 'through', 'every', 'month', 'and', 'year', 'to', 'get', 'to', 'the', 'tight', 'year', 'is', 'ob', '##no', '##xious', '!', '!', 'you', 'should', 'be', 'able', 'to', 'just', 'type', 'the', 'info', 'the', 'options', 'for', 'hair', 'i', 'have', 'a', 'shaved', 'head', ',', 'and', 'there', \"'\", 's', 'no', 'option', 'for', 'that', ',', 'so', 'to', 'complete', 'and', 'accept', 'my', 'profile', 'info', 'i', 'had', 'to', 'lie', 'about', 'hair', ',', 'not', 'cool', '!', '!', 'attach', 'file', ':', '[SEP]']]\n",
      "==========Similarity: tensor([0.9422])==========\n",
      "Can I get a refund??  You guys need to put a HUGE banner on your page to say your software only runs on Windows!! This factoid appears only to be buried in the depths of the spec sheet. I bought a months subscription to see if I like the video editing suite. I run a mac so obviously your software wont run on my system. Please can you refund me my 20 bucks please?! Invoice attached.<br><br>Attach File : <a href=\"http://csupload.cyberlink.com/upload-file/support/cs/2018-10-08/CS001941772/CS001941772-1538995105127-0.pdf\" target=_blank>CS001941772-1538995105127-0.pdf</a>\n",
      "\n",
      "can i get a refund ? ? you guys need to put a huge banner on your page to say your software only runs on windows ! ! this factoid appears only to be buried in the depths of the spec i bought a months subscription to see if i like the video editing i run a mac so obviously your software wont run on my please can you refund me my 20 bucks please ? ! invoice attach file :\n",
      "==========Similarity: tensor([0.9418])==========\n",
      "I was starting to navigate the app more and more recently and was trying to enter the free giveaways but found out you must link or tag you in Instagram to be eligible to win? Well what if you dont have one?   If you look at my account you will notice I havent posted any photos yet, that's because I was trying to make sure this site wasn't as public or invasive as Facebook and/or Instagram. I joined because I want to feel a part of something NOT so judgemental and opinionated, but rather just fun. Like hanging with the girls and having make over nights. ☺   But being disqualified due to no IG seems a little unfair. Would you please consider opening up some of the giveaways to include non-IG members?   Side note - while participating in live chats recently some of the ages of the users has come up which isnt a big deal but I did note some were only in middle school... :/ so setting a good example for them isnt to direct them to the imposible to achieve looks of the beauty models that are all over IG - but close to what you have now, which is to have them live chat with REAL girls that arent all doing the same makeup looks. Some seem over the top, but there are alot of down to earth users on here that host live chats that I think are positive. I have never witnessed anything even so much as an unkind comment during a live chat which really kind of blows my mind still. Night and day different from IG where often times people are attacked from behind a keyboard and end up having to remove content just because of the hate.   I hope you keep promoting positivity!  So.... Do your users a favor and be more all-inclusive, you do have very friendly users of all ages, and we dont all have social media.   Hoping you have a wonderful rest of your day, Shawna Babe *30 year young - hair and makeup loving - extremely social butterfly - that has proudly NEVER had any accounts with Facebook, IG, Snapchat or Twitter.   <br><br>Attach File : <a href='http://csupload.cyberlink.com/upload-file/support/cs/2019-06-02/CS002026509/CL_LOGCAT_DATA.zip' target=_blank>CL_LOGCAT_DATA.zip</a><br><br>Attach File : <a href='http://csupload.cyberlink.com/upload-file/support/cs/2019-06-02/CS002026509/BC_20190603014855716_1.jpg' target=_blank>BC_20190603014855716_1.jpg</a>\n",
      "\n",
      "i was starting to navigate the app more and more recently and was trying to enter the free giveaways but found out you must link or tag you in instagram to be eligible to win ? well what if you dont have one ? if you look at my account you will notice i havent posted any photos yet , that 's because i was trying to make sure this site was n't as public or invasive as facebook and/or i joined because i want to feel a part of something not so judgemental and opinionated , but rather just like hanging with the girls and having make over ☺ but being disqualified due to no ig seems a little would you please consider opening up some of the giveaways to include non-ig members ? side note - while participating in live chats recently some of the ages of the users has come up which isnt a big deal but i did note some were only in middle : / so setting a good example for them isnt to direct them to the imposible to achieve looks of the beauty models that are all over ig - but close to what you have now , which is to have them live chat with real girls that arent all doing the same makeup some seem over the top , but there are alot of down to earth users on here that host live chats that i think are i have never witnessed anything even so much as an unkind comment during a live chat which really kind of blows my mind night and day different from ig where often times people are attacked from behind a keyboard and end up having to remove content just because of the i hope you keep promoting positivity ! do your users a favor and be more all-inclusive , you do have very friendly users of all ages , and we dont all have social hoping you have a wonderful rest of your day , shawna babe *30 year young - hair and makeup loving - extremely social butterfly - that has proudly never had any accounts with facebook , ig , snapchat or attach file : attach file :\n",
      "==========Similarity: tensor([0.9411])==========\n",
      "Hi:    I got a new computer and I want to install CyberDirector 16 that I upgraded to from 13 earlier in the year.    I don't have disks, I did it by download. Can you please tell me how to find the files to download to reinstall? Do I have to install the original version 13 and then upgrade to 16? I logged in to my account, bu in the Download section it shows a bunch of upgrades, but not the original full product.    Also once I get it installed on the new computer, I'm worried that I will lose access to my projects, since the path structure will be different on my new computer. Can you please tell me how to move my projects onto the new computer?    Thanks for your help!    Joan\n",
      "\n",
      "hi : i got a new computer and i want to install cyberdirector 16 that i upgraded to from 13 earlier in the i do n't have disks , i did it by can you please tell me how to find the files to download to reinstall ? do i have to install the original version 13 and then upgrade to 16 ? i logged in to my account , bu in the download section it shows a bunch of upgrades , but not the original full also once i get it installed on the new computer , i 'm worried that i will lose access to my projects , since the path structure will be different on my new can you please tell me how to move my projects onto the new computer ? thanks for your help ! joan\n",
      "\n",
      "**************************************************\n",
      "\n"
     ]
    }
   ],
   "source": [
    "import random\n",
    "\n",
    "for i, index in enumerate(random.sample(range(len(clean_data)), 10)):\n",
    "    print(\"Query: {}\".format(reduced_data[index]))\n",
    "    predict(clean_data[index], 3)\n",
    "    print(\"\\n\" + \"*\" * 50 + \"\\n\")"
   ]
  }
 ],
 "metadata": {
  "kernelspec": {
   "display_name": "Python 3",
   "language": "python",
   "name": "python3"
  },
  "language_info": {
   "codemirror_mode": {
    "name": "ipython",
    "version": 3
   },
   "file_extension": ".py",
   "mimetype": "text/x-python",
   "name": "python",
   "nbconvert_exporter": "python",
   "pygments_lexer": "ipython3",
   "version": "3.7.4"
  }
 },
 "nbformat": 4,
 "nbformat_minor": 2
}
