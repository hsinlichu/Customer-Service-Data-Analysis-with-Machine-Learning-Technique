{
 "cells": [
  {
   "cell_type": "markdown",
   "metadata": {},
   "source": [
    "# Related Question\n",
    "這個主題是因為想要透過類似主題的方式，讓客人在還沒有將問題提交前就可以得到類似問題的解答，以期可以解決簡單的客人問題，並且減少客訴的量。\n",
    "這邊我使用的方式是使用 Bert 來做骨幹架構，來表示出 sentence。\n",
    "其中 Bert 我是使用 [bert-as-service](https://github.com/hanxiao/bert-as-service) 套件，搭配 [BERT-Base, Uncased(12-layer, 768-hidden, 12-heads, 110M parameters)](https://storage.googleapis.com/bert_models/2018_10_18/uncased_L-12_H-768_A-12.zip) pretrained model 輸出 sentence representation。\n",
    "\n",
    "我會選擇上面那個 model 單純只是因為 GPU 記憶體只塞得進這個 model 的關係，如果用更大的 model 可想而知效果應該會更好。\n",
    "\n",
    "使用流程：\n",
    "1. Install require package\n",
    "\n",
    "    ```\n",
    "    pip install bert-serving-server  # server\n",
    "    pip install bert-serving-client  # client, independent of `bert-serving-server`\n",
    "    ```\n",
    "2. Download pretrain model\n",
    "3. Start the BERT service\n",
    "    在同一台電腦的 shell 輸入底下的 command，並且直到 shell 輸出 all set, ready to serve request!\n",
    "    另外 num_worker 會牽扯到記憶體用量，如果一直沒有輸出 all workers ready，有可能就是因為記憶體不夠的關係。\n",
    "    \n",
    "    `bert-serving-start -model_dir uncased_L-12_H-768_A-12 -num_worker 3  -port 1355 -max_seq_len 150 -device_map 3 -show_tokens_to_client`\n",
    "4. Run this jupyter notebook!"
   ]
  },
  {
   "cell_type": "code",
   "execution_count": 1,
   "metadata": {},
   "outputs": [],
   "source": [
    "import torch\n",
    "import torch.nn as nn\n",
    "\n",
    "import pickle\n",
    "import numpy as np\n",
    "\n",
    "loadpath = \"processed_data_bert_expand\"\n",
    "bert_data_path = \"bert_expand.pkl\""
   ]
  },
  {
   "cell_type": "markdown",
   "metadata": {},
   "source": [
    "## Predict Dataset"
   ]
  },
  {
   "cell_type": "markdown",
   "metadata": {},
   "source": [
    "讀取 Data Preprocessing.ipynb 已經預處理完的資料。"
   ]
  },
  {
   "cell_type": "code",
   "execution_count": 2,
   "metadata": {},
   "outputs": [],
   "source": [
    "with open(loadpath, \"rb\") as f:\n",
    "    output = pickle.load(f)\n",
    "clean_data = output[\"clean_data\"]\n",
    "reduced_data = output[\"reduced_data\"]\n",
    "token_data = output[\"token_data\"]"
   ]
  },
  {
   "cell_type": "markdown",
   "metadata": {},
   "source": [
    "開始取得 dataset 中每個句子的 sentence representation。處理時間會因為 `n_worker` 的數量以及 gpu 的運算能力而有差別，我自己是在 GeForce GTX 1080 Ti 上面 n_worker=4，共跑了約 3 個小時。\n",
    "\n",
    "如果連線成功在你 run `bert-serving-start` 的那個 shell 應該會有一堆 log 出現。"
   ]
  },
  {
   "cell_type": "code",
   "execution_count": 3,
   "metadata": {},
   "outputs": [
    {
     "name": "stdout",
     "output_type": "stream",
     "text": [
      "Start predicting\n"
     ]
    },
    {
     "name": "stderr",
     "output_type": "stream",
     "text": [
      "/tmp2/b05505004/intern/lib/python3.7/site-packages/bert_serving/client/__init__.py:299: UserWarning: some of your sentences have more tokens than \"max_seq_len=150\" set on the server, as consequence you may get less-accurate or truncated embeddings.\n",
      "here is what you can do:\n",
      "- disable the length-check by create a new \"BertClient(check_length=False)\" when you do not want to display this warning\n",
      "- or, start a new server with a larger \"max_seq_len\"\n",
      "  '- or, start a new server with a larger \"max_seq_len\"' % self.length_limit)\n"
     ]
    }
   ],
   "source": [
    "from bert_serving.client import BertClient\n",
    "bc = BertClient(port=1355)\n",
    "print(\"Start predicting\")\n",
    "bert_output = bc.encode(clean_data)"
   ]
  },
  {
   "cell_type": "markdown",
   "metadata": {},
   "source": [
    "將好不容易跑出來的結果儲存起來，之後使用就不需要重新跑一遍。"
   ]
  },
  {
   "cell_type": "code",
   "execution_count": 4,
   "metadata": {},
   "outputs": [],
   "source": [
    "bert_data = {\n",
    "    \"clean_data\": clean_data,\n",
    "    \"reduced_data\": reduced_data,\n",
    "    \"token_data\": token_data,\n",
    "    \"bert_data\": bert_output\n",
    "}\n",
    "with open(bert_data_path, \"wb\") as f:\n",
    "    pickle.dump(bert_data, f)"
   ]
  },
  {
   "cell_type": "markdown",
   "metadata": {},
   "source": [
    "Read dataset with bert sentence representation"
   ]
  },
  {
   "cell_type": "code",
   "execution_count": 5,
   "metadata": {},
   "outputs": [],
   "source": [
    "with open(bert_data_path, \"rb\") as f:\n",
    "    bert_data = pickle.load(f)\n",
    "clean_data = bert_data[\"clean_data\"]\n",
    "reduced_data = bert_data[\"reduced_data\"]\n",
    "token_data = bert_data[\"token_data\"]\n",
    "bert_output = bert_data[\"bert_data\"]"
   ]
  },
  {
   "cell_type": "code",
   "execution_count": 6,
   "metadata": {},
   "outputs": [
    {
     "name": "stdout",
     "output_type": "stream",
     "text": [
      "Type:  <class 'numpy.ndarray'> (100910, 768)\n",
      "torch.Size([100910, 768])\n"
     ]
    }
   ],
   "source": [
    "print(\"Type: \", type(bert_output), bert_output.shape)\n",
    "bert_tensor = torch.from_numpy(bert_output)\n",
    "print(bert_tensor.size())"
   ]
  },
  {
   "cell_type": "markdown",
   "metadata": {},
   "source": [
    "## Testing\n",
    "這邊模擬 testing 的情境，當有一個新的 query sentence，要先把句子預處理完後再丟進 `predict()` function。這邊我偷懶就直接拿之前已經預處理好的句子丟進去。\n",
    "\n",
    "要注意要執行 `predict()` function 前還是要在 shell 用 `bert-serving-start` 把 model run 起來。\n",
    "\n",
    "`predict()` function 會先取得 query sentence 的 sentence representation，接著再與先前 dataset 取得的 Bert sentence representation 去算 cosine similarity，數值越高就與現在這個 query sentence 越相似。"
   ]
  },
  {
   "cell_type": "code",
   "execution_count": 7,
   "metadata": {},
   "outputs": [],
   "source": [
    "import re\n",
    "\n",
    "from bert_serving.client import BertClient\n",
    "bc = BertClient(port=1355)\n",
    "bert_norm = bert_tensor / torch.norm(bert_tensor, dim=1).view(-1, 1)\n",
    "\n",
    "\n",
    "\n",
    "def predict(test_sentence, num_related):\n",
    "    print(\"Query: {}\".format(test_sentence))\n",
    "    test_array, token = bc.encode([test_sentence], show_tokens=True)\n",
    "    #print(token)\n",
    "    test_tensor = torch.tensor(test_array[0])\n",
    "    #print(\"bert_tensor:\", bert_tensor.size()) # torch.Size([100868, 768])\n",
    "    \n",
    "    test_norm = test_tensor / torch.norm(test_tensor)\n",
    "    similarity = torch.matmul(bert_norm, test_norm.view(-1,1))\n",
    "    \n",
    "    rank = torch.argsort(similarity, dim=0, descending=True)\n",
    "\n",
    "    for i in range(1, num_related + 1):\n",
    "        print(\"\\n\" + \"=\" * 10 + \"Similarity: {}\".format(similarity[rank[i]][0]) + \"=\" * 10)\n",
    "        print(re.sub(r'<[^<]*?/?>', '', reduced_data[rank[i]])) # remove output sentence html \n",
    "        #print()\n",
    "        #print(clean_data[rank[i]])\n",
    "    return None"
   ]
  },
  {
   "cell_type": "code",
   "execution_count": 9,
   "metadata": {
    "scrolled": false
   },
   "outputs": [
    {
     "name": "stdout",
     "output_type": "stream",
     "text": [
      "Query: ﻿   dear sir,  kindly confim that is it possible to edit  (quick time) videos in your android video editing           my both nikon camera produce  videos, which is not edit able by any other           related          kaushik        ﻿\n",
      "\n",
      "==========Similarity: tensor([0.9466])==========\n",
      "Hi,  I have an indoor security camera uses avi format, it's not MP3 or MP4,  I'm unable to play any video from this security device, even if I edited then play in different video players,, , the clip will be distorted, i love this app just can't edit any videos from this sec cam, your help is much appreciated.  Gashi Attach File : DeviceInfo.txt\n",
      "\n",
      "==========Similarity: tensor([0.9333])==========\n",
      "I want to capture clips/videos from my HDV sony camera (with tape) by means of a fire wire. Power director recognize the camera but when I want to capture I got a message (see attachment) The setting at my camera are correct. A friend could capture this video with his editing software (Magix) without problem after downloading MPEG-2 codec. I have already downloaded MPEG-2 codec but it still doesn't work.  What can I do?Attach File : foutmelding.JPG\n",
      "\n",
      "==========Similarity: tensor([0.9332])==========\n",
      "﻿ Hello, My power director videos do not have audio when I email them to someone.  My pd videos also will not play on my Vizio smartcast tv that i have through my all screen app.  Can you please help me resolve this?  Thank you so much.  Sincerely,  Rodger       ﻿\n",
      "\n",
      "**************************************************\n",
      "\n",
      "Query: i have cyber director  i upgraded to 17   it wasn&#39;t working correctly so i uninstalled thinking i could   it won&#39;t let me, help    ​i need a refund because i paid  to download it again    \n",
      "\n",
      "==========Similarity: tensor([0.9519])==========\n",
      "Trying to activate my cyberlink power director but it won&#39;t let me and keep saying has been use many times. But when I rodered this product it doesn&#39;t say that there is a limitation on installation. Hope you can help me. Thanks!!\n",
      "\n",
      "==========Similarity: tensor([0.9493])==========\n",
      "HI,    I had to reset my Windows. As a result I lost my PowerDVD17 which I purchased and installed. I can not find anymore PowerDVD 17 to install. When ever I tried Cyberlink Download manager forcing to upgrade to 18 which does not recognise my Registration key as it belongs to version 17.  Can you help me to get the older version.  I am not interested to buy Version 18.\n",
      "\n",
      "==========Similarity: tensor([0.9476])==========\n",
      "Bought 365 just 12 days ago have been working on a staff party video for party coming up. last night after working for a couple of hrs.went to my other computer 2 find some pictures then decided to purchase cyberlink for my other computer so i tried and it wouldn't work.after a while frustated i went back to the original computer and it asked me to sign in for authenticity, i signed in nothing. i need this back i have hrs invested, tonite i  received an order confirmation for the second cyberlink black friday special 42.00 i used same password for both please help\n",
      "\n",
      "**************************************************\n",
      "\n",
      "Query: when i tried to upgrade from to version 18 i get the following message, at which point the upgrade process aborts:    \"setup cannot install the   your system must have at least one of the following versions of power dvd  i have]    \"the installation of this program was   please report this installation issue by going to     so, i am   what can i do to get this installed?\n",
      "\n",
      "==========Similarity: tensor([0.9813])==========\n",
      "I get an error message when I try to upgrade to DVD 18, which I already paid for. The message states:    \"Setup cannot install the upgrade.  Your system must have at least one of the following versions of Power DVD installed....[which I do]    \"The installation of this program was unsuccessful.  Please report this installation issue by going to.....\"    What do I need to do to get this either resolved or get a refund?\n",
      "\n",
      "==========Similarity: tensor([0.9704])==========\n",
      "I have tried several time to install this software and this is the message I get each time:    Setup cannot install the upgrade.  Your system must have at least one of the following versions of YouCam installed: 4.1/5.0/6.0/7.0. The installation will now abort.    The installation of this program was unsuccessful. Please report this installation issue by going to this website.\n",
      "\n",
      "==========Similarity: tensor([0.9683])==========\n",
      "When trying to download PowerDirector is says \"Setup cannot install the upgrade.  Your system must have at least one of the following versions of PowerDirector installed:  11.0/12.0/13.0/14.0/15/0/16.0. The installation will now abort.  The installation of this program was unsuccessful. Please report this installation issue by going to http://www.cyberlink.com/cs-help and attaching Cyberlink PowerDirector 16.0zip from your desktop    Please help get this working. I don't have a code for the old program it keeps asking me about. I have multiple programs of yours on my computer so I'm not sure why this program will not run.  Thank you.Attach File : CS001873466-1522289303585-0.zip\n",
      "\n",
      "**************************************************\n",
      "\n",
      "Query: unauthorized copying and distribution of your products  this is the information on disturbance of national and international   cyberlink powerdvd ultra                             \n",
      "\n",
      "==========Similarity: tensor([0.9913])==========\n",
      "Unauthorized copying and distribution of your products  This is the information on disturbance of national and international copyright.  CyberLink Power2Go Platinum 12.0.0621.0  http://cwer.ru/node/464501/  http://turbobit.net/ks7bd171s2q5.html  http://www.hitfile.net/NjTN5Rz  https://douploads.com/f0y01zkk3h59  https://upload4earn.org/fktqzweqhj3k\n",
      "\n",
      "==========Similarity: tensor([0.9876])==========\n",
      "Unauthorized copying and distribution of your products  This is the information on disturbance of national and international copyright.  CyberLink MediaShow Ultra 6.0.11524 + Rus   http://cwer.ru/node/466028/  http://turbobit.net/bhasgsumdec4.html  http://www.hitfile.net/vkDj5dv  https://douploads.com/5hjnbzg0x46o  http://nitroflare.com/view/02B88B91A6D16BB/CLMdSU6011524.rar\n",
      "\n",
      "==========Similarity: tensor([0.9856])==========\n",
      "Unauthorized copying and distribution of your products  This is the information on disturbance of national and international copyright.  CyberLink PhotoDirector Ultra 10.0.2022.0 + Rus   http://cwer.ru/node/467771/  https://turbobit.net/srgymoswngmt/PhotoDirector_10.0.2022_Ultra.rar.html  http://nitroflare.com/view/8DBF09F2DF3DB88/PhotoDirector_10.0.2022_Ultra.rar  https://hitfile.net/hIY9CC2/PhotoDirector_10.0.2022_Ultra.rar.html  http://uploaded.net/file/fbsld37h/PhotoDirector_10.0.2022_Ultra.rar\n",
      "\n",
      "**************************************************\n",
      "\n",
      "Query: it is telling me that i installed it too many times and it has only been installed on my  i do a reload every 6 months or so and it will not let me   message \"cyberlink powerdirector was not  \n",
      "\n",
      "==========Similarity: tensor([0.9449])==========\n",
      "I bought director suite 6 and i have been trying to activate it for about a week now via powerproducer but is says that it can't connent to the activation server and that i need to check my internet connection. I have checked the connenction and my firewall and they both aren't the problem. I don't know what to do. You can see my other ticket for a printscreen of the errormessage.\n",
      "\n",
      "==========Similarity: tensor([0.9444])==========\n",
      "﻿ I have this program and I paid for the full version long ago and I'm asking to pay again, that is ridicules.. There basically was updates and I uesed a bank card and Google play confirmed the purchess was made and no I don't have that card number and it's long expired by now and it keeps say it is connected or attached to moltable devices and I can't restore my original pueches. Why do I need to pay again when it was purchased long ago??!!&nbsp;   ﻿\n",
      "\n",
      "==========Similarity: tensor([0.9441])==========\n",
      "To date I have not receive my backup disc,either send or refund.    Also this program of yours stops working more than once on any project and I can’t do back up which is why I purchased, I downloaded the required software and it refuses to except any effort. So that money was a waste because it doesn’t do any more than the cyberlink 11 basic did for my than and current needs.\n",
      "\n",
      "**************************************************\n",
      "\n"
     ]
    }
   ],
   "source": [
    "import random\n",
    "\n",
    "for i, index in enumerate(random.sample(range(len(clean_data)), 5)):\n",
    "    #print(\"Query: {}\".format(reduced_data[index]))\n",
    "    predict(clean_data[index], 3)\n",
    "    print(\"\\n\" + \"*\" * 50 + \"\\n\")"
   ]
  },
  {
   "cell_type": "markdown",
   "metadata": {},
   "source": [
    "## Future Work\n",
    "從最後輸出的結果來看其實還不錯，可是再經過一些調查後發現 bert 並不適合這樣直接當作 sentence encoder，目前想到的解決方法如下。\n",
    "\n",
    "1. 先 find tune 在一些 task 上，像是最一開始做得 supervised classification 後再拿 `[CLS]` 的 output 作為 sentence represention。\n",
    "2. 使用 [Universal Sentence Encoder](https://arxiv.org/pdf/1803.11175.pdf)。"
   ]
  }
 ],
 "metadata": {
  "kernelspec": {
   "display_name": "Python 3",
   "language": "python",
   "name": "python3"
  },
  "language_info": {
   "codemirror_mode": {
    "name": "ipython",
    "version": 3
   },
   "file_extension": ".py",
   "mimetype": "text/x-python",
   "name": "python",
   "nbconvert_exporter": "python",
   "pygments_lexer": "ipython3",
   "version": "3.7.4"
  }
 },
 "nbformat": 4,
 "nbformat_minor": 2
}
