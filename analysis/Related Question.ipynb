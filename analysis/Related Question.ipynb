{
 "cells": [
  {
   "cell_type": "markdown",
   "metadata": {},
   "source": [
    "# Related Question\n",
    "這個主題是因為想要透過類似主題的方式，讓客人在還沒有將問題提交前就可以得到類似問題的解答，以期可以解決簡單的客人問題，並且減少客訴的量。\n",
    "這邊我使用的方式是使用 Bert 來做骨幹架構，來表示出 sentence。\n",
    "其中 Bert 我是使用 [bert-as-service](https://github.com/hanxiao/bert-as-service) 套件，搭配 [BERT-Base, Uncased(12-layer, 768-hidden, 12-heads, 110M parameters)](https://storage.googleapis.com/bert_models/2018_10_18/uncased_L-12_H-768_A-12.zip) pretrained model 輸出 sentence representation。\n",
    "\n",
    "我會選擇上面那個 model 單純只是因為 GPU 記憶體只塞得進這個 model 的關係，如果用更大的 model 可想而知效果應該會更好。\n",
    "\n",
    "使用流程：\n",
    "1. Install require package\n",
    "\n",
    "    ```\n",
    "    pip install bert-serving-server  # server\n",
    "    pip install bert-serving-client  # client, independent of `bert-serving-server`\n",
    "    ```\n",
    "2. Download pretrain model\n",
    "3. Start the BERT service\n",
    "    在同一台電腦的 shell 輸入底下的 command，並且直到 shell 輸出 all set, ready to serve request!\n",
    "    另外 num_worker 會牽扯到記憶體用量，如果一直沒有輸出 all workers ready，有可能就是因為記憶體不夠的關係。\n",
    "    \n",
    "    `bert-serving-start -model_dir uncased_L-12_H-768_A-12 -num_worker 3  -port 1355 -max_seq_len 150 -device_map 3 -show_tokens_to_client`\n",
    "4. Run this jupyter notebook!"
   ]
  },
  {
   "cell_type": "code",
   "execution_count": 1,
   "metadata": {},
   "outputs": [],
   "source": [
    "import torch\n",
    "import torch.nn as nn\n",
    "\n",
    "import pickle\n",
    "import numpy as np\n",
    "\n",
    "loadpath = \"processed_data_bert_expand\"\n",
    "bert_data_path = \"bert_expand.pkl\""
   ]
  },
  {
   "cell_type": "markdown",
   "metadata": {},
   "source": [
    "## Predict Dataset"
   ]
  },
  {
   "cell_type": "markdown",
   "metadata": {},
   "source": [
    "讀取 Data Preprocessing.ipynb 已經預處理完的資料。"
   ]
  },
  {
   "cell_type": "code",
   "execution_count": 2,
   "metadata": {},
   "outputs": [],
   "source": [
    "with open(loadpath, \"rb\") as f:\n",
    "    output = pickle.load(f)\n",
    "clean_data = output[\"clean_data\"]\n",
    "reduced_data = output[\"reduced_data\"]\n",
    "token_data = output[\"token_data\"]"
   ]
  },
  {
   "cell_type": "markdown",
   "metadata": {},
   "source": [
    "開始取得 dataset 中每個句子的 sentence representation。處理時間會因為 `n_worker` 的數量以及 gpu 的運算能力而有差別，我自己是在 GeForce GTX 1080 Ti 上面 n_worker=4，共跑了約 3 個小時。\n",
    "\n",
    "如果連線成功在你 run `bert-serving-start` 的那個 shell 應該會有一堆 log 出現。"
   ]
  },
  {
   "cell_type": "code",
   "execution_count": null,
   "metadata": {},
   "outputs": [],
   "source": [
    "from bert_serving.client import BertClient\n",
    "bc = BertClient(port=1355)\n",
    "print(\"Start predicting\")\n",
    "bert_output = bc.encode(clean_data)"
   ]
  },
  {
   "cell_type": "markdown",
   "metadata": {},
   "source": [
    "將好不容易跑出來的結果儲存起來，之後使用就不需要重新跑一遍。"
   ]
  },
  {
   "cell_type": "code",
   "execution_count": null,
   "metadata": {},
   "outputs": [],
   "source": [
    "bert_data = {\n",
    "    \"clean_data\": clean_data,\n",
    "    \"reduced_data\": reduced_data,\n",
    "    \"token_data\": token_data,\n",
    "    \"bert_data\": bert_output\n",
    "}\n",
    "with open(bert_data_path, \"wb\") as f:\n",
    "    pickle.dump(bert_data, f)"
   ]
  },
  {
   "cell_type": "markdown",
   "metadata": {},
   "source": [
    "Read dataset with bert sentence representation"
   ]
  },
  {
   "cell_type": "code",
   "execution_count": 3,
   "metadata": {},
   "outputs": [],
   "source": [
    "with open(bert_data_path, \"rb\") as f:\n",
    "    bert_data = pickle.load(f)\n",
    "clean_data = bert_data[\"clean_data\"]\n",
    "reduced_data = bert_data[\"reduced_data\"]\n",
    "token_data = bert_data[\"token_data\"]\n",
    "bert_output = bert_data[\"bert_data\"]"
   ]
  },
  {
   "cell_type": "code",
   "execution_count": 4,
   "metadata": {},
   "outputs": [
    {
     "name": "stdout",
     "output_type": "stream",
     "text": [
      "Type:  <class 'numpy.ndarray'> (100910, 768)\n",
      "torch.Size([100910, 768])\n"
     ]
    }
   ],
   "source": [
    "print(\"Type: \", type(bert_output), bert_output.shape)\n",
    "bert_tensor = torch.from_numpy(bert_output)\n",
    "print(bert_tensor.size())"
   ]
  },
  {
   "cell_type": "markdown",
   "metadata": {},
   "source": [
    "## Testing\n",
    "這邊模擬 testing 的情境，當有一個新的 query sentence，要先把句子預處理完後再丟進 `predict()` function。這邊我偷懶就直接拿之前已經預處理好的句子丟進去。\n",
    "\n",
    "要注意要執行 `predict()` function 前還是要在 shell 用 `bert-serving-start` 把 model run 起來。\n",
    "\n",
    "`predict()` function 會先取得 query sentence 的 sentence representation，接著再與先前 dataset 取得的 Bert sentence representation 去算 cosine similarity，數值越高就與現在這個 query sentence 越相似。"
   ]
  },
  {
   "cell_type": "code",
   "execution_count": 10,
   "metadata": {},
   "outputs": [],
   "source": [
    "import re\n",
    "\n",
    "from bert_serving.client import BertClient\n",
    "bc = BertClient(port=1355)\n",
    "bert_norm = bert_tensor / torch.norm(bert_tensor, dim=1).view(-1, 1)\n",
    "\n",
    "\n",
    "\n",
    "def predict(test_sentence, num_related, ignore_first=False):\n",
    "    test_sentence = test_sentence.lower()\n",
    "    print(\"Query: {}\".format(test_sentence))\n",
    "    test_array, token = bc.encode([test_sentence], show_tokens=True)\n",
    "    #print(token)\n",
    "    test_tensor = torch.tensor(test_array[0])\n",
    "    #print(\"bert_tensor:\", bert_tensor.size()) # torch.Size([100868, 768])\n",
    "    \n",
    "    test_norm = test_tensor / torch.norm(test_tensor)\n",
    "    similarity = torch.matmul(bert_norm, test_norm.view(-1,1))\n",
    "    \n",
    "    rank = torch.argsort(similarity, dim=0, descending=True)\n",
    "    start = 1 if ignore_first else 0\n",
    "\n",
    "    for i in range(start, num_related + start):\n",
    "        print(\"\\n\" + \"=\" * 10 + \"Similarity: {}\".format(similarity[rank[i]][0][0]) + \"=\" * 10)\n",
    "        print(re.sub(r'<[^<]*?/?>', '', reduced_data[rank[i]])) # remove output sentence html \n",
    "        #print()\n",
    "        #print(clean_data[rank[i]])\n",
    "    return None"
   ]
  },
  {
   "cell_type": "code",
   "execution_count": 11,
   "metadata": {
    "scrolled": false
   },
   "outputs": [
    {
     "name": "stdout",
     "output_type": "stream",
     "text": [
      "Query: hi team,    please send me the link for downloading digital copy of powerdirector 17 ultra and photodirector 10     i have purchased the software and i have the dvd  i would like to download digital copies of the     thank you,  karthik   \n",
      "\n",
      "==========Similarity: 0.9417482018470764==========\n",
      "Hi  I purchased PowerDirector 14 Ultimate - Incl. Premium Effects and Templates on 02/08/2016, order number 213323203.  Today I accidentally lost the digital copy copies of the software and installations.  Could you kindly provide the links to download all of them once again for which I will be very grateful. Thank you. Sincerely  Giridhar Havanoor\n",
      "\n",
      "==========Similarity: 0.9353709816932678==========\n",
      "Hi there,    I tried to download the files but the link is broken.    Please kindly provide the link to download     PowerDirector 15 Ultimate + PhotoDirector 8 Ultra    Thanks a lot   Shanyao Lee\n",
      "\n",
      "==========Similarity: 0.9312517046928406==========\n",
      "I purchased these three products, I had to installed windows 10 pro on my laptop, I have contacted your tech support about the last product and getting it re downloaded (Power Director 17 Ultimate, Hi need to know if I can down load the other two so I can get them reinstalled. Thank you so much for your help.    AudioDirector 6 Ultra     PhotoDirector 10 Ultra     PowerDirector 17 Ultimate\n",
      "\n",
      "**************************************************\n",
      "\n",
      "Query: cannot load the purchased software of power 2 go 12  \n",
      "\n",
      "==========Similarity: 0.9317350387573242==========\n",
      "Unable to download the Power2Go 10\n",
      "\n",
      "==========Similarity: 0.9310904741287231==========\n",
      "Unable to install the upgrade to Power2Go 11 Platinum. Requires an older version installed.\n",
      "\n",
      "==========Similarity: 0.9309826493263245==========\n",
      "Unable to install the upgrade version of PowerDirector 16 Ultra.\n",
      "\n",
      "**************************************************\n",
      "\n",
      "Query: please send \"a download link / confirmation page\" to  \n",
      "\n",
      "==========Similarity: 0.8883650302886963==========\n",
      "Please send download link for the software. \n",
      "\n",
      "==========Similarity: 0.8856219053268433==========\n",
      "Please provide the download links for my CyberLink purchase.     \n",
      "\n",
      "==========Similarity: 0.8803539872169495==========\n",
      "please send the download links for purchased CyberLink software.\n",
      "\n",
      "**************************************************\n",
      "\n",
      "Query: good   i am installing on a new  c drive, and two sata storage drives (d: and   is it better to install the media suite on c: and use d: or e: to store   or is it better to install the suite on d: and save projects to e:    i previously used a pinnacle product and the performance was greatly impacted by installation and storage     additionally is it better to leave original 5mb photos as they are or   thank you  bill waters\n",
      "\n",
      "==========Similarity: 0.9463770985603333==========\n",
      "Regarding Youcam 7 deluxe and the problem of it not working.  I have removed and re-installed all NVIDIA drivers as suggested.   I have removed and re-installed Youcam 7 deluxe as suggested  I have even resorted to reinstalling my system with  an earlier backup.  When the previous back up was installed, Youcam functioned normally for approximately one minute.  It then ‘froze’ and the video image was replaced with a solid green screen.  Thereafter it refused to function.  I have supplied all files as requested, including screen shots.    I have tested the camera, using other software, and it works fine.  No other software that uses video is compromised.  Please advise the next step.     C Tarrant\n",
      "\n",
      "==========Similarity: 0.9447976350784302==========\n",
      "Currently using Power2Go 10 and Cyberlink PowerDirector 13 on a desktop computer.  I also have a laptop computer with NO Cyberlink products on it.  If I purchase the upgrade, here are my questions:  1. Can I use the upgrade to  install the the product on two machines?  2.  If so, can the upgrade work on the laptop, which has NO Cyberlink products installed.    I had Cyberlink on the laptop (old versions), but there was a hard drive \"crash\" and it was necessary to reinstall Windows 10.  The reinstallation on the laptap would not accept the older versions of Cyyberlink without crashing.    Your comments, please.\n",
      "\n",
      "==========Similarity: 0.9438641667366028==========\n",
      "PowerDirector 16 was working fine until I deleted PowerDirector 14. Oh boy... did I make a huge mistake!  Now when I try to create a DVD from 2 MP4’s, The program “seems” like it’s a trial version. I can’t save my work, nor use some of the features of the program. I thought… I’ll just re-enter the product key. However, I can’t find the “box”.   Before I sent this communique, I reinstalled PowerDirector 14 and then reinstalled PowerDirector 16. I was able to enter the code for both programs  The same problems still exists… can’t use the save features or burn to a DVD with either program.  I have Windows 10 on a Toshiba Satellite Laptop.   When I try to close the 16 version I get a box that says it doesn't exist, so I have to shut it down via the Task Manager in Windows 10. I received the same message when tryin to use other features on both programs.   My SR #'s for both programs are   VDE150910-11 (for 14) and VDE181119-02 (for 16)  My keys are QG2S8-BD74B-76DA2-S5V87-RQSXB-ZQNJ2 (16); YBQ6C-VEZ7P-UUNM7-EBWLB-7H4HC-T45X2 (14)  I am really perplexed as to what to do. Please Help me!\n",
      "\n",
      "**************************************************\n",
      "\n",
      "Query: ﻿   hi,        since i have a new phone, (galaxy s9) i cannot upload my youcam pictures to instagram story  lines will appear in the     please see  can you help?&nbsp;          thanks!          anna pross&nbsp;        \n",
      "\n",
      "==========Similarity: 0.9535290002822876==========\n",
      "﻿                             Hi,      I would like to ask what will happen to my videos uploaded in fb, IG, Twitter and youtube if my subscription ends?&nbsp; What will happen to the audio? Will it remain?&nbsp;   Currently I'm uploading videos in youtube using your music. Will youtube know that music is from PowerDirector?&nbsp; I'm afraid they will strike me for copyright issues.      Thanks      Sent from my Huawei Mobile            ﻿\n",
      "\n",
      "==========Similarity: 0.9504574537277222==========\n",
      "﻿          Hello  I am really struggling and I hope you can help.  I am trying to import my .mov file for a slide in transparent video animation that I have made.. but I can't see the file (I am using the android app)  How can I import this type of file?&nbsp;  Thanks!&nbsp;  Ajay&nbsp;      Sent from my Samsung Galaxy smartphone.    ﻿\n",
      "\n",
      "==========Similarity: 0.9482998251914978==========\n",
      "﻿      Hello,&nbsp;     I bought a premium package from the power director in the Play Store more now that I have changed my cell phone and downloaded the app again, the following message appears: you have no any purchase. Please help me solve this. Below is a picture.     My Purchase number is/&nbsp;     GPA.3352-6310-6314-33921          Maria.&nbsp; &nbsp;   ﻿\n",
      "\n",
      "**************************************************\n",
      "\n"
     ]
    }
   ],
   "source": [
    "import random\n",
    "\n",
    "for i, index in enumerate(random.sample(range(len(clean_data)), 5)):\n",
    "    #print(\"Query: {}\".format(reduced_data[index]))\n",
    "    predict(clean_data[index], 3, ignore_first=True)\n",
    "    print(\"\\n\" + \"*\" * 50 + \"\\n\")"
   ]
  },
  {
   "cell_type": "code",
   "execution_count": null,
   "metadata": {},
   "outputs": [
    {
     "name": "stdout",
     "output_type": "stream",
     "text": [
      "Please type your question here:I cannot activate my PowerDVD.\n",
      "Query: i cannot activate my powerdvd.\n",
      "\n",
      "==========Similarity: 0.9516544938087463==========\n",
      "I am unable to activate my PowerDVD 19 software. \n",
      "\n",
      "==========Similarity: 0.9482553005218506==========\n",
      "I am unable to activate my PowerDVD\n",
      "\n",
      "==========Similarity: 0.9406389594078064==========\n",
      "I am unable to activate my Power2Go 11. \n",
      "\n",
      "==========Similarity: 0.9403932094573975==========\n",
      "I am unable to activate my Power2Go 12 software. \n",
      "\n",
      "==========Similarity: 0.9316312074661255==========\n",
      "I am unable to activate my PowerDirector 17. Product key is invalid.\n",
      "Please type your question here:I lose my CD key.\n",
      "Query: i lose my cd key.\n",
      "\n",
      "==========Similarity: 0.8054030537605286==========\n",
      "I lost my product key numbers\n",
      "\n",
      "==========Similarity: 0.7914032340049744==========\n",
      "I accidentally lost the product key for my director zone 15.\n",
      "\n",
      "==========Similarity: 0.7896726727485657==========\n",
      "i lose again my power dvd\n",
      "\n",
      "==========Similarity: 0.7878638505935669==========\n",
      "My PC Crash again and need to reinstall my Power Director and the Screen Recorder     Thanks\n",
      "\n",
      "==========Similarity: 0.7835620641708374==========\n",
      "i reinstall my  pc and i  need the key\n",
      "Please type your question here:My subscription is up i believe in October of 2019. I want to terminate my subscription and do not want to renew it. Please help me with this?\n",
      "Query: my subscription is up i believe in october of 2019. i want to terminate my subscription and do not want to renew it. please help me with this?\n",
      "\n",
      "==========Similarity: 0.9249492883682251==========\n",
      "Hello, I would like to cancel my membership at the moment since I need to save money. Can I get a refund for the most recent subscription purchase?\n",
      "\n",
      "==========Similarity: 0.9223283529281616==========\n",
      "I am trying to renew my soon to expire subscription but I cannot find the button to renew the subscription. Please help as this subscription is expiring on 01 Augus 2018.  Thank you  Jennifer\n",
      "\n",
      "==========Similarity: 0.9218513369560242==========\n",
      "I would like to cancel my premium subscription, please. It is the end of my free trial and do not want to continue, so please do not charge me for the subscription. Thank you!Attach File : Project_07-03.pdrprojAttach File : DeviceInfo.txt\n",
      "\n",
      "==========Similarity: 0.9207720756530762==========\n",
      "I would like to cancel my subscription with this app as I am no longer using it. I believe i got charged for it today Aug 2nd Attach File : DeviceInfo.txt\n",
      "\n",
      "==========Similarity: 0.9167658686637878==========\n",
      "Good day    Unfortunately my subscription expired at a time that I had no funds available (due to change in employment). Would you please allow me to renew the subscription at the end of October?    Regards  Gerhard Basson\n",
      "Please type your question here:EOF\n"
     ]
    }
   ],
   "source": [
    "while True:\n",
    "    input_sentence = input(\"Please type your question here:\") # I cannot activate my PowerDVD.\n",
    "    if input_sentence == \"EOF\":\n",
    "        break\n",
    "    predict(input_sentence, 5)"
   ]
  },
  {
   "cell_type": "markdown",
   "metadata": {},
   "source": [
    "## Future Work\n",
    "從最後輸出的結果來看其實還不錯，可是再經過一些調查後發現 bert 並不適合這樣直接當作 sentence encoder，目前想到的解決方法如下。\n",
    "\n",
    "1. 先 find tune 在一些 task 上，像是最一開始做得 supervised classification 後再拿 `[CLS]` 的 output 作為 sentence represention。\n",
    "2. 使用 [Universal Sentence Encoder](https://arxiv.org/pdf/1803.11175.pdf)。"
   ]
  }
 ],
 "metadata": {
  "kernelspec": {
   "display_name": "Python 3",
   "language": "python",
   "name": "python3"
  },
  "language_info": {
   "codemirror_mode": {
    "name": "ipython",
    "version": 3
   },
   "file_extension": ".py",
   "mimetype": "text/x-python",
   "name": "python",
   "nbconvert_exporter": "python",
   "pygments_lexer": "ipython3",
   "version": "3.7.4"
  }
 },
 "nbformat": 4,
 "nbformat_minor": 2
}
