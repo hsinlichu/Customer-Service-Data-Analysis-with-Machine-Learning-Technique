{
 "cells": [
  {
   "cell_type": "markdown",
   "metadata": {},
   "source": [
    "# Related Question\n",
    "這個主題是因為想要透過類似主題的方式，讓客人在還沒有將問題提交前就可以得到類似問題的解答，以期可以解決簡單的客人問題，並且減少客訴的量。\n",
    "這邊我使用的方式是使用 Bert 來做骨幹架構，來表示出 sentence。\n",
    "其中 Bert 我是使用 [bert-as-service](https://github.com/hanxiao/bert-as-service) 套件，搭配 [BERT-Base, Uncased(12-layer, 768-hidden, 12-heads, 110M parameters)](https://storage.googleapis.com/bert_models/2018_10_18/uncased_L-12_H-768_A-12.zip) pretrained model 輸出 sentence representation。\n",
    "\n",
    "我會選擇上面那個 model 單純只是因為 GPU 記憶體只塞得進這個 model 的關係，如果用更大的 model 可想而知效果應該會更好。\n",
    "\n",
    "使用流程：\n",
    "1. Install require package\n",
    "\n",
    "    ```\n",
    "    pip install bert-serving-server  # server\n",
    "    pip install bert-serving-client  # client, independent of `bert-serving-server`\n",
    "    ```\n",
    "2. Download pretrain model\n",
    "3. Start the BERT service\n",
    "    在同一台電腦的 shell 輸入底下的 command，並且直到 shell 輸出 all set, ready to serve request!\n",
    "    另外 num_worker 會牽扯到記憶體用量，如果一直沒有輸出 all workers ready，有可能就是因為記憶體不夠的關係。\n",
    "    \n",
    "    `bert-serving-start -model_dir uncased_L-12_H-768_A-12 -num_worker 3  -port 1355 -max_seq_len 150 -device_map 3 -show_tokens_to_client`\n",
    "4. Run this jupyter notebook!"
   ]
  },
  {
   "cell_type": "code",
   "execution_count": 1,
   "metadata": {},
   "outputs": [],
   "source": [
    "import torch\n",
    "import torch.nn as nn\n",
    "\n",
    "import pickle\n",
    "import numpy as np\n",
    "\n",
    "loadpath = \"processed_data_bert_expand\"\n",
    "bert_data_path = \"bert_expand.pkl\""
   ]
  },
  {
   "cell_type": "markdown",
   "metadata": {},
   "source": [
    "## Predict Dataset"
   ]
  },
  {
   "cell_type": "markdown",
   "metadata": {},
   "source": [
    "讀取 Data Preprocessing.ipynb 已經預處理完的資料。"
   ]
  },
  {
   "cell_type": "code",
   "execution_count": 2,
   "metadata": {},
   "outputs": [],
   "source": [
    "with open(loadpath, \"rb\") as f:\n",
    "    output = pickle.load(f)\n",
    "clean_data = output[\"clean_data\"]\n",
    "reduced_data = output[\"reduced_data\"]\n",
    "token_data = output[\"token_data\"]"
   ]
  },
  {
   "cell_type": "markdown",
   "metadata": {},
   "source": [
    "開始取得 dataset 中每個句子的 sentence representation。處理時間會因為 `n_worker` 的數量以及 gpu 的運算能力而有差別，我自己是在 GeForce GTX 1080 Ti 上面 n_worker=4，共跑了約 3 個小時。\n",
    "\n",
    "如果連線成功在你 run `bert-serving-start` 的那個 shell 應該會有一堆 log 出現。"
   ]
  },
  {
   "cell_type": "code",
   "execution_count": null,
   "metadata": {},
   "outputs": [],
   "source": [
    "from bert_serving.client import BertClient\n",
    "bc = BertClient(port=1355)\n",
    "print(\"Start predicting\")\n",
    "bert_output = bc.encode(clean_data)"
   ]
  },
  {
   "cell_type": "markdown",
   "metadata": {},
   "source": [
    "將好不容易跑出來的結果儲存起來，之後使用就不需要重新跑一遍。"
   ]
  },
  {
   "cell_type": "code",
   "execution_count": null,
   "metadata": {},
   "outputs": [],
   "source": [
    "bert_data = {\n",
    "    \"clean_data\": clean_data,\n",
    "    \"reduced_data\": reduced_data,\n",
    "    \"token_data\": token_data,\n",
    "    \"bert_data\": bert_output\n",
    "}\n",
    "with open(bert_data_path, \"wb\") as f:\n",
    "    pickle.dump(bert_data, f)"
   ]
  },
  {
   "cell_type": "markdown",
   "metadata": {},
   "source": [
    "Read dataset with bert sentence representation"
   ]
  },
  {
   "cell_type": "code",
   "execution_count": 3,
   "metadata": {},
   "outputs": [],
   "source": [
    "with open(bert_data_path, \"rb\") as f:\n",
    "    bert_data = pickle.load(f)\n",
    "clean_data = bert_data[\"clean_data\"]\n",
    "reduced_data = bert_data[\"reduced_data\"]\n",
    "token_data = bert_data[\"token_data\"]\n",
    "bert_output = bert_data[\"bert_data\"]"
   ]
  },
  {
   "cell_type": "code",
   "execution_count": 4,
   "metadata": {},
   "outputs": [
    {
     "name": "stdout",
     "output_type": "stream",
     "text": [
      "Type:  <class 'numpy.ndarray'> (100910, 768)\n",
      "torch.Size([100910, 768])\n"
     ]
    }
   ],
   "source": [
    "print(\"Type: \", type(bert_output), bert_output.shape)\n",
    "bert_tensor = torch.from_numpy(bert_output)\n",
    "print(bert_tensor.size())"
   ]
  },
  {
   "cell_type": "markdown",
   "metadata": {},
   "source": [
    "## Testing\n",
    "這邊模擬 testing 的情境，當有一個新的 query sentence，要先把句子預處理完後再丟進 `predict()` function。這邊我偷懶就直接拿之前已經預處理好的句子丟進去。\n",
    "\n",
    "要注意要執行 `predict()` function 前還是要在 shell 用 `bert-serving-start` 把 model run 起來。\n",
    "\n",
    "`predict()` function 會先取得 query sentence 的 sentence representation，接著再與先前 dataset 取得的 Bert sentence representation 去算 cosine similarity，數值越高就與現在這個 query sentence 越相似。"
   ]
  },
  {
   "cell_type": "code",
   "execution_count": 5,
   "metadata": {},
   "outputs": [],
   "source": [
    "import re\n",
    "\n",
    "from bert_serving.client import BertClient\n",
    "bc = BertClient(port=1355)\n",
    "bert_norm = bert_tensor / torch.norm(bert_tensor, dim=1).view(-1, 1)\n",
    "\n",
    "\n",
    "\n",
    "def predict(test_sentence, num_related, ignore_first=False):\n",
    "    test_sentence = test_sentence.lower()\n",
    "    print(\"Query: {}\".format(test_sentence))\n",
    "    test_array, token = bc.encode([test_sentence], show_tokens=True)\n",
    "    #print(token)\n",
    "    test_tensor = torch.tensor(test_array[0])\n",
    "    #print(\"bert_tensor:\", bert_tensor.size()) # torch.Size([100868, 768])\n",
    "    \n",
    "    test_norm = test_tensor / torch.norm(test_tensor)\n",
    "    similarity = torch.matmul(bert_norm, test_norm.view(-1,1))\n",
    "    \n",
    "    rank = torch.argsort(similarity, dim=0, descending=True)\n",
    "    start = 1 if ignore_first else 0\n",
    "\n",
    "    for i in range(start, num_related + start):\n",
    "        print(\"\\n\" + \"=\" * 10 + \"Similarity: {}\".format(similarity[rank[i]][0][0]) + \"=\" * 10)\n",
    "        print(re.sub(r'<[^<]*?/?>', '', reduced_data[rank[i]])) # remove output sentence html \n",
    "        #print()\n",
    "        #print(clean_data[rank[i]])\n",
    "    return None"
   ]
  },
  {
   "cell_type": "code",
   "execution_count": 6,
   "metadata": {
    "scrolled": false
   },
   "outputs": [
    {
     "name": "stdout",
     "output_type": "stream",
     "text": [
      "Query: i bought the cyberlink program years ago, unfortunately, i forgot the password that i used for the laptop and so i had to reset the laptop and completely delete everything inside including the applications and    i wanted to reinstall cyberlink program and download the winrar programs from the email sent to me, unfortunately i was unable to do so, and was asked to contact customer   hope you can help  \n",
      "\n",
      "==========Similarity: 0.9613591432571411==========\n",
      "Hi . I recently had a virus on my laptop and had to reset my laptop. When the resetting was finished I looked at my personal file and all those products that was on the hard drive was removed in the resetting process !  So I check my account with your web site , to see if I could download those products from my members zone and noticed the all the license keys are there , but I couldn't download aby copies of what I had purchased. So could you have me with this issue please ! Thanks for your help , Shannon.\n",
      "\n",
      "==========Similarity: 0.9608919024467468==========\n",
      "Dear Support,  I bought Director Suite a while ago, downloaded it and worked fine, however, I formatted my PC, the problem is I lost the digital downloaded files which I received via email, I tried to click on the link in my email, but it says that the product is no longer available through the links that were sent to me via email on purchase, I till have my product key, is there a way to download the software again please?\n",
      "\n",
      "==========Similarity: 0.9599210619926453==========\n",
      "I was sent directions on how to install my programs onto my new computer but unfortunately the product keys were deleted from the email when I tried to download the Power2Go program. I did not save the email, so I was unable to load the program onto my computer.    Can you please resend the directions for loading my programs so that I can save and load my programs.    Sorry for the inconvenience, this won't happen again.\n",
      "\n",
      "**************************************************\n",
      "\n",
      "Query: i ordered this program and i absolutly hate  its not a program im ever going to use i couldnt even figure out how fto use it after i upgraded and downloaded  i want a  \n",
      "\n",
      "==========Similarity: 0.9310796856880188==========\n",
      "I have bought the youcam webcam for 29.99 and it doesnt work with my laptop. I tried downloading it three different times and it dont work at all. I dont wanna try it agian i would like a refund\n",
      "\n",
      "==========Similarity: 0.9273110032081604==========\n",
      "i bought a bundled pack and i dont have the licesne for all the other programs i tried the main one is was given and it didnt work for the bundled programs. hep this ia annoying please resend to my email the codesfor each software i purcjhased i never got the email !! zemrat9297@yahoo.com \n",
      "\n",
      "==========Similarity: 0.9260992407798767==========\n",
      "hi i love this app its just so terrable  i cant do or buy anything from ur site cause im in Australia its so disappointing im not sharing this app becuase of this fact everyone ive gotten in conract with wont use it for this reason . hoping i new this before i paid for premium.Attach File : CL_LOGCAT_DATA.zip\n",
      "\n",
      "**************************************************\n",
      "\n",
      "Query: i have a  serial # for my power director and when i entered the number i get  a message of \"cyberlink powerdirector was not activated because a connection to the activation server could not be   check your interest connection and then try       i have tried this 5 time and even ran the program as administrator and this did not     can u please help me  attach file :  issue of    attach file :  message second  \n",
      "\n",
      "==========Similarity: 0.9696639776229858==========\n",
      "I keep getting \"cyberlink powerdirector was not activated because a connection to the activation serve could not be established. check your internet connection and then try again.\"   However, there is nothing wrong with my internet.Attach File : Capture.JPG\n",
      "\n",
      "==========Similarity: 0.9677541255950928==========\n",
      "Cyberlink Powerdvd was not activated because connection to the activation server could not be established. Check your internet connection and try again. You have 0 days left to use pdvd without activation.    this problem is already told to asknet. so maybe you already received the message.    I bought it yesterday but i can not activate!!    serialnr: 11086391  ?  (I can not run the program but this number i see in the confirmation mail)    DXdiag.txt enclosedAttach File : DxDiag.txt\n",
      "\n",
      "==========Similarity: 0.966399073600769==========\n",
      "Sir, Many times I try to re install my program then showing product key is incorrect .I have already registered my product.So you can easily check my account and product key for give instructions to solve this issue. Now I send to ureg details to you.                     Thanking YouAttach File : ureg.jpg\n",
      "\n",
      "**************************************************\n",
      "\n",
      "Query: hi a a couple of months back i purchaced power director 16 , on my laptop i had audio director and photo director  these must have come with my downloads  i had recently upgraded to power director 17 and also changed my laptop to  ive installed power director 17 again with no problems but now ive lost photo director 10 and audio director is asking to input key  ive tried the key from my downloaded version in my  and it wont accept it? , can you explain why this is happening? ive paid over 100 pounds and dont use power director 16 and also lost my photo director and now cannot use audio  these were all useable on my laptop    any help would be great thanks   terry\n",
      "\n",
      "==========Similarity: 0.9653907418251038==========\n",
      "Hello i have power director on my laptop, i think i checked out as a guest if that's an option over a year ago. Anyway i created a new account and decided to buy the upgrade to power director 17...but i cannot find the key anywhere in the software. I have already upgraded one to power director 16 but i dont have any of the emails...can you help me? now i have 2 computers one with power director 16 and my new one with the installer powerdirector 17 but no key to activate the upgrade. I also registered an account and purchased the upgrade but it does not show it under my products sooo two issues...can you please help?\n",
      "\n",
      "==========Similarity: 0.9629683494567871==========\n",
      "Media Suite 15. Purchased on 12-22-2018. Reference 157672727 I downloaded it and it said some installation files are corrupt. I tried again and got the same message. I tried to call but said I need to purchase support for $25. I am 75 years old and never had any issues downloading purchase files. I delete out the cyberlink files to try to download agan and now I don't have PowerDirector 10 any more. Just REFUND MY $58.45 and give me a link to Power Director 10. It wants to upgrade but I can't because I dont have it anymore becasue I deleted it out tring to get the Media Suite to work. NOW I DON\"T HAVE POWER DIRECTOR 10 anymore. CleverBridge said to contact you about authorizing them to give refund.\n",
      "\n",
      "==========Similarity: 0.9626575708389282==========\n",
      "Power Director 10 was on my 17\" HP.ENVY laptop computer when I purchased it from BestBuy 4 years ago. Today I paid to install power director 16 ULTRA. for $84.99. I accidentally submitted to install the upgrade from version 10 to 16 too. A charge of $59.99 (I think). Both charges have been charged to my Credit Card. I would like to keep the ULTRA version & be reimbursed for the Power director 16 upgrade from 10. I downloaded what I thought was the ULTRA, but when I open it I only see Power director 16... NO ULTRA. I tried using it and think I only have the 16, Not the features for ULTRA. This is my fault! I am 75 yrs old and not that computer savvy. I am not sure how to straighten this out now! Any help would be appreciated. Thank You. My phone# is 503-231-1217 if needed. The activation code below is the one I believe I down loaded. I thought this one is The ULTRA.\n",
      "\n",
      "**************************************************\n",
      "\n",
      "Query: it is not recognising pass word urjxqktp\n",
      "\n",
      "==========Similarity: 0.8879600167274475==========\n",
      "Unable to download full files to fullfill order 161174296    Get error message   CRC failed in Data1.7z for the following 2 files  PGM161628-02.exe 101584kb    pgm160628-02(1).exe 103042kb\n",
      "\n",
      "==========Similarity: 0.8857023119926453==========\n",
      "AFTER THE LINKS I ASKED FOT USER NAME AND PASSWORD.  DON'T ACCEPT  USER: vim  PASS: SE6LE8HC    http://isales.gocyberlink.com/download/CS_Dept/PowerDVD/18/PowerDVD18_1815_GM2.1_Ultra_DVD180502-01.exe\n",
      "\n",
      "==========Similarity: 0.882775068283081==========\n",
      "Hi  I am licensed User and my purchased Power DVD 16 Ultra had stopped fuctioning and asked for Activation Key that I entered and it stated ERROR 0x00000o  Key invalid.    My Key should be ULU4P RZJMH JXQQ2 BQ2MF 6R8ZV YG7VB  Felix Ma    Nice328@yahoo.com\n",
      "\n",
      "**************************************************\n",
      "\n"
     ]
    }
   ],
   "source": [
    "import random\n",
    "\n",
    "for i, index in enumerate(random.sample(range(len(clean_data)), 5)):\n",
    "    #print(\"Query: {}\".format(reduced_data[index]))\n",
    "    predict(clean_data[index], 3, ignore_first=True)\n",
    "    print(\"\\n\" + \"*\" * 50 + \"\\n\")"
   ]
  },
  {
   "cell_type": "markdown",
   "metadata": {},
   "source": [
    "## Demo\n",
    "\n",
    "這邊為了增加 demo 的互動性，我用一個 `while` 迴圈讓使用者可以一直輸入 query 的句子，直到使用者輸入 `EOF`。\n",
    "這邊事實上其實應該要和 training data 一樣將使用者輸入的句子經過相同的前處理，也就是 `Data Preprocessing.ipynb` 檔案中 `preprocess()` functoion，不過這邊為了簡潔就省略了。"
   ]
  },
  {
   "cell_type": "code",
   "execution_count": 7,
   "metadata": {},
   "outputs": [
    {
     "name": "stdout",
     "output_type": "stream",
     "text": [
      "Please type your question here:My subscription is up i believe in October of 2019. I want to terminate my subscription and do not want to renew it. Please help me with this?\n",
      "Query: my subscription is up i believe in october of 2019. i want to terminate my subscription and do not want to renew it. please help me with this?\n",
      "\n",
      "==========Similarity: 0.9249492883682251==========\n",
      "Hello, I would like to cancel my membership at the moment since I need to save money. Can I get a refund for the most recent subscription purchase?\n",
      "\n",
      "==========Similarity: 0.9223283529281616==========\n",
      "I am trying to renew my soon to expire subscription but I cannot find the button to renew the subscription. Please help as this subscription is expiring on 01 Augus 2018.  Thank you  Jennifer\n",
      "\n",
      "==========Similarity: 0.9218513369560242==========\n",
      "I would like to cancel my premium subscription, please. It is the end of my free trial and do not want to continue, so please do not charge me for the subscription. Thank you!Attach File : Project_07-03.pdrprojAttach File : DeviceInfo.txt\n",
      "\n",
      "==========Similarity: 0.9207720756530762==========\n",
      "I would like to cancel my subscription with this app as I am no longer using it. I believe i got charged for it today Aug 2nd Attach File : DeviceInfo.txt\n",
      "\n",
      "==========Similarity: 0.9167658686637878==========\n",
      "Good day    Unfortunately my subscription expired at a time that I had no funds available (due to change in employment). Would you please allow me to renew the subscription at the end of October?    Regards  Gerhard Basson\n",
      "Please type your question here:EOF\n"
     ]
    }
   ],
   "source": [
    "while True:\n",
    "    input_sentence = input(\"Please type your question here:\") # I cannot activate my PowerDVD.\n",
    "    if input_sentence == \"EOF\":\n",
    "        break\n",
    "    predict(input_sentence, 5)"
   ]
  },
  {
   "cell_type": "markdown",
   "metadata": {},
   "source": [
    "## Future Work\n",
    "從最後輸出的結果來看其實還不錯，可是再經過一些調查後發現 bert 並不適合這樣直接當作 sentence encoder，目前想到的解決方法如下。\n",
    "\n",
    "1. 先 find tune 在一些 task 上，像是最一開始做得 supervised classification 後再拿 `[CLS]` 的 output 作為 sentence represention。\n",
    "2. 使用 [Universal Sentence Encoder](https://arxiv.org/pdf/1803.11175.pdf)。"
   ]
  }
 ],
 "metadata": {
  "kernelspec": {
   "display_name": "Python 3",
   "language": "python",
   "name": "python3"
  },
  "language_info": {
   "codemirror_mode": {
    "name": "ipython",
    "version": 3
   },
   "file_extension": ".py",
   "mimetype": "text/x-python",
   "name": "python",
   "nbconvert_exporter": "python",
   "pygments_lexer": "ipython3",
   "version": "3.7.4"
  }
 },
 "nbformat": 4,
 "nbformat_minor": 2
}
